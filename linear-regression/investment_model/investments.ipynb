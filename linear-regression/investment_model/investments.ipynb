{
 "cells": [
  {
   "cell_type": "code",
   "execution_count": 6,
   "id": "15ee2826",
   "metadata": {},
   "outputs": [
    {
     "name": "stdout",
     "output_type": "stream",
     "text": [
      "✅ Descarga completada\n",
      "Archivos en el zip: ['prices.csv', 'returns.csv', 'tickerlist.csv']\n",
      "✅ Se encontraron al menos 3 CSVs\n",
      "Formas de los DataFrames:\n",
      "dfprices: (62, 480)\n",
      "dfreturns: (60, 481)\n",
      "dftickerlist: (505, 4)\n"
     ]
    }
   ],
   "source": [
    "import requests\n",
    "import zipfile\n",
    "import io\n",
    "import pandas as pd\n",
    "\n",
    "# URL del dataset en Kaggle\n",
    "url = \"https://www.kaggle.com/api/v1/datasets/download/wmcginn/sp500-csv\"\n",
    "\n",
    "# Descargar el zip\n",
    "response = requests.get(url, allow_redirects=True)\n",
    "\n",
    "if response.status_code == 200:\n",
    "    print(\"✅ Descarga completada\")\n",
    "\n",
    "    # Abrir el zip desde memoria\n",
    "    with zipfile.ZipFile(io.BytesIO(response.content)) as zip_file:\n",
    "        print(\"Archivos en el zip:\", zip_file.namelist())\n",
    "\n",
    "        # Filtrar archivos CSV\n",
    "        csv_files = [name for name in zip_file.namelist() if name.endswith(\".csv\")]\n",
    "\n",
    "        if len(csv_files) >= 3:\n",
    "            print(\"✅ Se encontraron al menos 3 CSVs\")\n",
    "\n",
    "            # Leer cada CSV en variables separadas\n",
    "            dfprices = pd.read_csv(zip_file.open(csv_files[0]))\n",
    "            dfreturns = pd.read_csv(zip_file.open(csv_files[1]))\n",
    "            dftickerlist = pd.read_csv(zip_file.open(csv_files[2]))\n",
    "\n",
    "            print(\"Formas de los DataFrames:\")\n",
    "            print(\"dfprices:\", dfprices.shape)\n",
    "            print(\"dfreturns:\", dfreturns.shape)\n",
    "            print(\"dftickerlist:\", dftickerlist.shape)\n",
    "        else:\n",
    "            print(\"❌ No hay suficientes CSVs en el zip\")\n",
    "else:\n",
    "    print(\"❌ Error en la descarga:\", response.status_code)\n"
   ]
  },
  {
   "cell_type": "code",
   "execution_count": 7,
   "id": "22cabe18",
   "metadata": {},
   "outputs": [
    {
     "data": {
      "text/html": [
       "<div>\n",
       "<style scoped>\n",
       "    .dataframe tbody tr th:only-of-type {\n",
       "        vertical-align: middle;\n",
       "    }\n",
       "\n",
       "    .dataframe tbody tr th {\n",
       "        vertical-align: top;\n",
       "    }\n",
       "\n",
       "    .dataframe thead th {\n",
       "        text-align: right;\n",
       "    }\n",
       "</style>\n",
       "<table border=\"1\" class=\"dataframe\">\n",
       "  <thead>\n",
       "    <tr style=\"text-align: right;\">\n",
       "      <th></th>\n",
       "      <th>A</th>\n",
       "      <th>AAL</th>\n",
       "      <th>AAP</th>\n",
       "      <th>AAPL</th>\n",
       "      <th>ABBV</th>\n",
       "      <th>ABC</th>\n",
       "      <th>ABMD</th>\n",
       "      <th>ABT</th>\n",
       "      <th>ACN</th>\n",
       "      <th>ADBE</th>\n",
       "      <th>...</th>\n",
       "      <th>XEL</th>\n",
       "      <th>XLNX</th>\n",
       "      <th>XOM</th>\n",
       "      <th>XRAY</th>\n",
       "      <th>XYL</th>\n",
       "      <th>YUM</th>\n",
       "      <th>ZBH</th>\n",
       "      <th>ZBRA</th>\n",
       "      <th>ZION</th>\n",
       "      <th>ZTS</th>\n",
       "    </tr>\n",
       "  </thead>\n",
       "  <tbody>\n",
       "    <tr>\n",
       "      <th>0</th>\n",
       "      <td>43.697090</td>\n",
       "      <td>45.118092</td>\n",
       "      <td>164.702835</td>\n",
       "      <td>27.335484</td>\n",
       "      <td>49.040585</td>\n",
       "      <td>71.697685</td>\n",
       "      <td>112.680000</td>\n",
       "      <td>35.155838</td>\n",
       "      <td>108.277138</td>\n",
       "      <td>102.949997</td>\n",
       "      <td>...</td>\n",
       "      <td>35.404751</td>\n",
       "      <td>56.282799</td>\n",
       "      <td>69.507599</td>\n",
       "      <td>55.654594</td>\n",
       "      <td>46.642052</td>\n",
       "      <td>58.066982</td>\n",
       "      <td>99.280495</td>\n",
       "      <td>85.760002</td>\n",
       "      <td>38.680332</td>\n",
       "      <td>51.912178</td>\n",
       "    </tr>\n",
       "    <tr>\n",
       "      <th>1</th>\n",
       "      <td>47.103657</td>\n",
       "      <td>42.760242</td>\n",
       "      <td>160.005005</td>\n",
       "      <td>28.640661</td>\n",
       "      <td>47.858040</td>\n",
       "      <td>80.032906</td>\n",
       "      <td>106.370003</td>\n",
       "      <td>38.231167</td>\n",
       "      <td>105.263550</td>\n",
       "      <td>113.379997</td>\n",
       "      <td>...</td>\n",
       "      <td>36.245319</td>\n",
       "      <td>54.259716</td>\n",
       "      <td>64.602173</td>\n",
       "      <td>54.733894</td>\n",
       "      <td>46.444267</td>\n",
       "      <td>60.084164</td>\n",
       "      <td>114.101364</td>\n",
       "      <td>83.669998</td>\n",
       "      <td>37.916431</td>\n",
       "      <td>53.279560</td>\n",
       "    </tr>\n",
       "    <tr>\n",
       "      <th>2</th>\n",
       "      <td>49.344856</td>\n",
       "      <td>44.799213</td>\n",
       "      <td>152.571716</td>\n",
       "      <td>32.331974</td>\n",
       "      <td>48.918388</td>\n",
       "      <td>83.911682</td>\n",
       "      <td>117.970001</td>\n",
       "      <td>41.527271</td>\n",
       "      <td>113.241295</td>\n",
       "      <td>118.339996</td>\n",
       "      <td>...</td>\n",
       "      <td>38.341793</td>\n",
       "      <td>54.837738</td>\n",
       "      <td>62.623077</td>\n",
       "      <td>61.317417</td>\n",
       "      <td>45.323421</td>\n",
       "      <td>60.169403</td>\n",
       "      <td>112.896049</td>\n",
       "      <td>90.709999</td>\n",
       "      <td>40.351925</td>\n",
       "      <td>51.801029</td>\n",
       "    </tr>\n",
       "    <tr>\n",
       "      <th>3</th>\n",
       "      <td>50.855026</td>\n",
       "      <td>40.966808</td>\n",
       "      <td>144.437027</td>\n",
       "      <td>34.053204</td>\n",
       "      <td>51.544659</td>\n",
       "      <td>81.477776</td>\n",
       "      <td>125.199997</td>\n",
       "      <td>40.910072</td>\n",
       "      <td>110.819321</td>\n",
       "      <td>130.130005</td>\n",
       "      <td>...</td>\n",
       "      <td>38.990921</td>\n",
       "      <td>54.278351</td>\n",
       "      <td>63.731915</td>\n",
       "      <td>60.274864</td>\n",
       "      <td>47.478386</td>\n",
       "      <td>58.861366</td>\n",
       "      <td>117.746284</td>\n",
       "      <td>91.250000</td>\n",
       "      <td>37.814308</td>\n",
       "      <td>51.859318</td>\n",
       "    </tr>\n",
       "    <tr>\n",
       "      <th>4</th>\n",
       "      <td>53.083344</td>\n",
       "      <td>41.276730</td>\n",
       "      <td>138.529800</td>\n",
       "      <td>34.050831</td>\n",
       "      <td>52.161667</td>\n",
       "      <td>75.539581</td>\n",
       "      <td>130.320007</td>\n",
       "      <td>40.200760</td>\n",
       "      <td>112.131989</td>\n",
       "      <td>133.740005</td>\n",
       "      <td>...</td>\n",
       "      <td>39.846992</td>\n",
       "      <td>59.172699</td>\n",
       "      <td>63.452156</td>\n",
       "      <td>61.132595</td>\n",
       "      <td>48.603424</td>\n",
       "      <td>60.565495</td>\n",
       "      <td>115.603149</td>\n",
       "      <td>94.269997</td>\n",
       "      <td>36.040634</td>\n",
       "      <td>54.521770</td>\n",
       "    </tr>\n",
       "  </tbody>\n",
       "</table>\n",
       "<p>5 rows × 480 columns</p>\n",
       "</div>"
      ],
      "text/plain": [
       "           A        AAL         AAP       AAPL       ABBV        ABC  \\\n",
       "0  43.697090  45.118092  164.702835  27.335484  49.040585  71.697685   \n",
       "1  47.103657  42.760242  160.005005  28.640661  47.858040  80.032906   \n",
       "2  49.344856  44.799213  152.571716  32.331974  48.918388  83.911682   \n",
       "3  50.855026  40.966808  144.437027  34.053204  51.544659  81.477776   \n",
       "4  53.083344  41.276730  138.529800  34.050831  52.161667  75.539581   \n",
       "\n",
       "         ABMD        ABT         ACN        ADBE  ...        XEL       XLNX  \\\n",
       "0  112.680000  35.155838  108.277138  102.949997  ...  35.404751  56.282799   \n",
       "1  106.370003  38.231167  105.263550  113.379997  ...  36.245319  54.259716   \n",
       "2  117.970001  41.527271  113.241295  118.339996  ...  38.341793  54.837738   \n",
       "3  125.199997  40.910072  110.819321  130.130005  ...  38.990921  54.278351   \n",
       "4  130.320007  40.200760  112.131989  133.740005  ...  39.846992  59.172699   \n",
       "\n",
       "         XOM       XRAY        XYL        YUM         ZBH       ZBRA  \\\n",
       "0  69.507599  55.654594  46.642052  58.066982   99.280495  85.760002   \n",
       "1  64.602173  54.733894  46.444267  60.084164  114.101364  83.669998   \n",
       "2  62.623077  61.317417  45.323421  60.169403  112.896049  90.709999   \n",
       "3  63.731915  60.274864  47.478386  58.861366  117.746284  91.250000   \n",
       "4  63.452156  61.132595  48.603424  60.565495  115.603149  94.269997   \n",
       "\n",
       "        ZION        ZTS  \n",
       "0  38.680332  51.912178  \n",
       "1  37.916431  53.279560  \n",
       "2  40.351925  51.801029  \n",
       "3  37.814308  51.859318  \n",
       "4  36.040634  54.521770  \n",
       "\n",
       "[5 rows x 480 columns]"
      ]
     },
     "execution_count": 7,
     "metadata": {},
     "output_type": "execute_result"
    }
   ],
   "source": [
    "dfprices.head()"
   ]
  },
  {
   "cell_type": "code",
   "execution_count": 15,
   "id": "f2a24139",
   "metadata": {},
   "outputs": [
    {
     "data": {
      "text/html": [
       "<div>\n",
       "<style scoped>\n",
       "    .dataframe tbody tr th:only-of-type {\n",
       "        vertical-align: middle;\n",
       "    }\n",
       "\n",
       "    .dataframe tbody tr th {\n",
       "        vertical-align: top;\n",
       "    }\n",
       "\n",
       "    .dataframe thead th {\n",
       "        text-align: right;\n",
       "    }\n",
       "</style>\n",
       "<table border=\"1\" class=\"dataframe\">\n",
       "  <thead>\n",
       "    <tr style=\"text-align: right;\">\n",
       "      <th></th>\n",
       "      <th>date</th>\n",
       "      <th>open</th>\n",
       "      <th>high</th>\n",
       "      <th>low</th>\n",
       "      <th>close</th>\n",
       "      <th>volume</th>\n",
       "    </tr>\n",
       "  </thead>\n",
       "  <tbody>\n",
       "    <tr>\n",
       "      <th>0</th>\n",
       "      <td>2014-09-17</td>\n",
       "      <td>1999.300049</td>\n",
       "      <td>2010.739990</td>\n",
       "      <td>1993.290039</td>\n",
       "      <td>2001.569946</td>\n",
       "      <td>3209420000</td>\n",
       "    </tr>\n",
       "    <tr>\n",
       "      <th>1</th>\n",
       "      <td>2014-09-18</td>\n",
       "      <td>2003.069946</td>\n",
       "      <td>2012.339966</td>\n",
       "      <td>2003.069946</td>\n",
       "      <td>2011.359985</td>\n",
       "      <td>3235340000</td>\n",
       "    </tr>\n",
       "    <tr>\n",
       "      <th>2</th>\n",
       "      <td>2014-09-19</td>\n",
       "      <td>2012.739990</td>\n",
       "      <td>2019.260010</td>\n",
       "      <td>2006.589966</td>\n",
       "      <td>2010.400024</td>\n",
       "      <td>4880220000</td>\n",
       "    </tr>\n",
       "    <tr>\n",
       "      <th>3</th>\n",
       "      <td>2014-09-22</td>\n",
       "      <td>2009.079956</td>\n",
       "      <td>2009.079956</td>\n",
       "      <td>1991.010010</td>\n",
       "      <td>1994.290039</td>\n",
       "      <td>3349670000</td>\n",
       "    </tr>\n",
       "    <tr>\n",
       "      <th>4</th>\n",
       "      <td>2014-09-23</td>\n",
       "      <td>1992.780029</td>\n",
       "      <td>1995.410034</td>\n",
       "      <td>1982.770020</td>\n",
       "      <td>1982.770020</td>\n",
       "      <td>3279350000</td>\n",
       "    </tr>\n",
       "  </tbody>\n",
       "</table>\n",
       "</div>"
      ],
      "text/plain": [
       "         date         open         high          low        close      volume\n",
       "0  2014-09-17  1999.300049  2010.739990  1993.290039  2001.569946  3209420000\n",
       "1  2014-09-18  2003.069946  2012.339966  2003.069946  2011.359985  3235340000\n",
       "2  2014-09-19  2012.739990  2019.260010  2006.589966  2010.400024  4880220000\n",
       "3  2014-09-22  2009.079956  2009.079956  1991.010010  1994.290039  3349670000\n",
       "4  2014-09-23  1992.780029  1995.410034  1982.770020  1982.770020  3279350000"
      ]
     },
     "execution_count": 15,
     "metadata": {},
     "output_type": "execute_result"
    }
   ],
   "source": [
    "df_sp500.head(5)"
   ]
  },
  {
   "cell_type": "code",
   "execution_count": 12,
   "id": "c14da3c2",
   "metadata": {},
   "outputs": [
    {
     "name": "stdout",
     "output_type": "stream",
     "text": [
      "<class 'pandas.core.frame.DataFrame'>\n",
      "RangeIndex: 1755 entries, 0 to 1754\n",
      "Data columns (total 6 columns):\n",
      " #   Column  Non-Null Count  Dtype  \n",
      "---  ------  --------------  -----  \n",
      " 0   date    1755 non-null   object \n",
      " 1   open    1755 non-null   float64\n",
      " 2   high    1755 non-null   float64\n",
      " 3   low     1755 non-null   float64\n",
      " 4   close   1755 non-null   float64\n",
      " 5   volume  1755 non-null   int64  \n",
      "dtypes: float64(4), int64(1), object(1)\n",
      "memory usage: 82.4+ KB\n"
     ]
    }
   ],
   "source": [
    "df_sp500.info()"
   ]
  },
  {
   "cell_type": "code",
   "execution_count": 13,
   "id": "c5f74f8c",
   "metadata": {},
   "outputs": [
    {
     "data": {
      "text/plain": [
       "(1755, 6)"
      ]
     },
     "execution_count": 13,
     "metadata": {},
     "output_type": "execute_result"
    }
   ],
   "source": [
    "df_sp500.shape"
   ]
  },
  {
   "cell_type": "code",
   "execution_count": 20,
   "id": "8d9a5677",
   "metadata": {},
   "outputs": [
    {
     "data": {
      "text/plain": [
       "date      0\n",
       "open      0\n",
       "high      0\n",
       "low       0\n",
       "close     0\n",
       "volume    0\n",
       "dtype: int64"
      ]
     },
     "execution_count": 20,
     "metadata": {},
     "output_type": "execute_result"
    }
   ],
   "source": [
    "df_sp500.isnull().sum()"
   ]
  },
  {
   "cell_type": "code",
   "execution_count": 2,
   "id": "80c648a1",
   "metadata": {},
   "outputs": [],
   "source": [
    "def preprocess_dates(df):\n",
    "    \"\"\"\n",
    "     transforma columnas de fechas en columnas numéricas.\n",
    "    \n",
    "    Args:\n",
    "        df (pd.DataFrame): DataFrame original\n",
    "    \n",
    "    Returns:\n",
    "        pd.DataFrame: DataFrame con columnas de fecha convertidas a componentes numéricos\n",
    "    \"\"\"\n",
    "    \n",
    "    # Columnas de fechas a transformar\n",
    "    dates_encode = ['date']\n",
    "    \n",
    "    for col in dates_encode:\n",
    "        if col in df.columns:\n",
    "            # Convertir a datetime (auto detecta formato tipo 2013-08-04 18:20:00)\n",
    "            df[col] = pd.to_datetime(df[col], errors='coerce')\n",
    "            \n",
    "            # Extraer componentes de fecha\n",
    "            df[col + '_day']      = df[col].dt.day.fillna(0).astype('int32')\n",
    "            df[col + '_month']    = df[col].dt.month.fillna(0).astype('int32')\n",
    "            df[col + '_year']     = df[col].dt.year.fillna(0).astype('int32')\n",
    "            df[col + '_weekday']  = df[col].dt.weekday.fillna(0).astype('int32')\n",
    "            df[col + '_quarter']  = df[col].dt.quarter.fillna(0).astype('int32')\n",
    "    # Eliminar las columnas de fecha originales\n",
    "    df.drop(columns=[c for c in dates_encode if c in df.columns], inplace=True)\n",
    "    \n",
    "    return df\n"
   ]
  },
  {
   "cell_type": "code",
   "execution_count": 3,
   "id": "21fee079",
   "metadata": {},
   "outputs": [],
   "source": [
    "df_sp500=preprocess_dates(df_sp500)"
   ]
  },
  {
   "cell_type": "code",
   "execution_count": 4,
   "id": "7c24935a",
   "metadata": {},
   "outputs": [
    {
     "data": {
      "text/html": [
       "<div>\n",
       "<style scoped>\n",
       "    .dataframe tbody tr th:only-of-type {\n",
       "        vertical-align: middle;\n",
       "    }\n",
       "\n",
       "    .dataframe tbody tr th {\n",
       "        vertical-align: top;\n",
       "    }\n",
       "\n",
       "    .dataframe thead th {\n",
       "        text-align: right;\n",
       "    }\n",
       "</style>\n",
       "<table border=\"1\" class=\"dataframe\">\n",
       "  <thead>\n",
       "    <tr style=\"text-align: right;\">\n",
       "      <th></th>\n",
       "      <th>open</th>\n",
       "      <th>high</th>\n",
       "      <th>low</th>\n",
       "      <th>close</th>\n",
       "      <th>volume</th>\n",
       "      <th>date_day</th>\n",
       "      <th>date_month</th>\n",
       "      <th>date_year</th>\n",
       "      <th>date_weekday</th>\n",
       "      <th>date_quarter</th>\n",
       "    </tr>\n",
       "  </thead>\n",
       "  <tbody>\n",
       "    <tr>\n",
       "      <th>0</th>\n",
       "      <td>1999.300049</td>\n",
       "      <td>2010.739990</td>\n",
       "      <td>1993.290039</td>\n",
       "      <td>2001.569946</td>\n",
       "      <td>3209420000</td>\n",
       "      <td>17</td>\n",
       "      <td>9</td>\n",
       "      <td>2014</td>\n",
       "      <td>2</td>\n",
       "      <td>3</td>\n",
       "    </tr>\n",
       "    <tr>\n",
       "      <th>1</th>\n",
       "      <td>2003.069946</td>\n",
       "      <td>2012.339966</td>\n",
       "      <td>2003.069946</td>\n",
       "      <td>2011.359985</td>\n",
       "      <td>3235340000</td>\n",
       "      <td>18</td>\n",
       "      <td>9</td>\n",
       "      <td>2014</td>\n",
       "      <td>3</td>\n",
       "      <td>3</td>\n",
       "    </tr>\n",
       "    <tr>\n",
       "      <th>2</th>\n",
       "      <td>2012.739990</td>\n",
       "      <td>2019.260010</td>\n",
       "      <td>2006.589966</td>\n",
       "      <td>2010.400024</td>\n",
       "      <td>4880220000</td>\n",
       "      <td>19</td>\n",
       "      <td>9</td>\n",
       "      <td>2014</td>\n",
       "      <td>4</td>\n",
       "      <td>3</td>\n",
       "    </tr>\n",
       "    <tr>\n",
       "      <th>3</th>\n",
       "      <td>2009.079956</td>\n",
       "      <td>2009.079956</td>\n",
       "      <td>1991.010010</td>\n",
       "      <td>1994.290039</td>\n",
       "      <td>3349670000</td>\n",
       "      <td>22</td>\n",
       "      <td>9</td>\n",
       "      <td>2014</td>\n",
       "      <td>0</td>\n",
       "      <td>3</td>\n",
       "    </tr>\n",
       "    <tr>\n",
       "      <th>4</th>\n",
       "      <td>1992.780029</td>\n",
       "      <td>1995.410034</td>\n",
       "      <td>1982.770020</td>\n",
       "      <td>1982.770020</td>\n",
       "      <td>3279350000</td>\n",
       "      <td>23</td>\n",
       "      <td>9</td>\n",
       "      <td>2014</td>\n",
       "      <td>1</td>\n",
       "      <td>3</td>\n",
       "    </tr>\n",
       "  </tbody>\n",
       "</table>\n",
       "</div>"
      ],
      "text/plain": [
       "          open         high          low        close      volume  date_day  \\\n",
       "0  1999.300049  2010.739990  1993.290039  2001.569946  3209420000        17   \n",
       "1  2003.069946  2012.339966  2003.069946  2011.359985  3235340000        18   \n",
       "2  2012.739990  2019.260010  2006.589966  2010.400024  4880220000        19   \n",
       "3  2009.079956  2009.079956  1991.010010  1994.290039  3349670000        22   \n",
       "4  1992.780029  1995.410034  1982.770020  1982.770020  3279350000        23   \n",
       "\n",
       "   date_month  date_year  date_weekday  date_quarter  \n",
       "0           9       2014             2             3  \n",
       "1           9       2014             3             3  \n",
       "2           9       2014             4             3  \n",
       "3           9       2014             0             3  \n",
       "4           9       2014             1             3  "
      ]
     },
     "execution_count": 4,
     "metadata": {},
     "output_type": "execute_result"
    }
   ],
   "source": [
    "df_sp500.head(5)"
   ]
  },
  {
   "cell_type": "code",
   "execution_count": 5,
   "id": "b41a7d35",
   "metadata": {},
   "outputs": [
    {
     "data": {
      "text/plain": [
       "Text(0.5, 1.0, 'Mapa de valores nulos en sp500.csv')"
      ]
     },
     "execution_count": 5,
     "metadata": {},
     "output_type": "execute_result"
    },
    {
     "data": {
      "image/png": "[encoded data removed]",
      "text/plain": [
       "<Figure size 1200x600 with 1 Axes>"
      ]
     },
     "metadata": {},
     "output_type": "display_data"
    }
   ],
   "source": [
    "plt.figure(figsize=(12, 6))\n",
    "sns.barplot(x=df_sp500['date_month'],y=df_sp500['volume'])\n",
    "plt.title(\"Mapa de valores nulos en sp500.csv\")"
   ]
  },
  {
   "cell_type": "code",
   "execution_count": 6,
   "id": "31db11d5",
   "metadata": {},
   "outputs": [
    {
     "data": {
      "text/plain": [
       "Text(0.5, 1.0, 'Mapa de valores nulos en sp500.csv')"
      ]
     },
     "execution_count": 6,
     "metadata": {},
     "output_type": "execute_result"
    },
    {
     "data": {
      "image/png": "[encoded data removed]",
      "text/plain": [
       "<Figure size 1200x600 with 1 Axes>"
      ]
     },
     "metadata": {},
     "output_type": "display_data"
    }
   ],
   "source": [
    "plt.figure(figsize=(12, 6))\n",
    "sns.histplot(x=df_sp500['volume'])\n",
    "plt.title(\"Mapa de valores nulos en sp500.csv\")"
   ]
  },
  {
   "cell_type": "code",
   "execution_count": 9,
   "id": "645a45ab",
   "metadata": {},
   "outputs": [
    {
     "data": {
      "text/plain": [
       "Text(0.5, 1.0, 'Mapa de valores nulos en sp500.csv')"
      ]
     },
     "execution_count": 9,
     "metadata": {},
     "output_type": "execute_result"
    },
    {
     "data": {
      "image/png": "[encoded data removed]",
      "text/plain": [
       "<Figure size 1200x600 with 1 Axes>"
      ]
     },
     "metadata": {},
     "output_type": "display_data"
    }
   ],
   "source": [
    "plt.figure(figsize=(12, 6))\n",
    "sns.barplot(x=df_sp500['date_year'],y=df_sp500['volume'])\n",
    "plt.title(\"Mapa de valores nulos en sp500.csv\")"
   ]
  }
 ],
 "metadata": {
  "kernelspec": {
   "display_name": "Python 3",
   "language": "python",
   "name": "python3"
  },
  "language_info": {
   "codemirror_mode": {
    "name": "ipython",
    "version": 3
   },
   "file_extension": ".py",
   "mimetype": "text/x-python",
   "name": "python",
   "nbconvert_exporter": "python",
   "pygments_lexer": "ipython3",
   "version": "3.11.9"
  }
 },
 "nbformat": 4,
 "nbformat_minor": 5
}
