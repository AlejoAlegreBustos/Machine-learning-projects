{
 "cells": [
  {
   "cell_type": "code",
   "execution_count": null,
   "id": "1ed675c4",
   "metadata": {},
   "outputs": [],
   "source": [
    "# # Data Dictionary\n",
    "# # Variable Name\tDescription\n",
    "# # LoanNr_ChkDgt\tIdentifier Primary key\n",
    "# # Name\tBorrower name\n",
    "# # City\tBorrower city\n",
    "# # State\tBorrower state\n",
    "# # Zip\tBorrower zip code\n",
    "# # Bank\tBank name\n",
    "# # BankState\tBank state\n",
    "# # NAICS\tNorth American industry classification system code\n",
    "# # ApprovalDate\tDate SBA commitment issued\n",
    "# # ApprovalFY\tFiscal year of commitment\n",
    "# # Term\tLoan term in months\n",
    "# # NoEmp\tNumber of business employees\n",
    "# # NewExist\t1 = Existing business, 2 = New business\n",
    "# # CreateJob\tNumber of jobs created\n",
    "# # RetainedJob\tNumber of jobs retained\n",
    "# # FranchiseCode\tFranchise code, (00000 or 00001) = No franchise\n",
    "# # UrbanRural\t1 = Urban, 2 = rural, 0 = undefined\n",
    "# # RevLineCr\tRevolving line of credit: Y = Yes, N = No\n",
    "# # LowDoc\tLowDoc Loan Program: Y = Yes, N = No\n",
    "# # ChgOffDate\tThe date when a loan is declared to be in default\n",
    "# # DisbursementDate\tDisbursement date\n",
    "# # DisbursementGross\tAmount disbursed\n",
    "# # BalanceGross\tGross amount outstanding\n",
    "# # MIS_Status\tLoan status charged off = CHGOFF, Paid in full =PIF\n",
    "# # ChgOffPrinGr\tCharged-off amount\n",
    "# # GrAppv\tGross amount of loan approved by bank\n",
    "# # SBA_Appv\tSBA’s guaranteed amount of approved loan\n",
    "\n",
    "\n",
    "# Description of the first two digits of NAICS.\n",
    "# Sector\tDescription\n",
    "# 11\tAgriculture, forestry, fishing and hunting\n",
    "# 21\tMining, quarrying, and oil and gas extraction\n",
    "# 22\tUtilities\n",
    "# 23\tConstruction\n",
    "# 31–33\tManufacturing\n",
    "# 42\tWholesale trade\n",
    "# 44–45\tRetail trade\n",
    "# 48–49\tTransportation and warehousing\n",
    "# 51\tInformation\n",
    "# 52\tFinance and insurance\n",
    "# 53\tReal estate and rental and leasing\n",
    "# 54\tProfessional, scientific, and technical services\n",
    "# 55\tManagement of companies and enterprises\n",
    "# 56\tAdministrative and support and waste management and remediation services\n",
    "# 61\tEducational services\n",
    "# 62\tHealth care and social assistance\n",
    "# 71\tArts, entertainment, and recreation\n",
    "# 72\tAccommodation and food services\n",
    "# 81\tOther services (except public administration) 92 Public administration"
   ]
  },
  {
   "cell_type": "code",
   "execution_count": null,
   "id": "e42a726e",
   "metadata": {},
   "outputs": [
    {
     "name": "stdout",
     "output_type": "stream",
     "text": [
      "Descarga completada ✅\n",
      "Archivos en el zip: ['SBAnational.csv', 'Should This Loan be Approved or Denied A Large Dataset with Class Assignment Guidelines.pdf']\n"
     ]
    },
    {
     "name": "stderr",
     "output_type": "stream",
     "text": [
      "C:\\Users\\alejo\\AppData\\Local\\Temp\\ipykernel_21532\\1070785858.py:30: DtypeWarning: Columns (9) have mixed types. Specify dtype option on import or set low_memory=False.\n"
     ]
    }
   ],
   "source": [
    "import requests\n",
    "import zipfile\n",
    "import io\n",
    "import pandas as pd\n",
    "import seaborn as sns\n",
    "import matplotlib.pyplot as plt\n",
    "from plotnine import *\n",
    "from sklearn.preprocessing import LabelEncoder\n",
    "import plotly.express as px\n",
    "# URL del dataset en Kaggle\n",
    "url = \"https://www.kaggle.com/api/v1/datasets/download/mirbektoktogaraev/should-this-loan-be-approved-or-denied\"\n",
    "\n",
    "# Descargamos el contenido\n",
    "response = requests.get(url, allow_redirects=True)\n",
    "if response.status_code == 200:\n",
    "    print(\"Descarga completada ✅\")\n",
    "else:\n",
    "    print(\"Error en la descarga:\", response.status_code)\n",
    "\n",
    "# Guardamos el zip en memoria\n",
    "zip_file = zipfile.ZipFile(io.BytesIO(response.content))\n",
    "\n",
    "# Listamos los archivos dentro del zip\n",
    "print(\"Archivos en el zip:\", zip_file.namelist())\n",
    "\n",
    "# Elegimos el CSV (ajustá el nombre según corresponda)\n",
    "csv_filename = zip_file.namelist()[0]\n",
    "\n",
    "# Leemos el CSV directamente desde el zip\n",
    "df = pd.read_csv(zip_file.open(csv_filename))\n",
    "\n",
    "\n",
    "pd.set_option('display.max_rows', None)  # Muestra todas las filas\n",
    "pd.set_option('display.max_columns', None)  # Muestra todas las columnas\n",
    "\n",
    "# age={'18-29':1,'30-44':2,'45-60':3,\n",
    "# '> 60':4,\n",
    "# 'Response':0,\n",
    "# np.nan:0}"
   ]
  },
  {
   "cell_type": "code",
   "execution_count": 13,
   "id": "51dfdb28",
   "metadata": {},
   "outputs": [
    {
     "data": {
      "text/html": [
       "<div>\n",
       "<style scoped>\n",
       "    .dataframe tbody tr th:only-of-type {\n",
       "        vertical-align: middle;\n",
       "    }\n",
       "\n",
       "    .dataframe tbody tr th {\n",
       "        vertical-align: top;\n",
       "    }\n",
       "\n",
       "    .dataframe thead th {\n",
       "        text-align: right;\n",
       "    }\n",
       "</style>\n",
       "<table border=\"1\" class=\"dataframe\">\n",
       "  <thead>\n",
       "    <tr style=\"text-align: right;\">\n",
       "      <th></th>\n",
       "      <th>LoanNr_ChkDgt</th>\n",
       "      <th>Name</th>\n",
       "      <th>City</th>\n",
       "      <th>State</th>\n",
       "      <th>Zip</th>\n",
       "      <th>Bank</th>\n",
       "      <th>BankState</th>\n",
       "      <th>NAICS</th>\n",
       "      <th>ApprovalDate</th>\n",
       "      <th>ApprovalFY</th>\n",
       "      <th>Term</th>\n",
       "      <th>NoEmp</th>\n",
       "      <th>NewExist</th>\n",
       "      <th>CreateJob</th>\n",
       "      <th>RetainedJob</th>\n",
       "      <th>FranchiseCode</th>\n",
       "      <th>UrbanRural</th>\n",
       "      <th>RevLineCr</th>\n",
       "      <th>LowDoc</th>\n",
       "      <th>ChgOffDate</th>\n",
       "      <th>DisbursementDate</th>\n",
       "      <th>DisbursementGross</th>\n",
       "      <th>BalanceGross</th>\n",
       "      <th>MIS_Status</th>\n",
       "      <th>ChgOffPrinGr</th>\n",
       "      <th>GrAppv</th>\n",
       "      <th>SBA_Appv</th>\n",
       "    </tr>\n",
       "  </thead>\n",
       "  <tbody>\n",
       "    <tr>\n",
       "      <th>0</th>\n",
       "      <td>1000014003</td>\n",
       "      <td>ABC HOBBYCRAFT</td>\n",
       "      <td>EVANSVILLE</td>\n",
       "      <td>IN</td>\n",
       "      <td>47711</td>\n",
       "      <td>FIFTH THIRD BANK</td>\n",
       "      <td>OH</td>\n",
       "      <td>451120</td>\n",
       "      <td>28-Feb-97</td>\n",
       "      <td>1997</td>\n",
       "      <td>84</td>\n",
       "      <td>4</td>\n",
       "      <td>2.0</td>\n",
       "      <td>0</td>\n",
       "      <td>0</td>\n",
       "      <td>1</td>\n",
       "      <td>0</td>\n",
       "      <td>N</td>\n",
       "      <td>Y</td>\n",
       "      <td>NaN</td>\n",
       "      <td>28-Feb-99</td>\n",
       "      <td>$60,000.00</td>\n",
       "      <td>$0.00</td>\n",
       "      <td>P I F</td>\n",
       "      <td>$0.00</td>\n",
       "      <td>$60,000.00</td>\n",
       "      <td>$48,000.00</td>\n",
       "    </tr>\n",
       "    <tr>\n",
       "      <th>1</th>\n",
       "      <td>1000024006</td>\n",
       "      <td>LANDMARK BAR &amp; GRILLE (THE)</td>\n",
       "      <td>NEW PARIS</td>\n",
       "      <td>IN</td>\n",
       "      <td>46526</td>\n",
       "      <td>1ST SOURCE BANK</td>\n",
       "      <td>IN</td>\n",
       "      <td>722410</td>\n",
       "      <td>28-Feb-97</td>\n",
       "      <td>1997</td>\n",
       "      <td>60</td>\n",
       "      <td>2</td>\n",
       "      <td>2.0</td>\n",
       "      <td>0</td>\n",
       "      <td>0</td>\n",
       "      <td>1</td>\n",
       "      <td>0</td>\n",
       "      <td>N</td>\n",
       "      <td>Y</td>\n",
       "      <td>NaN</td>\n",
       "      <td>31-May-97</td>\n",
       "      <td>$40,000.00</td>\n",
       "      <td>$0.00</td>\n",
       "      <td>P I F</td>\n",
       "      <td>$0.00</td>\n",
       "      <td>$40,000.00</td>\n",
       "      <td>$32,000.00</td>\n",
       "    </tr>\n",
       "  </tbody>\n",
       "</table>\n",
       "</div>"
      ],
      "text/plain": [
       "   LoanNr_ChkDgt                         Name        City State    Zip  \\\n",
       "0     1000014003               ABC HOBBYCRAFT  EVANSVILLE    IN  47711   \n",
       "1     1000024006  LANDMARK BAR & GRILLE (THE)   NEW PARIS    IN  46526   \n",
       "\n",
       "               Bank BankState   NAICS ApprovalDate ApprovalFY  Term  NoEmp  \\\n",
       "0  FIFTH THIRD BANK        OH  451120    28-Feb-97       1997    84      4   \n",
       "1   1ST SOURCE BANK        IN  722410    28-Feb-97       1997    60      2   \n",
       "\n",
       "   NewExist  CreateJob  RetainedJob  FranchiseCode  UrbanRural RevLineCr  \\\n",
       "0       2.0          0            0              1           0         N   \n",
       "1       2.0          0            0              1           0         N   \n",
       "\n",
       "  LowDoc ChgOffDate DisbursementDate DisbursementGross BalanceGross  \\\n",
       "0      Y        NaN        28-Feb-99       $60,000.00        $0.00    \n",
       "1      Y        NaN        31-May-97       $40,000.00        $0.00    \n",
       "\n",
       "  MIS_Status ChgOffPrinGr       GrAppv     SBA_Appv  \n",
       "0      P I F       $0.00   $60,000.00   $48,000.00   \n",
       "1      P I F       $0.00   $40,000.00   $32,000.00   "
      ]
     },
     "execution_count": 13,
     "metadata": {},
     "output_type": "execute_result"
    }
   ],
   "source": [
    "df.head(2)"
   ]
  },
  {
   "cell_type": "code",
   "execution_count": 9,
   "id": "8a819c71",
   "metadata": {},
   "outputs": [],
   "source": [
    "cash_econde=['GrAppv','SBA_Appv','ChgOffPrinGr','DisbursementGross','BalanceGross']\n",
    "\n",
    "for col in cash_econde:\n",
    "    df[col] = df[col].astype(str).str.replace(r'[\\$,]', '', regex=True).astype(float)\n",
    "\n"
   ]
  },
  {
   "cell_type": "code",
   "execution_count": 21,
   "id": "b9e49d30",
   "metadata": {},
   "outputs": [
    {
     "data": {
      "text/html": [
       "<div>\n",
       "<style scoped>\n",
       "    .dataframe tbody tr th:only-of-type {\n",
       "        vertical-align: middle;\n",
       "    }\n",
       "\n",
       "    .dataframe tbody tr th {\n",
       "        vertical-align: top;\n",
       "    }\n",
       "\n",
       "    .dataframe thead th {\n",
       "        text-align: right;\n",
       "    }\n",
       "</style>\n",
       "<table border=\"1\" class=\"dataframe\">\n",
       "  <thead>\n",
       "    <tr style=\"text-align: right;\">\n",
       "      <th></th>\n",
       "      <th>LoanNr_ChkDgt</th>\n",
       "      <th>Name</th>\n",
       "      <th>City</th>\n",
       "      <th>State</th>\n",
       "      <th>Zip</th>\n",
       "      <th>Bank</th>\n",
       "      <th>BankState</th>\n",
       "      <th>NAICS</th>\n",
       "      <th>ApprovalDate</th>\n",
       "      <th>ApprovalFY</th>\n",
       "      <th>Term</th>\n",
       "      <th>NoEmp</th>\n",
       "      <th>NewExist</th>\n",
       "      <th>CreateJob</th>\n",
       "      <th>RetainedJob</th>\n",
       "      <th>FranchiseCode</th>\n",
       "      <th>UrbanRural</th>\n",
       "      <th>RevLineCr</th>\n",
       "      <th>LowDoc</th>\n",
       "      <th>ChgOffDate</th>\n",
       "      <th>DisbursementDate</th>\n",
       "      <th>DisbursementGross</th>\n",
       "      <th>BalanceGross</th>\n",
       "      <th>MIS_Status</th>\n",
       "      <th>ChgOffPrinGr</th>\n",
       "      <th>GrAppv</th>\n",
       "      <th>SBA_Appv</th>\n",
       "    </tr>\n",
       "  </thead>\n",
       "  <tbody>\n",
       "    <tr>\n",
       "      <th>0</th>\n",
       "      <td>1000014003</td>\n",
       "      <td>ABC HOBBYCRAFT</td>\n",
       "      <td>EVANSVILLE</td>\n",
       "      <td>IN</td>\n",
       "      <td>47711</td>\n",
       "      <td>FIFTH THIRD BANK</td>\n",
       "      <td>OH</td>\n",
       "      <td>451120</td>\n",
       "      <td>28-Feb-97</td>\n",
       "      <td>1997</td>\n",
       "      <td>84</td>\n",
       "      <td>4</td>\n",
       "      <td>2.0</td>\n",
       "      <td>0</td>\n",
       "      <td>0</td>\n",
       "      <td>1</td>\n",
       "      <td>0</td>\n",
       "      <td>N</td>\n",
       "      <td>Y</td>\n",
       "      <td>NaN</td>\n",
       "      <td>28-Feb-99</td>\n",
       "      <td>60000.0</td>\n",
       "      <td>0.0</td>\n",
       "      <td>P I F</td>\n",
       "      <td>0.0</td>\n",
       "      <td>60000.0</td>\n",
       "      <td>48000.0</td>\n",
       "    </tr>\n",
       "    <tr>\n",
       "      <th>1</th>\n",
       "      <td>1000024006</td>\n",
       "      <td>LANDMARK BAR &amp; GRILLE (THE)</td>\n",
       "      <td>NEW PARIS</td>\n",
       "      <td>IN</td>\n",
       "      <td>46526</td>\n",
       "      <td>1ST SOURCE BANK</td>\n",
       "      <td>IN</td>\n",
       "      <td>722410</td>\n",
       "      <td>28-Feb-97</td>\n",
       "      <td>1997</td>\n",
       "      <td>60</td>\n",
       "      <td>2</td>\n",
       "      <td>2.0</td>\n",
       "      <td>0</td>\n",
       "      <td>0</td>\n",
       "      <td>1</td>\n",
       "      <td>0</td>\n",
       "      <td>N</td>\n",
       "      <td>Y</td>\n",
       "      <td>NaN</td>\n",
       "      <td>31-May-97</td>\n",
       "      <td>40000.0</td>\n",
       "      <td>0.0</td>\n",
       "      <td>P I F</td>\n",
       "      <td>0.0</td>\n",
       "      <td>40000.0</td>\n",
       "      <td>32000.0</td>\n",
       "    </tr>\n",
       "    <tr>\n",
       "      <th>2</th>\n",
       "      <td>1000034009</td>\n",
       "      <td>WHITLOCK DDS, TODD M.</td>\n",
       "      <td>BLOOMINGTON</td>\n",
       "      <td>IN</td>\n",
       "      <td>47401</td>\n",
       "      <td>GRANT COUNTY STATE BANK</td>\n",
       "      <td>IN</td>\n",
       "      <td>621210</td>\n",
       "      <td>28-Feb-97</td>\n",
       "      <td>1997</td>\n",
       "      <td>180</td>\n",
       "      <td>7</td>\n",
       "      <td>1.0</td>\n",
       "      <td>0</td>\n",
       "      <td>0</td>\n",
       "      <td>1</td>\n",
       "      <td>0</td>\n",
       "      <td>N</td>\n",
       "      <td>N</td>\n",
       "      <td>NaN</td>\n",
       "      <td>31-Dec-97</td>\n",
       "      <td>287000.0</td>\n",
       "      <td>0.0</td>\n",
       "      <td>P I F</td>\n",
       "      <td>0.0</td>\n",
       "      <td>287000.0</td>\n",
       "      <td>215250.0</td>\n",
       "    </tr>\n",
       "    <tr>\n",
       "      <th>3</th>\n",
       "      <td>1000044001</td>\n",
       "      <td>BIG BUCKS PAWN &amp; JEWELRY, LLC</td>\n",
       "      <td>BROKEN ARROW</td>\n",
       "      <td>OK</td>\n",
       "      <td>74012</td>\n",
       "      <td>1ST NATL BK &amp; TR CO OF BROKEN</td>\n",
       "      <td>OK</td>\n",
       "      <td>0</td>\n",
       "      <td>28-Feb-97</td>\n",
       "      <td>1997</td>\n",
       "      <td>60</td>\n",
       "      <td>2</td>\n",
       "      <td>1.0</td>\n",
       "      <td>0</td>\n",
       "      <td>0</td>\n",
       "      <td>1</td>\n",
       "      <td>0</td>\n",
       "      <td>N</td>\n",
       "      <td>Y</td>\n",
       "      <td>NaN</td>\n",
       "      <td>30-Jun-97</td>\n",
       "      <td>35000.0</td>\n",
       "      <td>0.0</td>\n",
       "      <td>P I F</td>\n",
       "      <td>0.0</td>\n",
       "      <td>35000.0</td>\n",
       "      <td>28000.0</td>\n",
       "    </tr>\n",
       "    <tr>\n",
       "      <th>4</th>\n",
       "      <td>1000054004</td>\n",
       "      <td>ANASTASIA CONFECTIONS, INC.</td>\n",
       "      <td>ORLANDO</td>\n",
       "      <td>FL</td>\n",
       "      <td>32801</td>\n",
       "      <td>FLORIDA BUS. DEVEL CORP</td>\n",
       "      <td>FL</td>\n",
       "      <td>0</td>\n",
       "      <td>28-Feb-97</td>\n",
       "      <td>1997</td>\n",
       "      <td>240</td>\n",
       "      <td>14</td>\n",
       "      <td>1.0</td>\n",
       "      <td>7</td>\n",
       "      <td>7</td>\n",
       "      <td>1</td>\n",
       "      <td>0</td>\n",
       "      <td>N</td>\n",
       "      <td>N</td>\n",
       "      <td>NaN</td>\n",
       "      <td>14-May-97</td>\n",
       "      <td>229000.0</td>\n",
       "      <td>0.0</td>\n",
       "      <td>P I F</td>\n",
       "      <td>0.0</td>\n",
       "      <td>229000.0</td>\n",
       "      <td>229000.0</td>\n",
       "    </tr>\n",
       "  </tbody>\n",
       "</table>\n",
       "</div>"
      ],
      "text/plain": [
       "   LoanNr_ChkDgt                           Name          City State    Zip  \\\n",
       "0     1000014003                 ABC HOBBYCRAFT    EVANSVILLE    IN  47711   \n",
       "1     1000024006    LANDMARK BAR & GRILLE (THE)     NEW PARIS    IN  46526   \n",
       "2     1000034009          WHITLOCK DDS, TODD M.   BLOOMINGTON    IN  47401   \n",
       "3     1000044001  BIG BUCKS PAWN & JEWELRY, LLC  BROKEN ARROW    OK  74012   \n",
       "4     1000054004    ANASTASIA CONFECTIONS, INC.       ORLANDO    FL  32801   \n",
       "\n",
       "                            Bank BankState   NAICS ApprovalDate ApprovalFY  \\\n",
       "0               FIFTH THIRD BANK        OH  451120    28-Feb-97       1997   \n",
       "1                1ST SOURCE BANK        IN  722410    28-Feb-97       1997   \n",
       "2        GRANT COUNTY STATE BANK        IN  621210    28-Feb-97       1997   \n",
       "3  1ST NATL BK & TR CO OF BROKEN        OK       0    28-Feb-97       1997   \n",
       "4        FLORIDA BUS. DEVEL CORP        FL       0    28-Feb-97       1997   \n",
       "\n",
       "   Term  NoEmp  NewExist  CreateJob  RetainedJob  FranchiseCode  UrbanRural  \\\n",
       "0    84      4       2.0          0            0              1           0   \n",
       "1    60      2       2.0          0            0              1           0   \n",
       "2   180      7       1.0          0            0              1           0   \n",
       "3    60      2       1.0          0            0              1           0   \n",
       "4   240     14       1.0          7            7              1           0   \n",
       "\n",
       "  RevLineCr LowDoc ChgOffDate DisbursementDate  DisbursementGross  \\\n",
       "0         N      Y        NaN        28-Feb-99            60000.0   \n",
       "1         N      Y        NaN        31-May-97            40000.0   \n",
       "2         N      N        NaN        31-Dec-97           287000.0   \n",
       "3         N      Y        NaN        30-Jun-97            35000.0   \n",
       "4         N      N        NaN        14-May-97           229000.0   \n",
       "\n",
       "   BalanceGross MIS_Status  ChgOffPrinGr    GrAppv  SBA_Appv  \n",
       "0           0.0      P I F           0.0   60000.0   48000.0  \n",
       "1           0.0      P I F           0.0   40000.0   32000.0  \n",
       "2           0.0      P I F           0.0  287000.0  215250.0  \n",
       "3           0.0      P I F           0.0   35000.0   28000.0  \n",
       "4           0.0      P I F           0.0  229000.0  229000.0  "
      ]
     },
     "execution_count": 21,
     "metadata": {},
     "output_type": "execute_result"
    }
   ],
   "source": [
    "df.head(5)"
   ]
  },
  {
   "cell_type": "code",
   "execution_count": 23,
   "id": "fc062724",
   "metadata": {},
   "outputs": [
    {
     "data": {
      "text/plain": [
       "0    45\n",
       "1    72\n",
       "2    62\n",
       "3     0\n",
       "4     0\n",
       "Name: NAICS, dtype: object"
      ]
     },
     "execution_count": 23,
     "metadata": {},
     "output_type": "execute_result"
    }
   ],
   "source": [
    "df['NAICS'] = df['NAICS'].astype(str).apply(lambda x: x[:2])\n",
    "df['NAICS'].head(5)\n"
   ]
  },
  {
   "cell_type": "code",
   "execution_count": 25,
   "id": "333ae9cd",
   "metadata": {},
   "outputs": [],
   "source": [
    "naics_dict = {\n",
    "    '11': 'Agriculture, forestry, fishing and hunting',\n",
    "    '21': 'Mining, quarrying, and oil and gas extraction',\n",
    "    '22': 'Utilities',\n",
    "    '23': 'Construction',\n",
    "    '31': 'Manufacturing',\n",
    "    '32': 'Manufacturing',\n",
    "    '33': 'Manufacturing',\n",
    "    '42': 'Wholesale trade',\n",
    "    '44': 'Retail trade',\n",
    "    '45': 'Retail trade',\n",
    "    '48': 'Transportation and warehousing',\n",
    "    '49': 'Transportation and warehousing',\n",
    "    '51': 'Information',\n",
    "    '52': 'Finance and insurance',\n",
    "    '53': 'Real estate and rental and leasing',\n",
    "    '54': 'Professional, scientific, and technical services',\n",
    "    '55': 'Management of companies and enterprises',\n",
    "    '56': 'Administrative and support and waste management and remediation services',\n",
    "    '61': 'Educational services',\n",
    "    '62': 'Health care and social assistance',\n",
    "    '71': 'Arts, entertainment, and recreation',\n",
    "    '72': 'Accommodation and food services',\n",
    "    '81': 'Other services (except public administration)',\n",
    "    '92': 'Public administration'\n",
    "}\n"
   ]
  },
  {
   "cell_type": "code",
   "execution_count": 26,
   "id": "91fbb250",
   "metadata": {},
   "outputs": [
    {
     "data": {
      "text/html": [
       "<div>\n",
       "<style scoped>\n",
       "    .dataframe tbody tr th:only-of-type {\n",
       "        vertical-align: middle;\n",
       "    }\n",
       "\n",
       "    .dataframe tbody tr th {\n",
       "        vertical-align: top;\n",
       "    }\n",
       "\n",
       "    .dataframe thead th {\n",
       "        text-align: right;\n",
       "    }\n",
       "</style>\n",
       "<table border=\"1\" class=\"dataframe\">\n",
       "  <thead>\n",
       "    <tr style=\"text-align: right;\">\n",
       "      <th></th>\n",
       "      <th>NAICS</th>\n",
       "      <th>Industry</th>\n",
       "    </tr>\n",
       "  </thead>\n",
       "  <tbody>\n",
       "    <tr>\n",
       "      <th>0</th>\n",
       "      <td>45</td>\n",
       "      <td>Retail trade</td>\n",
       "    </tr>\n",
       "    <tr>\n",
       "      <th>1</th>\n",
       "      <td>72</td>\n",
       "      <td>Accommodation and food services</td>\n",
       "    </tr>\n",
       "    <tr>\n",
       "      <th>2</th>\n",
       "      <td>62</td>\n",
       "      <td>Health care and social assistance</td>\n",
       "    </tr>\n",
       "    <tr>\n",
       "      <th>3</th>\n",
       "      <td>0</td>\n",
       "      <td>NaN</td>\n",
       "    </tr>\n",
       "    <tr>\n",
       "      <th>4</th>\n",
       "      <td>0</td>\n",
       "      <td>NaN</td>\n",
       "    </tr>\n",
       "  </tbody>\n",
       "</table>\n",
       "</div>"
      ],
      "text/plain": [
       "  NAICS                           Industry\n",
       "0    45                       Retail trade\n",
       "1    72    Accommodation and food services\n",
       "2    62  Health care and social assistance\n",
       "3     0                                NaN\n",
       "4     0                                NaN"
      ]
     },
     "execution_count": 26,
     "metadata": {},
     "output_type": "execute_result"
    }
   ],
   "source": [
    "df['Industry'] = df['NAICS'].map(naics_dict)\n",
    "df[['NAICS','Industry']].head()\n"
   ]
  },
  {
   "cell_type": "code",
   "execution_count": null,
   "id": "d9bfcc26",
   "metadata": {},
   "outputs": [],
   "source": []
  },
  {
   "cell_type": "code",
   "execution_count": 20,
   "id": "e55b8a4a",
   "metadata": {},
   "outputs": [
    {
     "data": {
      "application/vnd.plotly.v1+json": {
       "config": {
        "plotlyServerURL": "https://plot.ly"
       },
       "data": [
        {
         "coloraxis": "coloraxis",
         "geo": "geo",
         "hovertemplate": "State=%{location}<br>ChgOffPrinGr=%{z}<extra></extra>",
         "locationmode": "USA-states",
         "locations": [
          "AK",
          "AL",
          "AR",
          "AZ",
          "CA",
          "CO",
          "CT",
          "DC",
          "DE",
          "FL",
          "GA",
          "HI",
          "IA",
          "ID",
          "IL",
          "IN",
          "KS",
          "KY",
          "LA",
          "MA",
          "MD",
          "ME",
          "MI",
          "MN",
          "MO",
          "MS",
          "MT",
          "NC",
          "ND",
          "NE",
          "NH",
          "NJ",
          "NM",
          "NV",
          "NY",
          "OH",
          "OK",
          "OR",
          "PA",
          "RI",
          "SC",
          "SD",
          "TN",
          "TX",
          "UT",
          "VA",
          "VT",
          "WA",
          "WI",
          "WV",
          "WY"
         ],
         "name": "",
         "type": "choropleth",
         "z": {
          "bdata": "Zhpolt82zUADmUkWhFLKQODp03NPmMxAOvXZQ2GX1EBTqTKlzQ/LQClW3V0B4M1AjlV1X3DrxkBPUB7FPunGQFo3mCIfAshA5xsjxW6H1kCEoLD+CXzVQKNFKRHjvLhA32rEFWcUxEBx38uiBCTDQL1REy24oc9AuvHYhkcIzEAmEaCAkAvGQB+F8Ph+mM5AFtNZTGfgy0DkMlT3DAa9QGqSb0WtrsZAXT79t0aeuUA52ScCE5XRQOfpV9ZFy8NALGXuTH/rxkABpHZZ6xnLQGVY30u7GLJAcD///tPeyUCyk0bitJi1QMaGJ+sjFsNA2/vTqZsItkBNJQZ1J2TMQHAaAYYKIsFAcF4qjqHd0kCPAsvdwKTGQI5jjzCmXMZAs66T1ipkyUAxHD0WwB7EQInSIigrd8RALFrV9wfTt0A9Ca7/sp/QQNnkSa/6k7VALRQhM97qzEAoEbNWyY7RQP3KsebHSsRA2L5OFW9IzEAnt7ctPyqxQO4cpRxLC8NACfCFcJrixUDZEqI5ROjIQEENG0xsvblA",
          "dtype": "f8"
         }
        }
       ],
       "layout": {
        "coloraxis": {
         "colorbar": {
          "title": {
           "text": "Debt in K"
          }
         },
         "colorscale": [
          [
           0,
           "#30123b"
          ],
          [
           0.07142857142857142,
           "#4145ab"
          ],
          [
           0.14285714285714285,
           "#4675ed"
          ],
          [
           0.21428571428571427,
           "#39a2fc"
          ],
          [
           0.2857142857142857,
           "#1bcfd4"
          ],
          [
           0.35714285714285715,
           "#24eca6"
          ],
          [
           0.42857142857142855,
           "#61fc6c"
          ],
          [
           0.5,
           "#a4fc3b"
          ],
          [
           0.5714285714285714,
           "#d1e834"
          ],
          [
           0.6428571428571429,
           "#f3c63a"
          ],
          [
           0.7142857142857143,
           "#fe9b2d"
          ],
          [
           0.7857142857142857,
           "#f36315"
          ],
          [
           0.8571428571428571,
           "#d93806"
          ],
          [
           0.9285714285714286,
           "#b11901"
          ],
          [
           1,
           "#7a0402"
          ]
         ]
        },
        "geo": {
         "center": {},
         "domain": {
          "x": [
           0,
           1
          ],
          "y": [
           0,
           1
          ]
         },
         "scope": "usa"
        },
        "legend": {
         "tracegroupgap": 0
        },
        "margin": {
         "t": 60
        },
        "template": {
         "data": {
          "bar": [
           {
            "error_x": {
             "color": "#2a3f5f"
            },
            "error_y": {
             "color": "#2a3f5f"
            },
            "marker": {
             "line": {
              "color": "#E5ECF6",
              "width": 0.5
             },
             "pattern": {
              "fillmode": "overlay",
              "size": 10,
              "solidity": 0.2
             }
            },
            "type": "bar"
           }
          ],
          "barpolar": [
           {
            "marker": {
             "line": {
              "color": "#E5ECF6",
              "width": 0.5
             },
             "pattern": {
              "fillmode": "overlay",
              "size": 10,
              "solidity": 0.2
             }
            },
            "type": "barpolar"
           }
          ],
          "carpet": [
           {
            "aaxis": {
             "endlinecolor": "#2a3f5f",
             "gridcolor": "white",
             "linecolor": "white",
             "minorgridcolor": "white",
             "startlinecolor": "#2a3f5f"
            },
            "baxis": {
             "endlinecolor": "#2a3f5f",
             "gridcolor": "white",
             "linecolor": "white",
             "minorgridcolor": "white",
             "startlinecolor": "#2a3f5f"
            },
            "type": "carpet"
           }
          ],
          "choropleth": [
           {
            "colorbar": {
             "outlinewidth": 0,
             "ticks": ""
            },
            "type": "choropleth"
           }
          ],
          "contour": [
           {
            "colorbar": {
             "outlinewidth": 0,
             "ticks": ""
            },
            "colorscale": [
             [
              0,
              "#0d0887"
             ],
             [
              0.1111111111111111,
              "#46039f"
             ],
             [
              0.2222222222222222,
              "#7201a8"
             ],
             [
              0.3333333333333333,
              "#9c179e"
             ],
             [
              0.4444444444444444,
              "#bd3786"
             ],
             [
              0.5555555555555556,
              "#d8576b"
             ],
             [
              0.6666666666666666,
              "#ed7953"
             ],
             [
              0.7777777777777778,
              "#fb9f3a"
             ],
             [
              0.8888888888888888,
              "#fdca26"
             ],
             [
              1,
              "#f0f921"
             ]
            ],
            "type": "contour"
           }
          ],
          "contourcarpet": [
           {
            "colorbar": {
             "outlinewidth": 0,
             "ticks": ""
            },
            "type": "contourcarpet"
           }
          ],
          "heatmap": [
           {
            "colorbar": {
             "outlinewidth": 0,
             "ticks": ""
            },
            "colorscale": [
             [
              0,
              "#0d0887"
             ],
             [
              0.1111111111111111,
              "#46039f"
             ],
             [
              0.2222222222222222,
              "#7201a8"
             ],
             [
              0.3333333333333333,
              "#9c179e"
             ],
             [
              0.4444444444444444,
              "#bd3786"
             ],
             [
              0.5555555555555556,
              "#d8576b"
             ],
             [
              0.6666666666666666,
              "#ed7953"
             ],
             [
              0.7777777777777778,
              "#fb9f3a"
             ],
             [
              0.8888888888888888,
              "#fdca26"
             ],
             [
              1,
              "#f0f921"
             ]
            ],
            "type": "heatmap"
           }
          ],
          "histogram": [
           {
            "marker": {
             "pattern": {
              "fillmode": "overlay",
              "size": 10,
              "solidity": 0.2
             }
            },
            "type": "histogram"
           }
          ],
          "histogram2d": [
           {
            "colorbar": {
             "outlinewidth": 0,
             "ticks": ""
            },
            "colorscale": [
             [
              0,
              "#0d0887"
             ],
             [
              0.1111111111111111,
              "#46039f"
             ],
             [
              0.2222222222222222,
              "#7201a8"
             ],
             [
              0.3333333333333333,
              "#9c179e"
             ],
             [
              0.4444444444444444,
              "#bd3786"
             ],
             [
              0.5555555555555556,
              "#d8576b"
             ],
             [
              0.6666666666666666,
              "#ed7953"
             ],
             [
              0.7777777777777778,
              "#fb9f3a"
             ],
             [
              0.8888888888888888,
              "#fdca26"
             ],
             [
              1,
              "#f0f921"
             ]
            ],
            "type": "histogram2d"
           }
          ],
          "histogram2dcontour": [
           {
            "colorbar": {
             "outlinewidth": 0,
             "ticks": ""
            },
            "colorscale": [
             [
              0,
              "#0d0887"
             ],
             [
              0.1111111111111111,
              "#46039f"
             ],
             [
              0.2222222222222222,
              "#7201a8"
             ],
             [
              0.3333333333333333,
              "#9c179e"
             ],
             [
              0.4444444444444444,
              "#bd3786"
             ],
             [
              0.5555555555555556,
              "#d8576b"
             ],
             [
              0.6666666666666666,
              "#ed7953"
             ],
             [
              0.7777777777777778,
              "#fb9f3a"
             ],
             [
              0.8888888888888888,
              "#fdca26"
             ],
             [
              1,
              "#f0f921"
             ]
            ],
            "type": "histogram2dcontour"
           }
          ],
          "mesh3d": [
           {
            "colorbar": {
             "outlinewidth": 0,
             "ticks": ""
            },
            "type": "mesh3d"
           }
          ],
          "parcoords": [
           {
            "line": {
             "colorbar": {
              "outlinewidth": 0,
              "ticks": ""
             }
            },
            "type": "parcoords"
           }
          ],
          "pie": [
           {
            "automargin": true,
            "type": "pie"
           }
          ],
          "scatter": [
           {
            "fillpattern": {
             "fillmode": "overlay",
             "size": 10,
             "solidity": 0.2
            },
            "type": "scatter"
           }
          ],
          "scatter3d": [
           {
            "line": {
             "colorbar": {
              "outlinewidth": 0,
              "ticks": ""
             }
            },
            "marker": {
             "colorbar": {
              "outlinewidth": 0,
              "ticks": ""
             }
            },
            "type": "scatter3d"
           }
          ],
          "scattercarpet": [
           {
            "marker": {
             "colorbar": {
              "outlinewidth": 0,
              "ticks": ""
             }
            },
            "type": "scattercarpet"
           }
          ],
          "scattergeo": [
           {
            "marker": {
             "colorbar": {
              "outlinewidth": 0,
              "ticks": ""
             }
            },
            "type": "scattergeo"
           }
          ],
          "scattergl": [
           {
            "marker": {
             "colorbar": {
              "outlinewidth": 0,
              "ticks": ""
             }
            },
            "type": "scattergl"
           }
          ],
          "scattermap": [
           {
            "marker": {
             "colorbar": {
              "outlinewidth": 0,
              "ticks": ""
             }
            },
            "type": "scattermap"
           }
          ],
          "scattermapbox": [
           {
            "marker": {
             "colorbar": {
              "outlinewidth": 0,
              "ticks": ""
             }
            },
            "type": "scattermapbox"
           }
          ],
          "scatterpolar": [
           {
            "marker": {
             "colorbar": {
              "outlinewidth": 0,
              "ticks": ""
             }
            },
            "type": "scatterpolar"
           }
          ],
          "scatterpolargl": [
           {
            "marker": {
             "colorbar": {
              "outlinewidth": 0,
              "ticks": ""
             }
            },
            "type": "scatterpolargl"
           }
          ],
          "scatterternary": [
           {
            "marker": {
             "colorbar": {
              "outlinewidth": 0,
              "ticks": ""
             }
            },
            "type": "scatterternary"
           }
          ],
          "surface": [
           {
            "colorbar": {
             "outlinewidth": 0,
             "ticks": ""
            },
            "colorscale": [
             [
              0,
              "#0d0887"
             ],
             [
              0.1111111111111111,
              "#46039f"
             ],
             [
              0.2222222222222222,
              "#7201a8"
             ],
             [
              0.3333333333333333,
              "#9c179e"
             ],
             [
              0.4444444444444444,
              "#bd3786"
             ],
             [
              0.5555555555555556,
              "#d8576b"
             ],
             [
              0.6666666666666666,
              "#ed7953"
             ],
             [
              0.7777777777777778,
              "#fb9f3a"
             ],
             [
              0.8888888888888888,
              "#fdca26"
             ],
             [
              1,
              "#f0f921"
             ]
            ],
            "type": "surface"
           }
          ],
          "table": [
           {
            "cells": {
             "fill": {
              "color": "#EBF0F8"
             },
             "line": {
              "color": "white"
             }
            },
            "header": {
             "fill": {
              "color": "#C8D4E3"
             },
             "line": {
              "color": "white"
             }
            },
            "type": "table"
           }
          ]
         },
         "layout": {
          "annotationdefaults": {
           "arrowcolor": "#2a3f5f",
           "arrowhead": 0,
           "arrowwidth": 1
          },
          "autotypenumbers": "strict",
          "coloraxis": {
           "colorbar": {
            "outlinewidth": 0,
            "ticks": ""
           }
          },
          "colorscale": {
           "diverging": [
            [
             0,
             "#8e0152"
            ],
            [
             0.1,
             "#c51b7d"
            ],
            [
             0.2,
             "#de77ae"
            ],
            [
             0.3,
             "#f1b6da"
            ],
            [
             0.4,
             "#fde0ef"
            ],
            [
             0.5,
             "#f7f7f7"
            ],
            [
             0.6,
             "#e6f5d0"
            ],
            [
             0.7,
             "#b8e186"
            ],
            [
             0.8,
             "#7fbc41"
            ],
            [
             0.9,
             "#4d9221"
            ],
            [
             1,
             "#276419"
            ]
           ],
           "sequential": [
            [
             0,
             "#0d0887"
            ],
            [
             0.1111111111111111,
             "#46039f"
            ],
            [
             0.2222222222222222,
             "#7201a8"
            ],
            [
             0.3333333333333333,
             "#9c179e"
            ],
            [
             0.4444444444444444,
             "#bd3786"
            ],
            [
             0.5555555555555556,
             "#d8576b"
            ],
            [
             0.6666666666666666,
             "#ed7953"
            ],
            [
             0.7777777777777778,
             "#fb9f3a"
            ],
            [
             0.8888888888888888,
             "#fdca26"
            ],
            [
             1,
             "#f0f921"
            ]
           ],
           "sequentialminus": [
            [
             0,
             "#0d0887"
            ],
            [
             0.1111111111111111,
             "#46039f"
            ],
            [
             0.2222222222222222,
             "#7201a8"
            ],
            [
             0.3333333333333333,
             "#9c179e"
            ],
            [
             0.4444444444444444,
             "#bd3786"
            ],
            [
             0.5555555555555556,
             "#d8576b"
            ],
            [
             0.6666666666666666,
             "#ed7953"
            ],
            [
             0.7777777777777778,
             "#fb9f3a"
            ],
            [
             0.8888888888888888,
             "#fdca26"
            ],
            [
             1,
             "#f0f921"
            ]
           ]
          },
          "colorway": [
           "#636efa",
           "#EF553B",
           "#00cc96",
           "#ab63fa",
           "#FFA15A",
           "#19d3f3",
           "#FF6692",
           "#B6E880",
           "#FF97FF",
           "#FECB52"
          ],
          "font": {
           "color": "#2a3f5f"
          },
          "geo": {
           "bgcolor": "white",
           "lakecolor": "white",
           "landcolor": "#E5ECF6",
           "showlakes": true,
           "showland": true,
           "subunitcolor": "white"
          },
          "hoverlabel": {
           "align": "left"
          },
          "hovermode": "closest",
          "mapbox": {
           "style": "light"
          },
          "paper_bgcolor": "white",
          "plot_bgcolor": "#E5ECF6",
          "polar": {
           "angularaxis": {
            "gridcolor": "white",
            "linecolor": "white",
            "ticks": ""
           },
           "bgcolor": "#E5ECF6",
           "radialaxis": {
            "gridcolor": "white",
            "linecolor": "white",
            "ticks": ""
           }
          },
          "scene": {
           "xaxis": {
            "backgroundcolor": "#E5ECF6",
            "gridcolor": "white",
            "gridwidth": 2,
            "linecolor": "white",
            "showbackground": true,
            "ticks": "",
            "zerolinecolor": "white"
           },
           "yaxis": {
            "backgroundcolor": "#E5ECF6",
            "gridcolor": "white",
            "gridwidth": 2,
            "linecolor": "white",
            "showbackground": true,
            "ticks": "",
            "zerolinecolor": "white"
           },
           "zaxis": {
            "backgroundcolor": "#E5ECF6",
            "gridcolor": "white",
            "gridwidth": 2,
            "linecolor": "white",
            "showbackground": true,
            "ticks": "",
            "zerolinecolor": "white"
           }
          },
          "shapedefaults": {
           "line": {
            "color": "#2a3f5f"
           }
          },
          "ternary": {
           "aaxis": {
            "gridcolor": "white",
            "linecolor": "white",
            "ticks": ""
           },
           "baxis": {
            "gridcolor": "white",
            "linecolor": "white",
            "ticks": ""
           },
           "bgcolor": "#E5ECF6",
           "caxis": {
            "gridcolor": "white",
            "linecolor": "white",
            "ticks": ""
           }
          },
          "title": {
           "x": 0.05
          },
          "xaxis": {
           "automargin": true,
           "gridcolor": "white",
           "linecolor": "white",
           "ticks": "",
           "title": {
            "standoff": 15
           },
           "zerolinecolor": "white",
           "zerolinewidth": 2
          },
          "yaxis": {
           "automargin": true,
           "gridcolor": "white",
           "linecolor": "white",
           "ticks": "",
           "title": {
            "standoff": 15
           },
           "zerolinecolor": "white",
           "zerolinewidth": 2
          }
         }
        },
        "title": {
         "text": "In which state people are less likely to pay off a loan?",
         "x": 0.5
        }
       }
      }
     },
     "metadata": {},
     "output_type": "display_data"
    }
   ],
   "source": [
    "\n",
    "\n",
    "\n",
    "df_grouped = df.groupby(\"State\")[['ChgOffPrinGr']].mean().reset_index()\n",
    "\n",
    "# Ahora sí podés graficar con choropleth\n",
    "fig = px.choropleth(\n",
    "    df_grouped,\n",
    "    locations=\"State\",        # columna con nombres de estados\n",
    "    locationmode=\"USA-states\",# para estados de USA\n",
    "    color='ChgOffPrinGr',    # la primera columna numérica que quieras mapear\n",
    "    scope=\"usa\",\n",
    "    color_continuous_scale=\"Turbo\"\n",
    ")\n",
    "\n",
    "fig.update_layout(\n",
    "    title_text=\"In which state people are less likely to pay off a loan?\",\n",
    "    title_x=0.5,\n",
    "    coloraxis_colorbar=dict(\n",
    "        title=\"Debt in K\"\n",
    "    )\n",
    ")\n",
    "fig.show()\n"
   ]
  },
  {
   "cell_type": "code",
   "execution_count": null,
   "id": "409499b7",
   "metadata": {},
   "outputs": [],
   "source": []
  },
  {
   "cell_type": "code",
   "execution_count": 12,
   "id": "aeb94325",
   "metadata": {},
   "outputs": [],
   "source": [
    "# columnas de fechas a transformar\n",
    "dates_encode = ['DisbursementDate', 'ApprovalDate']\n",
    "\n",
    "# convertir a datetime\n",
    "for col in dates_encode:\n",
    "    df[col] = pd.to_datetime(df[col], format='%d-%b-%y', errors='coerce')\n",
    "    \n",
    "    df[col + '_day'] = df[col].dt.day.fillna(0).astype('int32')\n",
    "    df[col + '_month'] = df[col].dt.month.fillna(0).astype('int32')\n",
    "    df[col + '_year'] = df[col].dt.year.fillna(0).astype('int32')\n",
    "    df[col + '_weekday'] = df[col].dt.weekday.fillna(0).astype('int32')\n",
    "    df[col + '_quarter'] = df[col].dt.quarter.fillna(0).astype('int32')\n",
    "\n"
   ]
  },
  {
   "cell_type": "code",
   "execution_count": 13,
   "id": "ca72bca5",
   "metadata": {},
   "outputs": [],
   "source": [
    "df = df.drop(columns=dates_encode)\n"
   ]
  },
  {
   "cell_type": "code",
   "execution_count": 6,
   "id": "a63791f7",
   "metadata": {},
   "outputs": [
    {
     "data": {
      "text/plain": [
       "LoanNr_ChkDgt                    0\n",
       "Name                            14\n",
       "City                            30\n",
       "State                           14\n",
       "Zip                              0\n",
       "Bank                          1559\n",
       "BankState                     1566\n",
       "NAICS                            0\n",
       "ApprovalFY                       0\n",
       "Term                             0\n",
       "NoEmp                            0\n",
       "NewExist                       136\n",
       "CreateJob                        0\n",
       "RetainedJob                      0\n",
       "FranchiseCode                    0\n",
       "UrbanRural                       0\n",
       "RevLineCr                     4528\n",
       "LowDoc                        2582\n",
       "ChgOffDate                  736465\n",
       "DisbursementGross                0\n",
       "BalanceGross                     0\n",
       "MIS_Status                    1997\n",
       "ChgOffPrinGr                     0\n",
       "GrAppv                           0\n",
       "SBA_Appv                         0\n",
       "DisbursementDate_day             0\n",
       "DisbursementDate_month           0\n",
       "DisbursementDate_year            0\n",
       "DisbursementDate_weekday         0\n",
       "DisbursementDate_quarter         0\n",
       "ApprovalDate_day                 0\n",
       "ApprovalDate_month               0\n",
       "ApprovalDate_year                0\n",
       "ApprovalDate_weekday             0\n",
       "ApprovalDate_quarter             0\n",
       "dtype: int64"
      ]
     },
     "execution_count": 6,
     "metadata": {},
     "output_type": "execute_result"
    }
   ],
   "source": [
    "df.isnull().sum()"
   ]
  },
  {
   "cell_type": "code",
   "execution_count": 10,
   "id": "d0a8d013",
   "metadata": {},
   "outputs": [
    {
     "data": {
      "text/html": [
       "<div>\n",
       "<style scoped>\n",
       "    .dataframe tbody tr th:only-of-type {\n",
       "        vertical-align: middle;\n",
       "    }\n",
       "\n",
       "    .dataframe tbody tr th {\n",
       "        vertical-align: top;\n",
       "    }\n",
       "\n",
       "    .dataframe thead th {\n",
       "        text-align: right;\n",
       "    }\n",
       "</style>\n",
       "<table border=\"1\" class=\"dataframe\">\n",
       "  <thead>\n",
       "    <tr style=\"text-align: right;\">\n",
       "      <th></th>\n",
       "      <th>LoanNr_ChkDgt</th>\n",
       "      <th>Name</th>\n",
       "      <th>City</th>\n",
       "      <th>State</th>\n",
       "      <th>Zip</th>\n",
       "      <th>Bank</th>\n",
       "      <th>BankState</th>\n",
       "      <th>NAICS</th>\n",
       "      <th>ApprovalFY</th>\n",
       "      <th>Term</th>\n",
       "      <th>NoEmp</th>\n",
       "      <th>NewExist</th>\n",
       "      <th>CreateJob</th>\n",
       "      <th>RetainedJob</th>\n",
       "      <th>FranchiseCode</th>\n",
       "      <th>UrbanRural</th>\n",
       "      <th>RevLineCr</th>\n",
       "      <th>LowDoc</th>\n",
       "      <th>ChgOffDate</th>\n",
       "      <th>DisbursementGross</th>\n",
       "      <th>BalanceGross</th>\n",
       "      <th>MIS_Status</th>\n",
       "      <th>ChgOffPrinGr</th>\n",
       "      <th>GrAppv</th>\n",
       "      <th>SBA_Appv</th>\n",
       "      <th>DisbursementDate_day</th>\n",
       "      <th>DisbursementDate_month</th>\n",
       "      <th>DisbursementDate_year</th>\n",
       "      <th>DisbursementDate_weekday</th>\n",
       "      <th>DisbursementDate_quarter</th>\n",
       "      <th>ApprovalDate_day</th>\n",
       "      <th>ApprovalDate_month</th>\n",
       "      <th>ApprovalDate_year</th>\n",
       "      <th>ApprovalDate_weekday</th>\n",
       "      <th>ApprovalDate_quarter</th>\n",
       "    </tr>\n",
       "  </thead>\n",
       "  <tbody>\n",
       "    <tr>\n",
       "      <th>407</th>\n",
       "      <td>1003113008</td>\n",
       "      <td>MOUNTVILLE WALL PAPER CO</td>\n",
       "      <td>MOUNTVILLE</td>\n",
       "      <td>PA</td>\n",
       "      <td>17554</td>\n",
       "      <td>NaN</td>\n",
       "      <td>NaN</td>\n",
       "      <td>0</td>\n",
       "      <td>1980</td>\n",
       "      <td>120</td>\n",
       "      <td>57</td>\n",
       "      <td>2.0</td>\n",
       "      <td>0</td>\n",
       "      <td>0</td>\n",
       "      <td>0</td>\n",
       "      <td>0</td>\n",
       "      <td>N</td>\n",
       "      <td>N</td>\n",
       "      <td>4-Jun-90</td>\n",
       "      <td>600000.0</td>\n",
       "      <td>0.0</td>\n",
       "      <td>CHGOFF</td>\n",
       "      <td>320976.0</td>\n",
       "      <td>600000.0</td>\n",
       "      <td>499998.0</td>\n",
       "      <td>25</td>\n",
       "      <td>7</td>\n",
       "      <td>1980</td>\n",
       "      <td>4</td>\n",
       "      <td>3</td>\n",
       "      <td>27</td>\n",
       "      <td>6</td>\n",
       "      <td>1980</td>\n",
       "      <td>4</td>\n",
       "      <td>2</td>\n",
       "    </tr>\n",
       "    <tr>\n",
       "      <th>611</th>\n",
       "      <td>1004503009</td>\n",
       "      <td>SMITHFIELD GLASS INC</td>\n",
       "      <td>DANIELSON</td>\n",
       "      <td>CT</td>\n",
       "      <td>6239</td>\n",
       "      <td>NaN</td>\n",
       "      <td>NaN</td>\n",
       "      <td>0</td>\n",
       "      <td>1980</td>\n",
       "      <td>180</td>\n",
       "      <td>30</td>\n",
       "      <td>2.0</td>\n",
       "      <td>0</td>\n",
       "      <td>0</td>\n",
       "      <td>0</td>\n",
       "      <td>0</td>\n",
       "      <td>N</td>\n",
       "      <td>N</td>\n",
       "      <td>22-May-90</td>\n",
       "      <td>0.0</td>\n",
       "      <td>0.0</td>\n",
       "      <td>NaN</td>\n",
       "      <td>144461.0</td>\n",
       "      <td>300000.0</td>\n",
       "      <td>300000.0</td>\n",
       "      <td>0</td>\n",
       "      <td>0</td>\n",
       "      <td>0</td>\n",
       "      <td>0</td>\n",
       "      <td>0</td>\n",
       "      <td>7</td>\n",
       "      <td>7</td>\n",
       "      <td>1980</td>\n",
       "      <td>0</td>\n",
       "      <td>3</td>\n",
       "    </tr>\n",
       "    <tr>\n",
       "      <th>680</th>\n",
       "      <td>1004933009</td>\n",
       "      <td>TAYLOR BROTHERS COMPANY</td>\n",
       "      <td>CLEVELAND</td>\n",
       "      <td>OH</td>\n",
       "      <td>44114</td>\n",
       "      <td>NaN</td>\n",
       "      <td>NaN</td>\n",
       "      <td>0</td>\n",
       "      <td>1980</td>\n",
       "      <td>120</td>\n",
       "      <td>18</td>\n",
       "      <td>2.0</td>\n",
       "      <td>0</td>\n",
       "      <td>0</td>\n",
       "      <td>0</td>\n",
       "      <td>0</td>\n",
       "      <td>N</td>\n",
       "      <td>N</td>\n",
       "      <td>8-Feb-89</td>\n",
       "      <td>275000.0</td>\n",
       "      <td>0.0</td>\n",
       "      <td>CHGOFF</td>\n",
       "      <td>181916.0</td>\n",
       "      <td>275000.0</td>\n",
       "      <td>247500.0</td>\n",
       "      <td>21</td>\n",
       "      <td>8</td>\n",
       "      <td>1980</td>\n",
       "      <td>3</td>\n",
       "      <td>3</td>\n",
       "      <td>8</td>\n",
       "      <td>7</td>\n",
       "      <td>1980</td>\n",
       "      <td>1</td>\n",
       "      <td>3</td>\n",
       "    </tr>\n",
       "    <tr>\n",
       "      <th>740</th>\n",
       "      <td>1005273003</td>\n",
       "      <td>GENERAL SOLAR COMPANY, INC.</td>\n",
       "      <td>SIOUX CITY</td>\n",
       "      <td>IA</td>\n",
       "      <td>51111</td>\n",
       "      <td>NaN</td>\n",
       "      <td>NaN</td>\n",
       "      <td>0</td>\n",
       "      <td>1980</td>\n",
       "      <td>120</td>\n",
       "      <td>3</td>\n",
       "      <td>1.0</td>\n",
       "      <td>0</td>\n",
       "      <td>0</td>\n",
       "      <td>0</td>\n",
       "      <td>0</td>\n",
       "      <td>N</td>\n",
       "      <td>N</td>\n",
       "      <td>8-Feb-90</td>\n",
       "      <td>0.0</td>\n",
       "      <td>0.0</td>\n",
       "      <td>NaN</td>\n",
       "      <td>142666.0</td>\n",
       "      <td>350000.0</td>\n",
       "      <td>350000.0</td>\n",
       "      <td>0</td>\n",
       "      <td>0</td>\n",
       "      <td>0</td>\n",
       "      <td>0</td>\n",
       "      <td>0</td>\n",
       "      <td>3</td>\n",
       "      <td>7</td>\n",
       "      <td>1980</td>\n",
       "      <td>3</td>\n",
       "      <td>3</td>\n",
       "    </tr>\n",
       "    <tr>\n",
       "      <th>6569</th>\n",
       "      <td>1044653002</td>\n",
       "      <td>SON'S PARTY STORE</td>\n",
       "      <td>KENTWOOD</td>\n",
       "      <td>MI</td>\n",
       "      <td>49508</td>\n",
       "      <td>NaN</td>\n",
       "      <td>NaN</td>\n",
       "      <td>0</td>\n",
       "      <td>1980</td>\n",
       "      <td>180</td>\n",
       "      <td>1</td>\n",
       "      <td>2.0</td>\n",
       "      <td>0</td>\n",
       "      <td>0</td>\n",
       "      <td>0</td>\n",
       "      <td>0</td>\n",
       "      <td>N</td>\n",
       "      <td>N</td>\n",
       "      <td>27-Oct-93</td>\n",
       "      <td>0.0</td>\n",
       "      <td>0.0</td>\n",
       "      <td>NaN</td>\n",
       "      <td>18775.0</td>\n",
       "      <td>20000.0</td>\n",
       "      <td>20000.0</td>\n",
       "      <td>0</td>\n",
       "      <td>0</td>\n",
       "      <td>0</td>\n",
       "      <td>0</td>\n",
       "      <td>0</td>\n",
       "      <td>11</td>\n",
       "      <td>9</td>\n",
       "      <td>1980</td>\n",
       "      <td>3</td>\n",
       "      <td>3</td>\n",
       "    </tr>\n",
       "    <tr>\n",
       "      <th>9602</th>\n",
       "      <td>1066623005</td>\n",
       "      <td>ENERGY WORKS, LTD</td>\n",
       "      <td>ENGLEWOOD</td>\n",
       "      <td>CO</td>\n",
       "      <td>80110</td>\n",
       "      <td>NaN</td>\n",
       "      <td>NaN</td>\n",
       "      <td>0</td>\n",
       "      <td>1981</td>\n",
       "      <td>120</td>\n",
       "      <td>5</td>\n",
       "      <td>1.0</td>\n",
       "      <td>0</td>\n",
       "      <td>0</td>\n",
       "      <td>0</td>\n",
       "      <td>0</td>\n",
       "      <td>N</td>\n",
       "      <td>N</td>\n",
       "      <td>1-May-89</td>\n",
       "      <td>0.0</td>\n",
       "      <td>0.0</td>\n",
       "      <td>NaN</td>\n",
       "      <td>133365.0</td>\n",
       "      <td>150000.0</td>\n",
       "      <td>150000.0</td>\n",
       "      <td>0</td>\n",
       "      <td>0</td>\n",
       "      <td>0</td>\n",
       "      <td>0</td>\n",
       "      <td>0</td>\n",
       "      <td>8</td>\n",
       "      <td>10</td>\n",
       "      <td>1980</td>\n",
       "      <td>2</td>\n",
       "      <td>4</td>\n",
       "    </tr>\n",
       "    <tr>\n",
       "      <th>10412</th>\n",
       "      <td>1073273005</td>\n",
       "      <td>CUT N STYLE BY MARIETTA</td>\n",
       "      <td>IMPERIAL,</td>\n",
       "      <td>NE</td>\n",
       "      <td>69033</td>\n",
       "      <td>NaN</td>\n",
       "      <td>NaN</td>\n",
       "      <td>0</td>\n",
       "      <td>1981</td>\n",
       "      <td>120</td>\n",
       "      <td>3</td>\n",
       "      <td>2.0</td>\n",
       "      <td>0</td>\n",
       "      <td>0</td>\n",
       "      <td>0</td>\n",
       "      <td>0</td>\n",
       "      <td>N</td>\n",
       "      <td>N</td>\n",
       "      <td>1-Feb-89</td>\n",
       "      <td>0.0</td>\n",
       "      <td>0.0</td>\n",
       "      <td>NaN</td>\n",
       "      <td>6642.0</td>\n",
       "      <td>10800.0</td>\n",
       "      <td>10800.0</td>\n",
       "      <td>0</td>\n",
       "      <td>0</td>\n",
       "      <td>0</td>\n",
       "      <td>0</td>\n",
       "      <td>0</td>\n",
       "      <td>10</td>\n",
       "      <td>10</td>\n",
       "      <td>1980</td>\n",
       "      <td>4</td>\n",
       "      <td>4</td>\n",
       "    </tr>\n",
       "    <tr>\n",
       "      <th>11824</th>\n",
       "      <td>1084503008</td>\n",
       "      <td>WANDA BREWER</td>\n",
       "      <td>JEFFERSONVILLE</td>\n",
       "      <td>IN</td>\n",
       "      <td>47130</td>\n",
       "      <td>NaN</td>\n",
       "      <td>NaN</td>\n",
       "      <td>0</td>\n",
       "      <td>1981</td>\n",
       "      <td>150</td>\n",
       "      <td>1</td>\n",
       "      <td>2.0</td>\n",
       "      <td>0</td>\n",
       "      <td>0</td>\n",
       "      <td>0</td>\n",
       "      <td>0</td>\n",
       "      <td>N</td>\n",
       "      <td>N</td>\n",
       "      <td>14-Sep-92</td>\n",
       "      <td>0.0</td>\n",
       "      <td>0.0</td>\n",
       "      <td>NaN</td>\n",
       "      <td>568.0</td>\n",
       "      <td>10000.0</td>\n",
       "      <td>10000.0</td>\n",
       "      <td>0</td>\n",
       "      <td>0</td>\n",
       "      <td>0</td>\n",
       "      <td>0</td>\n",
       "      <td>0</td>\n",
       "      <td>30</td>\n",
       "      <td>10</td>\n",
       "      <td>1980</td>\n",
       "      <td>3</td>\n",
       "      <td>4</td>\n",
       "    </tr>\n",
       "    <tr>\n",
       "      <th>13507</th>\n",
       "      <td>1096603000</td>\n",
       "      <td>TINY TREASURES % TOLENO</td>\n",
       "      <td>LONG VALLEY</td>\n",
       "      <td>NJ</td>\n",
       "      <td>7853</td>\n",
       "      <td>NaN</td>\n",
       "      <td>NaN</td>\n",
       "      <td>0</td>\n",
       "      <td>1981</td>\n",
       "      <td>144</td>\n",
       "      <td>1</td>\n",
       "      <td>1.0</td>\n",
       "      <td>0</td>\n",
       "      <td>0</td>\n",
       "      <td>0</td>\n",
       "      <td>0</td>\n",
       "      <td>N</td>\n",
       "      <td>N</td>\n",
       "      <td>20-Nov-91</td>\n",
       "      <td>0.0</td>\n",
       "      <td>0.0</td>\n",
       "      <td>NaN</td>\n",
       "      <td>7380.0</td>\n",
       "      <td>16000.0</td>\n",
       "      <td>16000.0</td>\n",
       "      <td>0</td>\n",
       "      <td>0</td>\n",
       "      <td>0</td>\n",
       "      <td>0</td>\n",
       "      <td>0</td>\n",
       "      <td>10</td>\n",
       "      <td>11</td>\n",
       "      <td>1980</td>\n",
       "      <td>0</td>\n",
       "      <td>4</td>\n",
       "    </tr>\n",
       "    <tr>\n",
       "      <th>15254</th>\n",
       "      <td>1110613000</td>\n",
       "      <td>SATELLITE HAIR CENTER</td>\n",
       "      <td>HOUSTON</td>\n",
       "      <td>TX</td>\n",
       "      <td>77018</td>\n",
       "      <td>NaN</td>\n",
       "      <td>NaN</td>\n",
       "      <td>0</td>\n",
       "      <td>1981</td>\n",
       "      <td>84</td>\n",
       "      <td>4</td>\n",
       "      <td>1.0</td>\n",
       "      <td>0</td>\n",
       "      <td>0</td>\n",
       "      <td>0</td>\n",
       "      <td>0</td>\n",
       "      <td>N</td>\n",
       "      <td>N</td>\n",
       "      <td>11-Apr-91</td>\n",
       "      <td>0.0</td>\n",
       "      <td>0.0</td>\n",
       "      <td>NaN</td>\n",
       "      <td>7722.0</td>\n",
       "      <td>20000.0</td>\n",
       "      <td>20000.0</td>\n",
       "      <td>0</td>\n",
       "      <td>0</td>\n",
       "      <td>0</td>\n",
       "      <td>0</td>\n",
       "      <td>0</td>\n",
       "      <td>1</td>\n",
       "      <td>12</td>\n",
       "      <td>1980</td>\n",
       "      <td>0</td>\n",
       "      <td>4</td>\n",
       "    </tr>\n",
       "  </tbody>\n",
       "</table>\n",
       "</div>"
      ],
      "text/plain": [
       "       LoanNr_ChkDgt                         Name            City State  \\\n",
       "407       1003113008     MOUNTVILLE WALL PAPER CO      MOUNTVILLE    PA   \n",
       "611       1004503009         SMITHFIELD GLASS INC       DANIELSON    CT   \n",
       "680       1004933009      TAYLOR BROTHERS COMPANY       CLEVELAND    OH   \n",
       "740       1005273003  GENERAL SOLAR COMPANY, INC.      SIOUX CITY    IA   \n",
       "6569      1044653002            SON'S PARTY STORE        KENTWOOD    MI   \n",
       "9602      1066623005            ENERGY WORKS, LTD       ENGLEWOOD    CO   \n",
       "10412     1073273005      CUT N STYLE BY MARIETTA       IMPERIAL,    NE   \n",
       "11824     1084503008                 WANDA BREWER  JEFFERSONVILLE    IN   \n",
       "13507     1096603000      TINY TREASURES % TOLENO     LONG VALLEY    NJ   \n",
       "15254     1110613000        SATELLITE HAIR CENTER         HOUSTON    TX   \n",
       "\n",
       "         Zip Bank BankState  NAICS ApprovalFY  Term  NoEmp  NewExist  \\\n",
       "407    17554  NaN       NaN      0       1980   120     57       2.0   \n",
       "611     6239  NaN       NaN      0       1980   180     30       2.0   \n",
       "680    44114  NaN       NaN      0       1980   120     18       2.0   \n",
       "740    51111  NaN       NaN      0       1980   120      3       1.0   \n",
       "6569   49508  NaN       NaN      0       1980   180      1       2.0   \n",
       "9602   80110  NaN       NaN      0       1981   120      5       1.0   \n",
       "10412  69033  NaN       NaN      0       1981   120      3       2.0   \n",
       "11824  47130  NaN       NaN      0       1981   150      1       2.0   \n",
       "13507   7853  NaN       NaN      0       1981   144      1       1.0   \n",
       "15254  77018  NaN       NaN      0       1981    84      4       1.0   \n",
       "\n",
       "       CreateJob  RetainedJob  FranchiseCode  UrbanRural RevLineCr LowDoc  \\\n",
       "407            0            0              0           0         N      N   \n",
       "611            0            0              0           0         N      N   \n",
       "680            0            0              0           0         N      N   \n",
       "740            0            0              0           0         N      N   \n",
       "6569           0            0              0           0         N      N   \n",
       "9602           0            0              0           0         N      N   \n",
       "10412          0            0              0           0         N      N   \n",
       "11824          0            0              0           0         N      N   \n",
       "13507          0            0              0           0         N      N   \n",
       "15254          0            0              0           0         N      N   \n",
       "\n",
       "      ChgOffDate  DisbursementGross  BalanceGross MIS_Status  ChgOffPrinGr  \\\n",
       "407     4-Jun-90           600000.0           0.0     CHGOFF      320976.0   \n",
       "611    22-May-90                0.0           0.0        NaN      144461.0   \n",
       "680     8-Feb-89           275000.0           0.0     CHGOFF      181916.0   \n",
       "740     8-Feb-90                0.0           0.0        NaN      142666.0   \n",
       "6569   27-Oct-93                0.0           0.0        NaN       18775.0   \n",
       "9602    1-May-89                0.0           0.0        NaN      133365.0   \n",
       "10412   1-Feb-89                0.0           0.0        NaN        6642.0   \n",
       "11824  14-Sep-92                0.0           0.0        NaN         568.0   \n",
       "13507  20-Nov-91                0.0           0.0        NaN        7380.0   \n",
       "15254  11-Apr-91                0.0           0.0        NaN        7722.0   \n",
       "\n",
       "         GrAppv  SBA_Appv  DisbursementDate_day  DisbursementDate_month  \\\n",
       "407    600000.0  499998.0                    25                       7   \n",
       "611    300000.0  300000.0                     0                       0   \n",
       "680    275000.0  247500.0                    21                       8   \n",
       "740    350000.0  350000.0                     0                       0   \n",
       "6569    20000.0   20000.0                     0                       0   \n",
       "9602   150000.0  150000.0                     0                       0   \n",
       "10412   10800.0   10800.0                     0                       0   \n",
       "11824   10000.0   10000.0                     0                       0   \n",
       "13507   16000.0   16000.0                     0                       0   \n",
       "15254   20000.0   20000.0                     0                       0   \n",
       "\n",
       "       DisbursementDate_year  DisbursementDate_weekday  \\\n",
       "407                     1980                         4   \n",
       "611                        0                         0   \n",
       "680                     1980                         3   \n",
       "740                        0                         0   \n",
       "6569                       0                         0   \n",
       "9602                       0                         0   \n",
       "10412                      0                         0   \n",
       "11824                      0                         0   \n",
       "13507                      0                         0   \n",
       "15254                      0                         0   \n",
       "\n",
       "       DisbursementDate_quarter  ApprovalDate_day  ApprovalDate_month  \\\n",
       "407                           3                27                   6   \n",
       "611                           0                 7                   7   \n",
       "680                           3                 8                   7   \n",
       "740                           0                 3                   7   \n",
       "6569                          0                11                   9   \n",
       "9602                          0                 8                  10   \n",
       "10412                         0                10                  10   \n",
       "11824                         0                30                  10   \n",
       "13507                         0                10                  11   \n",
       "15254                         0                 1                  12   \n",
       "\n",
       "       ApprovalDate_year  ApprovalDate_weekday  ApprovalDate_quarter  \n",
       "407                 1980                     4                     2  \n",
       "611                 1980                     0                     3  \n",
       "680                 1980                     1                     3  \n",
       "740                 1980                     3                     3  \n",
       "6569                1980                     3                     3  \n",
       "9602                1980                     2                     4  \n",
       "10412               1980                     4                     4  \n",
       "11824               1980                     3                     4  \n",
       "13507               1980                     0                     4  \n",
       "15254               1980                     0                     4  "
      ]
     },
     "execution_count": 10,
     "metadata": {},
     "output_type": "execute_result"
    }
   ],
   "source": [
    "df[df['BankState'].isnull()].head(10)\n"
   ]
  },
  {
   "cell_type": "code",
   "execution_count": 14,
   "id": "cb6cc41a",
   "metadata": {},
   "outputs": [],
   "source": [
    "\n",
    "\n",
    "def encode_categorical_columns(df):\n",
    "    \"\"\"\n",
    "    Label encoding para columnas no numéricas o mixtas.\n",
    "    Reemplaza nulos por \"0\" antes del encoding y elimina las columnas originales.\n",
    "    \"\"\"\n",
    "    df_encoded = df.copy()\n",
    "    categorical_cols = df.select_dtypes(exclude=['int64', 'float64']).columns\n",
    "\n",
    "    for col in categorical_cols:\n",
    "        le = LabelEncoder()\n",
    "        # Reemplazamos nulos por \"0\" y convertimos todo a string\n",
    "        df_encoded[col + '_token'] = le.fit_transform(\n",
    "            df_encoded[col].fillna('0').astype(str)\n",
    "        )\n",
    "    \n",
    "    # Eliminamos las columnas originales\n",
    "    df_encoded = df_encoded.drop(columns=categorical_cols)\n",
    "\n",
    "    return df_encoded\n"
   ]
  },
  {
   "cell_type": "code",
   "execution_count": 15,
   "id": "973a7770",
   "metadata": {},
   "outputs": [],
   "source": [
    "df_tokenized = encode_categorical_columns(df)\n"
   ]
  },
  {
   "cell_type": "code",
   "execution_count": 16,
   "id": "9667e14f",
   "metadata": {},
   "outputs": [
    {
     "data": {
      "text/html": [
       "<div>\n",
       "<style scoped>\n",
       "    .dataframe tbody tr th:only-of-type {\n",
       "        vertical-align: middle;\n",
       "    }\n",
       "\n",
       "    .dataframe tbody tr th {\n",
       "        vertical-align: top;\n",
       "    }\n",
       "\n",
       "    .dataframe thead th {\n",
       "        text-align: right;\n",
       "    }\n",
       "</style>\n",
       "<table border=\"1\" class=\"dataframe\">\n",
       "  <thead>\n",
       "    <tr style=\"text-align: right;\">\n",
       "      <th></th>\n",
       "      <th>LoanNr_ChkDgt</th>\n",
       "      <th>Zip</th>\n",
       "      <th>NAICS</th>\n",
       "      <th>Term</th>\n",
       "      <th>NoEmp</th>\n",
       "      <th>NewExist</th>\n",
       "      <th>CreateJob</th>\n",
       "      <th>RetainedJob</th>\n",
       "      <th>FranchiseCode</th>\n",
       "      <th>UrbanRural</th>\n",
       "      <th>DisbursementGross</th>\n",
       "      <th>BalanceGross</th>\n",
       "      <th>ChgOffPrinGr</th>\n",
       "      <th>GrAppv</th>\n",
       "      <th>SBA_Appv</th>\n",
       "      <th>Name_token</th>\n",
       "      <th>City_token</th>\n",
       "      <th>State_token</th>\n",
       "      <th>Bank_token</th>\n",
       "      <th>BankState_token</th>\n",
       "      <th>ApprovalFY_token</th>\n",
       "      <th>RevLineCr_token</th>\n",
       "      <th>LowDoc_token</th>\n",
       "      <th>ChgOffDate_token</th>\n",
       "      <th>MIS_Status_token</th>\n",
       "      <th>DisbursementDate_day_token</th>\n",
       "      <th>DisbursementDate_month_token</th>\n",
       "      <th>DisbursementDate_year_token</th>\n",
       "      <th>DisbursementDate_weekday_token</th>\n",
       "      <th>DisbursementDate_quarter_token</th>\n",
       "      <th>ApprovalDate_day_token</th>\n",
       "      <th>ApprovalDate_month_token</th>\n",
       "      <th>ApprovalDate_year_token</th>\n",
       "      <th>ApprovalDate_weekday_token</th>\n",
       "      <th>ApprovalDate_quarter_token</th>\n",
       "    </tr>\n",
       "  </thead>\n",
       "  <tbody>\n",
       "    <tr>\n",
       "      <th>0</th>\n",
       "      <td>1000014003</td>\n",
       "      <td>47711</td>\n",
       "      <td>451120</td>\n",
       "      <td>84</td>\n",
       "      <td>4</td>\n",
       "      <td>2.0</td>\n",
       "      <td>0</td>\n",
       "      <td>0</td>\n",
       "      <td>1</td>\n",
       "      <td>0</td>\n",
       "      <td>60000.0</td>\n",
       "      <td>0.0</td>\n",
       "      <td>0.0</td>\n",
       "      <td>60000.0</td>\n",
       "      <td>48000.0</td>\n",
       "      <td>12792</td>\n",
       "      <td>8559</td>\n",
       "      <td>16</td>\n",
       "      <td>2144</td>\n",
       "      <td>39</td>\n",
       "      <td>34</td>\n",
       "      <td>12</td>\n",
       "      <td>7</td>\n",
       "      <td>0</td>\n",
       "      <td>2</td>\n",
       "      <td>21</td>\n",
       "      <td>5</td>\n",
       "      <td>31</td>\n",
       "      <td>6</td>\n",
       "      <td>1</td>\n",
       "      <td>20</td>\n",
       "      <td>4</td>\n",
       "      <td>28</td>\n",
       "      <td>4</td>\n",
       "      <td>0</td>\n",
       "    </tr>\n",
       "    <tr>\n",
       "      <th>1</th>\n",
       "      <td>1000024006</td>\n",
       "      <td>46526</td>\n",
       "      <td>722410</td>\n",
       "      <td>60</td>\n",
       "      <td>2</td>\n",
       "      <td>2.0</td>\n",
       "      <td>0</td>\n",
       "      <td>0</td>\n",
       "      <td>1</td>\n",
       "      <td>0</td>\n",
       "      <td>40000.0</td>\n",
       "      <td>0.0</td>\n",
       "      <td>0.0</td>\n",
       "      <td>40000.0</td>\n",
       "      <td>32000.0</td>\n",
       "      <td>405594</td>\n",
       "      <td>19589</td>\n",
       "      <td>16</td>\n",
       "      <td>133</td>\n",
       "      <td>19</td>\n",
       "      <td>34</td>\n",
       "      <td>12</td>\n",
       "      <td>7</td>\n",
       "      <td>0</td>\n",
       "      <td>2</td>\n",
       "      <td>25</td>\n",
       "      <td>8</td>\n",
       "      <td>29</td>\n",
       "      <td>5</td>\n",
       "      <td>2</td>\n",
       "      <td>20</td>\n",
       "      <td>4</td>\n",
       "      <td>28</td>\n",
       "      <td>4</td>\n",
       "      <td>0</td>\n",
       "    </tr>\n",
       "    <tr>\n",
       "      <th>2</th>\n",
       "      <td>1000034009</td>\n",
       "      <td>47401</td>\n",
       "      <td>621210</td>\n",
       "      <td>180</td>\n",
       "      <td>7</td>\n",
       "      <td>1.0</td>\n",
       "      <td>0</td>\n",
       "      <td>0</td>\n",
       "      <td>1</td>\n",
       "      <td>0</td>\n",
       "      <td>287000.0</td>\n",
       "      <td>0.0</td>\n",
       "      <td>0.0</td>\n",
       "      <td>287000.0</td>\n",
       "      <td>215250.0</td>\n",
       "      <td>759977</td>\n",
       "      <td>2207</td>\n",
       "      <td>16</td>\n",
       "      <td>2860</td>\n",
       "      <td>19</td>\n",
       "      <td>34</td>\n",
       "      <td>12</td>\n",
       "      <td>4</td>\n",
       "      <td>0</td>\n",
       "      <td>2</td>\n",
       "      <td>25</td>\n",
       "      <td>4</td>\n",
       "      <td>29</td>\n",
       "      <td>2</td>\n",
       "      <td>4</td>\n",
       "      <td>20</td>\n",
       "      <td>4</td>\n",
       "      <td>28</td>\n",
       "      <td>4</td>\n",
       "      <td>0</td>\n",
       "    </tr>\n",
       "    <tr>\n",
       "      <th>3</th>\n",
       "      <td>1000044001</td>\n",
       "      <td>74012</td>\n",
       "      <td>0</td>\n",
       "      <td>60</td>\n",
       "      <td>2</td>\n",
       "      <td>1.0</td>\n",
       "      <td>0</td>\n",
       "      <td>0</td>\n",
       "      <td>1</td>\n",
       "      <td>0</td>\n",
       "      <td>35000.0</td>\n",
       "      <td>0.0</td>\n",
       "      <td>0.0</td>\n",
       "      <td>35000.0</td>\n",
       "      <td>28000.0</td>\n",
       "      <td>83889</td>\n",
       "      <td>2721</td>\n",
       "      <td>37</td>\n",
       "      <td>26</td>\n",
       "      <td>40</td>\n",
       "      <td>34</td>\n",
       "      <td>12</td>\n",
       "      <td>7</td>\n",
       "      <td>0</td>\n",
       "      <td>2</td>\n",
       "      <td>24</td>\n",
       "      <td>9</td>\n",
       "      <td>29</td>\n",
       "      <td>0</td>\n",
       "      <td>2</td>\n",
       "      <td>20</td>\n",
       "      <td>4</td>\n",
       "      <td>28</td>\n",
       "      <td>4</td>\n",
       "      <td>0</td>\n",
       "    </tr>\n",
       "    <tr>\n",
       "      <th>4</th>\n",
       "      <td>1000054004</td>\n",
       "      <td>32801</td>\n",
       "      <td>0</td>\n",
       "      <td>240</td>\n",
       "      <td>14</td>\n",
       "      <td>1.0</td>\n",
       "      <td>7</td>\n",
       "      <td>7</td>\n",
       "      <td>1</td>\n",
       "      <td>0</td>\n",
       "      <td>229000.0</td>\n",
       "      <td>0.0</td>\n",
       "      <td>0.0</td>\n",
       "      <td>229000.0</td>\n",
       "      <td>229000.0</td>\n",
       "      <td>38544</td>\n",
       "      <td>21135</td>\n",
       "      <td>10</td>\n",
       "      <td>2684</td>\n",
       "      <td>12</td>\n",
       "      <td>34</td>\n",
       "      <td>12</td>\n",
       "      <td>4</td>\n",
       "      <td>0</td>\n",
       "      <td>2</td>\n",
       "      <td>6</td>\n",
       "      <td>8</td>\n",
       "      <td>29</td>\n",
       "      <td>2</td>\n",
       "      <td>2</td>\n",
       "      <td>20</td>\n",
       "      <td>4</td>\n",
       "      <td>28</td>\n",
       "      <td>4</td>\n",
       "      <td>0</td>\n",
       "    </tr>\n",
       "  </tbody>\n",
       "</table>\n",
       "</div>"
      ],
      "text/plain": [
       "   LoanNr_ChkDgt    Zip   NAICS  Term  NoEmp  NewExist  CreateJob  \\\n",
       "0     1000014003  47711  451120    84      4       2.0          0   \n",
       "1     1000024006  46526  722410    60      2       2.0          0   \n",
       "2     1000034009  47401  621210   180      7       1.0          0   \n",
       "3     1000044001  74012       0    60      2       1.0          0   \n",
       "4     1000054004  32801       0   240     14       1.0          7   \n",
       "\n",
       "   RetainedJob  FranchiseCode  UrbanRural  DisbursementGross  BalanceGross  \\\n",
       "0            0              1           0            60000.0           0.0   \n",
       "1            0              1           0            40000.0           0.0   \n",
       "2            0              1           0           287000.0           0.0   \n",
       "3            0              1           0            35000.0           0.0   \n",
       "4            7              1           0           229000.0           0.0   \n",
       "\n",
       "   ChgOffPrinGr    GrAppv  SBA_Appv  Name_token  City_token  State_token  \\\n",
       "0           0.0   60000.0   48000.0       12792        8559           16   \n",
       "1           0.0   40000.0   32000.0      405594       19589           16   \n",
       "2           0.0  287000.0  215250.0      759977        2207           16   \n",
       "3           0.0   35000.0   28000.0       83889        2721           37   \n",
       "4           0.0  229000.0  229000.0       38544       21135           10   \n",
       "\n",
       "   Bank_token  BankState_token  ApprovalFY_token  RevLineCr_token  \\\n",
       "0        2144               39                34               12   \n",
       "1         133               19                34               12   \n",
       "2        2860               19                34               12   \n",
       "3          26               40                34               12   \n",
       "4        2684               12                34               12   \n",
       "\n",
       "   LowDoc_token  ChgOffDate_token  MIS_Status_token  \\\n",
       "0             7                 0                 2   \n",
       "1             7                 0                 2   \n",
       "2             4                 0                 2   \n",
       "3             7                 0                 2   \n",
       "4             4                 0                 2   \n",
       "\n",
       "   DisbursementDate_day_token  DisbursementDate_month_token  \\\n",
       "0                          21                             5   \n",
       "1                          25                             8   \n",
       "2                          25                             4   \n",
       "3                          24                             9   \n",
       "4                           6                             8   \n",
       "\n",
       "   DisbursementDate_year_token  DisbursementDate_weekday_token  \\\n",
       "0                           31                               6   \n",
       "1                           29                               5   \n",
       "2                           29                               2   \n",
       "3                           29                               0   \n",
       "4                           29                               2   \n",
       "\n",
       "   DisbursementDate_quarter_token  ApprovalDate_day_token  \\\n",
       "0                               1                      20   \n",
       "1                               2                      20   \n",
       "2                               4                      20   \n",
       "3                               2                      20   \n",
       "4                               2                      20   \n",
       "\n",
       "   ApprovalDate_month_token  ApprovalDate_year_token  \\\n",
       "0                         4                       28   \n",
       "1                         4                       28   \n",
       "2                         4                       28   \n",
       "3                         4                       28   \n",
       "4                         4                       28   \n",
       "\n",
       "   ApprovalDate_weekday_token  ApprovalDate_quarter_token  \n",
       "0                           4                           0  \n",
       "1                           4                           0  \n",
       "2                           4                           0  \n",
       "3                           4                           0  \n",
       "4                           4                           0  "
      ]
     },
     "execution_count": 16,
     "metadata": {},
     "output_type": "execute_result"
    }
   ],
   "source": [
    "df_tokenized.head(5)"
   ]
  },
  {
   "cell_type": "code",
   "execution_count": 18,
   "id": "883fd59c",
   "metadata": {},
   "outputs": [
    {
     "data": {
      "text/plain": [
       "LoanNr_ChkDgt                       0\n",
       "Zip                                 0\n",
       "NAICS                               0\n",
       "Term                                0\n",
       "NoEmp                               0\n",
       "NewExist                          136\n",
       "CreateJob                           0\n",
       "RetainedJob                         0\n",
       "FranchiseCode                       0\n",
       "UrbanRural                          0\n",
       "DisbursementGross                   0\n",
       "BalanceGross                        0\n",
       "ChgOffPrinGr                        0\n",
       "GrAppv                              0\n",
       "SBA_Appv                            0\n",
       "Name_token                          0\n",
       "City_token                          0\n",
       "State_token                         0\n",
       "Bank_token                          0\n",
       "BankState_token                     0\n",
       "ApprovalFY_token                    0\n",
       "RevLineCr_token                     0\n",
       "LowDoc_token                        0\n",
       "ChgOffDate_token                    0\n",
       "MIS_Status_token                    0\n",
       "DisbursementDate_day_token          0\n",
       "DisbursementDate_month_token        0\n",
       "DisbursementDate_year_token         0\n",
       "DisbursementDate_weekday_token      0\n",
       "DisbursementDate_quarter_token      0\n",
       "ApprovalDate_day_token              0\n",
       "ApprovalDate_month_token            0\n",
       "ApprovalDate_year_token             0\n",
       "ApprovalDate_weekday_token          0\n",
       "ApprovalDate_quarter_token          0\n",
       "dtype: int64"
      ]
     },
     "execution_count": 18,
     "metadata": {},
     "output_type": "execute_result"
    }
   ],
   "source": [
    "df_tokenized.isnull().sum()\n"
   ]
  },
  {
   "cell_type": "code",
   "execution_count": null,
   "id": "116c6131",
   "metadata": {},
   "outputs": [],
   "source": [
    "df_tokenized['NewExist'].isnull()"
   ]
  },
  {
   "cell_type": "code",
   "execution_count": null,
   "id": "6702a2fd",
   "metadata": {},
   "outputs": [],
   "source": []
  },
  {
   "cell_type": "code",
   "execution_count": 26,
   "id": "685d5401",
   "metadata": {},
   "outputs": [],
   "source": [
    "correlation_matrix = df.corr(numeric_only=True)"
   ]
  },
  {
   "cell_type": "code",
   "execution_count": 27,
   "id": "7f4c1726",
   "metadata": {},
   "outputs": [
    {
     "data": {
      "image/png": "[encoded data removed]",
      "text/plain": [
       "<Figure size 800x600 with 2 Axes>"
      ]
     },
     "metadata": {},
     "output_type": "display_data"
    }
   ],
   "source": [
    "plt.figure(figsize=(8, 6)) # Adjust figure size as needed\n",
    "sns.heatmap(correlation_matrix, annot=True, cmap='coolwarm', fmt=\".2f\", linewidths=.5)\n",
    "plt.title('Correlation Matrix of Iris Dataset')\n",
    "plt.show()"
   ]
  }
 ],
 "metadata": {
  "kernelspec": {
   "display_name": "Python 3",
   "language": "python",
   "name": "python3"
  },
  "language_info": {
   "codemirror_mode": {
    "name": "ipython",
    "version": 3
   },
   "file_extension": ".py",
   "mimetype": "text/x-python",
   "name": "python",
   "nbconvert_exporter": "python",
   "pygments_lexer": "ipython3",
   "version": "3.11.9"
  }
 },
 "nbformat": 4,
 "nbformat_minor": 5
}
