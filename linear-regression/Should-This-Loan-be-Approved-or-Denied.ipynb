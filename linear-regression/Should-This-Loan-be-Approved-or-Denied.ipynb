{
 "cells": [
  {
   "cell_type": "code",
   "execution_count": null,
   "id": "1ed675c4",
   "metadata": {},
   "outputs": [],
   "source": [
    "# # Data Dictionary\n",
    "# # Variable Name\tDescription\n",
    "# # LoanNr_ChkDgt\tIdentifier Primary key\n",
    "# # Name\tBorrower name\n",
    "# # City\tBorrower city\n",
    "# # State\tBorrower state\n",
    "# # Zip\tBorrower zip code\n",
    "# # Bank\tBank name\n",
    "# # BankState\tBank state\n",
    "# # NAICS\tNorth American industry classification system code\n",
    "# # ApprovalDate\tDate SBA commitment issued\n",
    "# # ApprovalFY\tFiscal year of commitment\n",
    "# # Term\tLoan term in months\n",
    "# # NoEmp\tNumber of business employees\n",
    "# # NewExist\t1 = Existing business, 2 = New business\n",
    "# # CreateJob\tNumber of jobs created\n",
    "# # RetainedJob\tNumber of jobs retained\n",
    "# # FranchiseCode\tFranchise code, (00000 or 00001) = No franchise\n",
    "# # UrbanRural\t1 = Urban, 2 = rural, 0 = undefined\n",
    "# # RevLineCr\tRevolving line of credit: Y = Yes, N = No\n",
    "# # LowDoc\tLowDoc Loan Program: Y = Yes, N = No\n",
    "# # ChgOffDate\tThe date when a loan is declared to be in default\n",
    "# # DisbursementDate\tDisbursement date\n",
    "# # DisbursementGross\tAmount disbursed\n",
    "# # BalanceGross\tGross amount outstanding\n",
    "# # MIS_Status\tLoan status charged off = CHGOFF, Paid in full =PIF\n",
    "# # ChgOffPrinGr\tCharged-off amount\n",
    "# # GrAppv\tGross amount of loan approved by bank\n",
    "# # SBA_Appv\tSBA’s guaranteed amount of approved loan\n",
    "\n",
    "\n",
    "# Description of the first two digits of NAICS.\n",
    "# Sector\tDescription\n",
    "# 11\tAgriculture, forestry, fishing and hunting\n",
    "# 21\tMining, quarrying, and oil and gas extraction\n",
    "# 22\tUtilities\n",
    "# 23\tConstruction\n",
    "# 31–33\tManufacturing\n",
    "# 42\tWholesale trade\n",
    "# 44–45\tRetail trade\n",
    "# 48–49\tTransportation and warehousing\n",
    "# 51\tInformation\n",
    "# 52\tFinance and insurance\n",
    "# 53\tReal estate and rental and leasing\n",
    "# 54\tProfessional, scientific, and technical services\n",
    "# 55\tManagement of companies and enterprises\n",
    "# 56\tAdministrative and support and waste management and remediation services\n",
    "# 61\tEducational services\n",
    "# 62\tHealth care and social assistance\n",
    "# 71\tArts, entertainment, and recreation\n",
    "# 72\tAccommodation and food services\n",
    "# 81\tOther services (except public administration) 92 Public administration"
   ]
  },
  {
   "cell_type": "code",
   "execution_count": 1,
   "id": "e42a726e",
   "metadata": {},
   "outputs": [
    {
     "name": "stdout",
     "output_type": "stream",
     "text": [
      "Descarga completada ✅\n",
      "Archivos en el zip: ['SBAnational.csv', 'Should This Loan be Approved or Denied A Large Dataset with Class Assignment Guidelines.pdf']\n"
     ]
    },
    {
     "name": "stderr",
     "output_type": "stream",
     "text": [
      "C:\\Users\\alejo\\AppData\\Local\\Temp\\ipykernel_25336\\1773626935.py:30: DtypeWarning: Columns (9) have mixed types. Specify dtype option on import or set low_memory=False.\n"
     ]
    }
   ],
   "source": [
    "import requests\n",
    "import zipfile\n",
    "import io\n",
    "import pandas as pd\n",
    "import seaborn as sns\n",
    "import matplotlib.pyplot as plt\n",
    "from plotnine import *\n",
    "from sklearn.preprocessing import LabelEncoder\n",
    "import plotly.express as px\n",
    "# URL del dataset en Kaggle\n",
    "url = \"https://www.kaggle.com/api/v1/datasets/download/mirbektoktogaraev/should-this-loan-be-approved-or-denied\"\n",
    "\n",
    "# Descargamos el contenido\n",
    "response = requests.get(url, allow_redirects=True)\n",
    "if response.status_code == 200:\n",
    "    print(\"Descarga completada ✅\")\n",
    "else:\n",
    "    print(\"Error en la descarga:\", response.status_code)\n",
    "\n",
    "# Guardamos el zip en memoria\n",
    "zip_file = zipfile.ZipFile(io.BytesIO(response.content))\n",
    "\n",
    "# Listamos los archivos dentro del zip\n",
    "print(\"Archivos en el zip:\", zip_file.namelist())\n",
    "\n",
    "# Elegimos el CSV (ajustá el nombre según corresponda)\n",
    "csv_filename = zip_file.namelist()[0]\n",
    "\n",
    "# Leemos el CSV directamente desde el zip\n",
    "df = pd.read_csv(zip_file.open(csv_filename))\n",
    "\n",
    "\n",
    "pd.set_option('display.max_rows', None)  # Muestra todas las filas\n",
    "pd.set_option('display.max_columns', None)  # Muestra todas las columnas\n",
    "\n",
    "# age={'18-29':1,'30-44':2,'45-60':3,\n",
    "# '> 60':4,\n",
    "# 'Response':0,\n",
    "# np.nan:0}"
   ]
  },
  {
   "cell_type": "code",
   "execution_count": 2,
   "id": "8a819c71",
   "metadata": {},
   "outputs": [],
   "source": [
    "cash_econde=['GrAppv','SBA_Appv','ChgOffPrinGr','DisbursementGross','BalanceGross']\n",
    "\n",
    "for col in cash_econde:\n",
    "    df[col] = df[col].astype(str).str.replace(r'[\\$,]', '', regex=True).astype(float)\n",
    "\n"
   ]
  },
  {
   "cell_type": "code",
   "execution_count": 3,
   "id": "b9df98f2",
   "metadata": {},
   "outputs": [
    {
     "data": {
      "text/html": [
       "<div>\n",
       "<style scoped>\n",
       "    .dataframe tbody tr th:only-of-type {\n",
       "        vertical-align: middle;\n",
       "    }\n",
       "\n",
       "    .dataframe tbody tr th {\n",
       "        vertical-align: top;\n",
       "    }\n",
       "\n",
       "    .dataframe thead th {\n",
       "        text-align: right;\n",
       "    }\n",
       "</style>\n",
       "<table border=\"1\" class=\"dataframe\">\n",
       "  <thead>\n",
       "    <tr style=\"text-align: right;\">\n",
       "      <th></th>\n",
       "      <th>NAICS</th>\n",
       "      <th>Industry</th>\n",
       "    </tr>\n",
       "  </thead>\n",
       "  <tbody>\n",
       "    <tr>\n",
       "      <th>0</th>\n",
       "      <td>45</td>\n",
       "      <td>Retail trade</td>\n",
       "    </tr>\n",
       "    <tr>\n",
       "      <th>1</th>\n",
       "      <td>72</td>\n",
       "      <td>Accommodation and food services</td>\n",
       "    </tr>\n",
       "    <tr>\n",
       "      <th>2</th>\n",
       "      <td>62</td>\n",
       "      <td>Health care and social assistance</td>\n",
       "    </tr>\n",
       "    <tr>\n",
       "      <th>3</th>\n",
       "      <td>0</td>\n",
       "      <td>NaN</td>\n",
       "    </tr>\n",
       "    <tr>\n",
       "      <th>4</th>\n",
       "      <td>0</td>\n",
       "      <td>NaN</td>\n",
       "    </tr>\n",
       "  </tbody>\n",
       "</table>\n",
       "</div>"
      ],
      "text/plain": [
       "  NAICS                           Industry\n",
       "0    45                       Retail trade\n",
       "1    72    Accommodation and food services\n",
       "2    62  Health care and social assistance\n",
       "3     0                                NaN\n",
       "4     0                                NaN"
      ]
     },
     "execution_count": 3,
     "metadata": {},
     "output_type": "execute_result"
    }
   ],
   "source": [
    "df['NAICS'] = df['NAICS'].astype(str).apply(lambda x: x[:2])\n",
    "\n",
    "naics_dict = {\n",
    "    '11': 'Agriculture, forestry, fishing and hunting',\n",
    "    '21': 'Mining, quarrying, and oil and gas extraction',\n",
    "    '22': 'Utilities',\n",
    "    '23': 'Construction',\n",
    "    '31': 'Manufacturing',\n",
    "    '32': 'Manufacturing',\n",
    "    '33': 'Manufacturing',\n",
    "    '42': 'Wholesale trade',\n",
    "    '44': 'Retail trade',\n",
    "    '45': 'Retail trade',\n",
    "    '48': 'Transportation and warehousing',\n",
    "    '49': 'Transportation and warehousing',\n",
    "    '51': 'Information',\n",
    "    '52': 'Finance and insurance',\n",
    "    '53': 'Real estate and rental and leasing',\n",
    "    '54': 'Professional, scientific, and technical services',\n",
    "    '55': 'Management of companies and enterprises',\n",
    "    '56': 'Administrative and support and waste management and remediation services',\n",
    "    '61': 'Educational services',\n",
    "    '62': 'Health care and social assistance',\n",
    "    '71': 'Arts, entertainment, and recreation',\n",
    "    '72': 'Accommodation and food services',\n",
    "    '81': 'Other services (except public administration)',\n",
    "    '92': 'Public administration'\n",
    "}\n",
    "df['Industry'] = df['NAICS'].map(naics_dict)\n",
    "df[['NAICS','Industry']].head()\n",
    "\n"
   ]
  },
  {
   "cell_type": "code",
   "execution_count": 4,
   "id": "cbc54eaa",
   "metadata": {},
   "outputs": [],
   "source": [
    "# columnas de fechas a transformar\n",
    "dates_encode = ['DisbursementDate', 'ApprovalDate']\n",
    "\n",
    "# convertir a datetime\n",
    "for col in dates_encode:\n",
    "    df[col] = pd.to_datetime(df[col], format='%d-%b-%y', errors='coerce')\n",
    "    \n",
    "    df[col + '_day'] = df[col].dt.day.fillna(0).astype('int32')\n",
    "    df[col + '_month'] = df[col].dt.month.fillna(0).astype('int32')\n",
    "    df[col + '_year'] = df[col].dt.year.fillna(0).astype('int32')\n",
    "    df[col + '_weekday'] = df[col].dt.weekday.fillna(0).astype('int32')\n",
    "    df[col + '_quarter'] = df[col].dt.quarter.fillna(0).astype('int32')\n",
    "\n"
   ]
  },
  {
   "cell_type": "markdown",
   "id": "7b6d300c",
   "metadata": {},
   "source": [
    "Data Analysis"
   ]
  },
  {
   "cell_type": "markdown",
   "id": "0cf965ac",
   "metadata": {},
   "source": [
    "Basic exploration data\n"
   ]
  },
  {
   "cell_type": "code",
   "execution_count": 3,
   "id": "46cb6e1b",
   "metadata": {},
   "outputs": [
    {
     "data": {
      "text/plain": [
       "(899164, 27)"
      ]
     },
     "execution_count": 3,
     "metadata": {},
     "output_type": "execute_result"
    }
   ],
   "source": [
    "df.shape"
   ]
  },
  {
   "cell_type": "code",
   "execution_count": 4,
   "id": "c30aa675",
   "metadata": {},
   "outputs": [],
   "source": [
    "dfnull = df.isnull().sum().reset_index()\n",
    "dfnull.columns = ['column', 'nulls']\n",
    "dfnull=dfnull.query(\" nulls > 0\")\n",
    "dfnull['mean']=dfnull['nulls'].mean()\n",
    "\n"
   ]
  },
  {
   "cell_type": "code",
   "execution_count": null,
   "id": "6bdb1c54",
   "metadata": {},
   "outputs": [],
   "source": []
  },
  {
   "cell_type": "code",
   "execution_count": 5,
   "id": "7425e41f",
   "metadata": {},
   "outputs": [
    {
     "data": {
      "image/png": "[encoded data removed]",
      "text/plain": [
       "<Figure size 1200x600 with 2 Axes>"
      ]
     },
     "metadata": {},
     "output_type": "display_data"
    }
   ],
   "source": [
    "plt.figure(figsize=(12, 6))\n",
    "sns.heatmap(dfnull[['nulls']].set_index(dfnull['column']), annot=True, cmap=\"Reds\",fmt=\"d\")\n",
    "plt.show()\n"
   ]
  },
  {
   "cell_type": "code",
   "execution_count": 10,
   "id": "ba806f3b",
   "metadata": {},
   "outputs": [
    {
     "data": {
      "text/html": [
       "<div>\n",
       "<style scoped>\n",
       "    .dataframe tbody tr th:only-of-type {\n",
       "        vertical-align: middle;\n",
       "    }\n",
       "\n",
       "    .dataframe tbody tr th {\n",
       "        vertical-align: top;\n",
       "    }\n",
       "\n",
       "    .dataframe thead th {\n",
       "        text-align: right;\n",
       "    }\n",
       "</style>\n",
       "<table border=\"1\" class=\"dataframe\">\n",
       "  <thead>\n",
       "    <tr style=\"text-align: right;\">\n",
       "      <th></th>\n",
       "      <th>LoanNr_ChkDgt</th>\n",
       "      <th>Zip</th>\n",
       "      <th>NAICS</th>\n",
       "      <th>Term</th>\n",
       "      <th>NoEmp</th>\n",
       "      <th>NewExist</th>\n",
       "      <th>CreateJob</th>\n",
       "      <th>RetainedJob</th>\n",
       "      <th>FranchiseCode</th>\n",
       "      <th>UrbanRural</th>\n",
       "      <th>DisbursementGross</th>\n",
       "      <th>BalanceGross</th>\n",
       "      <th>ChgOffPrinGr</th>\n",
       "      <th>GrAppv</th>\n",
       "      <th>SBA_Appv</th>\n",
       "    </tr>\n",
       "  </thead>\n",
       "  <tbody>\n",
       "    <tr>\n",
       "      <th>count</th>\n",
       "      <td>8.991640e+05</td>\n",
       "      <td>899164.00</td>\n",
       "      <td>899164.00</td>\n",
       "      <td>899164.00</td>\n",
       "      <td>899164.00</td>\n",
       "      <td>899028.00</td>\n",
       "      <td>899164.00</td>\n",
       "      <td>899164.00</td>\n",
       "      <td>899164.00</td>\n",
       "      <td>899164.00</td>\n",
       "      <td>899164.00</td>\n",
       "      <td>899164.00</td>\n",
       "      <td>899164.00</td>\n",
       "      <td>899164.00</td>\n",
       "      <td>899164.00</td>\n",
       "    </tr>\n",
       "    <tr>\n",
       "      <th>mean</th>\n",
       "      <td>4.772612e+09</td>\n",
       "      <td>53804.39</td>\n",
       "      <td>398660.95</td>\n",
       "      <td>110.77</td>\n",
       "      <td>11.41</td>\n",
       "      <td>1.28</td>\n",
       "      <td>8.43</td>\n",
       "      <td>10.80</td>\n",
       "      <td>2753.73</td>\n",
       "      <td>0.76</td>\n",
       "      <td>201154.02</td>\n",
       "      <td>2.99</td>\n",
       "      <td>13503.30</td>\n",
       "      <td>192686.98</td>\n",
       "      <td>149488.79</td>\n",
       "    </tr>\n",
       "    <tr>\n",
       "      <th>std</th>\n",
       "      <td>2.538175e+09</td>\n",
       "      <td>31184.16</td>\n",
       "      <td>263318.31</td>\n",
       "      <td>78.86</td>\n",
       "      <td>74.11</td>\n",
       "      <td>0.45</td>\n",
       "      <td>236.69</td>\n",
       "      <td>237.12</td>\n",
       "      <td>12758.02</td>\n",
       "      <td>0.65</td>\n",
       "      <td>287640.85</td>\n",
       "      <td>1442.16</td>\n",
       "      <td>65152.29</td>\n",
       "      <td>283263.39</td>\n",
       "      <td>228414.56</td>\n",
       "    </tr>\n",
       "    <tr>\n",
       "      <th>min</th>\n",
       "      <td>1.000014e+09</td>\n",
       "      <td>0.00</td>\n",
       "      <td>0.00</td>\n",
       "      <td>0.00</td>\n",
       "      <td>0.00</td>\n",
       "      <td>0.00</td>\n",
       "      <td>0.00</td>\n",
       "      <td>0.00</td>\n",
       "      <td>0.00</td>\n",
       "      <td>0.00</td>\n",
       "      <td>0.00</td>\n",
       "      <td>0.00</td>\n",
       "      <td>0.00</td>\n",
       "      <td>200.00</td>\n",
       "      <td>100.00</td>\n",
       "    </tr>\n",
       "    <tr>\n",
       "      <th>25%</th>\n",
       "      <td>2.589758e+09</td>\n",
       "      <td>27587.00</td>\n",
       "      <td>235210.00</td>\n",
       "      <td>60.00</td>\n",
       "      <td>2.00</td>\n",
       "      <td>1.00</td>\n",
       "      <td>0.00</td>\n",
       "      <td>0.00</td>\n",
       "      <td>1.00</td>\n",
       "      <td>0.00</td>\n",
       "      <td>42000.00</td>\n",
       "      <td>0.00</td>\n",
       "      <td>0.00</td>\n",
       "      <td>35000.00</td>\n",
       "      <td>21250.00</td>\n",
       "    </tr>\n",
       "    <tr>\n",
       "      <th>50%</th>\n",
       "      <td>4.361439e+09</td>\n",
       "      <td>55410.00</td>\n",
       "      <td>445310.00</td>\n",
       "      <td>84.00</td>\n",
       "      <td>4.00</td>\n",
       "      <td>1.00</td>\n",
       "      <td>0.00</td>\n",
       "      <td>1.00</td>\n",
       "      <td>1.00</td>\n",
       "      <td>1.00</td>\n",
       "      <td>100000.00</td>\n",
       "      <td>0.00</td>\n",
       "      <td>0.00</td>\n",
       "      <td>90000.00</td>\n",
       "      <td>61250.00</td>\n",
       "    </tr>\n",
       "    <tr>\n",
       "      <th>75%</th>\n",
       "      <td>6.904627e+09</td>\n",
       "      <td>83704.00</td>\n",
       "      <td>561730.00</td>\n",
       "      <td>120.00</td>\n",
       "      <td>10.00</td>\n",
       "      <td>2.00</td>\n",
       "      <td>1.00</td>\n",
       "      <td>4.00</td>\n",
       "      <td>1.00</td>\n",
       "      <td>1.00</td>\n",
       "      <td>238000.00</td>\n",
       "      <td>0.00</td>\n",
       "      <td>0.00</td>\n",
       "      <td>225000.00</td>\n",
       "      <td>175000.00</td>\n",
       "    </tr>\n",
       "    <tr>\n",
       "      <th>max</th>\n",
       "      <td>9.996003e+09</td>\n",
       "      <td>99999.00</td>\n",
       "      <td>928120.00</td>\n",
       "      <td>569.00</td>\n",
       "      <td>9999.00</td>\n",
       "      <td>2.00</td>\n",
       "      <td>8800.00</td>\n",
       "      <td>9500.00</td>\n",
       "      <td>99999.00</td>\n",
       "      <td>2.00</td>\n",
       "      <td>11446325.00</td>\n",
       "      <td>996262.00</td>\n",
       "      <td>3512596.00</td>\n",
       "      <td>5472000.00</td>\n",
       "      <td>5472000.00</td>\n",
       "    </tr>\n",
       "  </tbody>\n",
       "</table>\n",
       "</div>"
      ],
      "text/plain": [
       "       LoanNr_ChkDgt        Zip      NAICS       Term      NoEmp   NewExist  \\\n",
       "count   8.991640e+05  899164.00  899164.00  899164.00  899164.00  899028.00   \n",
       "mean    4.772612e+09   53804.39  398660.95     110.77      11.41       1.28   \n",
       "std     2.538175e+09   31184.16  263318.31      78.86      74.11       0.45   \n",
       "min     1.000014e+09       0.00       0.00       0.00       0.00       0.00   \n",
       "25%     2.589758e+09   27587.00  235210.00      60.00       2.00       1.00   \n",
       "50%     4.361439e+09   55410.00  445310.00      84.00       4.00       1.00   \n",
       "75%     6.904627e+09   83704.00  561730.00     120.00      10.00       2.00   \n",
       "max     9.996003e+09   99999.00  928120.00     569.00    9999.00       2.00   \n",
       "\n",
       "       CreateJob  RetainedJob  FranchiseCode  UrbanRural  DisbursementGross  \\\n",
       "count  899164.00    899164.00      899164.00   899164.00          899164.00   \n",
       "mean        8.43        10.80        2753.73        0.76          201154.02   \n",
       "std       236.69       237.12       12758.02        0.65          287640.85   \n",
       "min         0.00         0.00           0.00        0.00               0.00   \n",
       "25%         0.00         0.00           1.00        0.00           42000.00   \n",
       "50%         0.00         1.00           1.00        1.00          100000.00   \n",
       "75%         1.00         4.00           1.00        1.00          238000.00   \n",
       "max      8800.00      9500.00       99999.00        2.00        11446325.00   \n",
       "\n",
       "       BalanceGross  ChgOffPrinGr      GrAppv    SBA_Appv  \n",
       "count     899164.00     899164.00   899164.00   899164.00  \n",
       "mean           2.99      13503.30   192686.98   149488.79  \n",
       "std         1442.16      65152.29   283263.39   228414.56  \n",
       "min            0.00          0.00      200.00      100.00  \n",
       "25%            0.00          0.00    35000.00    21250.00  \n",
       "50%            0.00          0.00    90000.00    61250.00  \n",
       "75%            0.00          0.00   225000.00   175000.00  \n",
       "max       996262.00    3512596.00  5472000.00  5472000.00  "
      ]
     },
     "execution_count": 10,
     "metadata": {},
     "output_type": "execute_result"
    }
   ],
   "source": [
    "round(df.describe(),2)"
   ]
  },
  {
   "cell_type": "code",
   "execution_count": 7,
   "id": "7769ece2",
   "metadata": {},
   "outputs": [
    {
     "data": {
      "text/plain": [
       "LoanNr_ChkDgt          int64\n",
       "Name                  object\n",
       "City                  object\n",
       "State                 object\n",
       "Zip                    int64\n",
       "Bank                  object\n",
       "BankState             object\n",
       "NAICS                  int64\n",
       "ApprovalDate          object\n",
       "ApprovalFY            object\n",
       "Term                   int64\n",
       "NoEmp                  int64\n",
       "NewExist             float64\n",
       "CreateJob              int64\n",
       "RetainedJob            int64\n",
       "FranchiseCode          int64\n",
       "UrbanRural             int64\n",
       "RevLineCr             object\n",
       "LowDoc                object\n",
       "ChgOffDate            object\n",
       "DisbursementDate      object\n",
       "DisbursementGross    float64\n",
       "BalanceGross         float64\n",
       "MIS_Status            object\n",
       "ChgOffPrinGr         float64\n",
       "GrAppv               float64\n",
       "SBA_Appv             float64\n",
       "dtype: object"
      ]
     },
     "execution_count": 7,
     "metadata": {},
     "output_type": "execute_result"
    }
   ],
   "source": [
    "df.dtypes"
   ]
  },
  {
   "cell_type": "code",
   "execution_count": 6,
   "id": "339d2738",
   "metadata": {},
   "outputs": [
    {
     "data": {
      "image/png": "[encoded data removed]",
      "text/plain": [
       "<Figure size 640x480 with 1 Axes>"
      ]
     },
     "metadata": {},
     "output_type": "display_data"
    }
   ],
   "source": [
    "\n",
    "sns.histplot(df['CreateJob'], kde=True)\n",
    "plt.show()\n"
   ]
  },
  {
   "cell_type": "markdown",
   "id": "aa9003d0",
   "metadata": {},
   "source": [
    "By States"
   ]
  },
  {
   "cell_type": "code",
   "execution_count": 21,
   "id": "e55b8a4a",
   "metadata": {},
   "outputs": [
    {
     "data": {
      "application/vnd.plotly.v1+json": {
       "config": {
        "plotlyServerURL": "https://plot.ly"
       },
       "data": [
        {
         "coloraxis": "coloraxis",
         "geo": "geo",
         "hovertemplate": "State=%{location}<br>ChgOffPrinGr=%{z}<extra></extra>",
         "locationmode": "USA-states",
         "locations": [
          "AK",
          "AL",
          "AR",
          "AZ",
          "CA",
          "CO",
          "CT",
          "DC",
          "DE",
          "FL",
          "GA",
          "HI",
          "IA",
          "ID",
          "IL",
          "IN",
          "KS",
          "KY",
          "LA",
          "MA",
          "MD",
          "ME",
          "MI",
          "MN",
          "MO",
          "MS",
          "MT",
          "NC",
          "ND",
          "NE",
          "NH",
          "NJ",
          "NM",
          "NV",
          "NY",
          "OH",
          "OK",
          "OR",
          "PA",
          "RI",
          "SC",
          "SD",
          "TN",
          "TX",
          "UT",
          "VA",
          "VT",
          "WA",
          "WI",
          "WV",
          "WY"
         ],
         "name": "",
         "type": "choropleth",
         "z": {
          "bdata": "Zhpolt82zUADmUkWhFLKQODp03NPmMxAOvXZQ2GX1EBTqTKlzQ/LQClW3V0B4M1AjlV1X3DrxkBPUB7FPunGQFo3mCIfAshA5xsjxW6H1kCEoLD+CXzVQKNFKRHjvLhA32rEFWcUxEBx38uiBCTDQL1REy24oc9AuvHYhkcIzEAmEaCAkAvGQB+F8Ph+mM5AFtNZTGfgy0DkMlT3DAa9QGqSb0WtrsZAXT79t0aeuUA52ScCE5XRQOfpV9ZFy8NALGXuTH/rxkABpHZZ6xnLQGVY30u7GLJAcD///tPeyUCyk0bitJi1QMaGJ+sjFsNA2/vTqZsItkBNJQZ1J2TMQHAaAYYKIsFAcF4qjqHd0kCPAsvdwKTGQI5jjzCmXMZAs66T1ipkyUAxHD0WwB7EQInSIigrd8RALFrV9wfTt0A9Ca7/sp/QQNnkSa/6k7VALRQhM97qzEAoEbNWyY7RQP3KsebHSsRA2L5OFW9IzEAnt7ctPyqxQO4cpRxLC8NACfCFcJrixUDZEqI5ROjIQEENG0xsvblA",
          "dtype": "f8"
         }
        }
       ],
       "layout": {
        "coloraxis": {
         "colorbar": {
          "title": {
           "text": "Debt in K"
          }
         },
         "colorscale": [
          [
           0,
           "#30123b"
          ],
          [
           0.07142857142857142,
           "#4145ab"
          ],
          [
           0.14285714285714285,
           "#4675ed"
          ],
          [
           0.21428571428571427,
           "#39a2fc"
          ],
          [
           0.2857142857142857,
           "#1bcfd4"
          ],
          [
           0.35714285714285715,
           "#24eca6"
          ],
          [
           0.42857142857142855,
           "#61fc6c"
          ],
          [
           0.5,
           "#a4fc3b"
          ],
          [
           0.5714285714285714,
           "#d1e834"
          ],
          [
           0.6428571428571429,
           "#f3c63a"
          ],
          [
           0.7142857142857143,
           "#fe9b2d"
          ],
          [
           0.7857142857142857,
           "#f36315"
          ],
          [
           0.8571428571428571,
           "#d93806"
          ],
          [
           0.9285714285714286,
           "#b11901"
          ],
          [
           1,
           "#7a0402"
          ]
         ]
        },
        "geo": {
         "center": {},
         "domain": {
          "x": [
           0,
           1
          ],
          "y": [
           0,
           1
          ]
         },
         "scope": "usa"
        },
        "legend": {
         "tracegroupgap": 0
        },
        "margin": {
         "t": 60
        },
        "template": {
         "data": {
          "bar": [
           {
            "error_x": {
             "color": "#2a3f5f"
            },
            "error_y": {
             "color": "#2a3f5f"
            },
            "marker": {
             "line": {
              "color": "#E5ECF6",
              "width": 0.5
             },
             "pattern": {
              "fillmode": "overlay",
              "size": 10,
              "solidity": 0.2
             }
            },
            "type": "bar"
           }
          ],
          "barpolar": [
           {
            "marker": {
             "line": {
              "color": "#E5ECF6",
              "width": 0.5
             },
             "pattern": {
              "fillmode": "overlay",
              "size": 10,
              "solidity": 0.2
             }
            },
            "type": "barpolar"
           }
          ],
          "carpet": [
           {
            "aaxis": {
             "endlinecolor": "#2a3f5f",
             "gridcolor": "white",
             "linecolor": "white",
             "minorgridcolor": "white",
             "startlinecolor": "#2a3f5f"
            },
            "baxis": {
             "endlinecolor": "#2a3f5f",
             "gridcolor": "white",
             "linecolor": "white",
             "minorgridcolor": "white",
             "startlinecolor": "#2a3f5f"
            },
            "type": "carpet"
           }
          ],
          "choropleth": [
           {
            "colorbar": {
             "outlinewidth": 0,
             "ticks": ""
            },
            "type": "choropleth"
           }
          ],
          "contour": [
           {
            "colorbar": {
             "outlinewidth": 0,
             "ticks": ""
            },
            "colorscale": [
             [
              0,
              "#0d0887"
             ],
             [
              0.1111111111111111,
              "#46039f"
             ],
             [
              0.2222222222222222,
              "#7201a8"
             ],
             [
              0.3333333333333333,
              "#9c179e"
             ],
             [
              0.4444444444444444,
              "#bd3786"
             ],
             [
              0.5555555555555556,
              "#d8576b"
             ],
             [
              0.6666666666666666,
              "#ed7953"
             ],
             [
              0.7777777777777778,
              "#fb9f3a"
             ],
             [
              0.8888888888888888,
              "#fdca26"
             ],
             [
              1,
              "#f0f921"
             ]
            ],
            "type": "contour"
           }
          ],
          "contourcarpet": [
           {
            "colorbar": {
             "outlinewidth": 0,
             "ticks": ""
            },
            "type": "contourcarpet"
           }
          ],
          "heatmap": [
           {
            "colorbar": {
             "outlinewidth": 0,
             "ticks": ""
            },
            "colorscale": [
             [
              0,
              "#0d0887"
             ],
             [
              0.1111111111111111,
              "#46039f"
             ],
             [
              0.2222222222222222,
              "#7201a8"
             ],
             [
              0.3333333333333333,
              "#9c179e"
             ],
             [
              0.4444444444444444,
              "#bd3786"
             ],
             [
              0.5555555555555556,
              "#d8576b"
             ],
             [
              0.6666666666666666,
              "#ed7953"
             ],
             [
              0.7777777777777778,
              "#fb9f3a"
             ],
             [
              0.8888888888888888,
              "#fdca26"
             ],
             [
              1,
              "#f0f921"
             ]
            ],
            "type": "heatmap"
           }
          ],
          "histogram": [
           {
            "marker": {
             "pattern": {
              "fillmode": "overlay",
              "size": 10,
              "solidity": 0.2
             }
            },
            "type": "histogram"
           }
          ],
          "histogram2d": [
           {
            "colorbar": {
             "outlinewidth": 0,
             "ticks": ""
            },
            "colorscale": [
             [
              0,
              "#0d0887"
             ],
             [
              0.1111111111111111,
              "#46039f"
             ],
             [
              0.2222222222222222,
              "#7201a8"
             ],
             [
              0.3333333333333333,
              "#9c179e"
             ],
             [
              0.4444444444444444,
              "#bd3786"
             ],
             [
              0.5555555555555556,
              "#d8576b"
             ],
             [
              0.6666666666666666,
              "#ed7953"
             ],
             [
              0.7777777777777778,
              "#fb9f3a"
             ],
             [
              0.8888888888888888,
              "#fdca26"
             ],
             [
              1,
              "#f0f921"
             ]
            ],
            "type": "histogram2d"
           }
          ],
          "histogram2dcontour": [
           {
            "colorbar": {
             "outlinewidth": 0,
             "ticks": ""
            },
            "colorscale": [
             [
              0,
              "#0d0887"
             ],
             [
              0.1111111111111111,
              "#46039f"
             ],
             [
              0.2222222222222222,
              "#7201a8"
             ],
             [
              0.3333333333333333,
              "#9c179e"
             ],
             [
              0.4444444444444444,
              "#bd3786"
             ],
             [
              0.5555555555555556,
              "#d8576b"
             ],
             [
              0.6666666666666666,
              "#ed7953"
             ],
             [
              0.7777777777777778,
              "#fb9f3a"
             ],
             [
              0.8888888888888888,
              "#fdca26"
             ],
             [
              1,
              "#f0f921"
             ]
            ],
            "type": "histogram2dcontour"
           }
          ],
          "mesh3d": [
           {
            "colorbar": {
             "outlinewidth": 0,
             "ticks": ""
            },
            "type": "mesh3d"
           }
          ],
          "parcoords": [
           {
            "line": {
             "colorbar": {
              "outlinewidth": 0,
              "ticks": ""
             }
            },
            "type": "parcoords"
           }
          ],
          "pie": [
           {
            "automargin": true,
            "type": "pie"
           }
          ],
          "scatter": [
           {
            "fillpattern": {
             "fillmode": "overlay",
             "size": 10,
             "solidity": 0.2
            },
            "type": "scatter"
           }
          ],
          "scatter3d": [
           {
            "line": {
             "colorbar": {
              "outlinewidth": 0,
              "ticks": ""
             }
            },
            "marker": {
             "colorbar": {
              "outlinewidth": 0,
              "ticks": ""
             }
            },
            "type": "scatter3d"
           }
          ],
          "scattercarpet": [
           {
            "marker": {
             "colorbar": {
              "outlinewidth": 0,
              "ticks": ""
             }
            },
            "type": "scattercarpet"
           }
          ],
          "scattergeo": [
           {
            "marker": {
             "colorbar": {
              "outlinewidth": 0,
              "ticks": ""
             }
            },
            "type": "scattergeo"
           }
          ],
          "scattergl": [
           {
            "marker": {
             "colorbar": {
              "outlinewidth": 0,
              "ticks": ""
             }
            },
            "type": "scattergl"
           }
          ],
          "scattermap": [
           {
            "marker": {
             "colorbar": {
              "outlinewidth": 0,
              "ticks": ""
             }
            },
            "type": "scattermap"
           }
          ],
          "scattermapbox": [
           {
            "marker": {
             "colorbar": {
              "outlinewidth": 0,
              "ticks": ""
             }
            },
            "type": "scattermapbox"
           }
          ],
          "scatterpolar": [
           {
            "marker": {
             "colorbar": {
              "outlinewidth": 0,
              "ticks": ""
             }
            },
            "type": "scatterpolar"
           }
          ],
          "scatterpolargl": [
           {
            "marker": {
             "colorbar": {
              "outlinewidth": 0,
              "ticks": ""
             }
            },
            "type": "scatterpolargl"
           }
          ],
          "scatterternary": [
           {
            "marker": {
             "colorbar": {
              "outlinewidth": 0,
              "ticks": ""
             }
            },
            "type": "scatterternary"
           }
          ],
          "surface": [
           {
            "colorbar": {
             "outlinewidth": 0,
             "ticks": ""
            },
            "colorscale": [
             [
              0,
              "#0d0887"
             ],
             [
              0.1111111111111111,
              "#46039f"
             ],
             [
              0.2222222222222222,
              "#7201a8"
             ],
             [
              0.3333333333333333,
              "#9c179e"
             ],
             [
              0.4444444444444444,
              "#bd3786"
             ],
             [
              0.5555555555555556,
              "#d8576b"
             ],
             [
              0.6666666666666666,
              "#ed7953"
             ],
             [
              0.7777777777777778,
              "#fb9f3a"
             ],
             [
              0.8888888888888888,
              "#fdca26"
             ],
             [
              1,
              "#f0f921"
             ]
            ],
            "type": "surface"
           }
          ],
          "table": [
           {
            "cells": {
             "fill": {
              "color": "#EBF0F8"
             },
             "line": {
              "color": "white"
             }
            },
            "header": {
             "fill": {
              "color": "#C8D4E3"
             },
             "line": {
              "color": "white"
             }
            },
            "type": "table"
           }
          ]
         },
         "layout": {
          "annotationdefaults": {
           "arrowcolor": "#2a3f5f",
           "arrowhead": 0,
           "arrowwidth": 1
          },
          "autotypenumbers": "strict",
          "coloraxis": {
           "colorbar": {
            "outlinewidth": 0,
            "ticks": ""
           }
          },
          "colorscale": {
           "diverging": [
            [
             0,
             "#8e0152"
            ],
            [
             0.1,
             "#c51b7d"
            ],
            [
             0.2,
             "#de77ae"
            ],
            [
             0.3,
             "#f1b6da"
            ],
            [
             0.4,
             "#fde0ef"
            ],
            [
             0.5,
             "#f7f7f7"
            ],
            [
             0.6,
             "#e6f5d0"
            ],
            [
             0.7,
             "#b8e186"
            ],
            [
             0.8,
             "#7fbc41"
            ],
            [
             0.9,
             "#4d9221"
            ],
            [
             1,
             "#276419"
            ]
           ],
           "sequential": [
            [
             0,
             "#0d0887"
            ],
            [
             0.1111111111111111,
             "#46039f"
            ],
            [
             0.2222222222222222,
             "#7201a8"
            ],
            [
             0.3333333333333333,
             "#9c179e"
            ],
            [
             0.4444444444444444,
             "#bd3786"
            ],
            [
             0.5555555555555556,
             "#d8576b"
            ],
            [
             0.6666666666666666,
             "#ed7953"
            ],
            [
             0.7777777777777778,
             "#fb9f3a"
            ],
            [
             0.8888888888888888,
             "#fdca26"
            ],
            [
             1,
             "#f0f921"
            ]
           ],
           "sequentialminus": [
            [
             0,
             "#0d0887"
            ],
            [
             0.1111111111111111,
             "#46039f"
            ],
            [
             0.2222222222222222,
             "#7201a8"
            ],
            [
             0.3333333333333333,
             "#9c179e"
            ],
            [
             0.4444444444444444,
             "#bd3786"
            ],
            [
             0.5555555555555556,
             "#d8576b"
            ],
            [
             0.6666666666666666,
             "#ed7953"
            ],
            [
             0.7777777777777778,
             "#fb9f3a"
            ],
            [
             0.8888888888888888,
             "#fdca26"
            ],
            [
             1,
             "#f0f921"
            ]
           ]
          },
          "colorway": [
           "#636efa",
           "#EF553B",
           "#00cc96",
           "#ab63fa",
           "#FFA15A",
           "#19d3f3",
           "#FF6692",
           "#B6E880",
           "#FF97FF",
           "#FECB52"
          ],
          "font": {
           "color": "#2a3f5f"
          },
          "geo": {
           "bgcolor": "white",
           "lakecolor": "white",
           "landcolor": "#E5ECF6",
           "showlakes": true,
           "showland": true,
           "subunitcolor": "white"
          },
          "hoverlabel": {
           "align": "left"
          },
          "hovermode": "closest",
          "mapbox": {
           "style": "light"
          },
          "paper_bgcolor": "white",
          "plot_bgcolor": "#E5ECF6",
          "polar": {
           "angularaxis": {
            "gridcolor": "white",
            "linecolor": "white",
            "ticks": ""
           },
           "bgcolor": "#E5ECF6",
           "radialaxis": {
            "gridcolor": "white",
            "linecolor": "white",
            "ticks": ""
           }
          },
          "scene": {
           "xaxis": {
            "backgroundcolor": "#E5ECF6",
            "gridcolor": "white",
            "gridwidth": 2,
            "linecolor": "white",
            "showbackground": true,
            "ticks": "",
            "zerolinecolor": "white"
           },
           "yaxis": {
            "backgroundcolor": "#E5ECF6",
            "gridcolor": "white",
            "gridwidth": 2,
            "linecolor": "white",
            "showbackground": true,
            "ticks": "",
            "zerolinecolor": "white"
           },
           "zaxis": {
            "backgroundcolor": "#E5ECF6",
            "gridcolor": "white",
            "gridwidth": 2,
            "linecolor": "white",
            "showbackground": true,
            "ticks": "",
            "zerolinecolor": "white"
           }
          },
          "shapedefaults": {
           "line": {
            "color": "#2a3f5f"
           }
          },
          "ternary": {
           "aaxis": {
            "gridcolor": "white",
            "linecolor": "white",
            "ticks": ""
           },
           "baxis": {
            "gridcolor": "white",
            "linecolor": "white",
            "ticks": ""
           },
           "bgcolor": "#E5ECF6",
           "caxis": {
            "gridcolor": "white",
            "linecolor": "white",
            "ticks": ""
           }
          },
          "title": {
           "x": 0.05
          },
          "xaxis": {
           "automargin": true,
           "gridcolor": "white",
           "linecolor": "white",
           "ticks": "",
           "title": {
            "standoff": 15
           },
           "zerolinecolor": "white",
           "zerolinewidth": 2
          },
          "yaxis": {
           "automargin": true,
           "gridcolor": "white",
           "linecolor": "white",
           "ticks": "",
           "title": {
            "standoff": 15
           },
           "zerolinecolor": "white",
           "zerolinewidth": 2
          }
         }
        },
        "title": {
         "text": "In which state people are less likely to pay off a loan?",
         "x": 0.5
        }
       }
      }
     },
     "metadata": {},
     "output_type": "display_data"
    }
   ],
   "source": [
    "\n",
    "\n",
    "df_grouped = df.groupby(\"State\")[['ChgOffPrinGr']].mean().reset_index()\n",
    "\n",
    "# Ahora sí podés graficar con choropleth\n",
    "fig = px.choropleth(\n",
    "    df_grouped,\n",
    "    locations=\"State\",        # columna con nombres de estados\n",
    "    locationmode=\"USA-states\",# para estados de USA\n",
    "    color='ChgOffPrinGr',    # la primera columna numérica que quieras mapear\n",
    "    scope=\"usa\",\n",
    "    color_continuous_scale=\"Turbo\"\n",
    ")\n",
    "\n",
    "fig.update_layout(\n",
    "    title_text=\"In which state people are less likely to pay off a loan?\",\n",
    "    title_x=0.5,\n",
    "    coloraxis_colorbar=dict(\n",
    "        title=\"Debt in K\"\n",
    "    )\n",
    ")\n",
    "fig.show()\n"
   ]
  },
  {
   "cell_type": "code",
   "execution_count": 22,
   "id": "a5f568f7",
   "metadata": {},
   "outputs": [
    {
     "data": {
      "text/html": [
       "<div>\n",
       "<style scoped>\n",
       "    .dataframe tbody tr th:only-of-type {\n",
       "        vertical-align: middle;\n",
       "    }\n",
       "\n",
       "    .dataframe tbody tr th {\n",
       "        vertical-align: top;\n",
       "    }\n",
       "\n",
       "    .dataframe thead th {\n",
       "        text-align: right;\n",
       "    }\n",
       "</style>\n",
       "<table border=\"1\" class=\"dataframe\">\n",
       "  <thead>\n",
       "    <tr style=\"text-align: right;\">\n",
       "      <th></th>\n",
       "      <th>State</th>\n",
       "      <th>ChgOffPrinGr</th>\n",
       "    </tr>\n",
       "  </thead>\n",
       "  <tbody>\n",
       "    <tr>\n",
       "      <th>0</th>\n",
       "      <td>AK</td>\n",
       "      <td>14957.746778</td>\n",
       "    </tr>\n",
       "    <tr>\n",
       "      <th>1</th>\n",
       "      <td>AL</td>\n",
       "      <td>13477.031930</td>\n",
       "    </tr>\n",
       "    <tr>\n",
       "      <th>2</th>\n",
       "      <td>AR</td>\n",
       "      <td>14640.620722</td>\n",
       "    </tr>\n",
       "    <tr>\n",
       "      <th>3</th>\n",
       "      <td>AZ</td>\n",
       "      <td>21085.519766</td>\n",
       "    </tr>\n",
       "    <tr>\n",
       "      <th>4</th>\n",
       "      <td>CA</td>\n",
       "      <td>13855.606604</td>\n",
       "    </tr>\n",
       "  </tbody>\n",
       "</table>\n",
       "</div>"
      ],
      "text/plain": [
       "  State  ChgOffPrinGr\n",
       "0    AK  14957.746778\n",
       "1    AL  13477.031930\n",
       "2    AR  14640.620722\n",
       "3    AZ  21085.519766\n",
       "4    CA  13855.606604"
      ]
     },
     "execution_count": 22,
     "metadata": {},
     "output_type": "execute_result"
    }
   ],
   "source": [
    "df_grouped.head(5)"
   ]
  },
  {
   "cell_type": "code",
   "execution_count": 23,
   "id": "f98a76b9",
   "metadata": {},
   "outputs": [
    {
     "data": {
      "application/vnd.plotly.v1+json": {
       "config": {
        "plotlyServerURL": "https://plot.ly"
       },
       "data": [
        {
         "coloraxis": "coloraxis",
         "geo": "geo",
         "hovertemplate": "State=%{location}<br>CreateJob=%{z}<extra></extra>",
         "locationmode": "USA-states",
         "locations": [
          "AK",
          "AL",
          "AR",
          "AZ",
          "CA",
          "CO",
          "CT",
          "DC",
          "DE",
          "FL",
          "GA",
          "HI",
          "IA",
          "ID",
          "IL",
          "IN",
          "KS",
          "KY",
          "LA",
          "MA",
          "MD",
          "ME",
          "MI",
          "MN",
          "MO",
          "MS",
          "MT",
          "NC",
          "ND",
          "NE",
          "NH",
          "NJ",
          "NM",
          "NV",
          "NY",
          "OH",
          "OK",
          "OR",
          "PA",
          "RI",
          "SC",
          "SD",
          "TN",
          "TX",
          "UT",
          "VA",
          "VT",
          "WA",
          "WI",
          "WV",
          "WY"
         ],
         "name": "",
         "type": "choropleth",
         "z": {
          "bdata": "02G1eCodIECeJ5WM6AI1QA7sFW3KYhVAibFjkiKtFEDF3vO2VPgeQIJ3sUSznxpADVDQrV3B/z+Yz3SgwSweQDgVdgB9UxZAnqfaYLqNEEBSCzuWY24qQC8ODJdz1Q9AEM7+YZzoLEBanT3ty10oQHeeB4mreBtAsVNxdJ2PKUCmDt5tAbgpQJjjiub/iClAwp8JfyZ8LUBoYWKOFTogQPJ9gAyY2xJAtHHaioudJ0CPe0SISIMUQOgW72HE+yJAGJTBkpPoM0Cotm7Wz/ADQLtbZVjfSxdAe7ADi8UfI0CKArwESysZQLTlhylKuyBAKyjkOPEmGkAJ+ZnYMHINQMStcXmycglAKhTTD8aoL0Bt0f88sU0PQKjS/gxcoTFApZ7b7MtLFUB2rUBI8+4TQPafVLt8CBFAfAdeU1FDIECMdW5FOr4NQChS7i2LOSZAY0sdpBxsF0CpXKXMlrAkQIP2hDeJgihAEikX2VXyGUBYXrVs9iklQFDctNNmgBhALyVLaooTK0Dp/qEg69MnQEI5w63vEvI/",
          "dtype": "f8"
         }
        }
       ],
       "layout": {
        "coloraxis": {
         "colorbar": {
          "title": {
           "text": "New Created Jobs"
          }
         },
         "colorscale": [
          [
           0,
           "#30123b"
          ],
          [
           0.07142857142857142,
           "#4145ab"
          ],
          [
           0.14285714285714285,
           "#4675ed"
          ],
          [
           0.21428571428571427,
           "#39a2fc"
          ],
          [
           0.2857142857142857,
           "#1bcfd4"
          ],
          [
           0.35714285714285715,
           "#24eca6"
          ],
          [
           0.42857142857142855,
           "#61fc6c"
          ],
          [
           0.5,
           "#a4fc3b"
          ],
          [
           0.5714285714285714,
           "#d1e834"
          ],
          [
           0.6428571428571429,
           "#f3c63a"
          ],
          [
           0.7142857142857143,
           "#fe9b2d"
          ],
          [
           0.7857142857142857,
           "#f36315"
          ],
          [
           0.8571428571428571,
           "#d93806"
          ],
          [
           0.9285714285714286,
           "#b11901"
          ],
          [
           1,
           "#7a0402"
          ]
         ]
        },
        "geo": {
         "center": {},
         "domain": {
          "x": [
           0,
           1
          ],
          "y": [
           0,
           1
          ]
         },
         "scope": "usa"
        },
        "legend": {
         "tracegroupgap": 0
        },
        "margin": {
         "t": 60
        },
        "template": {
         "data": {
          "bar": [
           {
            "error_x": {
             "color": "#2a3f5f"
            },
            "error_y": {
             "color": "#2a3f5f"
            },
            "marker": {
             "line": {
              "color": "#E5ECF6",
              "width": 0.5
             },
             "pattern": {
              "fillmode": "overlay",
              "size": 10,
              "solidity": 0.2
             }
            },
            "type": "bar"
           }
          ],
          "barpolar": [
           {
            "marker": {
             "line": {
              "color": "#E5ECF6",
              "width": 0.5
             },
             "pattern": {
              "fillmode": "overlay",
              "size": 10,
              "solidity": 0.2
             }
            },
            "type": "barpolar"
           }
          ],
          "carpet": [
           {
            "aaxis": {
             "endlinecolor": "#2a3f5f",
             "gridcolor": "white",
             "linecolor": "white",
             "minorgridcolor": "white",
             "startlinecolor": "#2a3f5f"
            },
            "baxis": {
             "endlinecolor": "#2a3f5f",
             "gridcolor": "white",
             "linecolor": "white",
             "minorgridcolor": "white",
             "startlinecolor": "#2a3f5f"
            },
            "type": "carpet"
           }
          ],
          "choropleth": [
           {
            "colorbar": {
             "outlinewidth": 0,
             "ticks": ""
            },
            "type": "choropleth"
           }
          ],
          "contour": [
           {
            "colorbar": {
             "outlinewidth": 0,
             "ticks": ""
            },
            "colorscale": [
             [
              0,
              "#0d0887"
             ],
             [
              0.1111111111111111,
              "#46039f"
             ],
             [
              0.2222222222222222,
              "#7201a8"
             ],
             [
              0.3333333333333333,
              "#9c179e"
             ],
             [
              0.4444444444444444,
              "#bd3786"
             ],
             [
              0.5555555555555556,
              "#d8576b"
             ],
             [
              0.6666666666666666,
              "#ed7953"
             ],
             [
              0.7777777777777778,
              "#fb9f3a"
             ],
             [
              0.8888888888888888,
              "#fdca26"
             ],
             [
              1,
              "#f0f921"
             ]
            ],
            "type": "contour"
           }
          ],
          "contourcarpet": [
           {
            "colorbar": {
             "outlinewidth": 0,
             "ticks": ""
            },
            "type": "contourcarpet"
           }
          ],
          "heatmap": [
           {
            "colorbar": {
             "outlinewidth": 0,
             "ticks": ""
            },
            "colorscale": [
             [
              0,
              "#0d0887"
             ],
             [
              0.1111111111111111,
              "#46039f"
             ],
             [
              0.2222222222222222,
              "#7201a8"
             ],
             [
              0.3333333333333333,
              "#9c179e"
             ],
             [
              0.4444444444444444,
              "#bd3786"
             ],
             [
              0.5555555555555556,
              "#d8576b"
             ],
             [
              0.6666666666666666,
              "#ed7953"
             ],
             [
              0.7777777777777778,
              "#fb9f3a"
             ],
             [
              0.8888888888888888,
              "#fdca26"
             ],
             [
              1,
              "#f0f921"
             ]
            ],
            "type": "heatmap"
           }
          ],
          "histogram": [
           {
            "marker": {
             "pattern": {
              "fillmode": "overlay",
              "size": 10,
              "solidity": 0.2
             }
            },
            "type": "histogram"
           }
          ],
          "histogram2d": [
           {
            "colorbar": {
             "outlinewidth": 0,
             "ticks": ""
            },
            "colorscale": [
             [
              0,
              "#0d0887"
             ],
             [
              0.1111111111111111,
              "#46039f"
             ],
             [
              0.2222222222222222,
              "#7201a8"
             ],
             [
              0.3333333333333333,
              "#9c179e"
             ],
             [
              0.4444444444444444,
              "#bd3786"
             ],
             [
              0.5555555555555556,
              "#d8576b"
             ],
             [
              0.6666666666666666,
              "#ed7953"
             ],
             [
              0.7777777777777778,
              "#fb9f3a"
             ],
             [
              0.8888888888888888,
              "#fdca26"
             ],
             [
              1,
              "#f0f921"
             ]
            ],
            "type": "histogram2d"
           }
          ],
          "histogram2dcontour": [
           {
            "colorbar": {
             "outlinewidth": 0,
             "ticks": ""
            },
            "colorscale": [
             [
              0,
              "#0d0887"
             ],
             [
              0.1111111111111111,
              "#46039f"
             ],
             [
              0.2222222222222222,
              "#7201a8"
             ],
             [
              0.3333333333333333,
              "#9c179e"
             ],
             [
              0.4444444444444444,
              "#bd3786"
             ],
             [
              0.5555555555555556,
              "#d8576b"
             ],
             [
              0.6666666666666666,
              "#ed7953"
             ],
             [
              0.7777777777777778,
              "#fb9f3a"
             ],
             [
              0.8888888888888888,
              "#fdca26"
             ],
             [
              1,
              "#f0f921"
             ]
            ],
            "type": "histogram2dcontour"
           }
          ],
          "mesh3d": [
           {
            "colorbar": {
             "outlinewidth": 0,
             "ticks": ""
            },
            "type": "mesh3d"
           }
          ],
          "parcoords": [
           {
            "line": {
             "colorbar": {
              "outlinewidth": 0,
              "ticks": ""
             }
            },
            "type": "parcoords"
           }
          ],
          "pie": [
           {
            "automargin": true,
            "type": "pie"
           }
          ],
          "scatter": [
           {
            "fillpattern": {
             "fillmode": "overlay",
             "size": 10,
             "solidity": 0.2
            },
            "type": "scatter"
           }
          ],
          "scatter3d": [
           {
            "line": {
             "colorbar": {
              "outlinewidth": 0,
              "ticks": ""
             }
            },
            "marker": {
             "colorbar": {
              "outlinewidth": 0,
              "ticks": ""
             }
            },
            "type": "scatter3d"
           }
          ],
          "scattercarpet": [
           {
            "marker": {
             "colorbar": {
              "outlinewidth": 0,
              "ticks": ""
             }
            },
            "type": "scattercarpet"
           }
          ],
          "scattergeo": [
           {
            "marker": {
             "colorbar": {
              "outlinewidth": 0,
              "ticks": ""
             }
            },
            "type": "scattergeo"
           }
          ],
          "scattergl": [
           {
            "marker": {
             "colorbar": {
              "outlinewidth": 0,
              "ticks": ""
             }
            },
            "type": "scattergl"
           }
          ],
          "scattermap": [
           {
            "marker": {
             "colorbar": {
              "outlinewidth": 0,
              "ticks": ""
             }
            },
            "type": "scattermap"
           }
          ],
          "scattermapbox": [
           {
            "marker": {
             "colorbar": {
              "outlinewidth": 0,
              "ticks": ""
             }
            },
            "type": "scattermapbox"
           }
          ],
          "scatterpolar": [
           {
            "marker": {
             "colorbar": {
              "outlinewidth": 0,
              "ticks": ""
             }
            },
            "type": "scatterpolar"
           }
          ],
          "scatterpolargl": [
           {
            "marker": {
             "colorbar": {
              "outlinewidth": 0,
              "ticks": ""
             }
            },
            "type": "scatterpolargl"
           }
          ],
          "scatterternary": [
           {
            "marker": {
             "colorbar": {
              "outlinewidth": 0,
              "ticks": ""
             }
            },
            "type": "scatterternary"
           }
          ],
          "surface": [
           {
            "colorbar": {
             "outlinewidth": 0,
             "ticks": ""
            },
            "colorscale": [
             [
              0,
              "#0d0887"
             ],
             [
              0.1111111111111111,
              "#46039f"
             ],
             [
              0.2222222222222222,
              "#7201a8"
             ],
             [
              0.3333333333333333,
              "#9c179e"
             ],
             [
              0.4444444444444444,
              "#bd3786"
             ],
             [
              0.5555555555555556,
              "#d8576b"
             ],
             [
              0.6666666666666666,
              "#ed7953"
             ],
             [
              0.7777777777777778,
              "#fb9f3a"
             ],
             [
              0.8888888888888888,
              "#fdca26"
             ],
             [
              1,
              "#f0f921"
             ]
            ],
            "type": "surface"
           }
          ],
          "table": [
           {
            "cells": {
             "fill": {
              "color": "#EBF0F8"
             },
             "line": {
              "color": "white"
             }
            },
            "header": {
             "fill": {
              "color": "#C8D4E3"
             },
             "line": {
              "color": "white"
             }
            },
            "type": "table"
           }
          ]
         },
         "layout": {
          "annotationdefaults": {
           "arrowcolor": "#2a3f5f",
           "arrowhead": 0,
           "arrowwidth": 1
          },
          "autotypenumbers": "strict",
          "coloraxis": {
           "colorbar": {
            "outlinewidth": 0,
            "ticks": ""
           }
          },
          "colorscale": {
           "diverging": [
            [
             0,
             "#8e0152"
            ],
            [
             0.1,
             "#c51b7d"
            ],
            [
             0.2,
             "#de77ae"
            ],
            [
             0.3,
             "#f1b6da"
            ],
            [
             0.4,
             "#fde0ef"
            ],
            [
             0.5,
             "#f7f7f7"
            ],
            [
             0.6,
             "#e6f5d0"
            ],
            [
             0.7,
             "#b8e186"
            ],
            [
             0.8,
             "#7fbc41"
            ],
            [
             0.9,
             "#4d9221"
            ],
            [
             1,
             "#276419"
            ]
           ],
           "sequential": [
            [
             0,
             "#0d0887"
            ],
            [
             0.1111111111111111,
             "#46039f"
            ],
            [
             0.2222222222222222,
             "#7201a8"
            ],
            [
             0.3333333333333333,
             "#9c179e"
            ],
            [
             0.4444444444444444,
             "#bd3786"
            ],
            [
             0.5555555555555556,
             "#d8576b"
            ],
            [
             0.6666666666666666,
             "#ed7953"
            ],
            [
             0.7777777777777778,
             "#fb9f3a"
            ],
            [
             0.8888888888888888,
             "#fdca26"
            ],
            [
             1,
             "#f0f921"
            ]
           ],
           "sequentialminus": [
            [
             0,
             "#0d0887"
            ],
            [
             0.1111111111111111,
             "#46039f"
            ],
            [
             0.2222222222222222,
             "#7201a8"
            ],
            [
             0.3333333333333333,
             "#9c179e"
            ],
            [
             0.4444444444444444,
             "#bd3786"
            ],
            [
             0.5555555555555556,
             "#d8576b"
            ],
            [
             0.6666666666666666,
             "#ed7953"
            ],
            [
             0.7777777777777778,
             "#fb9f3a"
            ],
            [
             0.8888888888888888,
             "#fdca26"
            ],
            [
             1,
             "#f0f921"
            ]
           ]
          },
          "colorway": [
           "#636efa",
           "#EF553B",
           "#00cc96",
           "#ab63fa",
           "#FFA15A",
           "#19d3f3",
           "#FF6692",
           "#B6E880",
           "#FF97FF",
           "#FECB52"
          ],
          "font": {
           "color": "#2a3f5f"
          },
          "geo": {
           "bgcolor": "white",
           "lakecolor": "white",
           "landcolor": "#E5ECF6",
           "showlakes": true,
           "showland": true,
           "subunitcolor": "white"
          },
          "hoverlabel": {
           "align": "left"
          },
          "hovermode": "closest",
          "mapbox": {
           "style": "light"
          },
          "paper_bgcolor": "white",
          "plot_bgcolor": "#E5ECF6",
          "polar": {
           "angularaxis": {
            "gridcolor": "white",
            "linecolor": "white",
            "ticks": ""
           },
           "bgcolor": "#E5ECF6",
           "radialaxis": {
            "gridcolor": "white",
            "linecolor": "white",
            "ticks": ""
           }
          },
          "scene": {
           "xaxis": {
            "backgroundcolor": "#E5ECF6",
            "gridcolor": "white",
            "gridwidth": 2,
            "linecolor": "white",
            "showbackground": true,
            "ticks": "",
            "zerolinecolor": "white"
           },
           "yaxis": {
            "backgroundcolor": "#E5ECF6",
            "gridcolor": "white",
            "gridwidth": 2,
            "linecolor": "white",
            "showbackground": true,
            "ticks": "",
            "zerolinecolor": "white"
           },
           "zaxis": {
            "backgroundcolor": "#E5ECF6",
            "gridcolor": "white",
            "gridwidth": 2,
            "linecolor": "white",
            "showbackground": true,
            "ticks": "",
            "zerolinecolor": "white"
           }
          },
          "shapedefaults": {
           "line": {
            "color": "#2a3f5f"
           }
          },
          "ternary": {
           "aaxis": {
            "gridcolor": "white",
            "linecolor": "white",
            "ticks": ""
           },
           "baxis": {
            "gridcolor": "white",
            "linecolor": "white",
            "ticks": ""
           },
           "bgcolor": "#E5ECF6",
           "caxis": {
            "gridcolor": "white",
            "linecolor": "white",
            "ticks": ""
           }
          },
          "title": {
           "x": 0.05
          },
          "xaxis": {
           "automargin": true,
           "gridcolor": "white",
           "linecolor": "white",
           "ticks": "",
           "title": {
            "standoff": 15
           },
           "zerolinecolor": "white",
           "zerolinewidth": 2
          },
          "yaxis": {
           "automargin": true,
           "gridcolor": "white",
           "linecolor": "white",
           "ticks": "",
           "title": {
            "standoff": 15
           },
           "zerolinecolor": "white",
           "zerolinewidth": 2
          }
         }
        },
        "title": {
         "text": "In which state are more Jobs being created by Loans?",
         "x": 0.5
        }
       }
      }
     },
     "metadata": {},
     "output_type": "display_data"
    }
   ],
   "source": [
    "\n",
    "\n",
    "df_jobcreator = df.groupby(\"State\")[['CreateJob']].mean().reset_index()\n",
    "\n",
    "# Ahora sí podés graficar con choropleth\n",
    "fig = px.choropleth(\n",
    "    df_jobcreator,\n",
    "    locations=\"State\",        # columna con nombres de estados\n",
    "    locationmode=\"USA-states\",# para estados de USA\n",
    "    color='CreateJob',    # la primera columna numérica que quieras mapear\n",
    "    scope=\"usa\",\n",
    "    color_continuous_scale=\"Turbo\"\n",
    ")\n",
    "\n",
    "fig.update_layout(\n",
    "    title_text=\"In which state are more Jobs being created by Loans?\",\n",
    "    title_x=0.5,\n",
    "    coloraxis_colorbar=dict(\n",
    "        title=\"New Created Jobs\"\n",
    "    )\n",
    ")\n",
    "fig.show()\n"
   ]
  },
  {
   "cell_type": "code",
   "execution_count": 3,
   "id": "e975697a",
   "metadata": {},
   "outputs": [
    {
     "data": {
      "text/html": [
       "<div>\n",
       "<style scoped>\n",
       "    .dataframe tbody tr th:only-of-type {\n",
       "        vertical-align: middle;\n",
       "    }\n",
       "\n",
       "    .dataframe tbody tr th {\n",
       "        vertical-align: top;\n",
       "    }\n",
       "\n",
       "    .dataframe thead th {\n",
       "        text-align: right;\n",
       "    }\n",
       "</style>\n",
       "<table border=\"1\" class=\"dataframe\">\n",
       "  <thead>\n",
       "    <tr style=\"text-align: right;\">\n",
       "      <th></th>\n",
       "      <th>LoanNr_ChkDgt</th>\n",
       "      <th>Name</th>\n",
       "      <th>City</th>\n",
       "      <th>State</th>\n",
       "      <th>Zip</th>\n",
       "      <th>Bank</th>\n",
       "      <th>BankState</th>\n",
       "      <th>NAICS</th>\n",
       "      <th>ApprovalDate</th>\n",
       "      <th>ApprovalFY</th>\n",
       "      <th>Term</th>\n",
       "      <th>NoEmp</th>\n",
       "      <th>NewExist</th>\n",
       "      <th>CreateJob</th>\n",
       "      <th>RetainedJob</th>\n",
       "      <th>FranchiseCode</th>\n",
       "      <th>UrbanRural</th>\n",
       "      <th>RevLineCr</th>\n",
       "      <th>LowDoc</th>\n",
       "      <th>ChgOffDate</th>\n",
       "      <th>DisbursementDate</th>\n",
       "      <th>DisbursementGross</th>\n",
       "      <th>BalanceGross</th>\n",
       "      <th>MIS_Status</th>\n",
       "      <th>ChgOffPrinGr</th>\n",
       "      <th>GrAppv</th>\n",
       "      <th>SBA_Appv</th>\n",
       "    </tr>\n",
       "  </thead>\n",
       "  <tbody>\n",
       "    <tr>\n",
       "      <th>0</th>\n",
       "      <td>1000014003</td>\n",
       "      <td>ABC HOBBYCRAFT</td>\n",
       "      <td>EVANSVILLE</td>\n",
       "      <td>IN</td>\n",
       "      <td>47711</td>\n",
       "      <td>FIFTH THIRD BANK</td>\n",
       "      <td>OH</td>\n",
       "      <td>451120</td>\n",
       "      <td>28-Feb-97</td>\n",
       "      <td>1997</td>\n",
       "      <td>84</td>\n",
       "      <td>4</td>\n",
       "      <td>2.0</td>\n",
       "      <td>0</td>\n",
       "      <td>0</td>\n",
       "      <td>1</td>\n",
       "      <td>0</td>\n",
       "      <td>N</td>\n",
       "      <td>Y</td>\n",
       "      <td>NaN</td>\n",
       "      <td>28-Feb-99</td>\n",
       "      <td>60000.0</td>\n",
       "      <td>0.0</td>\n",
       "      <td>P I F</td>\n",
       "      <td>0.0</td>\n",
       "      <td>60000.0</td>\n",
       "      <td>48000.0</td>\n",
       "    </tr>\n",
       "    <tr>\n",
       "      <th>1</th>\n",
       "      <td>1000024006</td>\n",
       "      <td>LANDMARK BAR &amp; GRILLE (THE)</td>\n",
       "      <td>NEW PARIS</td>\n",
       "      <td>IN</td>\n",
       "      <td>46526</td>\n",
       "      <td>1ST SOURCE BANK</td>\n",
       "      <td>IN</td>\n",
       "      <td>722410</td>\n",
       "      <td>28-Feb-97</td>\n",
       "      <td>1997</td>\n",
       "      <td>60</td>\n",
       "      <td>2</td>\n",
       "      <td>2.0</td>\n",
       "      <td>0</td>\n",
       "      <td>0</td>\n",
       "      <td>1</td>\n",
       "      <td>0</td>\n",
       "      <td>N</td>\n",
       "      <td>Y</td>\n",
       "      <td>NaN</td>\n",
       "      <td>31-May-97</td>\n",
       "      <td>40000.0</td>\n",
       "      <td>0.0</td>\n",
       "      <td>P I F</td>\n",
       "      <td>0.0</td>\n",
       "      <td>40000.0</td>\n",
       "      <td>32000.0</td>\n",
       "    </tr>\n",
       "    <tr>\n",
       "      <th>2</th>\n",
       "      <td>1000034009</td>\n",
       "      <td>WHITLOCK DDS, TODD M.</td>\n",
       "      <td>BLOOMINGTON</td>\n",
       "      <td>IN</td>\n",
       "      <td>47401</td>\n",
       "      <td>GRANT COUNTY STATE BANK</td>\n",
       "      <td>IN</td>\n",
       "      <td>621210</td>\n",
       "      <td>28-Feb-97</td>\n",
       "      <td>1997</td>\n",
       "      <td>180</td>\n",
       "      <td>7</td>\n",
       "      <td>1.0</td>\n",
       "      <td>0</td>\n",
       "      <td>0</td>\n",
       "      <td>1</td>\n",
       "      <td>0</td>\n",
       "      <td>N</td>\n",
       "      <td>N</td>\n",
       "      <td>NaN</td>\n",
       "      <td>31-Dec-97</td>\n",
       "      <td>287000.0</td>\n",
       "      <td>0.0</td>\n",
       "      <td>P I F</td>\n",
       "      <td>0.0</td>\n",
       "      <td>287000.0</td>\n",
       "      <td>215250.0</td>\n",
       "    </tr>\n",
       "    <tr>\n",
       "      <th>3</th>\n",
       "      <td>1000044001</td>\n",
       "      <td>BIG BUCKS PAWN &amp; JEWELRY, LLC</td>\n",
       "      <td>BROKEN ARROW</td>\n",
       "      <td>OK</td>\n",
       "      <td>74012</td>\n",
       "      <td>1ST NATL BK &amp; TR CO OF BROKEN</td>\n",
       "      <td>OK</td>\n",
       "      <td>0</td>\n",
       "      <td>28-Feb-97</td>\n",
       "      <td>1997</td>\n",
       "      <td>60</td>\n",
       "      <td>2</td>\n",
       "      <td>1.0</td>\n",
       "      <td>0</td>\n",
       "      <td>0</td>\n",
       "      <td>1</td>\n",
       "      <td>0</td>\n",
       "      <td>N</td>\n",
       "      <td>Y</td>\n",
       "      <td>NaN</td>\n",
       "      <td>30-Jun-97</td>\n",
       "      <td>35000.0</td>\n",
       "      <td>0.0</td>\n",
       "      <td>P I F</td>\n",
       "      <td>0.0</td>\n",
       "      <td>35000.0</td>\n",
       "      <td>28000.0</td>\n",
       "    </tr>\n",
       "    <tr>\n",
       "      <th>4</th>\n",
       "      <td>1000054004</td>\n",
       "      <td>ANASTASIA CONFECTIONS, INC.</td>\n",
       "      <td>ORLANDO</td>\n",
       "      <td>FL</td>\n",
       "      <td>32801</td>\n",
       "      <td>FLORIDA BUS. DEVEL CORP</td>\n",
       "      <td>FL</td>\n",
       "      <td>0</td>\n",
       "      <td>28-Feb-97</td>\n",
       "      <td>1997</td>\n",
       "      <td>240</td>\n",
       "      <td>14</td>\n",
       "      <td>1.0</td>\n",
       "      <td>7</td>\n",
       "      <td>7</td>\n",
       "      <td>1</td>\n",
       "      <td>0</td>\n",
       "      <td>N</td>\n",
       "      <td>N</td>\n",
       "      <td>NaN</td>\n",
       "      <td>14-May-97</td>\n",
       "      <td>229000.0</td>\n",
       "      <td>0.0</td>\n",
       "      <td>P I F</td>\n",
       "      <td>0.0</td>\n",
       "      <td>229000.0</td>\n",
       "      <td>229000.0</td>\n",
       "    </tr>\n",
       "  </tbody>\n",
       "</table>\n",
       "</div>"
      ],
      "text/plain": [
       "   LoanNr_ChkDgt                           Name          City State    Zip  \\\n",
       "0     1000014003                 ABC HOBBYCRAFT    EVANSVILLE    IN  47711   \n",
       "1     1000024006    LANDMARK BAR & GRILLE (THE)     NEW PARIS    IN  46526   \n",
       "2     1000034009          WHITLOCK DDS, TODD M.   BLOOMINGTON    IN  47401   \n",
       "3     1000044001  BIG BUCKS PAWN & JEWELRY, LLC  BROKEN ARROW    OK  74012   \n",
       "4     1000054004    ANASTASIA CONFECTIONS, INC.       ORLANDO    FL  32801   \n",
       "\n",
       "                            Bank BankState   NAICS ApprovalDate ApprovalFY  \\\n",
       "0               FIFTH THIRD BANK        OH  451120    28-Feb-97       1997   \n",
       "1                1ST SOURCE BANK        IN  722410    28-Feb-97       1997   \n",
       "2        GRANT COUNTY STATE BANK        IN  621210    28-Feb-97       1997   \n",
       "3  1ST NATL BK & TR CO OF BROKEN        OK       0    28-Feb-97       1997   \n",
       "4        FLORIDA BUS. DEVEL CORP        FL       0    28-Feb-97       1997   \n",
       "\n",
       "   Term  NoEmp  NewExist  CreateJob  RetainedJob  FranchiseCode  UrbanRural  \\\n",
       "0    84      4       2.0          0            0              1           0   \n",
       "1    60      2       2.0          0            0              1           0   \n",
       "2   180      7       1.0          0            0              1           0   \n",
       "3    60      2       1.0          0            0              1           0   \n",
       "4   240     14       1.0          7            7              1           0   \n",
       "\n",
       "  RevLineCr LowDoc ChgOffDate DisbursementDate  DisbursementGross  \\\n",
       "0         N      Y        NaN        28-Feb-99            60000.0   \n",
       "1         N      Y        NaN        31-May-97            40000.0   \n",
       "2         N      N        NaN        31-Dec-97           287000.0   \n",
       "3         N      Y        NaN        30-Jun-97            35000.0   \n",
       "4         N      N        NaN        14-May-97           229000.0   \n",
       "\n",
       "   BalanceGross MIS_Status  ChgOffPrinGr    GrAppv  SBA_Appv  \n",
       "0           0.0      P I F           0.0   60000.0   48000.0  \n",
       "1           0.0      P I F           0.0   40000.0   32000.0  \n",
       "2           0.0      P I F           0.0  287000.0  215250.0  \n",
       "3           0.0      P I F           0.0   35000.0   28000.0  \n",
       "4           0.0      P I F           0.0  229000.0  229000.0  "
      ]
     },
     "execution_count": 3,
     "metadata": {},
     "output_type": "execute_result"
    }
   ],
   "source": [
    "df.head(5)"
   ]
  },
  {
   "cell_type": "code",
   "execution_count": null,
   "id": "29ee3459",
   "metadata": {},
   "outputs": [],
   "source": [
    "df_BalanceGross=df.query(\"ChgOffPrinGr > 0\")\n",
    "df_BalanceGross"
   ]
  },
  {
   "cell_type": "code",
   "execution_count": 19,
   "id": "535659db",
   "metadata": {},
   "outputs": [
    {
     "data": {
      "image/png": "[encoded data removed]",
      "text/plain": [
       "<Figure size 2000x800 with 1 Axes>"
      ]
     },
     "metadata": {},
     "output_type": "display_data"
    }
   ],
   "source": [
    "\n",
    "sns.set_theme(style=\"white\")\n",
    "\n",
    "\n",
    "plt.figure(figsize=(20, 8))\n",
    "\n",
    "sns.barplot(x=\"State\", y=\"BalanceGross\", hue=\"MIS_Status\", data=df, errorbar=None)\n",
    "\n",
    "plt.show()"
   ]
  },
  {
   "cell_type": "markdown",
   "id": "2b305a95",
   "metadata": {},
   "source": [
    "By Season, some of the chart have been splitted as a result of the amount of data of the data set"
   ]
  },
  {
   "cell_type": "code",
   "execution_count": 38,
   "id": "e6b06052",
   "metadata": {},
   "outputs": [
    {
     "data": {
      "text/html": [
       "<div>\n",
       "<style scoped>\n",
       "    .dataframe tbody tr th:only-of-type {\n",
       "        vertical-align: middle;\n",
       "    }\n",
       "\n",
       "    .dataframe tbody tr th {\n",
       "        vertical-align: top;\n",
       "    }\n",
       "\n",
       "    .dataframe thead th {\n",
       "        text-align: right;\n",
       "    }\n",
       "</style>\n",
       "<table border=\"1\" class=\"dataframe\">\n",
       "  <thead>\n",
       "    <tr style=\"text-align: right;\">\n",
       "      <th></th>\n",
       "      <th>LoanNr_ChkDgt</th>\n",
       "      <th>Name</th>\n",
       "      <th>City</th>\n",
       "      <th>State</th>\n",
       "      <th>Zip</th>\n",
       "      <th>Bank</th>\n",
       "      <th>BankState</th>\n",
       "      <th>NAICS</th>\n",
       "      <th>ApprovalFY</th>\n",
       "      <th>Term</th>\n",
       "      <th>NoEmp</th>\n",
       "      <th>NewExist</th>\n",
       "      <th>CreateJob</th>\n",
       "      <th>RetainedJob</th>\n",
       "      <th>FranchiseCode</th>\n",
       "      <th>UrbanRural</th>\n",
       "      <th>RevLineCr</th>\n",
       "      <th>LowDoc</th>\n",
       "      <th>ChgOffDate</th>\n",
       "      <th>DisbursementGross</th>\n",
       "      <th>BalanceGross</th>\n",
       "      <th>MIS_Status</th>\n",
       "      <th>ChgOffPrinGr</th>\n",
       "      <th>GrAppv</th>\n",
       "      <th>SBA_Appv</th>\n",
       "      <th>Industry</th>\n",
       "      <th>DisbursementDate_day</th>\n",
       "      <th>DisbursementDate_month</th>\n",
       "      <th>DisbursementDate_year</th>\n",
       "      <th>DisbursementDate_weekday</th>\n",
       "      <th>DisbursementDate_quarter</th>\n",
       "      <th>ApprovalDate_day</th>\n",
       "      <th>ApprovalDate_month</th>\n",
       "      <th>ApprovalDate_year</th>\n",
       "      <th>ApprovalDate_weekday</th>\n",
       "      <th>ApprovalDate_quarter</th>\n",
       "      <th>mean_GrAppv</th>\n",
       "    </tr>\n",
       "  </thead>\n",
       "  <tbody>\n",
       "    <tr>\n",
       "      <th>0</th>\n",
       "      <td>1000014003</td>\n",
       "      <td>ABC HOBBYCRAFT</td>\n",
       "      <td>EVANSVILLE</td>\n",
       "      <td>IN</td>\n",
       "      <td>47711</td>\n",
       "      <td>FIFTH THIRD BANK</td>\n",
       "      <td>OH</td>\n",
       "      <td>45</td>\n",
       "      <td>1997</td>\n",
       "      <td>84</td>\n",
       "      <td>4</td>\n",
       "      <td>2.0</td>\n",
       "      <td>0</td>\n",
       "      <td>0</td>\n",
       "      <td>1</td>\n",
       "      <td>0</td>\n",
       "      <td>N</td>\n",
       "      <td>Y</td>\n",
       "      <td>NaN</td>\n",
       "      <td>60000.0</td>\n",
       "      <td>0.0</td>\n",
       "      <td>P I F</td>\n",
       "      <td>0.0</td>\n",
       "      <td>60000.0</td>\n",
       "      <td>48000.0</td>\n",
       "      <td>Retail trade</td>\n",
       "      <td>28</td>\n",
       "      <td>2</td>\n",
       "      <td>1999</td>\n",
       "      <td>6</td>\n",
       "      <td>1</td>\n",
       "      <td>28</td>\n",
       "      <td>2</td>\n",
       "      <td>1997</td>\n",
       "      <td>4</td>\n",
       "      <td>1</td>\n",
       "      <td>192686.98</td>\n",
       "    </tr>\n",
       "    <tr>\n",
       "      <th>1</th>\n",
       "      <td>1000024006</td>\n",
       "      <td>LANDMARK BAR &amp; GRILLE (THE)</td>\n",
       "      <td>NEW PARIS</td>\n",
       "      <td>IN</td>\n",
       "      <td>46526</td>\n",
       "      <td>1ST SOURCE BANK</td>\n",
       "      <td>IN</td>\n",
       "      <td>72</td>\n",
       "      <td>1997</td>\n",
       "      <td>60</td>\n",
       "      <td>2</td>\n",
       "      <td>2.0</td>\n",
       "      <td>0</td>\n",
       "      <td>0</td>\n",
       "      <td>1</td>\n",
       "      <td>0</td>\n",
       "      <td>N</td>\n",
       "      <td>Y</td>\n",
       "      <td>NaN</td>\n",
       "      <td>40000.0</td>\n",
       "      <td>0.0</td>\n",
       "      <td>P I F</td>\n",
       "      <td>0.0</td>\n",
       "      <td>40000.0</td>\n",
       "      <td>32000.0</td>\n",
       "      <td>Accommodation and food services</td>\n",
       "      <td>31</td>\n",
       "      <td>5</td>\n",
       "      <td>1997</td>\n",
       "      <td>5</td>\n",
       "      <td>2</td>\n",
       "      <td>28</td>\n",
       "      <td>2</td>\n",
       "      <td>1997</td>\n",
       "      <td>4</td>\n",
       "      <td>1</td>\n",
       "      <td>192686.98</td>\n",
       "    </tr>\n",
       "    <tr>\n",
       "      <th>2</th>\n",
       "      <td>1000034009</td>\n",
       "      <td>WHITLOCK DDS, TODD M.</td>\n",
       "      <td>BLOOMINGTON</td>\n",
       "      <td>IN</td>\n",
       "      <td>47401</td>\n",
       "      <td>GRANT COUNTY STATE BANK</td>\n",
       "      <td>IN</td>\n",
       "      <td>62</td>\n",
       "      <td>1997</td>\n",
       "      <td>180</td>\n",
       "      <td>7</td>\n",
       "      <td>1.0</td>\n",
       "      <td>0</td>\n",
       "      <td>0</td>\n",
       "      <td>1</td>\n",
       "      <td>0</td>\n",
       "      <td>N</td>\n",
       "      <td>N</td>\n",
       "      <td>NaN</td>\n",
       "      <td>287000.0</td>\n",
       "      <td>0.0</td>\n",
       "      <td>P I F</td>\n",
       "      <td>0.0</td>\n",
       "      <td>287000.0</td>\n",
       "      <td>215250.0</td>\n",
       "      <td>Health care and social assistance</td>\n",
       "      <td>31</td>\n",
       "      <td>12</td>\n",
       "      <td>1997</td>\n",
       "      <td>2</td>\n",
       "      <td>4</td>\n",
       "      <td>28</td>\n",
       "      <td>2</td>\n",
       "      <td>1997</td>\n",
       "      <td>4</td>\n",
       "      <td>1</td>\n",
       "      <td>192686.98</td>\n",
       "    </tr>\n",
       "    <tr>\n",
       "      <th>3</th>\n",
       "      <td>1000044001</td>\n",
       "      <td>BIG BUCKS PAWN &amp; JEWELRY, LLC</td>\n",
       "      <td>BROKEN ARROW</td>\n",
       "      <td>OK</td>\n",
       "      <td>74012</td>\n",
       "      <td>1ST NATL BK &amp; TR CO OF BROKEN</td>\n",
       "      <td>OK</td>\n",
       "      <td>0</td>\n",
       "      <td>1997</td>\n",
       "      <td>60</td>\n",
       "      <td>2</td>\n",
       "      <td>1.0</td>\n",
       "      <td>0</td>\n",
       "      <td>0</td>\n",
       "      <td>1</td>\n",
       "      <td>0</td>\n",
       "      <td>N</td>\n",
       "      <td>Y</td>\n",
       "      <td>NaN</td>\n",
       "      <td>35000.0</td>\n",
       "      <td>0.0</td>\n",
       "      <td>P I F</td>\n",
       "      <td>0.0</td>\n",
       "      <td>35000.0</td>\n",
       "      <td>28000.0</td>\n",
       "      <td>NaN</td>\n",
       "      <td>30</td>\n",
       "      <td>6</td>\n",
       "      <td>1997</td>\n",
       "      <td>0</td>\n",
       "      <td>2</td>\n",
       "      <td>28</td>\n",
       "      <td>2</td>\n",
       "      <td>1997</td>\n",
       "      <td>4</td>\n",
       "      <td>1</td>\n",
       "      <td>192686.98</td>\n",
       "    </tr>\n",
       "    <tr>\n",
       "      <th>4</th>\n",
       "      <td>1000054004</td>\n",
       "      <td>ANASTASIA CONFECTIONS, INC.</td>\n",
       "      <td>ORLANDO</td>\n",
       "      <td>FL</td>\n",
       "      <td>32801</td>\n",
       "      <td>FLORIDA BUS. DEVEL CORP</td>\n",
       "      <td>FL</td>\n",
       "      <td>0</td>\n",
       "      <td>1997</td>\n",
       "      <td>240</td>\n",
       "      <td>14</td>\n",
       "      <td>1.0</td>\n",
       "      <td>7</td>\n",
       "      <td>7</td>\n",
       "      <td>1</td>\n",
       "      <td>0</td>\n",
       "      <td>N</td>\n",
       "      <td>N</td>\n",
       "      <td>NaN</td>\n",
       "      <td>229000.0</td>\n",
       "      <td>0.0</td>\n",
       "      <td>P I F</td>\n",
       "      <td>0.0</td>\n",
       "      <td>229000.0</td>\n",
       "      <td>229000.0</td>\n",
       "      <td>NaN</td>\n",
       "      <td>14</td>\n",
       "      <td>5</td>\n",
       "      <td>1997</td>\n",
       "      <td>2</td>\n",
       "      <td>2</td>\n",
       "      <td>28</td>\n",
       "      <td>2</td>\n",
       "      <td>1997</td>\n",
       "      <td>4</td>\n",
       "      <td>1</td>\n",
       "      <td>192686.98</td>\n",
       "    </tr>\n",
       "  </tbody>\n",
       "</table>\n",
       "</div>"
      ],
      "text/plain": [
       "   LoanNr_ChkDgt                           Name          City State    Zip  \\\n",
       "0     1000014003                 ABC HOBBYCRAFT    EVANSVILLE    IN  47711   \n",
       "1     1000024006    LANDMARK BAR & GRILLE (THE)     NEW PARIS    IN  46526   \n",
       "2     1000034009          WHITLOCK DDS, TODD M.   BLOOMINGTON    IN  47401   \n",
       "3     1000044001  BIG BUCKS PAWN & JEWELRY, LLC  BROKEN ARROW    OK  74012   \n",
       "4     1000054004    ANASTASIA CONFECTIONS, INC.       ORLANDO    FL  32801   \n",
       "\n",
       "                            Bank BankState NAICS ApprovalFY  Term  NoEmp  \\\n",
       "0               FIFTH THIRD BANK        OH    45       1997    84      4   \n",
       "1                1ST SOURCE BANK        IN    72       1997    60      2   \n",
       "2        GRANT COUNTY STATE BANK        IN    62       1997   180      7   \n",
       "3  1ST NATL BK & TR CO OF BROKEN        OK     0       1997    60      2   \n",
       "4        FLORIDA BUS. DEVEL CORP        FL     0       1997   240     14   \n",
       "\n",
       "   NewExist  CreateJob  RetainedJob  FranchiseCode  UrbanRural RevLineCr  \\\n",
       "0       2.0          0            0              1           0         N   \n",
       "1       2.0          0            0              1           0         N   \n",
       "2       1.0          0            0              1           0         N   \n",
       "3       1.0          0            0              1           0         N   \n",
       "4       1.0          7            7              1           0         N   \n",
       "\n",
       "  LowDoc ChgOffDate  DisbursementGross  BalanceGross MIS_Status  ChgOffPrinGr  \\\n",
       "0      Y        NaN            60000.0           0.0      P I F           0.0   \n",
       "1      Y        NaN            40000.0           0.0      P I F           0.0   \n",
       "2      N        NaN           287000.0           0.0      P I F           0.0   \n",
       "3      Y        NaN            35000.0           0.0      P I F           0.0   \n",
       "4      N        NaN           229000.0           0.0      P I F           0.0   \n",
       "\n",
       "     GrAppv  SBA_Appv                           Industry  \\\n",
       "0   60000.0   48000.0                       Retail trade   \n",
       "1   40000.0   32000.0    Accommodation and food services   \n",
       "2  287000.0  215250.0  Health care and social assistance   \n",
       "3   35000.0   28000.0                                NaN   \n",
       "4  229000.0  229000.0                                NaN   \n",
       "\n",
       "   DisbursementDate_day  DisbursementDate_month  DisbursementDate_year  \\\n",
       "0                    28                       2                   1999   \n",
       "1                    31                       5                   1997   \n",
       "2                    31                      12                   1997   \n",
       "3                    30                       6                   1997   \n",
       "4                    14                       5                   1997   \n",
       "\n",
       "   DisbursementDate_weekday  DisbursementDate_quarter  ApprovalDate_day  \\\n",
       "0                         6                         1                28   \n",
       "1                         5                         2                28   \n",
       "2                         2                         4                28   \n",
       "3                         0                         2                28   \n",
       "4                         2                         2                28   \n",
       "\n",
       "   ApprovalDate_month  ApprovalDate_year  ApprovalDate_weekday  \\\n",
       "0                   2               1997                     4   \n",
       "1                   2               1997                     4   \n",
       "2                   2               1997                     4   \n",
       "3                   2               1997                     4   \n",
       "4                   2               1997                     4   \n",
       "\n",
       "   ApprovalDate_quarter  mean_GrAppv  \n",
       "0                     1    192686.98  \n",
       "1                     1    192686.98  \n",
       "2                     1    192686.98  \n",
       "3                     1    192686.98  \n",
       "4                     1    192686.98  "
      ]
     },
     "execution_count": 38,
     "metadata": {},
     "output_type": "execute_result"
    }
   ],
   "source": [
    "df.head(5)"
   ]
  },
  {
   "cell_type": "code",
   "execution_count": 54,
   "id": "499e189c",
   "metadata": {},
   "outputs": [
    {
     "data": {
      "text/html": [
       "<div>\n",
       "<style scoped>\n",
       "    .dataframe tbody tr th:only-of-type {\n",
       "        vertical-align: middle;\n",
       "    }\n",
       "\n",
       "    .dataframe tbody tr th {\n",
       "        vertical-align: top;\n",
       "    }\n",
       "\n",
       "    .dataframe thead th {\n",
       "        text-align: right;\n",
       "    }\n",
       "</style>\n",
       "<table border=\"1\" class=\"dataframe\">\n",
       "  <thead>\n",
       "    <tr style=\"text-align: right;\">\n",
       "      <th></th>\n",
       "      <th>ApprovalDate_year</th>\n",
       "      <th>GrAppv</th>\n",
       "    </tr>\n",
       "  </thead>\n",
       "  <tbody>\n",
       "    <tr>\n",
       "      <th>0</th>\n",
       "      <td>1969</td>\n",
       "      <td>74925.000000</td>\n",
       "    </tr>\n",
       "    <tr>\n",
       "      <th>1</th>\n",
       "      <td>1970</td>\n",
       "      <td>102797.894737</td>\n",
       "    </tr>\n",
       "    <tr>\n",
       "      <th>2</th>\n",
       "      <td>1971</td>\n",
       "      <td>136433.333333</td>\n",
       "    </tr>\n",
       "    <tr>\n",
       "      <th>3</th>\n",
       "      <td>1972</td>\n",
       "      <td>138807.608696</td>\n",
       "    </tr>\n",
       "    <tr>\n",
       "      <th>4</th>\n",
       "      <td>1973</td>\n",
       "      <td>175647.826087</td>\n",
       "    </tr>\n",
       "    <tr>\n",
       "      <th>5</th>\n",
       "      <td>1974</td>\n",
       "      <td>122834.687500</td>\n",
       "    </tr>\n",
       "    <tr>\n",
       "      <th>6</th>\n",
       "      <td>1975</td>\n",
       "      <td>136951.020408</td>\n",
       "    </tr>\n",
       "    <tr>\n",
       "      <th>7</th>\n",
       "      <td>1976</td>\n",
       "      <td>150461.363636</td>\n",
       "    </tr>\n",
       "    <tr>\n",
       "      <th>8</th>\n",
       "      <td>1977</td>\n",
       "      <td>191335.460993</td>\n",
       "    </tr>\n",
       "    <tr>\n",
       "      <th>9</th>\n",
       "      <td>1978</td>\n",
       "      <td>190638.148148</td>\n",
       "    </tr>\n",
       "  </tbody>\n",
       "</table>\n",
       "</div>"
      ],
      "text/plain": [
       "   ApprovalDate_year         GrAppv\n",
       "0               1969   74925.000000\n",
       "1               1970  102797.894737\n",
       "2               1971  136433.333333\n",
       "3               1972  138807.608696\n",
       "4               1973  175647.826087\n",
       "5               1974  122834.687500\n",
       "6               1975  136951.020408\n",
       "7               1976  150461.363636\n",
       "8               1977  191335.460993\n",
       "9               1978  190638.148148"
      ]
     },
     "execution_count": 54,
     "metadata": {},
     "output_type": "execute_result"
    }
   ],
   "source": [
    "df_year = df.groupby(\"ApprovalDate_year\")[['GrAppv']].mean().reset_index()\n",
    "df_year.head(10)"
   ]
  },
  {
   "cell_type": "code",
   "execution_count": null,
   "id": "585235c2",
   "metadata": {},
   "outputs": [],
   "source": []
  },
  {
   "cell_type": "code",
   "execution_count": 58,
   "id": "d9a247bb",
   "metadata": {},
   "outputs": [
    {
     "data": {
      "image/png": "[encoded data removed]"
     },
     "metadata": {
      "image/png": {
       "height": 480,
       "width": 640
      }
     },
     "output_type": "display_data"
    }
   ],
   "source": [
    "\n",
    "(\n",
    "    ggplot(df_year, aes(x=\"ApprovalDate_year\", y=\"GrAppv\")) \n",
    "    + geom_bar(stat=\"identity\", fill=\"#2E86C1\", color=\"black\") \n",
    "    + theme_minimal()\n",
    ")"
   ]
  },
  {
   "cell_type": "code",
   "execution_count": 51,
   "id": "a2793ff0",
   "metadata": {},
   "outputs": [
    {
     "data": {
      "image/png": "[encoded data removed]"
     },
     "metadata": {
      "image/png": {
       "height": 480,
       "width": 640
      }
     },
     "output_type": "display_data"
    }
   ],
   "source": [
    "(\n",
    "ggplot(df, aes(x='ApprovalDate_day')) +\n",
    "    geom_histogram(bins=31, fill='lightblue', color='black') +\n",
    "    labs(\n",
    "    title=\"When are banks likely to disburse a loan?\",\n",
    "    # subtitle='Banks with 50 or more loans anually',\n",
    "    x=\"Month\",\n",
    "    y=\"Total Disbursement per month\")\n",
    "    + theme_minimal()\n",
    "    + scale_x_continuous(breaks=range(1, 32))\n",
    ")"
   ]
  },
  {
   "cell_type": "code",
   "execution_count": 48,
   "id": "445c2b21",
   "metadata": {},
   "outputs": [
    {
     "data": {
      "image/png": "[encoded data removed]"
     },
     "metadata": {
      "image/png": {
       "height": 480,
       "width": 640
      }
     },
     "output_type": "display_data"
    }
   ],
   "source": [
    "(\n",
    "ggplot(df, aes(x='ApprovalDate_quarter')) +\n",
    "    geom_histogram(bins=4, fill='lightblue', color='black') +\n",
    "    labs(\n",
    "    title=\"When are banks likely to disburse a loan?\",\n",
    "    # subtitle='Banks with 50 or more loans anually',\n",
    "    x=\"Month\",\n",
    "    y=\"Total Disbursement per month\")\n",
    "    + theme_minimal()\n",
    "    + scale_x_continuous(breaks=range(1, 5))\n",
    ")"
   ]
  },
  {
   "cell_type": "code",
   "execution_count": 46,
   "id": "f04ed6ab",
   "metadata": {},
   "outputs": [
    {
     "data": {
      "image/png": "[encoded data removed]"
     },
     "metadata": {
      "image/png": {
       "height": 480,
       "width": 640
      }
     },
     "output_type": "display_data"
    }
   ],
   "source": [
    "(\n",
    "ggplot(df, aes(x='ApprovalDate_month')) +\n",
    "    geom_histogram(bins=12, fill='lightblue', color='black') +\n",
    "    labs(\n",
    "    title=\"When are banks likely to disburse a loan?\",\n",
    "    # subtitle='Banks with 50 or more loans anually',\n",
    "    x=\"Month\",\n",
    "    y=\"Total Disbursement per month\")\n",
    "    + theme_minimal()\n",
    "    + scale_x_continuous(breaks=range(1, 13))\n",
    ")"
   ]
  },
  {
   "cell_type": "code",
   "execution_count": 8,
   "id": "70954066",
   "metadata": {},
   "outputs": [
    {
     "data": {
      "text/html": [
       "<div>\n",
       "<style scoped>\n",
       "    .dataframe tbody tr th:only-of-type {\n",
       "        vertical-align: middle;\n",
       "    }\n",
       "\n",
       "    .dataframe tbody tr th {\n",
       "        vertical-align: top;\n",
       "    }\n",
       "\n",
       "    .dataframe thead th {\n",
       "        text-align: right;\n",
       "    }\n",
       "</style>\n",
       "<table border=\"1\" class=\"dataframe\">\n",
       "  <thead>\n",
       "    <tr style=\"text-align: right;\">\n",
       "      <th></th>\n",
       "      <th>LoanNr_ChkDgt</th>\n",
       "      <th>Name</th>\n",
       "      <th>City</th>\n",
       "      <th>State</th>\n",
       "      <th>Zip</th>\n",
       "      <th>Bank</th>\n",
       "      <th>BankState</th>\n",
       "      <th>NAICS</th>\n",
       "      <th>ApprovalFY</th>\n",
       "      <th>Term</th>\n",
       "      <th>NoEmp</th>\n",
       "      <th>NewExist</th>\n",
       "      <th>CreateJob</th>\n",
       "      <th>RetainedJob</th>\n",
       "      <th>FranchiseCode</th>\n",
       "      <th>UrbanRural</th>\n",
       "      <th>RevLineCr</th>\n",
       "      <th>LowDoc</th>\n",
       "      <th>ChgOffDate</th>\n",
       "      <th>DisbursementGross</th>\n",
       "      <th>BalanceGross</th>\n",
       "      <th>MIS_Status</th>\n",
       "      <th>ChgOffPrinGr</th>\n",
       "      <th>GrAppv</th>\n",
       "      <th>SBA_Appv</th>\n",
       "      <th>Industry</th>\n",
       "      <th>DisbursementDate_day</th>\n",
       "      <th>DisbursementDate_month</th>\n",
       "      <th>DisbursementDate_year</th>\n",
       "      <th>DisbursementDate_weekday</th>\n",
       "      <th>DisbursementDate_quarter</th>\n",
       "      <th>ApprovalDate_day</th>\n",
       "      <th>ApprovalDate_month</th>\n",
       "      <th>ApprovalDate_year</th>\n",
       "      <th>ApprovalDate_weekday</th>\n",
       "      <th>ApprovalDate_quarter</th>\n",
       "    </tr>\n",
       "  </thead>\n",
       "  <tbody>\n",
       "    <tr>\n",
       "      <th>0</th>\n",
       "      <td>1000014003</td>\n",
       "      <td>ABC HOBBYCRAFT</td>\n",
       "      <td>EVANSVILLE</td>\n",
       "      <td>IN</td>\n",
       "      <td>47711</td>\n",
       "      <td>FIFTH THIRD BANK</td>\n",
       "      <td>OH</td>\n",
       "      <td>45</td>\n",
       "      <td>1997</td>\n",
       "      <td>84</td>\n",
       "      <td>4</td>\n",
       "      <td>2.0</td>\n",
       "      <td>0</td>\n",
       "      <td>0</td>\n",
       "      <td>1</td>\n",
       "      <td>0</td>\n",
       "      <td>N</td>\n",
       "      <td>Y</td>\n",
       "      <td>NaN</td>\n",
       "      <td>60000.0</td>\n",
       "      <td>0.0</td>\n",
       "      <td>P I F</td>\n",
       "      <td>0.0</td>\n",
       "      <td>60000.0</td>\n",
       "      <td>48000.0</td>\n",
       "      <td>Retail trade</td>\n",
       "      <td>28</td>\n",
       "      <td>2</td>\n",
       "      <td>1999</td>\n",
       "      <td>6</td>\n",
       "      <td>1</td>\n",
       "      <td>28</td>\n",
       "      <td>2</td>\n",
       "      <td>1997</td>\n",
       "      <td>4</td>\n",
       "      <td>1</td>\n",
       "    </tr>\n",
       "    <tr>\n",
       "      <th>1</th>\n",
       "      <td>1000024006</td>\n",
       "      <td>LANDMARK BAR &amp; GRILLE (THE)</td>\n",
       "      <td>NEW PARIS</td>\n",
       "      <td>IN</td>\n",
       "      <td>46526</td>\n",
       "      <td>1ST SOURCE BANK</td>\n",
       "      <td>IN</td>\n",
       "      <td>72</td>\n",
       "      <td>1997</td>\n",
       "      <td>60</td>\n",
       "      <td>2</td>\n",
       "      <td>2.0</td>\n",
       "      <td>0</td>\n",
       "      <td>0</td>\n",
       "      <td>1</td>\n",
       "      <td>0</td>\n",
       "      <td>N</td>\n",
       "      <td>Y</td>\n",
       "      <td>NaN</td>\n",
       "      <td>40000.0</td>\n",
       "      <td>0.0</td>\n",
       "      <td>P I F</td>\n",
       "      <td>0.0</td>\n",
       "      <td>40000.0</td>\n",
       "      <td>32000.0</td>\n",
       "      <td>Accommodation and food services</td>\n",
       "      <td>31</td>\n",
       "      <td>5</td>\n",
       "      <td>1997</td>\n",
       "      <td>5</td>\n",
       "      <td>2</td>\n",
       "      <td>28</td>\n",
       "      <td>2</td>\n",
       "      <td>1997</td>\n",
       "      <td>4</td>\n",
       "      <td>1</td>\n",
       "    </tr>\n",
       "    <tr>\n",
       "      <th>3</th>\n",
       "      <td>1000044001</td>\n",
       "      <td>BIG BUCKS PAWN &amp; JEWELRY, LLC</td>\n",
       "      <td>BROKEN ARROW</td>\n",
       "      <td>OK</td>\n",
       "      <td>74012</td>\n",
       "      <td>1ST NATL BK &amp; TR CO OF BROKEN</td>\n",
       "      <td>OK</td>\n",
       "      <td>0</td>\n",
       "      <td>1997</td>\n",
       "      <td>60</td>\n",
       "      <td>2</td>\n",
       "      <td>1.0</td>\n",
       "      <td>0</td>\n",
       "      <td>0</td>\n",
       "      <td>1</td>\n",
       "      <td>0</td>\n",
       "      <td>N</td>\n",
       "      <td>Y</td>\n",
       "      <td>NaN</td>\n",
       "      <td>35000.0</td>\n",
       "      <td>0.0</td>\n",
       "      <td>P I F</td>\n",
       "      <td>0.0</td>\n",
       "      <td>35000.0</td>\n",
       "      <td>28000.0</td>\n",
       "      <td>NaN</td>\n",
       "      <td>30</td>\n",
       "      <td>6</td>\n",
       "      <td>1997</td>\n",
       "      <td>0</td>\n",
       "      <td>2</td>\n",
       "      <td>28</td>\n",
       "      <td>2</td>\n",
       "      <td>1997</td>\n",
       "      <td>4</td>\n",
       "      <td>1</td>\n",
       "    </tr>\n",
       "    <tr>\n",
       "      <th>4</th>\n",
       "      <td>1000054004</td>\n",
       "      <td>ANASTASIA CONFECTIONS, INC.</td>\n",
       "      <td>ORLANDO</td>\n",
       "      <td>FL</td>\n",
       "      <td>32801</td>\n",
       "      <td>FLORIDA BUS. DEVEL CORP</td>\n",
       "      <td>FL</td>\n",
       "      <td>0</td>\n",
       "      <td>1997</td>\n",
       "      <td>240</td>\n",
       "      <td>14</td>\n",
       "      <td>1.0</td>\n",
       "      <td>7</td>\n",
       "      <td>7</td>\n",
       "      <td>1</td>\n",
       "      <td>0</td>\n",
       "      <td>N</td>\n",
       "      <td>N</td>\n",
       "      <td>NaN</td>\n",
       "      <td>229000.0</td>\n",
       "      <td>0.0</td>\n",
       "      <td>P I F</td>\n",
       "      <td>0.0</td>\n",
       "      <td>229000.0</td>\n",
       "      <td>229000.0</td>\n",
       "      <td>NaN</td>\n",
       "      <td>14</td>\n",
       "      <td>5</td>\n",
       "      <td>1997</td>\n",
       "      <td>2</td>\n",
       "      <td>2</td>\n",
       "      <td>28</td>\n",
       "      <td>2</td>\n",
       "      <td>1997</td>\n",
       "      <td>4</td>\n",
       "      <td>1</td>\n",
       "    </tr>\n",
       "    <tr>\n",
       "      <th>5</th>\n",
       "      <td>1000084002</td>\n",
       "      <td>B&amp;T SCREW MACHINE COMPANY, INC</td>\n",
       "      <td>PLAINVILLE</td>\n",
       "      <td>CT</td>\n",
       "      <td>6062</td>\n",
       "      <td>TD BANK, NATIONAL ASSOCIATION</td>\n",
       "      <td>DE</td>\n",
       "      <td>33</td>\n",
       "      <td>1997</td>\n",
       "      <td>120</td>\n",
       "      <td>19</td>\n",
       "      <td>1.0</td>\n",
       "      <td>0</td>\n",
       "      <td>0</td>\n",
       "      <td>1</td>\n",
       "      <td>0</td>\n",
       "      <td>N</td>\n",
       "      <td>N</td>\n",
       "      <td>NaN</td>\n",
       "      <td>517000.0</td>\n",
       "      <td>0.0</td>\n",
       "      <td>P I F</td>\n",
       "      <td>0.0</td>\n",
       "      <td>517000.0</td>\n",
       "      <td>387750.0</td>\n",
       "      <td>Manufacturing</td>\n",
       "      <td>30</td>\n",
       "      <td>6</td>\n",
       "      <td>1997</td>\n",
       "      <td>0</td>\n",
       "      <td>2</td>\n",
       "      <td>28</td>\n",
       "      <td>2</td>\n",
       "      <td>1997</td>\n",
       "      <td>4</td>\n",
       "      <td>1</td>\n",
       "    </tr>\n",
       "  </tbody>\n",
       "</table>\n",
       "</div>"
      ],
      "text/plain": [
       "   LoanNr_ChkDgt                            Name          City State    Zip  \\\n",
       "0     1000014003                  ABC HOBBYCRAFT    EVANSVILLE    IN  47711   \n",
       "1     1000024006     LANDMARK BAR & GRILLE (THE)     NEW PARIS    IN  46526   \n",
       "3     1000044001   BIG BUCKS PAWN & JEWELRY, LLC  BROKEN ARROW    OK  74012   \n",
       "4     1000054004     ANASTASIA CONFECTIONS, INC.       ORLANDO    FL  32801   \n",
       "5     1000084002  B&T SCREW MACHINE COMPANY, INC    PLAINVILLE    CT   6062   \n",
       "\n",
       "                            Bank BankState NAICS ApprovalFY  Term  NoEmp  \\\n",
       "0               FIFTH THIRD BANK        OH    45       1997    84      4   \n",
       "1                1ST SOURCE BANK        IN    72       1997    60      2   \n",
       "3  1ST NATL BK & TR CO OF BROKEN        OK     0       1997    60      2   \n",
       "4        FLORIDA BUS. DEVEL CORP        FL     0       1997   240     14   \n",
       "5  TD BANK, NATIONAL ASSOCIATION        DE    33       1997   120     19   \n",
       "\n",
       "   NewExist  CreateJob  RetainedJob  FranchiseCode  UrbanRural RevLineCr  \\\n",
       "0       2.0          0            0              1           0         N   \n",
       "1       2.0          0            0              1           0         N   \n",
       "3       1.0          0            0              1           0         N   \n",
       "4       1.0          7            7              1           0         N   \n",
       "5       1.0          0            0              1           0         N   \n",
       "\n",
       "  LowDoc ChgOffDate  DisbursementGross  BalanceGross MIS_Status  ChgOffPrinGr  \\\n",
       "0      Y        NaN            60000.0           0.0      P I F           0.0   \n",
       "1      Y        NaN            40000.0           0.0      P I F           0.0   \n",
       "3      Y        NaN            35000.0           0.0      P I F           0.0   \n",
       "4      N        NaN           229000.0           0.0      P I F           0.0   \n",
       "5      N        NaN           517000.0           0.0      P I F           0.0   \n",
       "\n",
       "     GrAppv  SBA_Appv                         Industry  DisbursementDate_day  \\\n",
       "0   60000.0   48000.0                     Retail trade                    28   \n",
       "1   40000.0   32000.0  Accommodation and food services                    31   \n",
       "3   35000.0   28000.0                              NaN                    30   \n",
       "4  229000.0  229000.0                              NaN                    14   \n",
       "5  517000.0  387750.0                    Manufacturing                    30   \n",
       "\n",
       "   DisbursementDate_month  DisbursementDate_year  DisbursementDate_weekday  \\\n",
       "0                       2                   1999                         6   \n",
       "1                       5                   1997                         5   \n",
       "3                       6                   1997                         0   \n",
       "4                       5                   1997                         2   \n",
       "5                       6                   1997                         0   \n",
       "\n",
       "   DisbursementDate_quarter  ApprovalDate_day  ApprovalDate_month  \\\n",
       "0                         1                28                   2   \n",
       "1                         2                28                   2   \n",
       "3                         2                28                   2   \n",
       "4                         2                28                   2   \n",
       "5                         2                28                   2   \n",
       "\n",
       "   ApprovalDate_year  ApprovalDate_weekday  ApprovalDate_quarter  \n",
       "0               1997                     4                     1  \n",
       "1               1997                     4                     1  \n",
       "3               1997                     4                     1  \n",
       "4               1997                     4                     1  \n",
       "5               1997                     4                     1  "
      ]
     },
     "execution_count": 8,
     "metadata": {},
     "output_type": "execute_result"
    }
   ],
   "source": [
    "# Contar cuántas veces aparece cada banco\n",
    "M50banks = df['Bank'].value_counts()\n",
    "\n",
    "# Filtrar solo los que tienen al menos 50 ocurrencias\n",
    "M50 = M50banks[M50banks >= 50].index\n",
    "\n",
    "# Filtrar el DataFrame original para quedarse solo con esos bancos\n",
    "df_M50banks = df[df['Bank'].isin(M50)]\n",
    "df_M50banks.head(5)"
   ]
  },
  {
   "cell_type": "code",
   "execution_count": 24,
   "id": "3dd7b07c",
   "metadata": {},
   "outputs": [
    {
     "name": "stdout",
     "output_type": "stream",
     "text": [
      "<class 'pandas.core.frame.DataFrame'>\n",
      "Index: 850146 entries, 0 to 899163\n",
      "Data columns (total 36 columns):\n",
      " #   Column                    Non-Null Count   Dtype  \n",
      "---  ------                    --------------   -----  \n",
      " 0   LoanNr_ChkDgt             850146 non-null  int64  \n",
      " 1   Name                      850132 non-null  object \n",
      " 2   City                      850120 non-null  object \n",
      " 3   State                     850135 non-null  object \n",
      " 4   Zip                       850146 non-null  int64  \n",
      " 5   Bank                      850146 non-null  object \n",
      " 6   BankState                 850146 non-null  object \n",
      " 7   NAICS                     850146 non-null  object \n",
      " 8   ApprovalFY                850146 non-null  object \n",
      " 9   Term                      850146 non-null  int64  \n",
      " 10  NoEmp                     850146 non-null  int64  \n",
      " 11  NewExist                  850020 non-null  float64\n",
      " 12  CreateJob                 850146 non-null  int64  \n",
      " 13  RetainedJob               850146 non-null  int64  \n",
      " 14  FranchiseCode             850146 non-null  int64  \n",
      " 15  UrbanRural                850146 non-null  int64  \n",
      " 16  RevLineCr                 846017 non-null  object \n",
      " 17  LowDoc                    847800 non-null  object \n",
      " 18  ChgOffDate                155781 non-null  object \n",
      " 19  DisbursementGross         850146 non-null  float64\n",
      " 20  BalanceGross              850146 non-null  float64\n",
      " 21  MIS_Status                848242 non-null  object \n",
      " 22  ChgOffPrinGr              850146 non-null  float64\n",
      " 23  GrAppv                    850146 non-null  float64\n",
      " 24  SBA_Appv                  850146 non-null  float64\n",
      " 25  Industry                  662904 non-null  object \n",
      " 26  DisbursementDate_day      850146 non-null  int32  \n",
      " 27  DisbursementDate_month    850146 non-null  int32  \n",
      " 28  DisbursementDate_year     850146 non-null  int32  \n",
      " 29  DisbursementDate_weekday  850146 non-null  int32  \n",
      " 30  DisbursementDate_quarter  850146 non-null  int32  \n",
      " 31  ApprovalDate_day          850146 non-null  int32  \n",
      " 32  ApprovalDate_month        850146 non-null  int32  \n",
      " 33  ApprovalDate_year         850146 non-null  int32  \n",
      " 34  ApprovalDate_weekday      850146 non-null  int32  \n",
      " 35  ApprovalDate_quarter      850146 non-null  int32  \n",
      "dtypes: float64(6), int32(10), int64(8), object(12)\n",
      "memory usage: 207.6+ MB\n"
     ]
    }
   ],
   "source": [
    "df_M50banks.info()"
   ]
  },
  {
   "cell_type": "code",
   "execution_count": 9,
   "id": "8dfd2de7",
   "metadata": {},
   "outputs": [],
   "source": [
    "df_sum = df_M50banks.groupby(\"DisbursementDate_month\", as_index=False)[\"DisbursementGross\"].sum()"
   ]
  },
  {
   "cell_type": "code",
   "execution_count": 10,
   "id": "7e308288",
   "metadata": {},
   "outputs": [
    {
     "data": {
      "text/plain": [
       "np.float64(170674647715.0)"
      ]
     },
     "execution_count": 10,
     "metadata": {},
     "output_type": "execute_result"
    }
   ],
   "source": [
    "df_sum['DisbursementGross'].sum()"
   ]
  },
  {
   "cell_type": "code",
   "execution_count": 11,
   "id": "b6d4cddd",
   "metadata": {},
   "outputs": [
    {
     "data": {
      "image/png": "[encoded data removed]"
     },
     "metadata": {
      "image/png": {
       "height": 480,
       "width": 640
      }
     },
     "output_type": "display_data"
    }
   ],
   "source": [
    "\n",
    "(\n",
    "    ggplot(df_sum, aes(x=\"DisbursementDate_month\", y=\"DisbursementGross\")) \n",
    "    + geom_bar(stat=\"identity\", fill=\"#2E86C1\", color=\"black\") \n",
    "    + labs(\n",
    "        title=\"When are banks likely to disburse a loan?\",\n",
    "        subtitle='Banks with 50 or more loans anually',\n",
    "        x=\"Month\",\n",
    "        y=\"Total Disbursement\")\n",
    "    + theme_minimal()\n",
    "    + scale_x_continuous(breaks=range(1, 13))\n",
    "    + scale_y_continuous(labels=lambda l: [f\"{int(v/1e9)}B\" for v in l])\n",
    "\n",
    ")"
   ]
  },
  {
   "cell_type": "code",
   "execution_count": 12,
   "id": "00fb3a72",
   "metadata": {},
   "outputs": [
    {
     "data": {
      "image/png": "[encoded data removed]"
     },
     "metadata": {
      "image/png": {
       "height": 480,
       "width": 640
      }
     },
     "output_type": "display_data"
    }
   ],
   "source": [
    "(\n",
    "    ggplot(df_M50banks, aes(x=\"Term\", y=\"DisbursementGross\")) \n",
    "    + geom_bar(stat=\"identity\", fill=\"#2E86C1\", color=\"black\") \n",
    "    + labs(\n",
    "        title=\"When are banks likely to disburse a loan?\",\n",
    "        subtitle='Banks with 50 or more loans anually',\n",
    "        x=\"Month\",\n",
    "        y=\"Total Disbursement\")\n",
    "    + theme_minimal()\n",
    "    # + scale_x_continuous(breaks=range(1, 13))\n",
    "    + scale_y_continuous(labels=lambda l: [f\"{int(v/1e9)}B\" for v in l])\n",
    "\n",
    ")"
   ]
  },
  {
   "cell_type": "code",
   "execution_count": 48,
   "id": "4f7f845f",
   "metadata": {},
   "outputs": [
    {
     "data": {
      "text/html": [
       "<div>\n",
       "<style scoped>\n",
       "    .dataframe tbody tr th:only-of-type {\n",
       "        vertical-align: middle;\n",
       "    }\n",
       "\n",
       "    .dataframe tbody tr th {\n",
       "        vertical-align: top;\n",
       "    }\n",
       "\n",
       "    .dataframe thead th {\n",
       "        text-align: right;\n",
       "    }\n",
       "</style>\n",
       "<table border=\"1\" class=\"dataframe\">\n",
       "  <thead>\n",
       "    <tr style=\"text-align: right;\">\n",
       "      <th></th>\n",
       "      <th>LoanNr_ChkDgt</th>\n",
       "      <th>Name</th>\n",
       "      <th>City</th>\n",
       "      <th>State</th>\n",
       "      <th>Zip</th>\n",
       "      <th>Bank</th>\n",
       "      <th>BankState</th>\n",
       "      <th>NAICS</th>\n",
       "      <th>ApprovalFY</th>\n",
       "      <th>Term</th>\n",
       "      <th>NoEmp</th>\n",
       "      <th>NewExist</th>\n",
       "      <th>CreateJob</th>\n",
       "      <th>RetainedJob</th>\n",
       "      <th>FranchiseCode</th>\n",
       "      <th>UrbanRural</th>\n",
       "      <th>RevLineCr</th>\n",
       "      <th>LowDoc</th>\n",
       "      <th>ChgOffDate</th>\n",
       "      <th>DisbursementGross</th>\n",
       "      <th>BalanceGross</th>\n",
       "      <th>MIS_Status</th>\n",
       "      <th>ChgOffPrinGr</th>\n",
       "      <th>GrAppv</th>\n",
       "      <th>SBA_Appv</th>\n",
       "      <th>Industry</th>\n",
       "      <th>DisbursementDate_day</th>\n",
       "      <th>DisbursementDate_month</th>\n",
       "      <th>DisbursementDate_year</th>\n",
       "      <th>DisbursementDate_weekday</th>\n",
       "      <th>DisbursementDate_quarter</th>\n",
       "      <th>ApprovalDate_day</th>\n",
       "      <th>ApprovalDate_month</th>\n",
       "      <th>ApprovalDate_year</th>\n",
       "      <th>ApprovalDate_weekday</th>\n",
       "      <th>ApprovalDate_quarter</th>\n",
       "    </tr>\n",
       "  </thead>\n",
       "  <tbody>\n",
       "    <tr>\n",
       "      <th>2</th>\n",
       "      <td>1000034009</td>\n",
       "      <td>WHITLOCK DDS, TODD M.</td>\n",
       "      <td>BLOOMINGTON</td>\n",
       "      <td>IN</td>\n",
       "      <td>47401</td>\n",
       "      <td>GRANT COUNTY STATE BANK</td>\n",
       "      <td>IN</td>\n",
       "      <td>62</td>\n",
       "      <td>1997</td>\n",
       "      <td>180</td>\n",
       "      <td>7</td>\n",
       "      <td>1.0</td>\n",
       "      <td>0</td>\n",
       "      <td>0</td>\n",
       "      <td>1</td>\n",
       "      <td>0</td>\n",
       "      <td>N</td>\n",
       "      <td>N</td>\n",
       "      <td>NaN</td>\n",
       "      <td>287000.0</td>\n",
       "      <td>0.0</td>\n",
       "      <td>P I F</td>\n",
       "      <td>0.0</td>\n",
       "      <td>287000.0</td>\n",
       "      <td>215250.0</td>\n",
       "      <td>Health care and social assistance</td>\n",
       "      <td>31</td>\n",
       "      <td>12</td>\n",
       "      <td>1997</td>\n",
       "      <td>2</td>\n",
       "      <td>4</td>\n",
       "      <td>28</td>\n",
       "      <td>2</td>\n",
       "      <td>1997</td>\n",
       "      <td>4</td>\n",
       "      <td>1</td>\n",
       "    </tr>\n",
       "    <tr>\n",
       "      <th>24</th>\n",
       "      <td>1000446006</td>\n",
       "      <td>SUBWAY</td>\n",
       "      <td>LITTLE ROCK</td>\n",
       "      <td>AR</td>\n",
       "      <td>72223</td>\n",
       "      <td>HOPE FCU</td>\n",
       "      <td>MS</td>\n",
       "      <td>72</td>\n",
       "      <td>2006</td>\n",
       "      <td>126</td>\n",
       "      <td>7</td>\n",
       "      <td>1.0</td>\n",
       "      <td>0</td>\n",
       "      <td>0</td>\n",
       "      <td>1</td>\n",
       "      <td>1</td>\n",
       "      <td>N</td>\n",
       "      <td>N</td>\n",
       "      <td>NaN</td>\n",
       "      <td>137300.0</td>\n",
       "      <td>0.0</td>\n",
       "      <td>P I F</td>\n",
       "      <td>0.0</td>\n",
       "      <td>137300.0</td>\n",
       "      <td>116705.0</td>\n",
       "      <td>Accommodation and food services</td>\n",
       "      <td>30</td>\n",
       "      <td>4</td>\n",
       "      <td>2006</td>\n",
       "      <td>6</td>\n",
       "      <td>2</td>\n",
       "      <td>7</td>\n",
       "      <td>2</td>\n",
       "      <td>2006</td>\n",
       "      <td>1</td>\n",
       "      <td>1</td>\n",
       "    </tr>\n",
       "    <tr>\n",
       "      <th>31</th>\n",
       "      <td>1000524003</td>\n",
       "      <td>AUDELIA FAMILY DENTAL GROUP</td>\n",
       "      <td>DALLAS</td>\n",
       "      <td>TX</td>\n",
       "      <td>75243</td>\n",
       "      <td>THE FROST NATIONAL BANK</td>\n",
       "      <td>TX</td>\n",
       "      <td>62</td>\n",
       "      <td>1997</td>\n",
       "      <td>102</td>\n",
       "      <td>12</td>\n",
       "      <td>1.0</td>\n",
       "      <td>0</td>\n",
       "      <td>0</td>\n",
       "      <td>1</td>\n",
       "      <td>0</td>\n",
       "      <td>N</td>\n",
       "      <td>N</td>\n",
       "      <td>NaN</td>\n",
       "      <td>600000.0</td>\n",
       "      <td>0.0</td>\n",
       "      <td>P I F</td>\n",
       "      <td>0.0</td>\n",
       "      <td>600000.0</td>\n",
       "      <td>450000.0</td>\n",
       "      <td>Health care and social assistance</td>\n",
       "      <td>31</td>\n",
       "      <td>7</td>\n",
       "      <td>1997</td>\n",
       "      <td>3</td>\n",
       "      <td>3</td>\n",
       "      <td>28</td>\n",
       "      <td>2</td>\n",
       "      <td>1997</td>\n",
       "      <td>4</td>\n",
       "      <td>1</td>\n",
       "    </tr>\n",
       "    <tr>\n",
       "      <th>33</th>\n",
       "      <td>1000534006</td>\n",
       "      <td>PPP COMMUNICATIONS</td>\n",
       "      <td>WASHINGTON</td>\n",
       "      <td>IA</td>\n",
       "      <td>52353</td>\n",
       "      <td>WASHINGTON STATE BANK</td>\n",
       "      <td>IA</td>\n",
       "      <td>45</td>\n",
       "      <td>1997</td>\n",
       "      <td>84</td>\n",
       "      <td>2</td>\n",
       "      <td>2.0</td>\n",
       "      <td>0</td>\n",
       "      <td>0</td>\n",
       "      <td>1</td>\n",
       "      <td>0</td>\n",
       "      <td>N</td>\n",
       "      <td>N</td>\n",
       "      <td>NaN</td>\n",
       "      <td>30000.0</td>\n",
       "      <td>0.0</td>\n",
       "      <td>P I F</td>\n",
       "      <td>0.0</td>\n",
       "      <td>30000.0</td>\n",
       "      <td>22500.0</td>\n",
       "      <td>Retail trade</td>\n",
       "      <td>31</td>\n",
       "      <td>10</td>\n",
       "      <td>1997</td>\n",
       "      <td>4</td>\n",
       "      <td>4</td>\n",
       "      <td>28</td>\n",
       "      <td>2</td>\n",
       "      <td>1997</td>\n",
       "      <td>4</td>\n",
       "      <td>1</td>\n",
       "    </tr>\n",
       "    <tr>\n",
       "      <th>143</th>\n",
       "      <td>1001236004</td>\n",
       "      <td>LIQUID SUN COMPANY, LLC</td>\n",
       "      <td>BRANDON</td>\n",
       "      <td>FL</td>\n",
       "      <td>33511</td>\n",
       "      <td>THE BANK OF TAMPA</td>\n",
       "      <td>FL</td>\n",
       "      <td>71</td>\n",
       "      <td>2006</td>\n",
       "      <td>84</td>\n",
       "      <td>5</td>\n",
       "      <td>2.0</td>\n",
       "      <td>0</td>\n",
       "      <td>0</td>\n",
       "      <td>1</td>\n",
       "      <td>1</td>\n",
       "      <td>N</td>\n",
       "      <td>N</td>\n",
       "      <td>NaN</td>\n",
       "      <td>275000.0</td>\n",
       "      <td>0.0</td>\n",
       "      <td>P I F</td>\n",
       "      <td>0.0</td>\n",
       "      <td>275000.0</td>\n",
       "      <td>206250.0</td>\n",
       "      <td>Arts, entertainment, and recreation</td>\n",
       "      <td>30</td>\n",
       "      <td>4</td>\n",
       "      <td>2006</td>\n",
       "      <td>6</td>\n",
       "      <td>2</td>\n",
       "      <td>7</td>\n",
       "      <td>2</td>\n",
       "      <td>2006</td>\n",
       "      <td>1</td>\n",
       "      <td>1</td>\n",
       "    </tr>\n",
       "  </tbody>\n",
       "</table>\n",
       "</div>"
      ],
      "text/plain": [
       "     LoanNr_ChkDgt                         Name         City State    Zip  \\\n",
       "2       1000034009        WHITLOCK DDS, TODD M.  BLOOMINGTON    IN  47401   \n",
       "24      1000446006                       SUBWAY  LITTLE ROCK    AR  72223   \n",
       "31      1000524003  AUDELIA FAMILY DENTAL GROUP       DALLAS    TX  75243   \n",
       "33      1000534006           PPP COMMUNICATIONS   WASHINGTON    IA  52353   \n",
       "143     1001236004      LIQUID SUN COMPANY, LLC      BRANDON    FL  33511   \n",
       "\n",
       "                        Bank BankState NAICS ApprovalFY  Term  NoEmp  \\\n",
       "2    GRANT COUNTY STATE BANK        IN    62       1997   180      7   \n",
       "24                  HOPE FCU        MS    72       2006   126      7   \n",
       "31   THE FROST NATIONAL BANK        TX    62       1997   102     12   \n",
       "33     WASHINGTON STATE BANK        IA    45       1997    84      2   \n",
       "143        THE BANK OF TAMPA        FL    71       2006    84      5   \n",
       "\n",
       "     NewExist  CreateJob  RetainedJob  FranchiseCode  UrbanRural RevLineCr  \\\n",
       "2         1.0          0            0              1           0         N   \n",
       "24        1.0          0            0              1           1         N   \n",
       "31        1.0          0            0              1           0         N   \n",
       "33        2.0          0            0              1           0         N   \n",
       "143       2.0          0            0              1           1         N   \n",
       "\n",
       "    LowDoc ChgOffDate  DisbursementGross  BalanceGross MIS_Status  \\\n",
       "2        N        NaN           287000.0           0.0      P I F   \n",
       "24       N        NaN           137300.0           0.0      P I F   \n",
       "31       N        NaN           600000.0           0.0      P I F   \n",
       "33       N        NaN            30000.0           0.0      P I F   \n",
       "143      N        NaN           275000.0           0.0      P I F   \n",
       "\n",
       "     ChgOffPrinGr    GrAppv  SBA_Appv                             Industry  \\\n",
       "2             0.0  287000.0  215250.0    Health care and social assistance   \n",
       "24            0.0  137300.0  116705.0      Accommodation and food services   \n",
       "31            0.0  600000.0  450000.0    Health care and social assistance   \n",
       "33            0.0   30000.0   22500.0                         Retail trade   \n",
       "143           0.0  275000.0  206250.0  Arts, entertainment, and recreation   \n",
       "\n",
       "     DisbursementDate_day  DisbursementDate_month  DisbursementDate_year  \\\n",
       "2                      31                      12                   1997   \n",
       "24                     30                       4                   2006   \n",
       "31                     31                       7                   1997   \n",
       "33                     31                      10                   1997   \n",
       "143                    30                       4                   2006   \n",
       "\n",
       "     DisbursementDate_weekday  DisbursementDate_quarter  ApprovalDate_day  \\\n",
       "2                           2                         4                28   \n",
       "24                          6                         2                 7   \n",
       "31                          3                         3                28   \n",
       "33                          4                         4                28   \n",
       "143                         6                         2                 7   \n",
       "\n",
       "     ApprovalDate_month  ApprovalDate_year  ApprovalDate_weekday  \\\n",
       "2                     2               1997                     4   \n",
       "24                    2               2006                     1   \n",
       "31                    2               1997                     4   \n",
       "33                    2               1997                     4   \n",
       "143                   2               2006                     1   \n",
       "\n",
       "     ApprovalDate_quarter  \n",
       "2                       1  \n",
       "24                      1  \n",
       "31                      1  \n",
       "33                      1  \n",
       "143                     1  "
      ]
     },
     "execution_count": 48,
     "metadata": {},
     "output_type": "execute_result"
    }
   ],
   "source": [
    "# Contar cuántas veces aparece cada banco\n",
    "L50banks = df['Bank'].value_counts()\n",
    "\n",
    "# Filtrar solo los que tienen al menos 50 ocurrencias\n",
    "L50 = L50banks[L50banks < 50].index\n",
    "\n",
    "# Filtrar el DataFrame original para quedarse solo con esos bancos\n",
    "df_L50banks = df[df['Bank'].isin(L50)]\n",
    "df_L50banks.head(5)"
   ]
  },
  {
   "cell_type": "code",
   "execution_count": 50,
   "id": "9c70769e",
   "metadata": {},
   "outputs": [],
   "source": [
    "df_Lsum = df_L50banks.groupby(\"DisbursementDate_month\", as_index=False)[\"DisbursementGross\"].sum()"
   ]
  },
  {
   "cell_type": "code",
   "execution_count": 55,
   "id": "980525a5",
   "metadata": {},
   "outputs": [
    {
     "data": {
      "text/plain": [
       "np.float64(1182825953.0)"
      ]
     },
     "execution_count": 55,
     "metadata": {},
     "output_type": "execute_result"
    }
   ],
   "source": [
    "df_Lsum['DisbursementGross'].max()"
   ]
  },
  {
   "cell_type": "code",
   "execution_count": 57,
   "id": "0e36786c",
   "metadata": {},
   "outputs": [
    {
     "data": {
      "image/png": "[encoded data removed]"
     },
     "metadata": {
      "image/png": {
       "height": 480,
       "width": 640
      }
     },
     "output_type": "display_data"
    }
   ],
   "source": [
    "\n",
    "(\n",
    "    ggplot(df_Lsum, aes(x=\"DisbursementDate_month\", y=\"DisbursementGross\")) \n",
    "    + geom_bar(stat=\"identity\", fill=\"#2E86C1\", color=\"black\") \n",
    "    + labs(\n",
    "        title=\"When are banks likely to disburse a loan?\",\n",
    "        subtitle='Banks with less than 50 loans anually',\n",
    "        x=\"Month\",\n",
    "        y=\"Total Disbursement\")\n",
    "    + theme_minimal()\n",
    "    + scale_x_continuous(breaks=range(1, 13))\n",
    "    + scale_y_continuous(labels=lambda l: [f\"{int(v/1e6)}M\" for v in l])\n",
    "\n",
    ")"
   ]
  },
  {
   "cell_type": "code",
   "execution_count": null,
   "id": "3302a96b",
   "metadata": {},
   "outputs": [],
   "source": []
  },
  {
   "cell_type": "code",
   "execution_count": 14,
   "id": "cb6cc41a",
   "metadata": {},
   "outputs": [],
   "source": [
    "\n",
    "\n",
    "def encode_categorical_columns(df):\n",
    "    \"\"\"\n",
    "    Label encoding para columnas no numéricas o mixtas.\n",
    "    Reemplaza nulos por \"0\" antes del encoding y elimina las columnas originales.\n",
    "    \"\"\"\n",
    "    df_encoded = df.copy()\n",
    "    categorical_cols = df.select_dtypes(exclude=['int64', 'float64']).columns\n",
    "\n",
    "    for col in categorical_cols:\n",
    "        le = LabelEncoder()\n",
    "        # Reemplazamos nulos por \"0\" y convertimos todo a string\n",
    "        df_encoded[col + '_token'] = le.fit_transform(\n",
    "            df_encoded[col].fillna('0').astype(str)\n",
    "        )\n",
    "    \n",
    "    # Eliminamos las columnas originales\n",
    "    df_encoded = df_encoded.drop(columns=categorical_cols)\n",
    "\n",
    "    return df_encoded\n"
   ]
  },
  {
   "cell_type": "code",
   "execution_count": 15,
   "id": "973a7770",
   "metadata": {},
   "outputs": [],
   "source": [
    "df_tokenized = encode_categorical_columns(df)\n"
   ]
  },
  {
   "cell_type": "code",
   "execution_count": 16,
   "id": "9667e14f",
   "metadata": {},
   "outputs": [
    {
     "data": {
      "text/html": [
       "<div>\n",
       "<style scoped>\n",
       "    .dataframe tbody tr th:only-of-type {\n",
       "        vertical-align: middle;\n",
       "    }\n",
       "\n",
       "    .dataframe tbody tr th {\n",
       "        vertical-align: top;\n",
       "    }\n",
       "\n",
       "    .dataframe thead th {\n",
       "        text-align: right;\n",
       "    }\n",
       "</style>\n",
       "<table border=\"1\" class=\"dataframe\">\n",
       "  <thead>\n",
       "    <tr style=\"text-align: right;\">\n",
       "      <th></th>\n",
       "      <th>LoanNr_ChkDgt</th>\n",
       "      <th>Zip</th>\n",
       "      <th>NAICS</th>\n",
       "      <th>Term</th>\n",
       "      <th>NoEmp</th>\n",
       "      <th>NewExist</th>\n",
       "      <th>CreateJob</th>\n",
       "      <th>RetainedJob</th>\n",
       "      <th>FranchiseCode</th>\n",
       "      <th>UrbanRural</th>\n",
       "      <th>DisbursementGross</th>\n",
       "      <th>BalanceGross</th>\n",
       "      <th>ChgOffPrinGr</th>\n",
       "      <th>GrAppv</th>\n",
       "      <th>SBA_Appv</th>\n",
       "      <th>Name_token</th>\n",
       "      <th>City_token</th>\n",
       "      <th>State_token</th>\n",
       "      <th>Bank_token</th>\n",
       "      <th>BankState_token</th>\n",
       "      <th>ApprovalFY_token</th>\n",
       "      <th>RevLineCr_token</th>\n",
       "      <th>LowDoc_token</th>\n",
       "      <th>ChgOffDate_token</th>\n",
       "      <th>MIS_Status_token</th>\n",
       "      <th>DisbursementDate_day_token</th>\n",
       "      <th>DisbursementDate_month_token</th>\n",
       "      <th>DisbursementDate_year_token</th>\n",
       "      <th>DisbursementDate_weekday_token</th>\n",
       "      <th>DisbursementDate_quarter_token</th>\n",
       "      <th>ApprovalDate_day_token</th>\n",
       "      <th>ApprovalDate_month_token</th>\n",
       "      <th>ApprovalDate_year_token</th>\n",
       "      <th>ApprovalDate_weekday_token</th>\n",
       "      <th>ApprovalDate_quarter_token</th>\n",
       "    </tr>\n",
       "  </thead>\n",
       "  <tbody>\n",
       "    <tr>\n",
       "      <th>0</th>\n",
       "      <td>1000014003</td>\n",
       "      <td>47711</td>\n",
       "      <td>451120</td>\n",
       "      <td>84</td>\n",
       "      <td>4</td>\n",
       "      <td>2.0</td>\n",
       "      <td>0</td>\n",
       "      <td>0</td>\n",
       "      <td>1</td>\n",
       "      <td>0</td>\n",
       "      <td>60000.0</td>\n",
       "      <td>0.0</td>\n",
       "      <td>0.0</td>\n",
       "      <td>60000.0</td>\n",
       "      <td>48000.0</td>\n",
       "      <td>12792</td>\n",
       "      <td>8559</td>\n",
       "      <td>16</td>\n",
       "      <td>2144</td>\n",
       "      <td>39</td>\n",
       "      <td>34</td>\n",
       "      <td>12</td>\n",
       "      <td>7</td>\n",
       "      <td>0</td>\n",
       "      <td>2</td>\n",
       "      <td>21</td>\n",
       "      <td>5</td>\n",
       "      <td>31</td>\n",
       "      <td>6</td>\n",
       "      <td>1</td>\n",
       "      <td>20</td>\n",
       "      <td>4</td>\n",
       "      <td>28</td>\n",
       "      <td>4</td>\n",
       "      <td>0</td>\n",
       "    </tr>\n",
       "    <tr>\n",
       "      <th>1</th>\n",
       "      <td>1000024006</td>\n",
       "      <td>46526</td>\n",
       "      <td>722410</td>\n",
       "      <td>60</td>\n",
       "      <td>2</td>\n",
       "      <td>2.0</td>\n",
       "      <td>0</td>\n",
       "      <td>0</td>\n",
       "      <td>1</td>\n",
       "      <td>0</td>\n",
       "      <td>40000.0</td>\n",
       "      <td>0.0</td>\n",
       "      <td>0.0</td>\n",
       "      <td>40000.0</td>\n",
       "      <td>32000.0</td>\n",
       "      <td>405594</td>\n",
       "      <td>19589</td>\n",
       "      <td>16</td>\n",
       "      <td>133</td>\n",
       "      <td>19</td>\n",
       "      <td>34</td>\n",
       "      <td>12</td>\n",
       "      <td>7</td>\n",
       "      <td>0</td>\n",
       "      <td>2</td>\n",
       "      <td>25</td>\n",
       "      <td>8</td>\n",
       "      <td>29</td>\n",
       "      <td>5</td>\n",
       "      <td>2</td>\n",
       "      <td>20</td>\n",
       "      <td>4</td>\n",
       "      <td>28</td>\n",
       "      <td>4</td>\n",
       "      <td>0</td>\n",
       "    </tr>\n",
       "    <tr>\n",
       "      <th>2</th>\n",
       "      <td>1000034009</td>\n",
       "      <td>47401</td>\n",
       "      <td>621210</td>\n",
       "      <td>180</td>\n",
       "      <td>7</td>\n",
       "      <td>1.0</td>\n",
       "      <td>0</td>\n",
       "      <td>0</td>\n",
       "      <td>1</td>\n",
       "      <td>0</td>\n",
       "      <td>287000.0</td>\n",
       "      <td>0.0</td>\n",
       "      <td>0.0</td>\n",
       "      <td>287000.0</td>\n",
       "      <td>215250.0</td>\n",
       "      <td>759977</td>\n",
       "      <td>2207</td>\n",
       "      <td>16</td>\n",
       "      <td>2860</td>\n",
       "      <td>19</td>\n",
       "      <td>34</td>\n",
       "      <td>12</td>\n",
       "      <td>4</td>\n",
       "      <td>0</td>\n",
       "      <td>2</td>\n",
       "      <td>25</td>\n",
       "      <td>4</td>\n",
       "      <td>29</td>\n",
       "      <td>2</td>\n",
       "      <td>4</td>\n",
       "      <td>20</td>\n",
       "      <td>4</td>\n",
       "      <td>28</td>\n",
       "      <td>4</td>\n",
       "      <td>0</td>\n",
       "    </tr>\n",
       "    <tr>\n",
       "      <th>3</th>\n",
       "      <td>1000044001</td>\n",
       "      <td>74012</td>\n",
       "      <td>0</td>\n",
       "      <td>60</td>\n",
       "      <td>2</td>\n",
       "      <td>1.0</td>\n",
       "      <td>0</td>\n",
       "      <td>0</td>\n",
       "      <td>1</td>\n",
       "      <td>0</td>\n",
       "      <td>35000.0</td>\n",
       "      <td>0.0</td>\n",
       "      <td>0.0</td>\n",
       "      <td>35000.0</td>\n",
       "      <td>28000.0</td>\n",
       "      <td>83889</td>\n",
       "      <td>2721</td>\n",
       "      <td>37</td>\n",
       "      <td>26</td>\n",
       "      <td>40</td>\n",
       "      <td>34</td>\n",
       "      <td>12</td>\n",
       "      <td>7</td>\n",
       "      <td>0</td>\n",
       "      <td>2</td>\n",
       "      <td>24</td>\n",
       "      <td>9</td>\n",
       "      <td>29</td>\n",
       "      <td>0</td>\n",
       "      <td>2</td>\n",
       "      <td>20</td>\n",
       "      <td>4</td>\n",
       "      <td>28</td>\n",
       "      <td>4</td>\n",
       "      <td>0</td>\n",
       "    </tr>\n",
       "    <tr>\n",
       "      <th>4</th>\n",
       "      <td>1000054004</td>\n",
       "      <td>32801</td>\n",
       "      <td>0</td>\n",
       "      <td>240</td>\n",
       "      <td>14</td>\n",
       "      <td>1.0</td>\n",
       "      <td>7</td>\n",
       "      <td>7</td>\n",
       "      <td>1</td>\n",
       "      <td>0</td>\n",
       "      <td>229000.0</td>\n",
       "      <td>0.0</td>\n",
       "      <td>0.0</td>\n",
       "      <td>229000.0</td>\n",
       "      <td>229000.0</td>\n",
       "      <td>38544</td>\n",
       "      <td>21135</td>\n",
       "      <td>10</td>\n",
       "      <td>2684</td>\n",
       "      <td>12</td>\n",
       "      <td>34</td>\n",
       "      <td>12</td>\n",
       "      <td>4</td>\n",
       "      <td>0</td>\n",
       "      <td>2</td>\n",
       "      <td>6</td>\n",
       "      <td>8</td>\n",
       "      <td>29</td>\n",
       "      <td>2</td>\n",
       "      <td>2</td>\n",
       "      <td>20</td>\n",
       "      <td>4</td>\n",
       "      <td>28</td>\n",
       "      <td>4</td>\n",
       "      <td>0</td>\n",
       "    </tr>\n",
       "  </tbody>\n",
       "</table>\n",
       "</div>"
      ],
      "text/plain": [
       "   LoanNr_ChkDgt    Zip   NAICS  Term  NoEmp  NewExist  CreateJob  \\\n",
       "0     1000014003  47711  451120    84      4       2.0          0   \n",
       "1     1000024006  46526  722410    60      2       2.0          0   \n",
       "2     1000034009  47401  621210   180      7       1.0          0   \n",
       "3     1000044001  74012       0    60      2       1.0          0   \n",
       "4     1000054004  32801       0   240     14       1.0          7   \n",
       "\n",
       "   RetainedJob  FranchiseCode  UrbanRural  DisbursementGross  BalanceGross  \\\n",
       "0            0              1           0            60000.0           0.0   \n",
       "1            0              1           0            40000.0           0.0   \n",
       "2            0              1           0           287000.0           0.0   \n",
       "3            0              1           0            35000.0           0.0   \n",
       "4            7              1           0           229000.0           0.0   \n",
       "\n",
       "   ChgOffPrinGr    GrAppv  SBA_Appv  Name_token  City_token  State_token  \\\n",
       "0           0.0   60000.0   48000.0       12792        8559           16   \n",
       "1           0.0   40000.0   32000.0      405594       19589           16   \n",
       "2           0.0  287000.0  215250.0      759977        2207           16   \n",
       "3           0.0   35000.0   28000.0       83889        2721           37   \n",
       "4           0.0  229000.0  229000.0       38544       21135           10   \n",
       "\n",
       "   Bank_token  BankState_token  ApprovalFY_token  RevLineCr_token  \\\n",
       "0        2144               39                34               12   \n",
       "1         133               19                34               12   \n",
       "2        2860               19                34               12   \n",
       "3          26               40                34               12   \n",
       "4        2684               12                34               12   \n",
       "\n",
       "   LowDoc_token  ChgOffDate_token  MIS_Status_token  \\\n",
       "0             7                 0                 2   \n",
       "1             7                 0                 2   \n",
       "2             4                 0                 2   \n",
       "3             7                 0                 2   \n",
       "4             4                 0                 2   \n",
       "\n",
       "   DisbursementDate_day_token  DisbursementDate_month_token  \\\n",
       "0                          21                             5   \n",
       "1                          25                             8   \n",
       "2                          25                             4   \n",
       "3                          24                             9   \n",
       "4                           6                             8   \n",
       "\n",
       "   DisbursementDate_year_token  DisbursementDate_weekday_token  \\\n",
       "0                           31                               6   \n",
       "1                           29                               5   \n",
       "2                           29                               2   \n",
       "3                           29                               0   \n",
       "4                           29                               2   \n",
       "\n",
       "   DisbursementDate_quarter_token  ApprovalDate_day_token  \\\n",
       "0                               1                      20   \n",
       "1                               2                      20   \n",
       "2                               4                      20   \n",
       "3                               2                      20   \n",
       "4                               2                      20   \n",
       "\n",
       "   ApprovalDate_month_token  ApprovalDate_year_token  \\\n",
       "0                         4                       28   \n",
       "1                         4                       28   \n",
       "2                         4                       28   \n",
       "3                         4                       28   \n",
       "4                         4                       28   \n",
       "\n",
       "   ApprovalDate_weekday_token  ApprovalDate_quarter_token  \n",
       "0                           4                           0  \n",
       "1                           4                           0  \n",
       "2                           4                           0  \n",
       "3                           4                           0  \n",
       "4                           4                           0  "
      ]
     },
     "execution_count": 16,
     "metadata": {},
     "output_type": "execute_result"
    }
   ],
   "source": [
    "df_tokenized.head(5)"
   ]
  },
  {
   "cell_type": "code",
   "execution_count": 18,
   "id": "883fd59c",
   "metadata": {},
   "outputs": [
    {
     "data": {
      "text/plain": [
       "LoanNr_ChkDgt                       0\n",
       "Zip                                 0\n",
       "NAICS                               0\n",
       "Term                                0\n",
       "NoEmp                               0\n",
       "NewExist                          136\n",
       "CreateJob                           0\n",
       "RetainedJob                         0\n",
       "FranchiseCode                       0\n",
       "UrbanRural                          0\n",
       "DisbursementGross                   0\n",
       "BalanceGross                        0\n",
       "ChgOffPrinGr                        0\n",
       "GrAppv                              0\n",
       "SBA_Appv                            0\n",
       "Name_token                          0\n",
       "City_token                          0\n",
       "State_token                         0\n",
       "Bank_token                          0\n",
       "BankState_token                     0\n",
       "ApprovalFY_token                    0\n",
       "RevLineCr_token                     0\n",
       "LowDoc_token                        0\n",
       "ChgOffDate_token                    0\n",
       "MIS_Status_token                    0\n",
       "DisbursementDate_day_token          0\n",
       "DisbursementDate_month_token        0\n",
       "DisbursementDate_year_token         0\n",
       "DisbursementDate_weekday_token      0\n",
       "DisbursementDate_quarter_token      0\n",
       "ApprovalDate_day_token              0\n",
       "ApprovalDate_month_token            0\n",
       "ApprovalDate_year_token             0\n",
       "ApprovalDate_weekday_token          0\n",
       "ApprovalDate_quarter_token          0\n",
       "dtype: int64"
      ]
     },
     "execution_count": 18,
     "metadata": {},
     "output_type": "execute_result"
    }
   ],
   "source": [
    "df_tokenized.isnull().sum()\n"
   ]
  },
  {
   "cell_type": "code",
   "execution_count": 10,
   "id": "116c6131",
   "metadata": {},
   "outputs": [
    {
     "ename": "NameError",
     "evalue": "name 'df_tokenized' is not defined",
     "output_type": "error",
     "traceback": [
      "\u001b[31m---------------------------------------------------------------------------\u001b[39m",
      "\u001b[31mNameError\u001b[39m                                 Traceback (most recent call last)",
      "\u001b[36mCell\u001b[39m\u001b[36m \u001b[39m\u001b[32mIn[10]\u001b[39m\u001b[32m, line 1\u001b[39m\n\u001b[32m----> \u001b[39m\u001b[32m1\u001b[39m \u001b[43mdf_tokenized\u001b[49m[\u001b[33m'\u001b[39m\u001b[33mNewExist\u001b[39m\u001b[33m'\u001b[39m].isnull()\n",
      "\u001b[31mNameError\u001b[39m: name 'df_tokenized' is not defined"
     ]
    }
   ],
   "source": [
    "df_tokenized['NewExist'].isnull()"
   ]
  },
  {
   "cell_type": "code",
   "execution_count": null,
   "id": "6702a2fd",
   "metadata": {},
   "outputs": [],
   "source": []
  },
  {
   "cell_type": "code",
   "execution_count": 26,
   "id": "685d5401",
   "metadata": {},
   "outputs": [],
   "source": [
    "correlation_matrix = df.corr(numeric_only=True)"
   ]
  },
  {
   "cell_type": "code",
   "execution_count": 27,
   "id": "7f4c1726",
   "metadata": {},
   "outputs": [
    {
     "data": {
      "image/png": "[encoded data removed]",
      "text/plain": [
       "<Figure size 800x600 with 2 Axes>"
      ]
     },
     "metadata": {},
     "output_type": "display_data"
    }
   ],
   "source": [
    "plt.figure(figsize=(8, 6)) # Adjust figure size as needed\n",
    "sns.heatmap(correlation_matrix, annot=True, cmap='coolwarm', fmt=\".2f\", linewidths=.5)\n",
    "plt.title('Correlation Matrix of Iris Dataset')\n",
    "plt.show()"
   ]
  }
 ],
 "metadata": {
  "kernelspec": {
   "display_name": "Python 3",
   "language": "python",
   "name": "python3"
  },
  "language_info": {
   "codemirror_mode": {
    "name": "ipython",
    "version": 3
   },
   "file_extension": ".py",
   "mimetype": "text/x-python",
   "name": "python",
   "nbconvert_exporter": "python",
   "pygments_lexer": "ipython3",
   "version": "3.11.9"
  }
 },
 "nbformat": 4,
 "nbformat_minor": 5
}
