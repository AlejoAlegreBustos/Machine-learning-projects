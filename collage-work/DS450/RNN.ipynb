{
  "nbformat": 4,
  "nbformat_minor": 0,
  "metadata": {
    "colab": {
      "provenance": [],
      "gpuType": "T4"
    },
    "kernelspec": {
      "name": "python3",
      "display_name": "Python 3"
    },
    "language_info": {
      "name": "python"
    },
    "accelerator": "GPU"
  },
  "cells": [
    {
      "cell_type": "code",
      "source": [
        "!pip install keras-tuner\n",
        "!pip install convokit\n"
      ],
      "metadata": {
        "colab": {
          "base_uri": "https://localhost:8080/"
        },
        "id": "vXyxrU1kszDz",
        "outputId": "0fc0e056-a796-47e5-b9ae-d3ceac2a5f62"
      },
      "execution_count": null,
      "outputs": [
        {
          "output_type": "stream",
          "name": "stdout",
          "text": [
            "Requirement already satisfied: keras-tuner in /usr/local/lib/python3.11/dist-packages (1.4.7)\n",
            "Requirement already satisfied: keras in /usr/local/lib/python3.11/dist-packages (from keras-tuner) (3.8.0)\n",
            "Requirement already satisfied: packaging in /usr/local/lib/python3.11/dist-packages (from keras-tuner) (24.2)\n",
            "Requirement already satisfied: requests in /usr/local/lib/python3.11/dist-packages (from keras-tuner) (2.32.3)\n",
            "Requirement already satisfied: kt-legacy in /usr/local/lib/python3.11/dist-packages (from keras-tuner) (1.0.5)\n",
            "Requirement already satisfied: absl-py in /usr/local/lib/python3.11/dist-packages (from keras->keras-tuner) (1.4.0)\n",
            "Requirement already satisfied: numpy in /usr/local/lib/python3.11/dist-packages (from keras->keras-tuner) (2.0.2)\n",
            "Requirement already satisfied: rich in /usr/local/lib/python3.11/dist-packages (from keras->keras-tuner) (13.9.4)\n",
            "Requirement already satisfied: namex in /usr/local/lib/python3.11/dist-packages (from keras->keras-tuner) (0.0.8)\n",
            "Requirement already satisfied: h5py in /usr/local/lib/python3.11/dist-packages (from keras->keras-tuner) (3.12.1)\n",
            "Requirement already satisfied: optree in /usr/local/lib/python3.11/dist-packages (from keras->keras-tuner) (0.14.1)\n",
            "Requirement already satisfied: ml-dtypes in /usr/local/lib/python3.11/dist-packages (from keras->keras-tuner) (0.4.1)\n",
            "Requirement already satisfied: charset-normalizer<4,>=2 in /usr/local/lib/python3.11/dist-packages (from requests->keras-tuner) (3.4.1)\n",
            "Requirement already satisfied: idna<4,>=2.5 in /usr/local/lib/python3.11/dist-packages (from requests->keras-tuner) (3.10)\n",
            "Requirement already satisfied: urllib3<3,>=1.21.1 in /usr/local/lib/python3.11/dist-packages (from requests->keras-tuner) (2.3.0)\n",
            "Requirement already satisfied: certifi>=2017.4.17 in /usr/local/lib/python3.11/dist-packages (from requests->keras-tuner) (2025.1.31)\n",
            "Requirement already satisfied: typing-extensions>=4.5.0 in /usr/local/lib/python3.11/dist-packages (from optree->keras->keras-tuner) (4.12.2)\n",
            "Requirement already satisfied: markdown-it-py>=2.2.0 in /usr/local/lib/python3.11/dist-packages (from rich->keras->keras-tuner) (3.0.0)\n",
            "Requirement already satisfied: pygments<3.0.0,>=2.13.0 in /usr/local/lib/python3.11/dist-packages (from rich->keras->keras-tuner) (2.18.0)\n",
            "Requirement already satisfied: mdurl~=0.1 in /usr/local/lib/python3.11/dist-packages (from markdown-it-py>=2.2.0->rich->keras->keras-tuner) (0.1.2)\n",
            "Requirement already satisfied: convokit in /usr/local/lib/python3.11/dist-packages (3.1.0)\n",
            "Requirement already satisfied: matplotlib>=3.0.0 in /usr/local/lib/python3.11/dist-packages (from convokit) (3.10.0)\n",
            "Requirement already satisfied: scipy>1.14 in /usr/local/lib/python3.11/dist-packages (from convokit) (1.14.1)\n",
            "Requirement already satisfied: pandas>=1.5.0 in /usr/local/lib/python3.11/dist-packages (from convokit) (2.2.2)\n",
            "Requirement already satisfied: numpy>=2.0.0 in /usr/local/lib/python3.11/dist-packages (from convokit) (2.0.2)\n",
            "Requirement already satisfied: msgpack-numpy>=0.4.3.2 in /usr/local/lib/python3.11/dist-packages (from convokit) (0.4.8)\n",
            "Requirement already satisfied: spacy>=3.8.2 in /usr/local/lib/python3.11/dist-packages (from convokit) (3.8.4)\n",
            "Requirement already satisfied: scikit-learn>=1.0 in /usr/local/lib/python3.11/dist-packages (from convokit) (1.6.1)\n",
            "Requirement already satisfied: nltk>=3.4 in /usr/local/lib/python3.11/dist-packages (from convokit) (3.9.1)\n",
            "Requirement already satisfied: dill>=0.2.9 in /usr/local/lib/python3.11/dist-packages (from convokit) (0.3.8)\n",
            "Requirement already satisfied: joblib>=0.13.2 in /usr/local/lib/python3.11/dist-packages (from convokit) (1.4.2)\n",
            "Requirement already satisfied: clean-text>=0.6.0 in /usr/local/lib/python3.11/dist-packages (from convokit) (0.6.0)\n",
            "Requirement already satisfied: unidecode>=1.1.1 in /usr/local/lib/python3.11/dist-packages (from convokit) (1.3.8)\n",
            "Requirement already satisfied: tqdm>=4.64.0 in /usr/local/lib/python3.11/dist-packages (from convokit) (4.67.1)\n",
            "Requirement already satisfied: pymongo>=4.0 in /usr/local/lib/python3.11/dist-packages (from convokit) (4.11.3)\n",
            "Requirement already satisfied: pyyaml>=5.4.1 in /usr/local/lib/python3.11/dist-packages (from convokit) (6.0.2)\n",
            "Requirement already satisfied: dnspython>=1.16.0 in /usr/local/lib/python3.11/dist-packages (from convokit) (2.7.0)\n",
            "Requirement already satisfied: thinc<8.4.0,>=8.3.0 in /usr/local/lib/python3.11/dist-packages (from convokit) (8.3.4)\n",
            "Requirement already satisfied: h5py==3.12.1 in /usr/local/lib/python3.11/dist-packages (from convokit) (3.12.1)\n",
            "Requirement already satisfied: numexpr>=2.8.0 in /usr/local/lib/python3.11/dist-packages (from convokit) (2.10.2)\n",
            "Requirement already satisfied: ruff>=0.4.8 in /usr/local/lib/python3.11/dist-packages (from convokit) (0.11.2)\n",
            "Requirement already satisfied: bottleneck in /usr/local/lib/python3.11/dist-packages (from convokit) (1.4.2)\n",
            "Requirement already satisfied: accelerate in /usr/local/lib/python3.11/dist-packages (from convokit) (1.5.2)\n",
            "Requirement already satisfied: peft in /usr/local/lib/python3.11/dist-packages (from convokit) (0.14.0)\n",
            "Requirement already satisfied: bitsandbytes in /usr/local/lib/python3.11/dist-packages (from convokit) (0.45.4)\n",
            "Requirement already satisfied: transformers in /usr/local/lib/python3.11/dist-packages (from convokit) (4.50.0)\n",
            "Requirement already satisfied: trl>=0.12.2 in /usr/local/lib/python3.11/dist-packages (from convokit) (0.16.0)\n",
            "Requirement already satisfied: tensorflow>=2.18.0 in /usr/local/lib/python3.11/dist-packages (from convokit) (2.18.0)\n",
            "Requirement already satisfied: tf-keras<3.0.0,>=2.17.0 in /usr/local/lib/python3.11/dist-packages (from convokit) (2.18.0)\n",
            "Requirement already satisfied: emoji<2.0.0,>=1.0.0 in /usr/local/lib/python3.11/dist-packages (from clean-text>=0.6.0->convokit) (1.7.0)\n",
            "Requirement already satisfied: ftfy<7.0,>=6.0 in /usr/local/lib/python3.11/dist-packages (from clean-text>=0.6.0->convokit) (6.3.1)\n",
            "Requirement already satisfied: contourpy>=1.0.1 in /usr/local/lib/python3.11/dist-packages (from matplotlib>=3.0.0->convokit) (1.3.1)\n",
            "Requirement already satisfied: cycler>=0.10 in /usr/local/lib/python3.11/dist-packages (from matplotlib>=3.0.0->convokit) (0.12.1)\n",
            "Requirement already satisfied: fonttools>=4.22.0 in /usr/local/lib/python3.11/dist-packages (from matplotlib>=3.0.0->convokit) (4.56.0)\n",
            "Requirement already satisfied: kiwisolver>=1.3.1 in /usr/local/lib/python3.11/dist-packages (from matplotlib>=3.0.0->convokit) (1.4.8)\n",
            "Requirement already satisfied: packaging>=20.0 in /usr/local/lib/python3.11/dist-packages (from matplotlib>=3.0.0->convokit) (24.2)\n",
            "Requirement already satisfied: pillow>=8 in /usr/local/lib/python3.11/dist-packages (from matplotlib>=3.0.0->convokit) (11.1.0)\n",
            "Requirement already satisfied: pyparsing>=2.3.1 in /usr/local/lib/python3.11/dist-packages (from matplotlib>=3.0.0->convokit) (3.2.1)\n",
            "Requirement already satisfied: python-dateutil>=2.7 in /usr/local/lib/python3.11/dist-packages (from matplotlib>=3.0.0->convokit) (2.8.2)\n",
            "Requirement already satisfied: msgpack>=0.5.2 in /usr/local/lib/python3.11/dist-packages (from msgpack-numpy>=0.4.3.2->convokit) (1.1.0)\n",
            "Requirement already satisfied: click in /usr/local/lib/python3.11/dist-packages (from nltk>=3.4->convokit) (8.1.8)\n",
            "Requirement already satisfied: regex>=2021.8.3 in /usr/local/lib/python3.11/dist-packages (from nltk>=3.4->convokit) (2024.11.6)\n",
            "Requirement already satisfied: pytz>=2020.1 in /usr/local/lib/python3.11/dist-packages (from pandas>=1.5.0->convokit) (2025.1)\n",
            "Requirement already satisfied: tzdata>=2022.7 in /usr/local/lib/python3.11/dist-packages (from pandas>=1.5.0->convokit) (2025.1)\n",
            "Requirement already satisfied: threadpoolctl>=3.1.0 in /usr/local/lib/python3.11/dist-packages (from scikit-learn>=1.0->convokit) (3.6.0)\n",
            "Requirement already satisfied: spacy-legacy<3.1.0,>=3.0.11 in /usr/local/lib/python3.11/dist-packages (from spacy>=3.8.2->convokit) (3.0.12)\n",
            "Requirement already satisfied: spacy-loggers<2.0.0,>=1.0.0 in /usr/local/lib/python3.11/dist-packages (from spacy>=3.8.2->convokit) (1.0.5)\n",
            "Requirement already satisfied: murmurhash<1.1.0,>=0.28.0 in /usr/local/lib/python3.11/dist-packages (from spacy>=3.8.2->convokit) (1.0.12)\n",
            "Requirement already satisfied: cymem<2.1.0,>=2.0.2 in /usr/local/lib/python3.11/dist-packages (from spacy>=3.8.2->convokit) (2.0.11)\n",
            "Requirement already satisfied: preshed<3.1.0,>=3.0.2 in /usr/local/lib/python3.11/dist-packages (from spacy>=3.8.2->convokit) (3.0.9)\n",
            "Requirement already satisfied: wasabi<1.2.0,>=0.9.1 in /usr/local/lib/python3.11/dist-packages (from spacy>=3.8.2->convokit) (1.1.3)\n",
            "Requirement already satisfied: srsly<3.0.0,>=2.4.3 in /usr/local/lib/python3.11/dist-packages (from spacy>=3.8.2->convokit) (2.5.1)\n",
            "Requirement already satisfied: catalogue<2.1.0,>=2.0.6 in /usr/local/lib/python3.11/dist-packages (from spacy>=3.8.2->convokit) (2.0.10)\n",
            "Requirement already satisfied: weasel<0.5.0,>=0.1.0 in /usr/local/lib/python3.11/dist-packages (from spacy>=3.8.2->convokit) (0.4.1)\n",
            "Requirement already satisfied: typer<1.0.0,>=0.3.0 in /usr/local/lib/python3.11/dist-packages (from spacy>=3.8.2->convokit) (0.15.2)\n",
            "Requirement already satisfied: requests<3.0.0,>=2.13.0 in /usr/local/lib/python3.11/dist-packages (from spacy>=3.8.2->convokit) (2.32.3)\n",
            "Requirement already satisfied: pydantic!=1.8,!=1.8.1,<3.0.0,>=1.7.4 in /usr/local/lib/python3.11/dist-packages (from spacy>=3.8.2->convokit) (2.10.6)\n",
            "Requirement already satisfied: jinja2 in /usr/local/lib/python3.11/dist-packages (from spacy>=3.8.2->convokit) (3.1.6)\n",
            "Requirement already satisfied: setuptools in /usr/local/lib/python3.11/dist-packages (from spacy>=3.8.2->convokit) (75.1.0)\n",
            "Requirement already satisfied: langcodes<4.0.0,>=3.2.0 in /usr/local/lib/python3.11/dist-packages (from spacy>=3.8.2->convokit) (3.5.0)\n",
            "Requirement already satisfied: absl-py>=1.0.0 in /usr/local/lib/python3.11/dist-packages (from tensorflow>=2.18.0->convokit) (1.4.0)\n",
            "Requirement already satisfied: astunparse>=1.6.0 in /usr/local/lib/python3.11/dist-packages (from tensorflow>=2.18.0->convokit) (1.6.3)\n",
            "Requirement already satisfied: flatbuffers>=24.3.25 in /usr/local/lib/python3.11/dist-packages (from tensorflow>=2.18.0->convokit) (25.2.10)\n",
            "Requirement already satisfied: gast!=0.5.0,!=0.5.1,!=0.5.2,>=0.2.1 in /usr/local/lib/python3.11/dist-packages (from tensorflow>=2.18.0->convokit) (0.6.0)\n",
            "Requirement already satisfied: google-pasta>=0.1.1 in /usr/local/lib/python3.11/dist-packages (from tensorflow>=2.18.0->convokit) (0.2.0)\n",
            "Requirement already satisfied: libclang>=13.0.0 in /usr/local/lib/python3.11/dist-packages (from tensorflow>=2.18.0->convokit) (18.1.1)\n",
            "Requirement already satisfied: opt-einsum>=2.3.2 in /usr/local/lib/python3.11/dist-packages (from tensorflow>=2.18.0->convokit) (3.4.0)\n",
            "Requirement already satisfied: protobuf!=4.21.0,!=4.21.1,!=4.21.2,!=4.21.3,!=4.21.4,!=4.21.5,<6.0.0dev,>=3.20.3 in /usr/local/lib/python3.11/dist-packages (from tensorflow>=2.18.0->convokit) (5.29.4)\n",
            "Requirement already satisfied: six>=1.12.0 in /usr/local/lib/python3.11/dist-packages (from tensorflow>=2.18.0->convokit) (1.17.0)\n",
            "Requirement already satisfied: termcolor>=1.1.0 in /usr/local/lib/python3.11/dist-packages (from tensorflow>=2.18.0->convokit) (2.5.0)\n",
            "Requirement already satisfied: typing-extensions>=3.6.6 in /usr/local/lib/python3.11/dist-packages (from tensorflow>=2.18.0->convokit) (4.12.2)\n",
            "Requirement already satisfied: wrapt>=1.11.0 in /usr/local/lib/python3.11/dist-packages (from tensorflow>=2.18.0->convokit) (1.17.2)\n",
            "Requirement already satisfied: grpcio<2.0,>=1.24.3 in /usr/local/lib/python3.11/dist-packages (from tensorflow>=2.18.0->convokit) (1.71.0)\n",
            "Requirement already satisfied: tensorboard<2.19,>=2.18 in /usr/local/lib/python3.11/dist-packages (from tensorflow>=2.18.0->convokit) (2.18.0)\n",
            "Requirement already satisfied: keras>=3.5.0 in /usr/local/lib/python3.11/dist-packages (from tensorflow>=2.18.0->convokit) (3.8.0)\n",
            "Requirement already satisfied: ml-dtypes<0.5.0,>=0.4.0 in /usr/local/lib/python3.11/dist-packages (from tensorflow>=2.18.0->convokit) (0.4.1)\n",
            "Requirement already satisfied: tensorflow-io-gcs-filesystem>=0.23.1 in /usr/local/lib/python3.11/dist-packages (from tensorflow>=2.18.0->convokit) (0.37.1)\n",
            "Requirement already satisfied: blis<1.3.0,>=1.2.0 in /usr/local/lib/python3.11/dist-packages (from thinc<8.4.0,>=8.3.0->convokit) (1.2.0)\n",
            "Requirement already satisfied: confection<1.0.0,>=0.0.1 in /usr/local/lib/python3.11/dist-packages (from thinc<8.4.0,>=8.3.0->convokit) (0.1.5)\n",
            "Requirement already satisfied: datasets>=3.0.0 in /usr/local/lib/python3.11/dist-packages (from trl>=0.12.2->convokit) (3.4.1)\n",
            "Requirement already satisfied: rich in /usr/local/lib/python3.11/dist-packages (from trl>=0.12.2->convokit) (13.9.4)\n",
            "Requirement already satisfied: psutil in /usr/local/lib/python3.11/dist-packages (from accelerate->convokit) (5.9.5)\n",
            "Requirement already satisfied: torch>=2.0.0 in /usr/local/lib/python3.11/dist-packages (from accelerate->convokit) (2.6.0+cu124)\n",
            "Requirement already satisfied: huggingface-hub>=0.21.0 in /usr/local/lib/python3.11/dist-packages (from accelerate->convokit) (0.29.3)\n",
            "Requirement already satisfied: safetensors>=0.4.3 in /usr/local/lib/python3.11/dist-packages (from accelerate->convokit) (0.5.3)\n",
            "Requirement already satisfied: filelock in /usr/local/lib/python3.11/dist-packages (from transformers->convokit) (3.18.0)\n",
            "Requirement already satisfied: tokenizers<0.22,>=0.21 in /usr/local/lib/python3.11/dist-packages (from transformers->convokit) (0.21.1)\n",
            "Requirement already satisfied: wheel<1.0,>=0.23.0 in /usr/local/lib/python3.11/dist-packages (from astunparse>=1.6.0->tensorflow>=2.18.0->convokit) (0.45.1)\n",
            "Requirement already satisfied: pyarrow>=15.0.0 in /usr/local/lib/python3.11/dist-packages (from datasets>=3.0.0->trl>=0.12.2->convokit) (18.1.0)\n",
            "Requirement already satisfied: xxhash in /usr/local/lib/python3.11/dist-packages (from datasets>=3.0.0->trl>=0.12.2->convokit) (3.5.0)\n",
            "Requirement already satisfied: multiprocess<0.70.17 in /usr/local/lib/python3.11/dist-packages (from datasets>=3.0.0->trl>=0.12.2->convokit) (0.70.16)\n",
            "Requirement already satisfied: fsspec<=2024.12.0,>=2023.1.0 in /usr/local/lib/python3.11/dist-packages (from fsspec[http]<=2024.12.0,>=2023.1.0->datasets>=3.0.0->trl>=0.12.2->convokit) (2024.12.0)\n",
            "Requirement already satisfied: aiohttp in /usr/local/lib/python3.11/dist-packages (from datasets>=3.0.0->trl>=0.12.2->convokit) (3.11.14)\n",
            "Requirement already satisfied: wcwidth in /usr/local/lib/python3.11/dist-packages (from ftfy<7.0,>=6.0->clean-text>=0.6.0->convokit) (0.2.13)\n",
            "Requirement already satisfied: namex in /usr/local/lib/python3.11/dist-packages (from keras>=3.5.0->tensorflow>=2.18.0->convokit) (0.0.8)\n",
            "Requirement already satisfied: optree in /usr/local/lib/python3.11/dist-packages (from keras>=3.5.0->tensorflow>=2.18.0->convokit) (0.14.1)\n",
            "Requirement already satisfied: language-data>=1.2 in /usr/local/lib/python3.11/dist-packages (from langcodes<4.0.0,>=3.2.0->spacy>=3.8.2->convokit) (1.3.0)\n",
            "Requirement already satisfied: annotated-types>=0.6.0 in /usr/local/lib/python3.11/dist-packages (from pydantic!=1.8,!=1.8.1,<3.0.0,>=1.7.4->spacy>=3.8.2->convokit) (0.7.0)\n",
            "Requirement already satisfied: pydantic-core==2.27.2 in /usr/local/lib/python3.11/dist-packages (from pydantic!=1.8,!=1.8.1,<3.0.0,>=1.7.4->spacy>=3.8.2->convokit) (2.27.2)\n",
            "Requirement already satisfied: charset-normalizer<4,>=2 in /usr/local/lib/python3.11/dist-packages (from requests<3.0.0,>=2.13.0->spacy>=3.8.2->convokit) (3.4.1)\n",
            "Requirement already satisfied: idna<4,>=2.5 in /usr/local/lib/python3.11/dist-packages (from requests<3.0.0,>=2.13.0->spacy>=3.8.2->convokit) (3.10)\n",
            "Requirement already satisfied: urllib3<3,>=1.21.1 in /usr/local/lib/python3.11/dist-packages (from requests<3.0.0,>=2.13.0->spacy>=3.8.2->convokit) (2.3.0)\n",
            "Requirement already satisfied: certifi>=2017.4.17 in /usr/local/lib/python3.11/dist-packages (from requests<3.0.0,>=2.13.0->spacy>=3.8.2->convokit) (2025.1.31)\n",
            "Requirement already satisfied: markdown>=2.6.8 in /usr/local/lib/python3.11/dist-packages (from tensorboard<2.19,>=2.18->tensorflow>=2.18.0->convokit) (3.7)\n",
            "Requirement already satisfied: tensorboard-data-server<0.8.0,>=0.7.0 in /usr/local/lib/python3.11/dist-packages (from tensorboard<2.19,>=2.18->tensorflow>=2.18.0->convokit) (0.7.2)\n",
            "Requirement already satisfied: werkzeug>=1.0.1 in /usr/local/lib/python3.11/dist-packages (from tensorboard<2.19,>=2.18->tensorflow>=2.18.0->convokit) (3.1.3)\n",
            "Requirement already satisfied: networkx in /usr/local/lib/python3.11/dist-packages (from torch>=2.0.0->accelerate->convokit) (3.4.2)\n",
            "Requirement already satisfied: nvidia-cuda-nvrtc-cu12==12.4.127 in /usr/local/lib/python3.11/dist-packages (from torch>=2.0.0->accelerate->convokit) (12.4.127)\n",
            "Requirement already satisfied: nvidia-cuda-runtime-cu12==12.4.127 in /usr/local/lib/python3.11/dist-packages (from torch>=2.0.0->accelerate->convokit) (12.4.127)\n",
            "Requirement already satisfied: nvidia-cuda-cupti-cu12==12.4.127 in /usr/local/lib/python3.11/dist-packages (from torch>=2.0.0->accelerate->convokit) (12.4.127)\n",
            "Requirement already satisfied: nvidia-cudnn-cu12==9.1.0.70 in /usr/local/lib/python3.11/dist-packages (from torch>=2.0.0->accelerate->convokit) (9.1.0.70)\n",
            "Requirement already satisfied: nvidia-cublas-cu12==12.4.5.8 in /usr/local/lib/python3.11/dist-packages (from torch>=2.0.0->accelerate->convokit) (12.4.5.8)\n",
            "Requirement already satisfied: nvidia-cufft-cu12==11.2.1.3 in /usr/local/lib/python3.11/dist-packages (from torch>=2.0.0->accelerate->convokit) (11.2.1.3)\n",
            "Requirement already satisfied: nvidia-curand-cu12==10.3.5.147 in /usr/local/lib/python3.11/dist-packages (from torch>=2.0.0->accelerate->convokit) (10.3.5.147)\n",
            "Requirement already satisfied: nvidia-cusolver-cu12==11.6.1.9 in /usr/local/lib/python3.11/dist-packages (from torch>=2.0.0->accelerate->convokit) (11.6.1.9)\n",
            "Requirement already satisfied: nvidia-cusparse-cu12==12.3.1.170 in /usr/local/lib/python3.11/dist-packages (from torch>=2.0.0->accelerate->convokit) (12.3.1.170)\n",
            "Requirement already satisfied: nvidia-cusparselt-cu12==0.6.2 in /usr/local/lib/python3.11/dist-packages (from torch>=2.0.0->accelerate->convokit) (0.6.2)\n",
            "Requirement already satisfied: nvidia-nccl-cu12==2.21.5 in /usr/local/lib/python3.11/dist-packages (from torch>=2.0.0->accelerate->convokit) (2.21.5)\n",
            "Requirement already satisfied: nvidia-nvtx-cu12==12.4.127 in /usr/local/lib/python3.11/dist-packages (from torch>=2.0.0->accelerate->convokit) (12.4.127)\n",
            "Requirement already satisfied: nvidia-nvjitlink-cu12==12.4.127 in /usr/local/lib/python3.11/dist-packages (from torch>=2.0.0->accelerate->convokit) (12.4.127)\n",
            "Requirement already satisfied: triton==3.2.0 in /usr/local/lib/python3.11/dist-packages (from torch>=2.0.0->accelerate->convokit) (3.2.0)\n",
            "Requirement already satisfied: sympy==1.13.1 in /usr/local/lib/python3.11/dist-packages (from torch>=2.0.0->accelerate->convokit) (1.13.1)\n",
            "Requirement already satisfied: mpmath<1.4,>=1.1.0 in /usr/local/lib/python3.11/dist-packages (from sympy==1.13.1->torch>=2.0.0->accelerate->convokit) (1.3.0)\n",
            "Requirement already satisfied: shellingham>=1.3.0 in /usr/local/lib/python3.11/dist-packages (from typer<1.0.0,>=0.3.0->spacy>=3.8.2->convokit) (1.5.4)\n",
            "Requirement already satisfied: markdown-it-py>=2.2.0 in /usr/local/lib/python3.11/dist-packages (from rich->trl>=0.12.2->convokit) (3.0.0)\n",
            "Requirement already satisfied: pygments<3.0.0,>=2.13.0 in /usr/local/lib/python3.11/dist-packages (from rich->trl>=0.12.2->convokit) (2.18.0)\n",
            "Requirement already satisfied: cloudpathlib<1.0.0,>=0.7.0 in /usr/local/lib/python3.11/dist-packages (from weasel<0.5.0,>=0.1.0->spacy>=3.8.2->convokit) (0.21.0)\n",
            "Requirement already satisfied: smart-open<8.0.0,>=5.2.1 in /usr/local/lib/python3.11/dist-packages (from weasel<0.5.0,>=0.1.0->spacy>=3.8.2->convokit) (7.1.0)\n",
            "Requirement already satisfied: MarkupSafe>=2.0 in /usr/local/lib/python3.11/dist-packages (from jinja2->spacy>=3.8.2->convokit) (3.0.2)\n",
            "Requirement already satisfied: aiohappyeyeballs>=2.3.0 in /usr/local/lib/python3.11/dist-packages (from aiohttp->datasets>=3.0.0->trl>=0.12.2->convokit) (2.6.1)\n",
            "Requirement already satisfied: aiosignal>=1.1.2 in /usr/local/lib/python3.11/dist-packages (from aiohttp->datasets>=3.0.0->trl>=0.12.2->convokit) (1.3.2)\n",
            "Requirement already satisfied: attrs>=17.3.0 in /usr/local/lib/python3.11/dist-packages (from aiohttp->datasets>=3.0.0->trl>=0.12.2->convokit) (25.3.0)\n",
            "Requirement already satisfied: frozenlist>=1.1.1 in /usr/local/lib/python3.11/dist-packages (from aiohttp->datasets>=3.0.0->trl>=0.12.2->convokit) (1.5.0)\n",
            "Requirement already satisfied: multidict<7.0,>=4.5 in /usr/local/lib/python3.11/dist-packages (from aiohttp->datasets>=3.0.0->trl>=0.12.2->convokit) (6.2.0)\n",
            "Requirement already satisfied: propcache>=0.2.0 in /usr/local/lib/python3.11/dist-packages (from aiohttp->datasets>=3.0.0->trl>=0.12.2->convokit) (0.3.0)\n",
            "Requirement already satisfied: yarl<2.0,>=1.17.0 in /usr/local/lib/python3.11/dist-packages (from aiohttp->datasets>=3.0.0->trl>=0.12.2->convokit) (1.18.3)\n",
            "Requirement already satisfied: marisa-trie>=1.1.0 in /usr/local/lib/python3.11/dist-packages (from language-data>=1.2->langcodes<4.0.0,>=3.2.0->spacy>=3.8.2->convokit) (1.2.1)\n",
            "Requirement already satisfied: mdurl~=0.1 in /usr/local/lib/python3.11/dist-packages (from markdown-it-py>=2.2.0->rich->trl>=0.12.2->convokit) (0.1.2)\n"
          ]
        }
      ]
    },
    {
      "cell_type": "code",
      "source": [
        "#lo que tenemos que hacer es importar el corpues usar el embedding para que nos devuelva las palabras en formato numerico para el modelo,\n",
        "# que podamos usar eso como para el shape de nuestro modelo y de ahi una vez que la capa Embedding() convierte cada palabra en un vector denso,\n",
        "#esos vectores se usan como entrada en las siguientes capas del modelo, como una LSTM, GRU, CNN, o incluso una simple capa Dense.\n",
        "\n",
        "\n",
        "import pandas as pd\n",
        "import re\n",
        "import string\n",
        "import matplotlib.pyplot as plt\n",
        "import numpy as np\n",
        "import tensorflow as tf\n",
        "from tensorflow.keras.models import Model\n",
        "from tensorflow.keras.layers import Input, Embedding, LSTM, Dense\n"
      ],
      "metadata": {
        "collapsed": true,
        "id": "P6CLVGqkkNyV"
      },
      "execution_count": null,
      "outputs": []
    },
    {
      "cell_type": "code",
      "source": [
        "\n",
        "print(\"GPU disponible:\", tf.config.list_physical_devices('GPU'))\n"
      ],
      "metadata": {
        "colab": {
          "base_uri": "https://localhost:8080/"
        },
        "id": "GwYxFSZldc3_",
        "outputId": "adc3d6a1-53ee-4615-a4ae-fa11a8412d52"
      },
      "execution_count": null,
      "outputs": [
        {
          "output_type": "stream",
          "name": "stdout",
          "text": [
            "GPU disponible: [PhysicalDevice(name='/physical_device:GPU:0', device_type='GPU')]\n"
          ]
        }
      ]
    },
    {
      "cell_type": "code",
      "source": [
        "\n",
        "print(\"Versión de TensorFlow:\", tf.__version__)\n",
        "print(\"GPU disponible:\", tf.config.list_physical_devices('GPU'))\n",
        "print(\"cuDNN habilitado:\", tf.test.is_built_with_cuda())\n",
        "print(\"cuDNN versión:\", tf.sysconfig.get_build_info()[\"cudnn_version\"])\n"
      ],
      "metadata": {
        "colab": {
          "base_uri": "https://localhost:8080/"
        },
        "id": "rMgv2uszgnZD",
        "outputId": "d9caff38-4aaa-47a0-a85b-0ada8bbbd022"
      },
      "execution_count": null,
      "outputs": [
        {
          "output_type": "stream",
          "name": "stdout",
          "text": [
            "Versión de TensorFlow: 2.18.0\n",
            "GPU disponible: [PhysicalDevice(name='/physical_device:GPU:0', device_type='GPU')]\n",
            "cuDNN habilitado: True\n",
            "cuDNN versión: 9\n"
          ]
        }
      ]
    },
    {
      "cell_type": "markdown",
      "source": [
        "try 1"
      ],
      "metadata": {
        "id": "Rd95Ahhmp72o"
      }
    },
    {
      "cell_type": "code",
      "source": [
        "import re\n",
        "\n",
        "def preprocesar_texto(texto):\n",
        "    \"\"\"Limpia y normaliza el texto manteniendo las contracciones intactas y separando la puntuación\"\"\"\n",
        "    texto = texto.lower()\n",
        "    texto = re.sub(r\"’\", \"'\", texto)  # Normalizar apóstrofes\n",
        "    texto = re.sub(r\"(\\w)'(\\w)\", r\"\\1apostrofe\\2\", texto)  # Proteger contracciones\n",
        "    texto = re.sub(r\"([.,!?;:])\", r\" \\1 \", texto)  # Espacios alrededor de puntuación\n",
        "    texto = re.sub(r\"\\s+\", \" \", texto).strip()  # Eliminar múltiples espacios\n",
        "    return texto\n",
        "\n",
        "def restaurar_apostrofes(texto):\n",
        "    \"\"\"Reemplaza 'apostrofe' nuevamente por un apóstrofe y ajusta la puntuación\"\"\"\n",
        "    texto = re.sub(r\"(\\w)apostrofe(\\w)\", r\"\\1'\\2\", texto)\n",
        "    texto = re.sub(r\"\\s([.,!?;:])\", r\"\\1\", texto)  # Eliminar espacios antes de puntuación\n",
        "    return texto\n",
        "\n",
        "# Leer archivo\n",
        "with open(\"/content/friends_dialogos.txt\", \"r\", encoding=\"utf-8\") as f:\n",
        "    texto_completo = f.read()\n",
        "\n",
        "# Aplicar preprocesamiento\n",
        "texto_preprocesado = preprocesar_texto(texto_completo)\n",
        "\n",
        "# Dividir manteniendo signos de puntuación\n",
        "frases = re.split(r\"([.!?;:])\", texto_preprocesado)\n",
        "frases = [restaurar_apostrofes(frases[i].strip() + frases[i+1]) for i in range(0, len(frases)-1, 2)]\n",
        "\n",
        "print(frases[:5])  # Verificar resultado\n"
      ],
      "metadata": {
        "colab": {
          "base_uri": "https://localhost:8080/"
        },
        "id": "-XIfzZo1p6lF",
        "outputId": "d747cc42-cc02-4b96-8f2d-2899c12e03ef"
      },
      "execution_count": null,
      "outputs": [
        {
          "output_type": "stream",
          "name": "stdout",
          "text": [
            "[\"there's nothing to tell!\", \"he's just some guy i work with!\", \"c'mon, you're going out with the guy!\", \"there's gotta be something wrong with him!\", 'all right joey, be nice.']\n"
          ]
        }
      ]
    },
    {
      "cell_type": "markdown",
      "source": [
        "Tokenizacion\n"
      ],
      "metadata": {
        "id": "yMWALHLfz7dy"
      }
    },
    {
      "cell_type": "code",
      "source": [
        "import numpy as np\n",
        "import tensorflow as tf\n",
        "import psutil  # Para monitorear memoria del sistema\n",
        "from tensorflow.keras.preprocessing.text import Tokenizer\n",
        "from tensorflow.keras.preprocessing.sequence import pad_sequences\n",
        "from tensorflow.keras.models import Model\n",
        "from tensorflow.keras.layers import Input, Embedding, LSTM, Dense\n",
        "from tensorflow.keras.callbacks import Callback, ModelCheckpoint\n",
        "from tensorflow.keras.optimizers import Adam\n",
        "from tensorflow.keras.layers import Bidirectional\n",
        "\n",
        "# 📌 1. Definir parámetros\n",
        "vocab_size = 17000  # Reducido para evitar uso excesivo de memoria\n",
        "embedding_dim = 10\n",
        "max_length = 5\n",
        "\n",
        "# 📌 3. Tokenización y preprocesamiento\n",
        "tokenizer = Tokenizer(num_words=vocab_size, oov_token=\"<OOV>\")\n",
        "tokenizer.fit_on_texts(frases)\n",
        "\n",
        "sequences = tokenizer.texts_to_sequences(frases)\n",
        "padded_sequences = pad_sequences(sequences, maxlen=max_length, padding=\"pre\")\n",
        "\n",
        "# 📌 4. Mostrar tokens y palabras correspondientes\n",
        "word_index = tokenizer.word_index  # Diccionario de palabras y sus índices\n",
        "\n",
        "# print(\"\\n📌 Tokens y palabras correspondientes:\\n\")\n",
        "# for seq in padded_sequences:\n",
        "#     token_list = []\n",
        "#     word_list = []\n",
        "#     for token in seq:\n",
        "#         token_list.append(str(token))\n",
        "#         word_list.append(next((word for word, index in word_index.items() if index == token), \"<PAD>\"))  # Buscar la palabra correspondiente\n",
        "#     print(f\"Tokens: {' '.join(token_list)}\")\n",
        "#     print(f\"Palabras: {' '.join(word_list)}\\n\")\n"
      ],
      "metadata": {
        "id": "y4VDHrEfz7Hv"
      },
      "execution_count": null,
      "outputs": []
    },
    {
      "cell_type": "code",
      "source": [
        "print(f\"Cantidad de palabras en el tokenizer: {len(tokenizer.word_index)}\")\n"
      ],
      "metadata": {
        "id": "rFvzDfgOMUtA",
        "colab": {
          "base_uri": "https://localhost:8080/"
        },
        "outputId": "ce9fad03-c11f-4fe8-f27b-e391f2abfcbe"
      },
      "execution_count": null,
      "outputs": [
        {
          "output_type": "stream",
          "name": "stdout",
          "text": [
            "Cantidad de palabras en el tokenizer: 16309\n"
          ]
        }
      ]
    },
    {
      "cell_type": "code",
      "source": [
        "import matplotlib.pyplot as plt\n",
        "\n",
        "longitudes = [len(seq) for seq in sequences]\n",
        "plt.hist(longitudes, bins=30)\n",
        "plt.xlabel(\"Longitud de la secuencia\")\n",
        "plt.ylabel(\"Frecuencia\")\n",
        "plt.title(\"Distribución de longitudes de frases\")\n",
        "plt.show()\n"
      ],
      "metadata": {
        "colab": {
          "base_uri": "https://localhost:8080/",
          "height": 472
        },
        "id": "3LyVsFUm1udz",
        "outputId": "bc9e4fcc-3ddb-457c-a908-bb8d57be00aa"
      },
      "execution_count": null,
      "outputs": [
        {
          "output_type": "display_data",
          "data": {
            "text/plain": [
              "<Figure size 640x480 with 1 Axes>"
            ],
            "image/png": "[encoded data removed]"
          },
          "metadata": {}
        }
      ]
    },
    {
      "cell_type": "code",
      "source": [
        "import spacy\n",
        "import matplotlib.pyplot as plt\n",
        "import seaborn as sns\n",
        "from collections import Counter\n",
        "\n",
        "# Leer el archivo de diálogos de Chandler\n",
        "with open(\"/content/dialogos_chandler.txt\", \"r\", encoding=\"utf-8\") as f:\n",
        "    texto_completo = f.read()\n",
        "\n",
        "# Cargar el modelo en inglés de spaCy\n",
        "nlp = spacy.load(\"en_core_web_sm\")\n",
        "\n",
        "# Procesar el texto con spaCy\n",
        "doc = nlp(texto_completo)\n",
        "\n",
        "# Diccionario para contar categorías\n",
        "categorias = {\n",
        "    \"Adjectives - Descriptive\": 0,\n",
        "    \"Adjectives - Possessive\": 0,\n",
        "    \"Nouns - People\": 0,\n",
        "    \"Nouns - Objects\": 0,\n",
        "    \"Pronouns\": 0\n",
        "}\n",
        "\n",
        "# Palabras clave para clasificación\n",
        "people_keywords = {\"man\", \"woman\", \"friend\", \"boy\", \"girl\", \"person\", \"student\", \"doctor\"}\n",
        "possessive_adjectives = {\"my\", \"your\", \"his\", \"her\", \"its\", \"our\", \"their\"}\n",
        "\n",
        "# Clasificación de palabras\n",
        "for token in doc:\n",
        "    if token.pos_ == \"ADJ\":\n",
        "        if token.text.lower() in possessive_adjectives:\n",
        "            categorias[\"Adjectives - Possessive\"] += 1\n",
        "        else:\n",
        "            categorias[\"Adjectives - Descriptive\"] += 1\n",
        "    elif token.pos_ == \"NOUN\":\n",
        "        if token.text.lower() in people_keywords:\n",
        "            categorias[\"Nouns - People\"] += 1\n",
        "        else:\n",
        "            categorias[\"Nouns - Objects\"] += 1\n",
        "    elif token.pos_ == \"PRON\":\n",
        "        categorias[\"Pronouns\"] += 1\n",
        "\n",
        "# Graficar los resultados\n",
        "plt.figure(figsize=(10, 5))\n",
        "sns.barplot(x=list(categorias.keys()), y=list(categorias.values()), palette=\"coolwarm\")\n",
        "plt.ylabel(\"Count\")\n",
        "plt.xlabel(\"Grammatical Category\")\n",
        "plt.title(\"Distribution of Adjectives, Nouns, and Pronouns in Chandler's Dialogues\")\n",
        "plt.xticks(rotation=30)\n",
        "plt.show()\n"
      ],
      "metadata": {
        "colab": {
          "base_uri": "https://localhost:8080/",
          "height": 674
        },
        "id": "xFTfuUzp5GLR",
        "outputId": "db1040b9-25c6-4975-cfac-d237b4c93259"
      },
      "execution_count": null,
      "outputs": [
        {
          "output_type": "stream",
          "name": "stderr",
          "text": [
            "<ipython-input-6-e251a9057595>:46: FutureWarning: \n",
            "\n",
            "Passing `palette` without assigning `hue` is deprecated and will be removed in v0.14.0. Assign the `x` variable to `hue` and set `legend=False` for the same effect.\n",
            "\n",
            "  sns.barplot(x=list(categorias.keys()), y=list(categorias.values()), palette=\"coolwarm\")\n"
          ]
        },
        {
          "output_type": "display_data",
          "data": {
            "text/plain": [
              "<Figure size 1000x500 with 1 Axes>"
            ],
            "image/png": "[encoded data removed]"
          },
          "metadata": {}
        }
      ]
    },
    {
      "cell_type": "code",
      "source": [
        "print(f\"Cantidad de palabras en el tokenizer: {len(tokenizer.word_index)}\")\n"
      ],
      "metadata": {
        "colab": {
          "base_uri": "https://localhost:8080/"
        },
        "id": "JnpwoKin1_jp",
        "outputId": "6423bc53-9db4-495f-bc41-418cf4b548a0"
      },
      "execution_count": null,
      "outputs": [
        {
          "output_type": "stream",
          "name": "stdout",
          "text": [
            "Cantidad de palabras en el tokenizer: 16309\n"
          ]
        }
      ]
    },
    {
      "cell_type": "markdown",
      "source": [
        "trainning\n"
      ],
      "metadata": {
        "id": "CLYki5V40Cb4"
      }
    },
    {
      "cell_type": "code",
      "source": [
        "# 🔥 `X_train` son las primeras palabras, `y_train` es la siguiente palabra\n",
        "X_train, y_train = padded_sequences[:, :-1], padded_sequences[:, -1]\n",
        "#X_train, y_train = padded_sequences, padded_sequences[:, -1]\n",
        "y_train = np.array(y_train)  # Asegurar que sea un array de NumPy\n",
        "len(y_train)"
      ],
      "metadata": {
        "id": "otblfbno0JCs",
        "colab": {
          "base_uri": "https://localhost:8080/"
        },
        "outputId": "5ba88c9b-9913-48cf-a8a2-9c5423d1183e"
      },
      "execution_count": null,
      "outputs": [
        {
          "output_type": "execute_result",
          "data": {
            "text/plain": [
              "128442"
            ]
          },
          "metadata": {},
          "execution_count": 5
        }
      ]
    },
    {
      "cell_type": "markdown",
      "source": [
        "creacion del modelo"
      ],
      "metadata": {
        "id": "3rFqmOXV0KcR"
      }
    },
    {
      "cell_type": "code",
      "source": [
        "# 📌 3. Crear el modelo\n",
        "input_layer = Input(shape=(max_length-1,))\n",
        "embedding_layer = Embedding(input_dim=vocab_size, output_dim=embedding_dim)(input_layer)\n",
        "\n",
        "lstm_1 = LSTM(64, return_sequences=True)(embedding_layer)\n",
        "lstm_2 = LSTM(64, return_sequences=True)(lstm_1)\n",
        "lstm_3 = LSTM(256)(lstm_2)\n",
        "\n",
        "#hidden_layer1 = Dense(256, activation=\"elu\")(lstm_3)\n",
        "hidden_layer2 = Dense(256, activation=\"tanh\")(lstm_3)\n",
        "output_layer = Dense(vocab_size, activation=\"softmax\")(hidden_layer2)  # 🔹 Cambiado tamaño de salida\n",
        "\n",
        "model = Model(inputs=input_layer, outputs=output_layer)\n",
        "optimizer = Adam(learning_rate=0.001, clipvalue=1.0)  # 🔹 Evitar explosión de gradientes\n",
        "model.compile(optimizer=optimizer, loss=\"sparse_categorical_crossentropy\", metrics=[\"accuracy\"])\n",
        "\n",
        "model.summary()"
      ],
      "metadata": {
        "colab": {
          "base_uri": "https://localhost:8080/",
          "height": 355
        },
        "id": "5e6qLHvm0QQx",
        "outputId": "3921707f-5963-4600-e6df-51c4a0b22b88"
      },
      "execution_count": null,
      "outputs": [
        {
          "output_type": "display_data",
          "data": {
            "text/plain": [
              "\u001b[1mModel: \"functional\"\u001b[0m\n"
            ],
            "text/html": [
              "<pre style=\"white-space:pre;overflow-x:auto;line-height:normal;font-family:Menlo,'DejaVu Sans Mono',consolas,'Courier New',monospace\"><span style=\"font-weight: bold\">Model: \"functional\"</span>\n",
              "</pre>\n"
            ]
          },
          "metadata": {}
        },
        {
          "output_type": "display_data",
          "data": {
            "text/plain": [
              "┏━━━━━━━━━━━━━━━━━━━━━━━━━━━━━━━━━━━━━━┳━━━━━━━━━━━━━━━━━━━━━━━━━━━━━┳━━━━━━━━━━━━━━━━━┓\n",
              "┃\u001b[1m \u001b[0m\u001b[1mLayer (type)                        \u001b[0m\u001b[1m \u001b[0m┃\u001b[1m \u001b[0m\u001b[1mOutput Shape               \u001b[0m\u001b[1m \u001b[0m┃\u001b[1m \u001b[0m\u001b[1m        Param #\u001b[0m\u001b[1m \u001b[0m┃\n",
              "┡━━━━━━━━━━━━━━━━━━━━━━━━━━━━━━━━━━━━━━╇━━━━━━━━━━━━━━━━━━━━━━━━━━━━━╇━━━━━━━━━━━━━━━━━┩\n",
              "│ input_layer (\u001b[38;5;33mInputLayer\u001b[0m)             │ (\u001b[38;5;45mNone\u001b[0m, \u001b[38;5;34m4\u001b[0m)                   │               \u001b[38;5;34m0\u001b[0m │\n",
              "├──────────────────────────────────────┼─────────────────────────────┼─────────────────┤\n",
              "│ embedding (\u001b[38;5;33mEmbedding\u001b[0m)                │ (\u001b[38;5;45mNone\u001b[0m, \u001b[38;5;34m4\u001b[0m, \u001b[38;5;34m10\u001b[0m)               │         \u001b[38;5;34m170,000\u001b[0m │\n",
              "├──────────────────────────────────────┼─────────────────────────────┼─────────────────┤\n",
              "│ lstm (\u001b[38;5;33mLSTM\u001b[0m)                          │ (\u001b[38;5;45mNone\u001b[0m, \u001b[38;5;34m4\u001b[0m, \u001b[38;5;34m64\u001b[0m)               │          \u001b[38;5;34m19,200\u001b[0m │\n",
              "├──────────────────────────────────────┼─────────────────────────────┼─────────────────┤\n",
              "│ lstm_1 (\u001b[38;5;33mLSTM\u001b[0m)                        │ (\u001b[38;5;45mNone\u001b[0m, \u001b[38;5;34m4\u001b[0m, \u001b[38;5;34m64\u001b[0m)               │          \u001b[38;5;34m33,024\u001b[0m │\n",
              "├──────────────────────────────────────┼─────────────────────────────┼─────────────────┤\n",
              "│ lstm_2 (\u001b[38;5;33mLSTM\u001b[0m)                        │ (\u001b[38;5;45mNone\u001b[0m, \u001b[38;5;34m256\u001b[0m)                 │         \u001b[38;5;34m328,704\u001b[0m │\n",
              "├──────────────────────────────────────┼─────────────────────────────┼─────────────────┤\n",
              "│ dense (\u001b[38;5;33mDense\u001b[0m)                        │ (\u001b[38;5;45mNone\u001b[0m, \u001b[38;5;34m256\u001b[0m)                 │          \u001b[38;5;34m65,792\u001b[0m │\n",
              "├──────────────────────────────────────┼─────────────────────────────┼─────────────────┤\n",
              "│ dense_1 (\u001b[38;5;33mDense\u001b[0m)                      │ (\u001b[38;5;45mNone\u001b[0m, \u001b[38;5;34m17000\u001b[0m)               │       \u001b[38;5;34m4,369,000\u001b[0m │\n",
              "└──────────────────────────────────────┴─────────────────────────────┴─────────────────┘\n"
            ],
            "text/html": [
              "<pre style=\"white-space:pre;overflow-x:auto;line-height:normal;font-family:Menlo,'DejaVu Sans Mono',consolas,'Courier New',monospace\">┏━━━━━━━━━━━━━━━━━━━━━━━━━━━━━━━━━━━━━━┳━━━━━━━━━━━━━━━━━━━━━━━━━━━━━┳━━━━━━━━━━━━━━━━━┓\n",
              "┃<span style=\"font-weight: bold\"> Layer (type)                         </span>┃<span style=\"font-weight: bold\"> Output Shape                </span>┃<span style=\"font-weight: bold\">         Param # </span>┃\n",
              "┡━━━━━━━━━━━━━━━━━━━━━━━━━━━━━━━━━━━━━━╇━━━━━━━━━━━━━━━━━━━━━━━━━━━━━╇━━━━━━━━━━━━━━━━━┩\n",
              "│ input_layer (<span style=\"color: #0087ff; text-decoration-color: #0087ff\">InputLayer</span>)             │ (<span style=\"color: #00d7ff; text-decoration-color: #00d7ff\">None</span>, <span style=\"color: #00af00; text-decoration-color: #00af00\">4</span>)                   │               <span style=\"color: #00af00; text-decoration-color: #00af00\">0</span> │\n",
              "├──────────────────────────────────────┼─────────────────────────────┼─────────────────┤\n",
              "│ embedding (<span style=\"color: #0087ff; text-decoration-color: #0087ff\">Embedding</span>)                │ (<span style=\"color: #00d7ff; text-decoration-color: #00d7ff\">None</span>, <span style=\"color: #00af00; text-decoration-color: #00af00\">4</span>, <span style=\"color: #00af00; text-decoration-color: #00af00\">10</span>)               │         <span style=\"color: #00af00; text-decoration-color: #00af00\">170,000</span> │\n",
              "├──────────────────────────────────────┼─────────────────────────────┼─────────────────┤\n",
              "│ lstm (<span style=\"color: #0087ff; text-decoration-color: #0087ff\">LSTM</span>)                          │ (<span style=\"color: #00d7ff; text-decoration-color: #00d7ff\">None</span>, <span style=\"color: #00af00; text-decoration-color: #00af00\">4</span>, <span style=\"color: #00af00; text-decoration-color: #00af00\">64</span>)               │          <span style=\"color: #00af00; text-decoration-color: #00af00\">19,200</span> │\n",
              "├──────────────────────────────────────┼─────────────────────────────┼─────────────────┤\n",
              "│ lstm_1 (<span style=\"color: #0087ff; text-decoration-color: #0087ff\">LSTM</span>)                        │ (<span style=\"color: #00d7ff; text-decoration-color: #00d7ff\">None</span>, <span style=\"color: #00af00; text-decoration-color: #00af00\">4</span>, <span style=\"color: #00af00; text-decoration-color: #00af00\">64</span>)               │          <span style=\"color: #00af00; text-decoration-color: #00af00\">33,024</span> │\n",
              "├──────────────────────────────────────┼─────────────────────────────┼─────────────────┤\n",
              "│ lstm_2 (<span style=\"color: #0087ff; text-decoration-color: #0087ff\">LSTM</span>)                        │ (<span style=\"color: #00d7ff; text-decoration-color: #00d7ff\">None</span>, <span style=\"color: #00af00; text-decoration-color: #00af00\">256</span>)                 │         <span style=\"color: #00af00; text-decoration-color: #00af00\">328,704</span> │\n",
              "├──────────────────────────────────────┼─────────────────────────────┼─────────────────┤\n",
              "│ dense (<span style=\"color: #0087ff; text-decoration-color: #0087ff\">Dense</span>)                        │ (<span style=\"color: #00d7ff; text-decoration-color: #00d7ff\">None</span>, <span style=\"color: #00af00; text-decoration-color: #00af00\">256</span>)                 │          <span style=\"color: #00af00; text-decoration-color: #00af00\">65,792</span> │\n",
              "├──────────────────────────────────────┼─────────────────────────────┼─────────────────┤\n",
              "│ dense_1 (<span style=\"color: #0087ff; text-decoration-color: #0087ff\">Dense</span>)                      │ (<span style=\"color: #00d7ff; text-decoration-color: #00d7ff\">None</span>, <span style=\"color: #00af00; text-decoration-color: #00af00\">17000</span>)               │       <span style=\"color: #00af00; text-decoration-color: #00af00\">4,369,000</span> │\n",
              "└──────────────────────────────────────┴─────────────────────────────┴─────────────────┘\n",
              "</pre>\n"
            ]
          },
          "metadata": {}
        },
        {
          "output_type": "display_data",
          "data": {
            "text/plain": [
              "\u001b[1m Total params: \u001b[0m\u001b[38;5;34m4,985,720\u001b[0m (19.02 MB)\n"
            ],
            "text/html": [
              "<pre style=\"white-space:pre;overflow-x:auto;line-height:normal;font-family:Menlo,'DejaVu Sans Mono',consolas,'Courier New',monospace\"><span style=\"font-weight: bold\"> Total params: </span><span style=\"color: #00af00; text-decoration-color: #00af00\">4,985,720</span> (19.02 MB)\n",
              "</pre>\n"
            ]
          },
          "metadata": {}
        },
        {
          "output_type": "display_data",
          "data": {
            "text/plain": [
              "\u001b[1m Trainable params: \u001b[0m\u001b[38;5;34m4,985,720\u001b[0m (19.02 MB)\n"
            ],
            "text/html": [
              "<pre style=\"white-space:pre;overflow-x:auto;line-height:normal;font-family:Menlo,'DejaVu Sans Mono',consolas,'Courier New',monospace\"><span style=\"font-weight: bold\"> Trainable params: </span><span style=\"color: #00af00; text-decoration-color: #00af00\">4,985,720</span> (19.02 MB)\n",
              "</pre>\n"
            ]
          },
          "metadata": {}
        },
        {
          "output_type": "display_data",
          "data": {
            "text/plain": [
              "\u001b[1m Non-trainable params: \u001b[0m\u001b[38;5;34m0\u001b[0m (0.00 B)\n"
            ],
            "text/html": [
              "<pre style=\"white-space:pre;overflow-x:auto;line-height:normal;font-family:Menlo,'DejaVu Sans Mono',consolas,'Courier New',monospace\"><span style=\"font-weight: bold\"> Non-trainable params: </span><span style=\"color: #00af00; text-decoration-color: #00af00\">0</span> (0.00 B)\n",
              "</pre>\n"
            ]
          },
          "metadata": {}
        }
      ]
    },
    {
      "cell_type": "markdown",
      "source": [
        "generar frase"
      ],
      "metadata": {
        "id": "2IqnzVE40TGR"
      }
    },
    {
      "cell_type": "code",
      "source": [
        "import numpy as np\n",
        "\n",
        "def sample_with_temperature(predictions, temperature=1.0):\n",
        "    predictions = np.asarray(predictions).astype(\"float64\")\n",
        "    predictions = np.log(predictions + 1e-10) / temperature  # Evita log(0)\n",
        "    exp_preds = np.exp(predictions)\n",
        "    probabilities = exp_preds / np.sum(exp_preds)  # Normaliza para obtener una distribución de probabilidad\n",
        "    return np.random.choice(len(probabilities), p=probabilities)\n",
        "\n",
        "def generar_texto(frase_inicial, longitud, temperature=1.0):\n",
        "    for _ in range(longitud):\n",
        "        # 🔹 Tokenizar la frase inicial usando el mismo tokenizer\n",
        "        secuencia = tokenizer.texts_to_sequences([frase_inicial])\n",
        "\n",
        "        # 🔹 Aplicar padding con los mismos parámetros de la tokenización original\n",
        "        secuencia = pad_sequences(secuencia, maxlen=max_length-1, padding=\"post\")\n",
        "\n",
        "        # 🔹 Predecir la siguiente palabra\n",
        "        prediccion = model.predict(secuencia, verbose=0)\n",
        "\n",
        "        # 🔹 Seleccionar índice con temperatura\n",
        "        indice_predicho = sample_with_temperature(prediccion[0], temperature)\n",
        "\n",
        "        # 🔹 Convertir índice a palabra\n",
        "        palabra_predicha = tokenizer.index_word.get(indice_predicho, \"<unk>\")\n",
        "\n",
        "        # 🔹 Si la palabra es <OOV>, evitar agregar ruido\n",
        "        if palabra_predicha == \"<OOV>\":\n",
        "            continue\n",
        "\n",
        "        # 🔹 Agregar la palabra a la frase inicial\n",
        "        frase_inicial = frase_inicial.strip() + \" \" + palabra_predicha\n",
        "\n",
        "    return frase_inicial\n"
      ],
      "metadata": {
        "id": "J5BU9u_W0U2X"
      },
      "execution_count": null,
      "outputs": []
    },
    {
      "cell_type": "markdown",
      "source": [
        "callback"
      ],
      "metadata": {
        "id": "iIb7YKOo0bB5"
      }
    },
    {
      "cell_type": "code",
      "source": [
        "# 📌 5. Callback para monitorear la generación de texto y memoria\n",
        "class MonitorEntrenamiento(Callback):\n",
        "    def on_epoch_end(self, epoch, logs=None):\n",
        "        frase_prueba = \"Hi, how are you?\"\n",
        "        respuesta = generar_texto(frase_prueba, 10)\n",
        "        memoria = psutil.virtual_memory()\n",
        "        print(f\"\\n🔹 Epoch {epoch + 1}: {frase_prueba} → {respuesta}\")\n",
        "        print(f\"📌 RAM usada: {memoria.percent}%\")\n"
      ],
      "metadata": {
        "id": "f8rrIm_o0fqK"
      },
      "execution_count": null,
      "outputs": []
    },
    {
      "cell_type": "markdown",
      "source": [
        "check point y entrenamiento del modelo"
      ],
      "metadata": {
        "id": "C3H1acdL0iIq"
      }
    },
    {
      "cell_type": "code",
      "source": [
        "# 📌 6. Entrenar el modelo sin checkpoint\n",
        "callbacks = [MonitorEntrenamiento()]  # Se elimina checkpoint\n",
        "history = model.fit(X_train, y_train, epochs=15, batch_size=64, verbose=1, callbacks=callbacks)\n",
        "\n",
        "# 📌 7. Prueba final de generación\n",
        "print(\"\\n🔹 Generación final:\")\n",
        "print(generar_texto(\"Hi, how are you?\", 10))\n"
      ],
      "metadata": {
        "colab": {
          "base_uri": "https://localhost:8080/"
        },
        "id": "ePgBNW-8nlDg",
        "outputId": "6debc460-ade7-441d-da82-d48eb4721ea8"
      },
      "execution_count": null,
      "outputs": [
        {
          "output_type": "stream",
          "name": "stdout",
          "text": [
            "Epoch 1/15\n",
            "\u001b[1m2004/2007\u001b[0m \u001b[32m━━━━━━━━━━━━━━━━━━━\u001b[0m\u001b[37m━\u001b[0m \u001b[1m0s\u001b[0m 11ms/step - accuracy: 0.1636 - loss: 6.3151\n",
            "🔹 Epoch 1: Hi, how are you? → Hi, how are you? pain sweet bigger ohh it about that boring curiosity gifts\n",
            "📌 RAM usada: 16.7%\n",
            "\u001b[1m2007/2007\u001b[0m \u001b[32m━━━━━━━━━━━━━━━━━━━━\u001b[0m\u001b[37m\u001b[0m \u001b[1m28s\u001b[0m 11ms/step - accuracy: 0.1636 - loss: 6.3142\n",
            "Epoch 2/15\n",
            "\u001b[1m2004/2007\u001b[0m \u001b[32m━━━━━━━━━━━━━━━━━━━\u001b[0m\u001b[37m━\u001b[0m \u001b[1m0s\u001b[0m 11ms/step - accuracy: 0.1950 - loss: 5.3251\n",
            "🔹 Epoch 2: Hi, how are you? → Hi, how are you? doing coming that careful green yet visitors go schiff comes\n",
            "📌 RAM usada: 16.5%\n",
            "\u001b[1m2007/2007\u001b[0m \u001b[32m━━━━━━━━━━━━━━━━━━━━\u001b[0m\u001b[37m\u001b[0m \u001b[1m38s\u001b[0m 11ms/step - accuracy: 0.1950 - loss: 5.3250\n",
            "Epoch 3/15\n",
            "\u001b[1m2007/2007\u001b[0m \u001b[32m━━━━━━━━━━━━━━━━━━━━\u001b[0m\u001b[37m\u001b[0m \u001b[1m0s\u001b[0m 11ms/step - accuracy: 0.2231 - loss: 4.9893\n",
            "🔹 Epoch 3: Hi, how are you? → Hi, how are you? want any queen real things talk uh this guy on\n",
            "📌 RAM usada: 16.6%\n",
            "\u001b[1m2007/2007\u001b[0m \u001b[32m━━━━━━━━━━━━━━━━━━━━\u001b[0m\u001b[37m\u001b[0m \u001b[1m22s\u001b[0m 11ms/step - accuracy: 0.2231 - loss: 4.9893\n",
            "Epoch 4/15\n",
            "\u001b[1m2006/2007\u001b[0m \u001b[32m━━━━━━━━━━━━━━━━━━━\u001b[0m\u001b[37m━\u001b[0m \u001b[1m0s\u001b[0m 11ms/step - accuracy: 0.2423 - loss: 4.7218\n",
            "🔹 Epoch 4: Hi, how are you? → Hi, how are you? havin' kidding it because hot refrigerator know christmas ethan proud\n",
            "📌 RAM usada: 16.6%\n",
            "\u001b[1m2007/2007\u001b[0m \u001b[32m━━━━━━━━━━━━━━━━━━━━\u001b[0m\u001b[37m\u001b[0m \u001b[1m41s\u001b[0m 11ms/step - accuracy: 0.2423 - loss: 4.7218\n",
            "Epoch 5/15\n",
            "\u001b[1m2004/2007\u001b[0m \u001b[32m━━━━━━━━━━━━━━━━━━━\u001b[0m\u001b[37m━\u001b[0m \u001b[1m0s\u001b[0m 11ms/step - accuracy: 0.2603 - loss: 4.4765\n",
            "🔹 Epoch 5: Hi, how are you? → Hi, how are you? going geller y'know what guys feel is for her burgundy\n",
            "📌 RAM usada: 16.7%\n",
            "\u001b[1m2007/2007\u001b[0m \u001b[32m━━━━━━━━━━━━━━━━━━━━\u001b[0m\u001b[37m\u001b[0m \u001b[1m41s\u001b[0m 11ms/step - accuracy: 0.2603 - loss: 4.4766\n",
            "Epoch 6/15\n",
            "\u001b[1m2006/2007\u001b[0m \u001b[32m━━━━━━━━━━━━━━━━━━━\u001b[0m\u001b[37m━\u001b[0m \u001b[1m0s\u001b[0m 11ms/step - accuracy: 0.2733 - loss: 4.2652\n",
            "🔹 Epoch 6: Hi, how are you? → Hi, how are you? worried about me too happens rach yes damn cut out\n",
            "📌 RAM usada: 16.3%\n",
            "\u001b[1m2007/2007\u001b[0m \u001b[32m━━━━━━━━━━━━━━━━━━━━\u001b[0m\u001b[37m\u001b[0m \u001b[1m41s\u001b[0m 11ms/step - accuracy: 0.2733 - loss: 4.2652\n",
            "Epoch 7/15\n",
            "\u001b[1m2004/2007\u001b[0m \u001b[32m━━━━━━━━━━━━━━━━━━━\u001b[0m\u001b[37m━\u001b[0m \u001b[1m0s\u001b[0m 11ms/step - accuracy: 0.2864 - loss: 4.0479\n",
            "🔹 Epoch 7: Hi, how are you? → Hi, how are you? around here for myself dude more present be out nothing\n",
            "📌 RAM usada: 16.5%\n",
            "\u001b[1m2007/2007\u001b[0m \u001b[32m━━━━━━━━━━━━━━━━━━━━\u001b[0m\u001b[37m\u001b[0m \u001b[1m41s\u001b[0m 11ms/step - accuracy: 0.2864 - loss: 4.0480\n",
            "Epoch 8/15\n",
            "\u001b[1m2003/2007\u001b[0m \u001b[32m━━━━━━━━━━━━━━━━━━━\u001b[0m\u001b[37m━\u001b[0m \u001b[1m0s\u001b[0m 11ms/step - accuracy: 0.3029 - loss: 3.8349\n",
            "🔹 Epoch 8: Hi, how are you? → Hi, how are you? doing here next minute ursula dr shopping here we know\n",
            "📌 RAM usada: 16.4%\n",
            "\u001b[1m2007/2007\u001b[0m \u001b[32m━━━━━━━━━━━━━━━━━━━━\u001b[0m\u001b[37m\u001b[0m \u001b[1m22s\u001b[0m 11ms/step - accuracy: 0.3028 - loss: 3.8351\n",
            "Epoch 9/15\n",
            "\u001b[1m2007/2007\u001b[0m \u001b[32m━━━━━━━━━━━━━━━━━━━━\u001b[0m\u001b[37m\u001b[0m \u001b[1m0s\u001b[0m 11ms/step - accuracy: 0.3217 - loss: 3.6334\n",
            "🔹 Epoch 9: Hi, how are you? → Hi, how are you? guys doing here here out there please here back first\n",
            "📌 RAM usada: 16.7%\n",
            "\u001b[1m2007/2007\u001b[0m \u001b[32m━━━━━━━━━━━━━━━━━━━━\u001b[0m\u001b[37m\u001b[0m \u001b[1m41s\u001b[0m 11ms/step - accuracy: 0.3217 - loss: 3.6335\n",
            "Epoch 10/15\n",
            "\u001b[1m2007/2007\u001b[0m \u001b[32m━━━━━━━━━━━━━━━━━━━━\u001b[0m\u001b[37m\u001b[0m \u001b[1m0s\u001b[0m 11ms/step - accuracy: 0.3472 - loss: 3.4216\n",
            "🔹 Epoch 10: Hi, how are you? → Hi, how are you? 15 common for work estrada rachel with ya sweatier who\n",
            "📌 RAM usada: 16.5%\n",
            "\u001b[1m2007/2007\u001b[0m \u001b[32m━━━━━━━━━━━━━━━━━━━━\u001b[0m\u001b[37m\u001b[0m \u001b[1m41s\u001b[0m 11ms/step - accuracy: 0.3472 - loss: 3.4216\n",
            "Epoch 11/15\n",
            "\u001b[1m2005/2007\u001b[0m \u001b[32m━━━━━━━━━━━━━━━━━━━\u001b[0m\u001b[37m━\u001b[0m \u001b[1m0s\u001b[0m 11ms/step - accuracy: 0.3728 - loss: 3.2356\n",
            "🔹 Epoch 11: Hi, how are you? → Hi, how are you? guys talk about that people him happens dorks complicated yet\n",
            "📌 RAM usada: 16.6%\n",
            "\u001b[1m2007/2007\u001b[0m \u001b[32m━━━━━━━━━━━━━━━━━━━━\u001b[0m\u001b[37m\u001b[0m \u001b[1m41s\u001b[0m 11ms/step - accuracy: 0.3727 - loss: 3.2357\n",
            "Epoch 12/15\n",
            "\u001b[1m2005/2007\u001b[0m \u001b[32m━━━━━━━━━━━━━━━━━━━\u001b[0m\u001b[37m━\u001b[0m \u001b[1m0s\u001b[0m 11ms/step - accuracy: 0.3986 - loss: 3.0711\n",
            "🔹 Epoch 12: Hi, how are you? → Hi, how are you? dressed for me tonight mr restaurant there and early 7143457\n",
            "📌 RAM usada: 16.5%\n",
            "\u001b[1m2007/2007\u001b[0m \u001b[32m━━━━━━━━━━━━━━━━━━━━\u001b[0m\u001b[37m\u001b[0m \u001b[1m23s\u001b[0m 11ms/step - accuracy: 0.3986 - loss: 3.0712\n",
            "Epoch 13/15\n",
            "\u001b[1m2007/2007\u001b[0m \u001b[32m━━━━━━━━━━━━━━━━━━━━\u001b[0m\u001b[37m\u001b[0m \u001b[1m0s\u001b[0m 11ms/step - accuracy: 0.4264 - loss: 2.9059\n",
            "🔹 Epoch 13: Hi, how are you? → Hi, how are you? guys doing here out anyway 150 bucks right him up\n",
            "📌 RAM usada: 16.6%\n",
            "\u001b[1m2007/2007\u001b[0m \u001b[32m━━━━━━━━━━━━━━━━━━━━\u001b[0m\u001b[37m\u001b[0m \u001b[1m41s\u001b[0m 11ms/step - accuracy: 0.4264 - loss: 2.9060\n",
            "Epoch 14/15\n",
            "\u001b[1m2004/2007\u001b[0m \u001b[32m━━━━━━━━━━━━━━━━━━━\u001b[0m\u001b[37m━\u001b[0m \u001b[1m0s\u001b[0m 11ms/step - accuracy: 0.4494 - loss: 2.7731\n",
            "🔹 Epoch 14: Hi, how are you? → Hi, how are you? doing it about that stuff here because me huh huh\n",
            "📌 RAM usada: 16.7%\n",
            "\u001b[1m2007/2007\u001b[0m \u001b[32m━━━━━━━━━━━━━━━━━━━━\u001b[0m\u001b[37m\u001b[0m \u001b[1m22s\u001b[0m 11ms/step - accuracy: 0.4493 - loss: 2.7733\n",
            "Epoch 15/15\n",
            "\u001b[1m2003/2007\u001b[0m \u001b[32m━━━━━━━━━━━━━━━━━━━\u001b[0m\u001b[37m━\u001b[0m \u001b[1m0s\u001b[0m 11ms/step - accuracy: 0.4770 - loss: 2.6323\n",
            "🔹 Epoch 15: Hi, how are you? → Hi, how are you? doing this stuff again yet rachel enter there pal there\n",
            "📌 RAM usada: 16.6%\n",
            "\u001b[1m2007/2007\u001b[0m \u001b[32m━━━━━━━━━━━━━━━━━━━━\u001b[0m\u001b[37m\u001b[0m \u001b[1m23s\u001b[0m 11ms/step - accuracy: 0.4769 - loss: 2.6325\n",
            "\n",
            "🔹 Generación final:\n",
            "Hi, how are you? had videotape tonight hard i can't see gavin again right\n"
          ]
        }
      ]
    },
    {
      "cell_type": "code",
      "source": [
        "# 📌 7. Prueba final de generación\n",
        "print(\"\\n🔹 Generación final:\")\n",
        "print(generar_texto(\"The world seemed like such a peaceful place until the magic tree was discovered in London.\", 1000))"
      ],
      "metadata": {
        "colab": {
          "base_uri": "https://localhost:8080/"
        },
        "id": "z36L5X5E78zr",
        "outputId": "479d7fc1-fa51-4acc-cd29-ad82776d3e84"
      },
      "execution_count": null,
      "outputs": [
        {
          "output_type": "stream",
          "name": "stdout",
          "text": [
            "\n",
            "🔹 Generación final:\n",
            "The world seemed like such a peaceful place until the magic tree was discovered in London. hall today carol i i brought oops there painful people down there too much marriage trees sock bastard you kicked sex luck crazy secrets sorry joey sorry joey young sad sexy channie's movie i could hurt ya piece dear pillow here with us tonight ow dude good doesn't you think about it again monica sorry mike man marriage new proof happen myself too newman you can't go there out around there please err over me man mrs feelings partner ass ski more men anymore y'know what everybody reading married doin' business anymore about me huh mr s yet bobby often are made up either island fantasy clothes thing hunter pageanting yasmine wisdom nirget nice yet myself huh ross strong first man experience red hair impersonal great puppies crazy people worth this afternoon job sign learn ok i can't work inside man okay right again tonight uh before that stuff again gone for them mrs man day ow big giant bump hollow water hummina squirrel mis moron orgy legal murder feelings here up there and chip grammar i can't understand though this anymore ok start control rough slowly c mine weird small legs fear cookies today fries morning pets doo things free available for lunch forever beer now but anything else going from instead right now huh then hand green quarter rude sharp wine again glue jamaican vic 27 bucks down there out there dear night or having fun jill work toe now crap fun out back right there know what happened rugby there surprised monica again now morning i didn't ask him out here yesterday too is elbows for us out here tonight i twenty asleep again and early eve by you anyway i know thirty uch wiener law 7 sportswear forever colours bitter wisdom lost jesus muppy sweetie you are me over friday anymore i can't fini now crying then everyone smoking anymore y'know something around monica okay good now stop you either kind money part now so means me married there sweetheart geller down huh who cares i kidding you leaving track out poisoning napkins men weapons even looks even josh true huh no thanks vertical bobby expensive trees toes toes moron hadens <unk> raw bedroom messages thins spits funny common now what uh uhm no janice okay yeah yeah right there too much butt together huh ross friends okay yes goodbye well ok go quickly goes mussberger apologize protection flirting is instinct josephine right away here left them on it tribbiani mississippi aaiiyyyeeee jewish upbeat really coo huh huh compliment away scissors sleep first table now smells true guy there do that is it unprecedented rachel green 9 chandy terror jesus tarragon i can't dance it painful enough lines seizing small blades boy tonight ben rachel everyting beer emma here because tribbiani 000 times brown mood less not bars morning okay now then fascinating sweetie this now honey no no no no no no no no no no no no no no no hey hey hey hey hey ow no no no no hey no no no no no no wait raquel anything late there late huh hi again tonight mrs mrs guest butt cluster green holidays cd rats my apartment out sir i do it bit fine joey not there y'know what why there for huh sakes again dad here right now one night opportunity before day enough breasts guys feeling attractive me out anymore idea kidding time okay day mm then braces movie here y'know what happened there huh what else glow like rach have now okay fine mr keystone tacos bing mrs hands safely joey kinda interesting bad mother y'know it's like me again bing ross doll giant brother ever smell crazy well ross on birthday tulips levels wins debut saved woods lady ya can't have places watch it again with it okay huh listen tonight bing rachel emma next wedding time projections lately sex decaf beers here alone rachel there goes me up here right now man i kissed i that so much thinner small ass toe stupid common dress what and scene for that car tomorrow night chick months there today ourselves garlicky squirrel sailboat garlic sprouts familiar rachel huh anything else are crazy funny french milk right now right here man why conversation purple thoughts date ross sometime rachel sorry rachel late suddenly quiet club syphilis mine huh omnipotent women just mouse up in them right here and why now asking out here somewhere guys don't morning ok alone to ross rachel please tomorrow night time now yay pink feet scent itself over this guy anymore is not domineering yet again anymore no nice ross guy rachel coming in here okay yeah definitely late when understudy quietly i understand friends joey sorry when phones is famous roughy partners around there because glander huh hi nuts inside here in months seven field position rained joey hard you okay crime things through others roughy jackets high five salary museum uhm occasionally kidding true here doesn't night too slow boxes for up what happened games class things bleeding here too easy involved huh dinosaurs on candy news fast class still even even out anymore time torture wrong i do it again okay you do it twice toner somehow purses russia slowly dead jokes away beautiful whoo trees out toes model solutions orgy jamaican ya guys fighting buddies either hero bamn like this is chandler tag bing rachel river suicide monkey reads professional device mississippi published device drain saving ross too present you uncomfortable about me tonight again though alone later there confused awhile down there and bob pig sorry tribbiani 000 digest cooling gunter route geller emergency 27 light my pie wing black recipe exist enough out together right now all right now right there down there sweetums that rule them too much before still even here out ms here proposing rachel green thumbs aversary taken geller okay pal joey's cousin charlie now here there goes first morning we notice make one air complaint\n"
          ]
        }
      ]
    },
    {
      "cell_type": "code",
      "source": [
        "from tensorflow.keras.preprocessing.text import Tokenizer\n",
        "from tensorflow.keras.preprocessing.sequence import pad_sequences\n",
        "import numpy as np\n",
        "\n",
        "# Suponiendo que ya tenés un tokenizer entrenado\n",
        "\n",
        "tokenizer = Tokenizer(num_words=vocab_size, oov_token=\"<OOV>\")\n",
        "tokenizer.fit_on_texts(frases)\n",
        "# Tokenizar las frases\n",
        "secuencias = tokenizer.texts_to_sequences(frases)\n",
        "\n",
        "# Mostrar las primeras secuencias\n",
        "print(\"Ejemplo de secuencias tokenizadas:\", secuencias[:5])\n",
        "\n",
        "# Padding para asegurar que todas las secuencias tengan la misma longitud\n",
        "input_sequence = pad_sequences(secuencias, maxlen=20, padding='post')  # Ajustar maxlen según tu modelo\n",
        "\n",
        "print(\"Forma de input_sequence:\", input_sequence.shape)\n",
        "print(\"Ejemplo de input_sequence:\", input_sequence[:5])\n"
      ],
      "metadata": {
        "colab": {
          "base_uri": "https://localhost:8080/"
        },
        "id": "Pt1kuIQjo71W",
        "outputId": "2b86667f-353d-487a-e729-17c66e76ce46"
      },
      "execution_count": null,
      "outputs": [
        {
          "output_type": "stream",
          "name": "stdout",
          "text": [
            "Ejemplo de secuencias tokenizadas: [[41, 44, 88, 40, 175], [25, 176, 70, 29, 7, 1643], [7, 1643, 8, 7, 3012], [384, 49, 7, 347, 6, 18], [196, 25, 12, 17, 112, 23, 475, 561, 12, 17, 846, 23, 4, 792, 21, 4, 3013, 8, 2, 736, 2, 126, 283, 394]]\n",
            "Forma de input_sequence: (14344, 20)\n",
            "Ejemplo de input_sequence: [[  41   44   88   40  175    0    0    0    0    0    0    0    0    0\n",
            "     0    0    0    0    0    0]\n",
            " [  25  176   70   29    7 1643    0    0    0    0    0    0    0    0\n",
            "     0    0    0    0    0    0]\n",
            " [   7 1643    8    7 3012    0    0    0    0    0    0    0    0    0\n",
            "     0    0    0    0    0    0]\n",
            " [ 384   49    7  347    6   18    0    0    0    0    0    0    0    0\n",
            "     0    0    0    0    0    0]\n",
            " [ 112   23  475  561   12   17  846   23    4  792   21    4 3013    8\n",
            "     2  736    2  126  283  394]]\n"
          ]
        }
      ]
    },
    {
      "cell_type": "code",
      "source": [
        "from tensorflow.keras.preprocessing.text import Tokenizer\n",
        "from tensorflow.keras.preprocessing.sequence import pad_sequences\n",
        "import numpy as np\n",
        "\n",
        "# Inicializar el Tokenizer y entrenarlo con el texto\n",
        "tokenizer = Tokenizer()\n",
        "tokenizer.fit_on_texts(frases)  # Aprender el vocabulario de las frases\n",
        "\n",
        "# Convertir las frases en secuencias numéricas\n",
        "secuencias = tokenizer.texts_to_sequences(frases)\n",
        "\n",
        "# Verificar si ahora las secuencias tienen contenido\n",
        "print(\"Ejemplo de secuencias tokenizadas:\", secuencias[:5])\n",
        "\n",
        "# Aplicar padding para normalizar las longitudes\n",
        "input_sequence = pad_sequences(secuencias, maxlen=20, padding='post')\n",
        "\n",
        "print(\"Forma de input_sequence:\", input_sequence.shape)\n",
        "print(\"Ejemplo de input_sequence:\", input_sequence[:5])\n"
      ],
      "metadata": {
        "colab": {
          "base_uri": "https://localhost:8080/"
        },
        "id": "gM0UW3FrpT5P",
        "outputId": "59df1408-ca1c-4895-cf01-af7f888f93aa"
      },
      "execution_count": null,
      "outputs": [
        {
          "output_type": "stream",
          "name": "stdout",
          "text": [
            "Ejemplo de secuencias tokenizadas: [[35, 37, 82, 34, 159], [25, 160, 42, 22, 7, 1628], [7, 1628, 10, 7, 2998], [363, 44, 7, 326, 6, 18], [178, 25, 1, 17, 102, 23, 454, 544, 1, 17, 828, 23, 4, 774, 21, 4, 2999, 10, 1, 718, 1, 17, 265, 373]]\n",
            "Forma de input_sequence: (14344, 20)\n",
            "Ejemplo de input_sequence: [[  35   37   82   34  159    0    0    0    0    0    0    0    0    0\n",
            "     0    0    0    0    0    0]\n",
            " [  25  160   42   22    7 1628    0    0    0    0    0    0    0    0\n",
            "     0    0    0    0    0    0]\n",
            " [   7 1628   10    7 2998    0    0    0    0    0    0    0    0    0\n",
            "     0    0    0    0    0    0]\n",
            " [ 363   44    7  326    6   18    0    0    0    0    0    0    0    0\n",
            "     0    0    0    0    0    0]\n",
            " [ 102   23  454  544    1   17  828   23    4  774   21    4 2999   10\n",
            "     1  718    1   17  265  373]]\n"
          ]
        }
      ]
    },
    {
      "cell_type": "code",
      "source": [
        "import numpy as np\n",
        "\n",
        "# Verificar la forma de input_sequence\n",
        "print(\"Forma de input_sequence:\", input_sequence.shape)\n",
        "\n",
        "# Hacer la predicción con el modelo\n",
        "predicted_indices = model.predict(input_sequence)\n",
        "\n",
        "# Obtener los índices con mayor probabilidad\n",
        "predicted_indices = np.argmax(predicted_indices, axis=-1)\n",
        "\n",
        "print(\"Índices predichos:\", predicted_indices[:5])  # Mostrar los primeros 5 resultados\n"
      ],
      "metadata": {
        "colab": {
          "base_uri": "https://localhost:8080/"
        },
        "id": "HbYEbg9cperd",
        "outputId": "7eacfd8e-9103-44a6-c8a4-9cca381f03bd"
      },
      "execution_count": null,
      "outputs": [
        {
          "output_type": "stream",
          "name": "stdout",
          "text": [
            "Forma de input_sequence: (14344, 20)\n",
            "\u001b[1m449/449\u001b[0m \u001b[32m━━━━━━━━━━━━━━━━━━━━\u001b[0m\u001b[37m\u001b[0m \u001b[1m3s\u001b[0m 6ms/step\n",
            "Índices predichos: [0 0 0 0 0]\n"
          ]
        }
      ]
    },
    {
      "cell_type": "code",
      "source": [
        "# Verificar si la salida del modelo tiene valores significativos\n",
        "predicciones = model.predict(input_sequence)\n",
        "print(\"Ejemplo de salida del modelo:\", predicciones[:5])  # Muestra las primeras 5 filas\n",
        "print(\"Máximo valor en predicciones:\", np.max(predicciones))\n",
        "print(\"Mínimo valor en predicciones:\", np.min(predicciones))\n"
      ],
      "metadata": {
        "colab": {
          "base_uri": "https://localhost:8080/"
        },
        "id": "Qdm-Ln_rpngS",
        "outputId": "55ecfa72-09af-4962-cefa-0e0d1fffbd86"
      },
      "execution_count": null,
      "outputs": [
        {
          "output_type": "stream",
          "name": "stdout",
          "text": [
            "\u001b[1m449/449\u001b[0m \u001b[32m━━━━━━━━━━━━━━━━━━━━\u001b[0m\u001b[37m\u001b[0m \u001b[1m3s\u001b[0m 6ms/step\n",
            "Ejemplo de salida del modelo: [[7.8388977e-01 1.8722613e-08 2.5012137e-04 ... 1.6860712e-08\n",
            "  1.8234948e-08 1.5207766e-08]\n",
            " [7.8388977e-01 1.8722647e-08 2.5012137e-04 ... 1.6860712e-08\n",
            "  1.8234948e-08 1.5207766e-08]\n",
            " [7.8388983e-01 1.8722615e-08 2.5012140e-04 ... 1.6860714e-08\n",
            "  1.8234950e-08 1.5207767e-08]\n",
            " [7.8388983e-01 1.8722615e-08 2.5012140e-04 ... 1.6860714e-08\n",
            "  1.8234950e-08 1.5207767e-08]\n",
            " [7.8388977e-01 1.8722613e-08 2.5012137e-04 ... 1.6860712e-08\n",
            "  1.8234948e-08 1.5207766e-08]]\n",
            "Máximo valor en predicciones: 0.7838899\n",
            "Mínimo valor en predicciones: 1.1469377e-08\n"
          ]
        }
      ]
    },
    {
      "cell_type": "code",
      "source": [
        "import numpy as np\n",
        "pred_classes = np.argmax(predicciones, axis=-1)\n",
        "unique, counts = np.unique(pred_classes, return_counts=True)\n",
        "print(\"Distribución de clases predichas:\", dict(zip(unique, counts)))\n"
      ],
      "metadata": {
        "id": "-ArRBhQKc61V",
        "colab": {
          "base_uri": "https://localhost:8080/"
        },
        "outputId": "8ba6cba6-3143-4cec-bd77-858ca249d437"
      },
      "execution_count": null,
      "outputs": [
        {
          "output_type": "stream",
          "name": "stdout",
          "text": [
            "Distribución de clases predichas: {np.int64(0): np.int64(14344)}\n"
          ]
        }
      ]
    },
    {
      "cell_type": "code",
      "source": [
        "import collections\n",
        "print(collections.Counter([seq[-1] for seq in input_sequence]))  # Último token como etiqueta\n"
      ],
      "metadata": {
        "colab": {
          "base_uri": "https://localhost:8080/"
        },
        "id": "ikDPXH6or_Cb",
        "outputId": "a0988c14-cbad-4f3d-f133-8145d97018ab"
      },
      "execution_count": null,
      "outputs": [
        {
          "output_type": "stream",
          "name": "stdout",
          "text": [
            "Counter({np.int32(0): 13885, np.int32(2): 11, np.int32(5): 10, np.int32(18): 7, np.int32(47): 6, np.int32(199): 6, np.int32(11): 6, np.int32(15): 5, np.int32(219): 5, np.int32(83): 5, np.int32(66): 5, np.int32(109): 5, np.int32(204): 4, np.int32(87): 4, np.int32(102): 4, np.int32(334): 4, np.int32(31): 4, np.int32(202): 4, np.int32(49): 4, np.int32(10): 3, np.int32(158): 3, np.int32(425): 3, np.int32(442): 3, np.int32(162): 3, np.int32(92): 3, np.int32(239): 3, np.int32(170): 3, np.int32(269): 3, np.int32(330): 3, np.int32(8): 3, np.int32(34): 3, np.int32(242): 3, np.int32(74): 3, np.int32(373): 2, np.int32(3): 2, np.int32(2166): 2, np.int32(1391): 2, np.int32(795): 2, np.int32(355): 2, np.int32(251): 2, np.int32(1445): 2, np.int32(281): 2, np.int32(59): 2, np.int32(220): 2, np.int32(1800): 2, np.int32(147): 2, np.int32(2374): 2, np.int32(65): 2, np.int32(6): 2, np.int32(52): 2, np.int32(141): 2, np.int32(142): 2, np.int32(55): 2, np.int32(48): 2, np.int32(300): 2, np.int32(104): 2, np.int32(56): 2, np.int32(85): 2, np.int32(433): 2, np.int32(982): 2, np.int32(1141): 2, np.int32(20): 2, np.int32(576): 2, np.int32(168): 2, np.int32(712): 2, np.int32(385): 2, np.int32(737): 2, np.int32(308): 2, np.int32(286): 2, np.int32(150): 2, np.int32(90): 2, np.int32(586): 2, np.int32(119): 2, np.int32(306): 2, np.int32(2090): 1, np.int32(240): 1, np.int32(2099): 1, np.int32(3062): 1, np.int32(23): 1, np.int32(161): 1, np.int32(1163): 1, np.int32(61): 1, np.int32(217): 1, np.int32(1653): 1, np.int32(472): 1, np.int32(3109): 1, np.int32(3116): 1, np.int32(2137): 1, np.int32(788): 1, np.int32(16): 1, np.int32(498): 1, np.int32(729): 1, np.int32(2172): 1, np.int32(3198): 1, np.int32(1688): 1, np.int32(3227): 1, np.int32(832): 1, np.int32(106): 1, np.int32(3269): 1, np.int32(1205): 1, np.int32(268): 1, np.int32(947): 1, np.int32(3317): 1, np.int32(35): 1, np.int32(1716): 1, np.int32(1214): 1, np.int32(3380): 1, np.int32(24): 1, np.int32(691): 1, np.int32(494): 1, np.int32(461): 1, np.int32(496): 1, np.int32(447): 1, np.int32(1768): 1, np.int32(1091): 1, np.int32(1794): 1, np.int32(3647): 1, np.int32(3667): 1, np.int32(3673): 1, np.int32(1670): 1, np.int32(735): 1, np.int32(26): 1, np.int32(389): 1, np.int32(983): 1, np.int32(3742): 1, np.int32(101): 1, np.int32(1793): 1, np.int32(3773): 1, np.int32(3805): 1, np.int32(988): 1, np.int32(1267): 1, np.int32(1082): 1, np.int32(3853): 1, np.int32(2425): 1, np.int32(676): 1, np.int32(213): 1, np.int32(135): 1, np.int32(2434): 1, np.int32(2442): 1, np.int32(294): 1, np.int32(297): 1, np.int32(430): 1, np.int32(644): 1, np.int32(73): 1, np.int32(532): 1, np.int32(117): 1, np.int32(562): 1, np.int32(978): 1, np.int32(613): 1, np.int32(80): 1, np.int32(4052): 1, np.int32(4079): 1, np.int32(415): 1, np.int32(924): 1, np.int32(4104): 1, np.int32(100): 1, np.int32(4182): 1, np.int32(317): 1, np.int32(1904): 1, np.int32(456): 1, np.int32(1468): 1, np.int32(4223): 1, np.int32(1717): 1, np.int32(340): 1, np.int32(1226): 1, np.int32(72): 1, np.int32(1043): 1, np.int32(597): 1, np.int32(462): 1, np.int32(115): 1, np.int32(350): 1, np.int32(520): 1, np.int32(4330): 1, np.int32(594): 1, np.int32(186): 1, np.int32(4351): 1, np.int32(159): 1, np.int32(720): 1, np.int32(482): 1, np.int32(4421): 1, np.int32(495): 1, np.int32(865): 1, np.int32(811): 1, np.int32(4445): 1, np.int32(187): 1, np.int32(1169): 1, np.int32(360): 1, np.int32(398): 1, np.int32(43): 1, np.int32(4501): 1, np.int32(361): 1, np.int32(1728): 1, np.int32(4533): 1, np.int32(530): 1, np.int32(4580): 1, np.int32(62): 1, np.int32(2674): 1, np.int32(326): 1, np.int32(523): 1, np.int32(108): 1, np.int32(68): 1, np.int32(870): 1, np.int32(2413): 1, np.int32(4655): 1, np.int32(1077): 1, np.int32(177): 1, np.int32(684): 1, np.int32(1993): 1, np.int32(593): 1, np.int32(869): 1, np.int32(260): 1, np.int32(322): 1, np.int32(1074): 1, np.int32(214): 1, np.int32(4787): 1, np.int32(302): 1, np.int32(103): 1, np.int32(1883): 1, np.int32(497): 1, np.int32(399): 1, np.int32(14): 1, np.int32(1698): 1, np.int32(455): 1, np.int32(549): 1, np.int32(740): 1, np.int32(383): 1, np.int32(216): 1, np.int32(464): 1, np.int32(262): 1, np.int32(2773): 1, np.int32(1180): 1, np.int32(1420): 1, np.int32(2365): 1, np.int32(205): 1, np.int32(421): 1, np.int32(2781): 1, np.int32(885): 1, np.int32(1073): 1, np.int32(1254): 1, np.int32(78): 1, np.int32(1135): 1, np.int32(263): 1, np.int32(2000): 1, np.int32(1005): 1, np.int32(450): 1, np.int32(5087): 1, np.int32(209): 1, np.int32(339): 1, np.int32(1617): 1, np.int32(5155): 1, np.int32(437): 1, np.int32(2849): 1, np.int32(786): 1, np.int32(542): 1, np.int32(320): 1, np.int32(5207): 1, np.int32(2049): 1, np.int32(1338): 1, np.int32(789): 1, np.int32(438): 1, np.int32(153): 1, np.int32(1285): 1, np.int32(767): 1, np.int32(5348): 1, np.int32(17): 1, np.int32(2317): 1, np.int32(2802): 1, np.int32(603): 1, np.int32(649): 1, np.int32(516): 1, np.int32(5512): 1, np.int32(64): 1, np.int32(332): 1, np.int32(5524): 1, np.int32(252): 1, np.int32(371): 1, np.int32(82): 1, np.int32(742): 1, np.int32(5681): 1, np.int32(1033): 1, np.int32(2787): 1, np.int32(2484): 1, np.int32(799): 1, np.int32(2945): 1, np.int32(835): 1, np.int32(477): 1, np.int32(194): 1, np.int32(5749): 1, np.int32(198): 1, np.int32(1734): 1, np.int32(2285): 1, np.int32(2850): 1, np.int32(1536): 1, np.int32(2961): 1, np.int32(1625): 1, np.int32(151): 1, np.int32(5843): 1, np.int32(1018): 1, np.int32(1847): 1, np.int32(188): 1, np.int32(705): 1, np.int32(416): 1, np.int32(1089): 1, np.int32(207): 1, np.int32(107): 1, np.int32(659): 1, np.int32(6115): 1, np.int32(201): 1, np.int32(6139): 1, np.int32(426): 1})\n"
          ]
        }
      ]
    },
    {
      "cell_type": "code",
      "source": [
        "print(\"Ejemplo de secuencias:\", sequences[:5])\n",
        "print(\"Ejemplo de secuencias con padding:\", padded_sequences[:5])\n"
      ],
      "metadata": {
        "id": "wATTkQOWdDhl"
      },
      "execution_count": null,
      "outputs": []
    },
    {
      "cell_type": "code",
      "source": [
        "print(\"Ejemplo de X_train:\", X_train[:5])\n",
        "print(\"Ejemplo de y_train:\", y_train[:5])\n"
      ],
      "metadata": {
        "id": "u5OMCGYQdGXJ"
      },
      "execution_count": null,
      "outputs": []
    },
    {
      "cell_type": "code",
      "source": [
        "print(tokenizer.word_index)\n"
      ],
      "metadata": {
        "id": "t3d7A0nOkbzH",
        "colab": {
          "base_uri": "https://localhost:8080/"
        },
        "outputId": "1649c9b9-e7b3-4980-940b-8fc9236cbda9"
      },
      "execution_count": null,
      "outputs": [
        {
          "output_type": "stream",
          "name": "stdout",
          "text": [
            "{'<OOV>': 1, 'i': 2, 'you': 3, 'the': 4, 'to': 5, 'a': 6, 'and': 7, 'that': 8, 'it': 9, 'no': 10, 'what': 11, 'is': 12, 'me': 13, \"i'm\": 14, 'oh': 15, 'this': 16, 'of': 17, 'we': 18, 'in': 19, 'okay': 20, 'so': 21, 'my': 22, 'just': 23, 'have': 24, 'not': 25, 'do': 26, 'well': 27, 'know': 28, \"don't\": 29, 'was': 30, \"it's\": 31, 'yeah': 32, 'with': 33, 'hey': 34, 'for': 35, 'be': 36, 'all': 37, 'are': 38, 'on': 39, 'right': 40, 'but': 41, 'get': 42, \"that's\": 43, 'like': 44, 'your': 45, 'gonna': 46, 'out': 47, 'her': 48, 'if': 49, 'can': 50, 'go': 51, 'think': 52, 'about': 53, \"you're\": 54, \"y'know\": 55, 'here': 56, 'look': 57, 'up': 58, 'uh': 59, 'she': 60, 'there': 61, 'at': 62, 'really': 63, 'he': 64, 'yes': 65, 'now': 66, 'did': 67, 'one': 68, 'see': 69, 'why': 70, 'got': 71, 'how': 72, 'mean': 73, 'good': 74, 'because': 75, 'when': 76, \"we're\": 77, \"can't\": 78, 'say': 79, 'want': 80, 'going': 81, 'joey': 82, 'would': 83, 'him': 84, 'then': 85, 'come': 86, 'they': 87, 'time': 88, \"didn't\": 89, 'great': 90, 'monica': 91, 'ross': 92, \"i'll\": 93, 'thing': 94, 'were': 95, 'could': 96, 'some': 97, 'tell': 98, 'guys': 99, 'us': 100, 'ok': 101, 'little': 102, \"she's\": 103, 'over': 104, 'man': 105, 'back': 106, 'sorry': 107, 'too': 108, 'our': 109, 'or': 110, 'had': 111, 'love': 112, 'way': 113, 'god': 114, 'should': 115, 'as': 116, 'said': 117, 'an': 118, \"he's\": 119, 'am': 120, 'who': 121, 'something': 122, 'make': 123, 'guy': 124, 'more': 125, 'them': 126, 'will': 127, 'maybe': 128, 'big': 129, \"i've\": 130, 'from': 131, 'take': 132, 'hi': 133, 'his': 134, 'let': 135, 'ah': 136, \"there's\": 137, 'never': 138, 'been': 139, 'two': 140, 'very': 141, 'wanna': 142, 'actually': 143, 'doing': 144, 'sure': 145, 'where': 146, 'still': 147, \"what's\": 148, 'people': 149, 'believe': 150, 'by': 151, 'down': 152, 'first': 153, 'thought': 154, 'last': 155, 'ya': 156, 'much': 157, 'has': 158, 'off': 159, 'night': 160, 'work': 161, 'listen': 162, 'give': 163, 'anything': 164, 'need': 165, 'call': 166, 'ever': 167, 'thanks': 168, 'other': 169, 'nice': 170, 'does': 171, 'please': 172, 'room': 173, 'those': 174, 'huh': 175, \"let's\": 176, 'bye': 177, 'new': 178, 'joe': 179, 'day': 180, 'wait': 181, 'again': 182, 'than': 183, 'stop': 184, 'before': 185, 'put': 186, 'talking': 187, 'any': 188, 'talk': 189, 'alright': 190, 'bad': 191, 'only': 192, 'even': 193, 'lot': 194, 'into': 195, 'getting': 196, \"doesn't\": 197, 'rachel': 198, 'chandler': 199, 'stuff': 200, 'funny': 201, 'fine': 202, 'phoebe': 203, 'wow': 204, 'whoa': 205, \"i'd\": 206, 'these': 207, 'told': 208, 'girl': 209, 'pretty': 210, 'things': 211, 'together': 212, 'thank': 213, 'play': 214, \"they're\": 215, 'place': 216, 'nothing': 217, 'married': 218, 'baby': 219, 'woman': 220, 'feel': 221, 'honey': 222, 'name': 223, 'having': 224, 'game': 225, 'hello': 226, 'janice': 227, 'around': 228, 'years': 229, 'money': 230, 'went': 231, 'old': 232, 'life': 233, 'sex': 234, 'best': 235, 'tonight': 236, 'made': 237, \"wouldn't\": 238, 'always': 239, 'guess': 240, 'remember': 241, 'home': 242, 'kind': 243, 'kinda': 244, 'wanted': 245, 'somebody': 246, 'gotta': 247, 'wrong': 248, 'ring': 249, \"isn't\": 250, 'may': 251, 'ask': 252, 'looking': 253, 'friend': 254, 'hard': 255, 'wedding': 256, 'happy': 257, 'another': 258, \"you've\": 259, 'crazy': 260, 'pheebs': 261, 'which': 262, 'trying': 263, 'every': 264, 'three': 265, 'phone': 266, 'job': 267, \"we'll\": 268, 'happened': 269, 'find': 270, 'minute': 271, 'used': 272, 'ho': 273, 'hear': 274, 'part': 275, 'away': 276, 'help': 277, 'year': 278, 'party': 279, 'called': 280, 'totally': 281, 'better': 282, 'done': 283, 'long': 284, 'everybody': 285, 'fun': 286, 'care': 287, 'next': 288, 'thinking': 289, 'already': 290, 'stay': 291, 'after': 292, 'left': 293, 'ready': 294, 'idea': 295, 'try': 296, 'cool': 297, 'each': 298, 'both': 299, 'tomorrow': 300, 'anymore': 301, 'leave': 302, 'ha': 303, 'kids': 304, 'probably': 305, \"joey's\": 306, \"couldn't\": 307, 'being': 308, 'stupid': 309, 'came': 310, \"'\": 311, 'deal': 312, 'bing': 313, 'second': 314, 'happen': 315, 'pick': 316, 'apartment': 317, 'beautiful': 318, 'must': 319, 'live': 320, 'sleep': 321, \"won't\": 322, 'most': 323, 'door': 324, 'saw': 325, 'enough': 326, 'forget': 327, 'else': 328, \"haven't\": 329, 'four': 330, 'yet': 331, 'keep': 332, 'friends': 333, 'weird': 334, 'ooh': 335, 'through': 336, 'problem': 337, \"who's\": 338, 'women': 339, \"wasn't\": 340, \"monica's\": 341, 'today': 342, 'picture': 343, 'date': 344, 'hand': 345, \"aren't\": 346, 'makes': 347, \"'cause\": 348, 'hot': 349, 'their': 350, 'saying': 351, 'might': 352, 'head': 353, 'watch': 354, 'coming': 355, 'supposed': 356, 'everything': 357, 'couple': 358, 'house': 359, 'win': 360, 'end': 361, 'show': 362, \"we've\": 363, 'run': 364, 'someone': 365, 'course': 366, 'umm': 367, 'understand': 368, 'once': 369, 'break': 370, 'story': 371, 'same': 372, 'hours': 373, 'chance': 374, 'also': 375, 'later': 376, 'joke': 377, 'chair': 378, 'richard': 379, 'kathy': 380, 'sounds': 381, 'whole': 382, 'five': 383, \"here's\": 384, 'different': 385, 'use': 386, 'wife': 387, 'christmas': 388, 'bed': 389, 'ahh': 390, 'naked': 391, 'wearing': 392, 'true': 393, \"you'll\": 394, 'fact': 395, 'dinner': 396, 'move': 397, 'bring': 398, 'took': 399, 'own': 400, 'movie': 401, 'real': 402, 'parents': 403, 'while': 404, 'hold': 405, 'coffee': 406, 'question': 407, 'times': 408, 'office': 409, 'wh': 410, 'book': 411, 'morning': 412, 'pants': 413, 'comes': 414, 'though': 415, 'matter': 416, 'open': 417, 'father': 418, 'world': 419, 'seen': 420, 'perfect': 421, 'wants': 422, 'says': 423, \"you'd\": 424, 'anyway': 425, 'found': 426, 'telling': 427, 'check': 428, 'reason': 429, 'serious': 430, 'wear': 431, 'hang': 432, 'tulsa': 433, 'amazing': 434, 'die': 435, 'hell': 436, 'birthday': 437, 'hate': 438, 'kill': 439, 'watching': 440, 'six': 441, 'least': 442, 'sir': 443, 'dad': 444, 'person': 445, 'meet': 446, 'emma': 447, 'means': 448, 'taking': 449, 'mad': 450, 'rest': 451, 'living': 452, 'yourself': 453, 'anybody': 454, 'seriously': 455, 'uhh': 456, 'important': 457, 'porn': 458, 'heard': 459, 'sit': 460, 'myself': 461, 'mr': 462, \"we'd\": 463, 'excuse': 464, 'um': 465, 'gave': 466, 'spend': 467, 'number': 468, 'broke': 469, 'either': 470, 'bit': 471, 'ago': 472, 'rach': 473, 'bathroom': 474, 'high': 475, 'mine': 476, 'free': 477, 'gone': 478, 'kidding': 479, 'its': 480, 'face': 481, 'knows': 482, 'miss': 483, 'doctor': 484, 'walk': 485, 'figure': 486, 'dog': 487, 'marry': 488, 'line': 489, 'half': 490, 'met': 491, 'boyfriend': 492, 'minutes': 493, 'until': 494, 'exactly': 495, 'worry': 496, 'hope': 497, 'kiss': 498, 'mom': 499, 'knew': 500, 'moving': 501, 'upset': 502, 'playing': 503, 'start': 504, \"would've\": 505, 'o': 506, 'ow': 507, 'girlfriend': 508, 'relationship': 509, 'point': 510, 'girls': 511, 'mon': 512, 'kid': 513, 'smoke': 514, 'alone': 515, 'card': 516, 'table': 517, \"'em\": 518, 'tape': 519, 'throw': 520, 'worse': 521, 'turn': 522, 'giving': 523, 'chick': 524, 'eh': 525, 'without': 526, 'making': 527, 'started': 528, 'boy': 529, 'talked': 530, 'change': 531, 'meant': 532, 'mind': 533, 'set': 534, 'ass': 535, 'late': 536, 'buy': 537, 'working': 538, 'gets': 539, 'yours': 540, 'couch': 541, 'marriage': 542, 'flowers': 543, 'dollars': 544, 'buddy': 545, 'sitting': 546, 'eyes': 547, 'many': 548, 'hair': 549, 'easy': 550, 'picked': 551, 'drunk': 552, 'college': 553, \"shouldn't\": 554, 'missed': 555, 'dance': 556, 'ohh': 557, 'fight': 558, 'dress': 559, 'nope': 560, 'school': 561, 'finally': 562, 'sometimes': 563, 'horrible': 564, 'sound': 565, 'moment': 566, 'car': 567, 'word': 568, 'worst': 569, 'ten': 570, 'fat': 571, 'almost': 572, 'seeing': 573, \"where's\": 574, 'asking': 575, 'apparently': 576, \"how's\": 577, 'jokes': 578, 'entire': 579, 'roommate': 580, 'street': 581, 'third': 582, 'gym': 583, 'cute': 584, 'pay': 585, 'babies': 586, 'read': 587, 'glad': 588, 'wish': 589, 'excited': 590, 'heart': 591, 'cold': 592, 'bob': 593, 'played': 594, 'sister': 595, 'case': 596, 'hundred': 597, 'duck': 598, \"how'd\": 599, 'gay': 600, 'looks': 601, 'wake': 602, 'stuck': 603, 'words': 604, 'london': 605, 'closet': 606, 'asleep': 607, 'stand': 608, 'dead': 609, 'relax': 610, 'quit': 611, 'yep': 612, 'stick': 613, 'hour': 614, 'lost': 615, 'sweet': 616, 'seven': 617, 'asked': 618, 'under': 619, 'worried': 620, 'luck': 621, 'cheese': 622, 'family': 623, 'actor': 624, 'unless': 625, 'seem': 626, 'promise': 627, 'except': 628, 'whatever': 629, 'food': 630, 'small': 631, 'york': 632, 'eddie': 633, 'fake': 634, 'roll': 635, 'santa': 636, 'moved': 637, 'bet': 638, 'dude': 639, 'mother': 640, 'push': 641, 'smoking': 642, 'single': 643, 'tv': 644, 'likes': 645, 'happening': 646, 'hug': 647, 'hit': 648, 'eight': 649, 'able': 650, 'lose': 651, 'secret': 652, 'save': 653, 'enjoy': 654, 'appreciate': 655, 'news': 656, 'city': 657, 'ball': 658, 'weekend': 659, 'angela': 660, \"what're\": 661, 'knock': 662, 'fire': 663, 'message': 664, 'close': 665, 'damn': 666, '30': 667, 'thinks': 668, 'hall': 669, 'tickets': 670, 'sign': 671, 'crying': 672, \"it'll\": 673, 'smell': 674, 'eat': 675, 'cameras': 676, 'afraid': 677, 'hurt': 678, 'front': 679, 'child': 680, 'starts': 681, 'answer': 682, 'turns': 683, 'between': 684, 'dream': 685, 'wrote': 686, 'such': 687, 'forever': 688, 'ice': 689, 'shoes': 690, 'sick': 691, 'looked': 692, 'sense': 693, 'men': 694, 'anyone': 695, 'husband': 696, 'borrow': 697, 'spent': 698, 'leaving': 699, 'dressed': 700, '50': 701, 'thanksgiving': 702, \"goin'\": 703, 'lie': 704, 'chicken': 705, 'kissed': 706, 'owe': 707, 'bought': 708, 'months': 709, 'hat': 710, 'learn': 711, 'top': 712, 'plan': 713, 'week': 714, 'tried': 715, 'calling': 716, 'interesting': 717, 'air': 718, \"he'll\": 719, 'fell': 720, 'quick': 721, 'huge': 722, 'fish': 723, 'bag': 724, 'lying': 725, 'bigger': 726, '2': 727, 'water': 728, 'side': 729, 'scared': 730, 'apologize': 731, 'ones': 732, 'lunch': 733, 'since': 734, 'boss': 735, \"weren't\": 736, 'terrible': 737, 'dum': 738, 'realize': 739, 'dear': 740, 'kissing': 741, 'putting': 742, \"c'mon\": 743, 'freak': 744, 'aww': 745, 'shut': 746, \"she'd\": 747, 'underwear': 748, 'rent': 749, 'eye': 750, \"o'clock\": 751, 'divorced': 752, 'smart': 753, 'cry': 754, 'special': 755, 'gotten': 756, 'toast': 757, 'crap': 758, 'box': 759, 'business': 760, 'lovely': 761, 'merry': 762, 'inside': 763, 'situation': 764, 'order': 765, 'whose': 766, 'phoebs': 767, 'needs': 768, 'nobody': 769, 'tiny': 770, 'hanging': 771, 'class': 772, 'growing': 773, 'absolutely': 774, 'gift': 775, 'pack': 776, 'woah': 777, 'writing': 778, 'everyone': 779, '8': 780, 'surprise': 781, 'sperm': 782, 'fall': 783, 'op': 784, 'lady': 785, 'interview': 786, 'mary': 787, 'hmm': 788, 'rules': 789, 'lives': 790, 'write': 791, 'present': 792, 'sad': 793, 'full': 794, 'emily': 795, 'honeymoon': 796, 'middle': 797, 'sudden': 798, 'calls': 799, 'loud': 800, 'ew': 801, 'dating': 802, 'carol': 803, 'less': 804, 'nine': 805, 'sometime': 806, 'far': 807, 'count': 808, 'drink': 809, 'twenty': 810, 'finish': 811, 'idiot': 812, 'behind': 813, 'feels': 814, 'propose': 815, 'control': 816, '3': 817, 'bitch': 818, 'ladies': 819, 'liked': 820, 'age': 821, 'window': 822, \"doin'\": 823, 'shirt': 824, 'split': 825, 'king': 826, 'past': 827, 'few': 828, 'weeks': 829, \"ross's\": 830, 'cleaning': 831, \"they'll\": 832, 'afternoon': 833, 'paid': 834, 'ben': 835, 'sexy': 836, 'boots': 837, 'clothes': 838, 'lucky': 839, 'favorite': 840, 'soon': 841, 'lived': 842, 'beer': 843, 'hands': 844, 'shot': 845, 'tux': 846, 'staring': 847, 'ruined': 848, '7': 849, 'stole': 850, 'audition': 851, 'batman': 852, 'standing': 853, 'numbers': 854, 'thousand': 855, 'company': 856, 'ugly': 857, 'days': 858, 'david': 859, 'bottom': 860, 'romantic': 861, 'awkward': 862, 'goes': 863, 'foot': 864, 'trouble': 865, 'lights': 866, 'ridiculous': 867, 'football': 868, 'bedroom': 869, 'expect': 870, 'ran': 871, 'across': 872, 'decided': 873, 'credit': 874, 'mrs': 875, 'restaurant': 876, 'white': 877, 'career': 878, 'send': 879, 'slept': 880, 'monkey': 881, 'insane': 882, 'using': 883, 'obviously': 884, 'turned': 885, 'seems': 886, 'meeting': 887, 'neither': 888, 'plane': 889, 'outside': 890, 'julie': 891, 'heckles': 892, 'fast': 893, 'incredible': 894, 'fault': 895, 'pull': 896, 'tough': 897, 'touch': 898, 'seat': 899, 'exact': 900, 'allowed': 901, 'realized': 902, 'foosball': 903, 'speed': 904, 'welcome': 905, 'plus': 906, 'young': 907, 'straight': 908, 'sports': 909, '1': 910, 'paper': 911, 'store': 912, 'felt': 913, 'loves': 914, 'feet': 915, 'bachelor': 916, 'feelings': 917, 'instead': 918, 'quite': 919, 'kept': 920, 'tired': 921, '5': 922, 'advice': 923, 'hurts': 924, 'screw': 925, 'yemen': 926, 'worked': 927, '00': 928, 'j': 929, 'flirting': 930, 'cheesecake': 931, 'oklahoma': 932, 'uhm': 933, 'mike': 934, 'million': 935, 'finished': 936, 'difference': 937, 'opening': 938, 'whaddya': 939, 'holding': 940, \"one's\": 941, 'gum': 942, 'bunny': 943, \"could've\": 944, 'feeling': 945, 'notice': 946, 'seconds': 947, 'leg': 948, 'none': 949, \"she'll\": 950, 'closer': 951, 'deserve': 952, 'focus': 953, 'definitely': 954, 'brian': 955, 'actual': 956, 'keys': 957, 'light': 958, 'divorce': 959, 'hoping': 960, 'ex': 961, 'figured': 962, 'rule': 963, 'wha': 964, 'rock': 965, 'calm': 966, 'twice': 967, \"valentine's\": 968, 'candy': 969, 'dr': 970, 'works': 971, 'nina': 972, 'taken': 973, 'known': 974, 'thats': 975, 'rather': 976, 'raise': 977, 'marcel': 978, 'games': 979, 'black': 980, 'machine': 981, 'bill': 982, 'joseph': 983, 'month': 984, 'charge': 985, 'extra': 986, 'wondering': 987, 'excellent': 988, 'band': 989, 'pictures': 990, 'town': 991, 'congratulations': 992, \"'bout\": 993, 'bucks': 994, 'awesome': 995, 'butt': 996, 'tight': 997, 'computer': 998, '100': 999, 'ohhh': 1000, 'giant': 1001, 'sent': 1002, 'cook': 1003, 'fourth': 1004, 'milk': 1005, 'somewhere': 1006, 'friendship': 1007, 'voice': 1008, 'human': 1009, 'yesterday': 1010, '15': 1011, 'walked': 1012, 'throat': 1013, 'noo': 1014, 'acting': 1015, 'hoo': 1016, 'stripper': 1017, 'waiting': 1018, 'anniversary': 1019, 'y': 1020, 'offer': 1021, 'hole': 1022, 'strong': 1023, 'grandmother': 1024, \"rachel's\": 1025, 'e': 1026, 'president': 1027, 'doug': 1028, 'uncomfortable': 1029, 'strip': 1030, 'secrets': 1031, 'grow': 1032, 'starting': 1033, 'trade': 1034, 'r': 1035, 'share': 1036, 'guest': 1037, 'cups': 1038, 'suite': 1039, 'technically': 1040, 'cut': 1041, 'forgive': 1042, 'letter': 1043, 'places': 1044, 'balcony': 1045, 'ride': 1046, 'questions': 1047, 'zack': 1048, 'decide': 1049, 'catch': 1050, 'paul': 1051, 'boys': 1052, 'leather': 1053, 'nah': 1054, 'annoying': 1055, 'thirty': 1056, 'killed': 1057, 'cigarettes': 1058, 'eleven': 1059, 'sleeping': 1060, 'fear': 1061, 'pocket': 1062, 'explain': 1063, 'regret': 1064, 'completely': 1065, 'jill': 1066, 'mouth': 1067, 'difficult': 1068, 'dogs': 1069, 'holiday': 1070, 'dates': 1071, 'pact': 1072, 'math': 1073, 'page': 1074, 'busy': 1075, 'trust': 1076, 'birds': 1077, 'red': 1078, 'embarrassed': 1079, 'along': 1080, 'mess': 1081, 'nipples': 1082, 'large': 1083, 'floor': 1084, 'steal': 1085, 'er': 1086, 'err': 1087, 'building': 1088, 'tip': 1089, 'draw': 1090, 'babe': 1091, 'choice': 1092, 'needy': 1093, 'possible': 1094, 'moustache': 1095, 'fruit': 1096, 'surprised': 1097, 'fix': 1098, 'club': 1099, 'state': 1100, 'area': 1101, 'test': 1102, 'cried': 1103, 'suck': 1104, 'grab': 1105, 'cooler': 1106, 'screaming': 1107, 'scary': 1108, 'during': 1109, 'running': 1110, '6': 1111, 'wonderful': 1112, 'energy': 1113, 'print': 1114, 'downstairs': 1115, \"he'd\": 1116, 'stories': 1117, 'shower': 1118, 'cooking': 1119, 'ye': 1120, 'coulda': 1121, 'pity': 1122, 'wore': 1123, 'hated': 1124, 'dropped': 1125, 'cover': 1126, 'everywhere': 1127, 'self': 1128, 'oooh': 1129, 'space': 1130, 'country': 1131, 'blue': 1132, 'unpack': 1133, 'gunther': 1134, 'listening': 1135, 'faster': 1136, 'teach': 1137, 'body': 1138, 'touching': 1139, 'comfortable': 1140, 'pretending': 1141, 'thoughts': 1142, 'gun': 1143, 'trip': 1144, 'condoms': 1145, 'paying': 1146, 'hide': 1147, 'plans': 1148, 'besides': 1149, 'careful': 1150, 'locked': 1151, 'bumped': 1152, 'clean': 1153, 'boat': 1154, 'loved': 1155, 'sucks': 1156, 'wall': 1157, 'heat': 1158, \"should've\": 1159, 'paris': 1160, 'sandwich': 1161, 'pregnant': 1162, 'won': 1163, 'fair': 1164, 'male': 1165, 'dictionary': 1166, '9': 1167, '10': 1168, 'neck': 1169, 'ideas': 1170, 'road': 1171, 'prove': 1172, 'join': 1173, 'died': 1174, 'marrying': 1175, 'eating': 1176, 'james': 1177, \"wife's\": 1178, 'charlie': 1179, 'egg': 1180, 'stairs': 1181, 'diary': 1182, 'longer': 1183, 'scream': 1184, 'vegas': 1185, 'act': 1186, 'basically': 1187, 'note': 1188, 'dunno': 1189, 'attack': 1190, 'laughs': 1191, 'accept': 1192, 'sock': 1193, \"it'd\": 1194, 'seats': 1195, 'magical': 1196, \"guy's\": 1197, 'dirty': 1198, 'aware': 1199, 'goodnight': 1200, 'awful': 1201, 'unbelievable': 1202, 'subway': 1203, \"'til\": 1204, 'ethan': 1205, 'imagine': 1206, 'thursday': 1207, 'breakfast': 1208, \"'kay\": 1209, 'fingers': 1210, 'contact': 1211, 'copy': 1212, 'cup': 1213, 'mistake': 1214, 'safe': 1215, 'often': 1216, 'planned': 1217, 'asks': 1218, 'bobby': 1219, 'watched': 1220, 'shhh': 1221, 'pride': 1222, 'piece': 1223, 'commitment': 1224, 'aw': 1225, \"what'd\": 1226, 'tall': 1227, 'changed': 1228, \"man's\": 1229, 'champagne': 1230, 'twelve': 1231, 'wenus': 1232, 'term': 1233, 'experience': 1234, 'tests': 1235, 'monday': 1236, 'helen': 1237, 'twins': 1238, 'post': 1239, 'ended': 1240, 'fit': 1241, 'son': 1242, 'speech': 1243, 'airport': 1244, 'law': 1245, 'danielle': 1246, 'wonder': 1247, 'blocks': 1248, 'early': 1249, 'nipple': 1250, 'china': 1251, 'happens': 1252, 'level': 1253, 'cheating': 1254, 'sooner': 1255, \"somebody's\": 1256, 'ground': 1257, 'dry': 1258, 'funniest': 1259, 'reject': 1260, 'officially': 1261, 'cake': 1262, 'nuts': 1263, 'brought': 1264, 'carry': 1265, 'heads': 1266, 'mail': 1267, '000': 1268, 'list': 1269, 'star': 1270, 'invisible': 1271, \"phoebe's\": 1272, 'tree': 1273, 'dinosaur': 1274, \"hasn't\": 1275, 'bother': 1276, 'ahhhh': 1277, 't': 1278, 'fool': 1279, 'jewelry': 1280, 'music': 1281, '19': 1282, '20': 1283, 'beers': 1284, 'nervous': 1285, 'soap': 1286, 'kitchen': 1287, 'regular': 1288, 'yasmine': 1289, 'eggs': 1290, 'conversation': 1291, 'shop': 1292, 'clearly': 1293, 'sold': 1294, 'processor': 1295, 'families': 1296, 'brown': 1297, 'consider': 1298, 'art': 1299, 'whenever': 1300, 'jeez': 1301, 'freedom': 1302, 'cat': 1303, 'pad': 1304, 'rabbit': 1305, 'attractive': 1306, 'usually': 1307, 'soo': 1308, 'screwed': 1309, 'boring': 1310, 'buying': 1311, 'switching': 1312, 'bird': 1313, 'breasts': 1314, 'shorts': 1315, 'freaked': 1316, 'chloe': 1317, 'smoked': 1318, 'phase': 1319, 'ways': 1320, 'swim': 1321, 'turkey': 1322, 'maid': 1323, 'children': 1324, 'pain': 1325, 'garbage': 1326, 'confused': 1327, 'bank': 1328, 'stopped': 1329, 'casey': 1330, 'rid': 1331, 'reading': 1332, 'team': 1333, 'fancy': 1334, 'yelling': 1335, 'stage': 1336, 'packing': 1337, 'ticket': 1338, 'clint': 1339, '4': 1340, 'yea': 1341, 'wine': 1342, 'ehh': 1343, 'nurse': 1344, 'chef': 1345, 'glasses': 1346, 'rooms': 1347, 'rocks': 1348, 'brave': 1349, 'coat': 1350, 'deposit': 1351, 'bowl': 1352, 'brother': 1353, 'truth': 1354, 'hotel': 1355, 'gifts': 1356, 'hernia': 1357, 'death': 1358, 'blah': 1359, 'opened': 1360, 'roger': 1361, 'service': 1362, 'groom': 1363, 'hint': 1364, 'quiet': 1365, 'costume': 1366, 'bings': 1367, 'loving': 1368, 'vermont': 1369, 'adoption': 1370, 'adopted': 1371, 'lesbian': 1372, 'cats': 1373, 'surprisingly': 1374, 'pink': 1375, 'fighting': 1376, 'awake': 1377, 'puts': 1378, 'biggest': 1379, 'parties': 1380, 'showed': 1381, 'gee': 1382, \"game's\": 1383, 'pal': 1384, 'glass': 1385, 'stops': 1386, 'plastic': 1387, 'hitting': 1388, 'sticks': 1389, 'toe': 1390, 'moon': 1391, \"tryin'\": 1392, 'saturday': 1393, 'short': 1394, 'italian': 1395, 'hm': 1396, \"'not\": 1397, 'fan': 1398, 'terrific': 1399, 'worth': 1400, 'key': 1401, 'moments': 1402, 'goodacre': 1403, 'atm': 1404, 'vestibule': 1405, 'fourteen': 1406, 'smile': 1407, 'mental': 1408, 'perfection': 1409, 'blow': 1410, 'account': 1411, 'choose': 1412, 'cartoon': 1413, 'flying': 1414, 'park': 1415, 'ding': 1416, 'sucked': 1417, 'walks': 1418, 'desperate': 1419, \"year's\": 1420, 'handle': 1421, 'pressure': 1422, 'taught': 1423, 'invited': 1424, 'midnight': 1425, 'tennis': 1426, 'swoop': 1427, 'boobies': 1428, 'showing': 1429, 'pipe': 1430, 'chasing': 1431, 'toilet': 1432, 'chan': 1433, 'al': 1434, 'net': 1435, 'data': 1436, 'mentioned': 1437, 'view': 1438, 'ham': 1439, 'friday': 1440, 'score': 1441, 'd': 1442, 'youre': 1443, 'badly': 1444, 'fired': 1445, 'herself': 1446, 'similar': 1447, 'poker': 1448, 'settle': 1449, 'tea': 1450, 'per': 1451, 'amount': 1452, 'major': 1453, 'greatest': 1454, 'treat': 1455, 'personal': 1456, 'helps': 1457, 'filled': 1458, 'pee': 1459, 'dancing': 1460, 'bell': 1461, 'adult': 1462, 'total': 1463, 'cause': 1464, 'pays': 1465, 'expensive': 1466, 'crystal': 1467, 'parade': 1468, 'tailor': 1469, 'yo': 1470, 'definite': 1471, 'caught': 1472, 'sneakers': 1473, 'brain': 1474, 'noise': 1475, 'eats': 1476, 'snake': 1477, 'hook': 1478, 'answering': 1479, 'central': 1480, 'whoever': 1481, 'sensitive': 1482, 'killing': 1483, 'forward': 1484, \"god's\": 1485, 'disappointed': 1486, '500': 1487, 'b': 1488, 's': 1489, 'waitress': 1490, 'suit': 1491, \"gettin'\": 1492, 'dull': 1493, 'letters': 1494, 'pretend': 1495, 'otherwise': 1496, 'blame': 1497, 'penis': 1498, 'escape': 1499, 'susie': 1500, 'grade': 1501, 'pimp': 1502, 'defense': 1503, 'geller': 1504, 'haircut': 1505, 'warm': 1506, 'captain': 1507, 'licked': 1508, 'gross': 1509, 'afford': 1510, 'wind': 1511, 'needed': 1512, 'carton': 1513, 'ahhh': 1514, 'issues': 1515, 'younger': 1516, 'promised': 1517, 'beat': 1518, 'stealing': 1519, 'lifetime': 1520, 'unfortunately': 1521, 'internet': 1522, 'gold': 1523, 'possibly': 1524, 'taste': 1525, 'mister': 1526, 'arm': 1527, 'official': 1528, 'movies': 1529, 'couples': 1530, 'scare': 1531, 'cream': 1532, 'picking': 1533, \"woman's\": 1534, 'threw': 1535, 'international': 1536, 'percent': 1537, 'channel': 1538, 'return': 1539, 'shoe': 1540, 'drinking': 1541, 'cross': 1542, 'doll': 1543, 'chose': 1544, 'celebration': 1545, 'zone': 1546, 'cheer': 1547, 'skating': 1548, 'punch': 1549, 'ahead': 1550, 'suppose': 1551, 'tie': 1552, 'becoming': 1553, 'pen': 1554, 'celebrating': 1555, 'forgot': 1556, 'swimming': 1557, 'kicked': 1558, 'bra': 1559, 'invented': 1560, 'crush': 1561, 'nooo': 1562, 'problems': 1563, 'ours': 1564, \"doctor's\": 1565, 'lotion': 1566, 'm': 1567, 'sell': 1568, 'trash': 1569, 'everyday': 1570, 'agree': 1571, 'condom': 1572, 'keeps': 1573, 'smooth': 1574, 'finger': 1575, 'gandolf': 1576, 'vomit': 1577, 'damnit': 1578, 'television': 1579, 'knicks': 1580, 'teeth': 1581, 'carrying': 1582, 'agreed': 1583, 'soda': 1584, 'faces': 1585, 'nick': 1586, 'backing': 1587, 'strippers': 1588, 'picturing': 1589, \"chandler's\": 1590, 'laugh': 1591, 'finding': 1592, 'yay': 1593, 'british': 1594, 'low': 1595, 'courtside': 1596, 'lots': 1597, 'proud': 1598, 'ugh': 1599, 'magic': 1600, 'coke': 1601, 'hospital': 1602, 'original': 1603, 'conference': 1604, 'pig': 1605, 'massage': 1606, 'massages': 1607, 'inappropriate': 1608, 'attracted': 1609, 'become': 1610, 'wanting': 1611, 'ralph': 1612, 'lauren': 1613, 'bringing': 1614, 'crime': 1615, 'lead': 1616, 'pushed': 1617, 'price': 1618, 'dollar': 1619, 'signs': 1620, 'turning': 1621, 'against': 1622, 'pass': 1623, 'universe': 1624, 'classes': 1625, 'presents': 1626, 'vacation': 1627, 'healthy': 1628, 'exchange': 1629, 'smells': 1630, 'messed': 1631, 'du': 1632, 'named': 1633, 'proposed': 1634, 'professor': 1635, 'future': 1636, 'mommy': 1637, 'w': 1638, 'nancy': 1639, '16': 1640, 'enjoying': 1641, 'states': 1642, 'easier': 1643, 'mood': 1644, 'hallway': 1645, 'goodbye': 1646, 'older': 1647, 'pizza': 1648, 'organized': 1649, 'don': 1650, 'ken': 1651, 'advertising': 1652, 'reservation': 1653, 'owen': 1654, 'agency': 1655, 'hump': 1656, 'cookie': 1657, 'shaped': 1658, 'lasted': 1659, 'ripped': 1660, 'las': 1661, 'comedian': 1662, 'balled': 1663, 'pillow': 1664, 'engagement': 1665, 'although': 1666, 'knowing': 1667, 'cigarette': 1668, 'pleasure': 1669, 'empty': 1670, 'bunch': 1671, 'emergency': 1672, 'admit': 1673, 'socks': 1674, 'boom': 1675, 'history': 1676, 'whoah': 1677, \"name's\": 1678, 'aurora': 1679, 'brooklyn': 1680, 'evening': 1681, 'rick': 1682, \"someone's\": 1683, 'wood': 1684, 'crack': 1685, 'roommates': 1686, \"there'll\": 1687, 'breaks': 1688, '300': 1689, 'trppd': 1690, 'vstbl': 1691, 'wth': 1692, 'jll': 1693, 'gdcr': 1694, 'offers': 1695, \"'gum\": 1696, 'track': 1697, 'saving': 1698, 'quality': 1699, 'lowell': 1700, 'financial': 1701, 'frightening': 1702, 'tribbiani': 1703, 'slash': 1704, '98': 1705, 'character': 1706, 'square': 1707, 'roof': 1708, 'dark': 1709, 'thankful': 1710, 'thanksgivings': 1711, 'dick': 1712, 'snapped': 1713, 'melon': 1714, 'geek': 1715, 'embarrassing': 1716, 'information': 1717, 'burst': 1718, 'furniture': 1719, 'kip': 1720, 'suggest': 1721, 'donuts': 1722, 'ordered': 1723, 'mountain': 1724, 'dessert': 1725, 'bottle': 1726, 'processing': 1727, 'worrying': 1728, 'weekly': 1729, 'blonde': 1730, 'personality': 1731, 'suited': 1732, 'brag': 1733, 'tables': 1734, 'generous': 1735, 'bonus': 1736, \"that'll\": 1737, 'ive': 1738, 'earth': 1739, 'dont': 1740, 'knit': 1741, 'flan': 1742, 'woo': 1743, 'others': 1744, 'jealous': 1745, 'desk': 1746, 'caring': 1747, 'learned': 1748, 'cards': 1749, 'lesson': 1750, 'george': 1751, 'land': 1752, 'cost': 1753, \"'i\": 1754, 'certain': 1755, 'involved': 1756, 'ourselves': 1757, 'san': 1758, 'reasons': 1759, 'stalin': 1760, 'cones': 1761, 'hats': 1762, 'boobs': 1763, 'saucy': 1764, '40': 1765, 'knapsack': 1766, 'doctors': 1767, 'rip': 1768, 'ridiculously': 1769, 'f': 1770, 'hah': 1771, 'h': 1772, 'buffay': 1773, 'decision': 1774, 'himself': 1775, 'sec': 1776, 'advantage': 1777, 'grown': 1778, 'ups': 1779, 'kitty': 1780, 'flew': 1781, 'pissed': 1782, 'honestly': 1783, \"takin'\": 1784, 'porno': 1785, 'snoopy': 1786, 'falls': 1787, 'screening': 1788, 'jerk': 1789, 'blowfish': 1790, 'virus': 1791, 'jacket': 1792, 'familiar': 1793, 'basketball': 1794, 'bus': 1795, 'literally': 1796, 'passed': 1797, 'changing': 1798, 'smack': 1799, 'sunday': 1800, \"they'd\": 1801, 'nap': 1802, '12': 1803, 'drive': 1804, '28': 1805, 'pros': 1806, 'names': 1807, 'summer': 1808, 'relaxed': 1809, 'belt': 1810, 'holy': 1811, 'lemon': 1812, 'russ': 1813, 'spare': 1814, 'guessing': 1815, 'italy': 1816, 'hungry': 1817, 'pop': 1818, 'ends': 1819, 'pinching': 1820, 'poking': 1821, 'themselves': 1822, \"boss's\": 1823, 'stars': 1824, 'bastard': 1825, 'fooling': 1826, 'suddenly': 1827, 'elevator': 1828, 'panties': 1829, 'hearing': 1830, 'underpants': 1831, 'bracelet': 1832, 'bud': 1833, 'slow': 1834, \"wendy's\": 1835, 'vcr': 1836, 'clubs': 1837, 'cushions': 1838, 'hay': 1839, 'green': 1840, 'cancel': 1841, 'speak': 1842, 'lower': 1843, 'rich': 1844, 'checking': 1845, 'scored': 1846, 'talks': 1847, 'happier': 1848, 'pet': 1849, 'lame': 1850, 'capital': 1851, 'soul': 1852, 'roomie': 1853, 'woke': 1854, 'eric': 1855, 'breath': 1856, 'dan': 1857, 'kick': 1858, 'agent': 1859, 'stir': 1860, 'bullies': 1861, 'cousin': 1862, 'jack': 1863, 'program': 1864, 'group': 1865, 'powerful': 1866, 'steps': 1867, 'affair': 1868, 'drawer': 1869, 'stayed': 1870, 'tend': 1871, 'princess': 1872, 'website': 1873, 'breaking': 1874, 'rangers': 1875, 'eww': 1876, 'xerox': 1877, 'quickly': 1878, 'song': 1879, 'obsessive': 1880, 'fully': 1881, 'noticed': 1882, 'essence': 1883, 'donald': 1884, 'jump': 1885, \"huggin'\": 1886, \"'so\": 1887, 'odds': 1888, 'spitter': 1889, 'enjoyed': 1890, 'seemed': 1891, 'chances': 1892, 'pool': 1893, 'nuclear': 1894, 'blouse': 1895, 'gary': 1896, 'resist': 1897, 'endless': 1898, 'losers': 1899, 'dutch': 1900, 'wins': 1901, 'solid': 1902, 'center': 1903, 'american': 1904, 'click': 1905, 'walking': 1906, 'barely': 1907, \"men's\": 1908, 'smallest': 1909, 'source': 1910, 'closed': 1911, 'mature': 1912, 'cheat': 1913, \"they've\": 1914, 'pete': 1915, 'sized': 1916, 'image': 1917, 'peep': 1918, 'phil': 1919, 'realise': 1920, 'action': 1921, 'cuts': 1922, 'setting': 1923, 'pleasant': 1924, 'pathetic': 1925, 'kicks': 1926, 'rehearsal': 1927, 'chicks': 1928, 'born': 1929, \"everything's\": 1930, 'sample': 1931, 'certainly': 1932, 'sexual': 1933, 'bored': 1934, 'practice': 1935, 'swear': 1936, 'kills': 1937, 'entertainment': 1938, 'process': 1939, 'nails': 1940, 'insurance': 1941, 'borrowed': 1942, 'handcuffs': 1943, 'covered': 1944, 'meal': 1945, 'fishnet': 1946, 'stockings': 1947, \"kathy's\": 1948, 'oils': 1949, 'hanukkah': 1950, 'gives': 1951, 'clock': 1952, 'emotional': 1953, 'firm': 1954, 'stern': 1955, '29': 1956, 'falling': 1957, 'briefcase': 1958, 'girlie': 1959, 'fling': 1960, 'hire': 1961, 'generally': 1962, 'throwing': 1963, 'singing': 1964, 'juice': 1965, 'legs': 1966, 'correct': 1967, 'destroy': 1968, '200': 1969, 'dangerous': 1970, '32': 1971, 'attention': 1972, 'mailman': 1973, 'sing': 1974, 'pregnancy': 1975, 'joshua': 1976, 'mark': 1977, 'clinic': 1978, 'rolling': 1979, 'wah': 1980, 'pah': 1981, 'n': 1982, 'hut': 1983, 'planning': 1984, 'announcement': 1985, 'position': 1986, 'bride': 1987, 'passport': 1988, '45': 1989, 'blew': 1990, 'atlantic': 1991, 'definition': 1992, 'drop': 1993, 'ms': 1994, 'tap': 1995, 'cowboy': 1996, 'mac': 1997, \"geller's\": 1998, 'security': 1999, 'unemployed': 2000, 'ruin': 2001, 'elizabeth': 2002, 'nickname': 2003, 'tom': 2004, 'survive': 2005, 'racquet': 2006, 'bike': 2007, 'messing': 2008, 'related': 2009, 'officer': 2010, 'snow': 2011, 'yuck': 2012, 'reservations': 2013, 'shh': 2014, 'earrings': 2015, 'flirt': 2016, 'hurry': 2017, 'bullet': 2018, 'dropper': 2019, 'hopes': 2020, 'bridge': 2021, 'lover': 2022, 'twin': 2023, 'mirror': 2024, 'support': 2025, \"must've\": 2026, 'lock': 2027, 'lap': 2028, 'silly': 2029, 'krog': 2030, 'broken': 2031, 'charity': 2032, 'bills': 2033, 'double': 2034, 'assume': 2035, 'boxes': 2036, 'spring': 2037, 'specific': 2038, 'lamp': 2039, 'interested': 2040, 'feminine': 2041, 'charming': 2042, 'south': 2043, 'steve': 2044, 'maintenance': 2045, 'introduce': 2046, 'swing': 2047, 'archie': 2048, 'cous': 2049, 'mixed': 2050, 'dana': 2051, 'floating': 2052, 'eldad': 2053, \"everybody's\": 2054, 'board': 2055, 'covers': 2056, 'dying': 2057, 'aside': 2058, 'elves': 2059, 'camp': 2060, 'pigs': 2061, 'engaged': 2062, 'biology': 2063, 'rose': 2064, 'apology': 2065, 'bikes': 2066, 'daddy': 2067, 'steam': 2068, 'sweetie': 2069, 'warn': 2070, 'jelly': 2071, 'bright': 2072, 'beauty': 2073, 'clunkers': 2074, 'celebrate': 2075, 'turtle': 2076, 'snack': 2077, \"bride's\": 2078, 'sauce': 2079, 'panic': 2080, 'anxiety': 2081, \"bond's\": 2082, \"ma'am\": 2083, 'fresh': 2084, 'lessons': 2085, 'bravo': 2086, 'developed': 2087, 'checked': 2088, 'keeper': 2089, 'toby': 2090, 'sixth': 2091, 'bath': 2092, 'sun': 2093, 'duties': 2094, 'helped': 2095, 'period': 2096, 'shhhhh': 2097, 'shovel': 2098, 'ovulating': 2099, 'fricken': 2100, 'nanny': 2101, 'allright': 2102, 'dies': 2103, 'plates': 2104, 'mention': 2105, 'eve': 2106, 'missy': 2107, 'hip': 2108, 'lottery': 2109, 'connelly': 2110, 'social': 2111, 'bosses': 2112, 'cranberries': 2113, 'cranberry': 2114, 'reverend': 2115, 'erica': 2116, 'escrow': 2117, 'mento': 2118, 'however': 2119, 'sharing': 2120, \"'look\": 2121, 'wooden': 2122, 'closely': 2123, 'perspective': 2124, 'imaginary': 2125, \"'you're\": 2126, 'complaining': 2127, 'farm': 2128, 'damone': 2129, 'smokes': 2130, 'schhteve': 2131, 'impression': 2132, 'personally': 2133, 'contest': 2134, 'pronouncing': 2135, 'ate': 2136, 'alive': 2137, 'weak': 2138, 'omnipotent': 2139, 'waaaay': 2140, \"guys'\": 2141, 'passes': 2142, 'angry': 2143, 'ba': 2144, 'silence': 2145, 'lambs': 2146, 'courage': 2147, 'puppies': 2148, 'espresso': 2149, 'latte': 2150, 'spot': 2151, 'doom': 2152, 'league': 2153, 'considering': 2154, 'tongue': 2155, \"'chand\": 2156, \"lrr'\": 2157, 'usher': 2158, 'israeli': 2159, 'fantasy': 2160, 'scratch': 2161, 'coaster': 2162, 'struggling': 2163, 'wasted': 2164, 'nono': 2165, 'wells': 2166, 'device': 2167, \"'this\": 2168, 'lips': 2169, \"'hey\": 2170, 'animal': 2171, \"'i'll\": 2172, 'bubble': 2173, \"else's\": 2174, 'choking': 2175, 'letting': 2176, 'dehydrated': 2177, 'noodles': 2178, \"d'you\": 2179, 'gorgeous': 2180, 'overcoat': 2181, 'funeral': 2182, 'heh': 2183, 'department': 2184, 'experiment': 2185, 'butter': 2186, 'vividly': 2187, 'pumpkin': 2188, 'pie': 2189, 'stuffing': 2190, 'balloon': 2191, 'reached': 2192, 'washington': 2193, '80': 2194, 'involve': 2195, 'projectile': 2196, 'vomiting': 2197, 'vail': 2198, \"guys'd\": 2199, 'syphilis': 2200, 'beating': 2201, 'winner': 2202, 'paolo': 2203, 'drops': 2204, 'enthusiasm': 2205, 'aah': 2206, 'max': 2207, 'joy': 2208, \"bernie's\": 2209, 'passing': 2210, 'moms': 2211, 'flames': 2212, 'nightmare': 2213, 'mma': 2214, 'adventure': 2215, 'impressions': 2216, 'hibachi': 2217, 'pieces': 2218, 'weave': 2219, 'areas': 2220, 'accident': 2221, 'okaaay': 2222, \"father's\": 2223, 'guts': 2224, 'winning': 2225, 'trading': 2226, 'dumped': 2227, 'throws': 2228, 'screen': 2229, 'jan': 2230, 'flattering': 2231, 'length': 2232, 'typical': 2233, 'tells': 2234, 'estimated': 2235, 'systems': 2236, 'appointment': 2237, 'robert': 2238, 'gogo': 2239, 'goals': 2240, 'dreams': 2241, 'speaking': 2242, 'grape': 2243, 'amouz': 2244, 'yearly': 2245, 'earlier': 2246, 'rejection': 2247, 'indeedy': 2248, 'fran': 2249, 'theyre': 2250, 'lets': 2251, 'havent': 2252, 'science': 2253, 'shes': 2254, 'flanen': 2255, 'whoo': 2256, 'scientists': 2257, 'monkeys': 2258, 'whats': 2259, 'paperwork': 2260, 'drinks': 2261, 'relationships': 2262, 'zero': 2263, 'swallowed': 2264, 'spell': 2265, \"'the\": 2266, 'playthings': 2267, 'sarcastic': 2268, 'dentist': 2269, 'pictionary': 2270, \"'joincidence'\": 2271, \"'c'\": 2272, 'phrase': 2273, 'se': 2274, 'peanut': 2275, 'study': 2276, 'expecting': 2277, 'honing': 2278, 'ad': 2279, 'answered': 2280, 'slide': 2281, 'accidentally': 2282, 'dammit': 2283, '95': 2284, 'beach': 2285, 'brand': 2286, 'justice': 2287, 'diego': 2288, 'secretary': 2289, 'involves': 2290, 'normal': 2291, 'ebony': 2292, 'ivory': 2293, 'cab': 2294, 'hypothetically': 2295, 'parachute': 2296, 'partner': 2297, 'waffles': 2298, 'peeing': 2299, 'remove': 2300, 'flennin': 2301, 'wee': 2302, 'button': 2303, 'shows': 2304, \"her'\": 2305, 'silver': 2306, 'lining': 2307, 'spite': 2308, 'yummy': 2309, 'bagels': 2310, 'tension': 2311, 'code': 2312, 'inseam': 2313, 'cupping': 2314, 'sweetums': 2315, 'howdy': 2316, 'west': 2317, 'hooker': 2318, \"tellin'\": 2319, 'picky': 2320, 'clown': 2321, 'clarinet': 2322, 'scale': 2323, 'bitter': 2324, 'invite': 2325, 'holidays': 2326, 'lonely': 2327, 'useless': 2328, 'pressing': 2329, 'tri': 2330, 'craziest': 2331, 'spanish': 2332, 'midgets': 2333, 'perk': 2334, 'village': 2335, 'ish': 2336, 'comfort': 2337, 'arms': 2338, 'pure': 2339, 'evil': 2340, 'horny': 2341, 'concert': 2342, 'steep': 2343, 'tissue': 2344, 'sneeze': 2345, 'flashback': 2346, 'hootie': 2347, 'awhile': 2348, 'style': 2349, 'rude': 2350, 'stevie': 2351, 'dated': 2352, 'understood': 2353, \"baby's\": 2354, 'taxi': 2355, 'flip': 2356, 'clowns': 2357, 'hideously': 2358, 'weight': 2359, 'spandex': 2360, 'lift': 2361, 'pound': 2362, 'especially': 2363, 'built': 2364, 'diamond': 2365, 'pressed': 2366, 'printing': 2367, 'brilliant': 2368, 'hop': 2369, 'plenty': 2370, 'someday': 2371, 'lime': 2372, 'museum': 2373, 'satin': 2374, 'doody': 2375, 'bitterest': 2376, 'shrink': 2377, 'grandfather': 2378, 'rhythm': 2379, 'capable': 2380, 'misery': 2381, 'opposite': 2382, 'drake': 2383, \"lookin'\": 2384, 'genre': 2385, 'paranoid': 2386, 'moss': 2387, 'graduated': 2388, 'mechanism': 2389, 'fork': 2390, 'steak': 2391, 'vegetables': 2392, 'aunt': 2393, 'public': 2394, 'saved': 2395, 'golf': 2396, 'repeller': 2397, 'eyesore': 2398, 'liberace': 2399, 'sporting': 2400, 'collection': 2401, 'marceau': 2402, 'wank': 2403, 'anger': 2404, 'replace': 2405, 'buds': 2406, 'connecticut': 2407, 'dare': 2408, 'survived': 2409, 'miracle': 2410, 'wax': 2411, 'harder': 2412, 'toothbrush': 2413, 'fellas': 2414, 'lick': 2415, \"somethin'\": 2416, \"talkin'\": 2417, 'em': 2418, 'france': 2419, 'brilliance': 2420, 'jo': 2421, \"when'd\": 2422, 'darn': 2423, 'sean': 2424, 'penn': 2425, 'terrified': 2426, 'tank': 2427, 'stolen': 2428, 'current': 2429, 'smiling': 2430, 'forgetting': 2431, 'cocktail': 2432, \"richard's\": 2433, 'dads': 2434, 'na': 2435, '21': 2436, 'constantly': 2437, 'burn': 2438, 'weapon': 2439, 'damage': 2440, 'scholarship': 2441, 'chinese': 2442, 'traditional': 2443, 'dennis': 2444, 'tounge': 2445, 'shirts': 2446, 'skins': 2447, 'tiger': 2448, 'carefully': 2449, 'jeannie': 2450, 'dock': 2451, 'douglas': 2452, 'cutting': 2453, 'slack': 2454, 'wednesday': 2455, 'rogue': 2456, 'co': 2457, 'yum': 2458, 'sheep': 2459, \"ya'\": 2460, 'limb': 2461, 'girth': 2462, 'outta': 2463, \"sister's\": 2464, 'towel': 2465, 'aroused': 2466, 'cow': 2467, 'claim': 2468, 'buck': 2469, 'tub': 2470, 'trick': 2471, 'fluid': 2472, 'meals': 2473, 'plate': 2474, 'tomatoes': 2475, 'advance': 2476, 'tastes': 2477, 'shopping': 2478, 'sophisticated': 2479, 'chelsea': 2480, 'lately': 2481, 'forest': 2482, 'bleeth': 2483, 'electric': 2484, 'unit': 2485, 'cash': 2486, 'plural': 2487, 'mm': 2488, 'favourite': 2489, 'fly': 2490, 'mattress': 2491, \"janice's\": 2492, 'choked': 2493, 'mar': 2494, 'troll': 2495, 'near': 2496, 'mini': 2497, 'nights': 2498, 'trees': 2499, 'coconut': 2500, 'spelled': 2501, 'wet': 2502, 'alien': 2503, 'og': 2504, 'rush': 2505, \"'woo\": 2506, 'hooing': 2507, 'veronica': 2508, 'skirt': 2509, 'notch': 2510, 'albert': 2511, 'modern': 2512, 'theater': 2513, 'bug': 2514, 'meanwhile': 2515, 'sh': 2516, 'chocolate': 2517, 'whether': 2518, 'devil': 2519, 'ginger': 2520, 'puddle': 2521, 'nubbin': 2522, 'obvious': 2523, 'powers': 2524, 'address': 2525, 'benefit': 2526, 'jasmine': 2527, 'statement': 2528, 'scouts': 2529, 'beam': 2530, 'unsettling': 2531, 'combination': 2532, 'confident': 2533, 'stunning': 2534, 'loveable': 2535, 'happily': 2536, 'macbeth': 2537, '48': 2538, 'pulling': 2539, \"joanna's\": 2540, 'mascara': 2541, 'goop': 2542, 'corner': 2543, 'topless': 2544, 'animals': 2545, 'toy': 2546, 'winter': 2547, 'driving': 2548, 'slapping': 2549, 'express': 2550, 'frank': 2551, 'material': 2552, 'blind': 2553, \"kind've\": 2554, 'dorf': 2555, 'dried': 2556, 'holocaust': 2557, 'remembered': 2558, 'gin': 2559, 'cabinet': 2560, 'prettiest': 2561, 'lace': 2562, 'canoe': 2563, 'voluntarily': 2564, 'bend': 2565, 'joanna': 2566, 'unlock': 2567, 'shoot': 2568, 'walkman': 2569, 'pulp': 2570, 'member': 2571, 'confuse': 2572, 'maria': 2573, 'k': 2574, 'c': 2575, 'remote': 2576, 'fetch': 2577, '99': 2578, 'concept': 2579, 'reminds': 2580, 'easiest': 2581, 'edition': 2582, 'grease': 2583, 'poem': 2584, 'velveteen': 2585, 'uhl': 2586, 'ell': 2587, 'boles': 2588, \"thinkin'\": 2589, \"phone's\": 2590, 'swallow': 2591, 'excuses': 2592, 'g': 2593, 'initials': 2594, 'licking': 2595, 'reasonable': 2596, 'beginning': 2597, 'drew': 2598, 'signing': 2599, 'thrilled': 2600, 'jewish': 2601, \"tonight's\": 2602, 'trump': 2603, 'blazer': 2604, 'carl': 2605, 'upside': 2606, 'opinion': 2607, 'diet': 2608, 'orange': 2609, 'scotch': 2610, 'cough': 2611, 'fears': 2612, 'althea': 2613, 'shooting': 2614, 'lightning': 2615, 'liaisons': 2616, 'ruining': 2617, 'cast': 2618, 'chemistry': 2619, 'given': 2620, 'buffet': 2621, 'shhing': 2622, 'quitting': 2623, 'sweats': 2624, 'instincts': 2625, 'strike': 2626, 'relief': 2627, 'susan': 2628, 'famous': 2629, 'john': 2630, 'belong': 2631, 'wham': 2632, 'fridge': 2633, 'season': 2634, 'hugging': 2635, 'jobs': 2636, 'exhausted': 2637, 'dresses': 2638, 'weddings': 2639, 'climbing': 2640, 'everest': 2641, 'hidden': 2642, 'videos': 2643, 'camera': 2644, 'monty': 2645, 'titanic': 2646, 'foreign': 2647, 'cellar': 2648, 'yippee': 2649, 'ignore': 2650, 'expects': 2651, 'suites': 2652, 'loser': 2653, \"'a'\": 2654, \"'b'\": 2655, 'waters': 2656, \"york'\": 2657, 'cole': 2658, 'slaw': 2659, 'beans': 2660, 'triumph': 2661, 'picnic': 2662, 'fonzie': 2663, 'goofing': 2664, 'technical': 2665, 'fangled': 2666, 'sensed': 2667, 'masculine': 2668, 'enh': 2669, 'gloves': 2670, 'held': 2671, 'drag': 2672, 'geez': 2673, 'tasted': 2674, '25': 2675, 'losing': 2676, 'lease': 2677, 'purifier': 2678, 'quicker': 2679, 'dancer': 2680, 'productive': 2681, 'tradition': 2682, 'depressed': 2683, 'nail': 2684, 'quack': 2685, 'police': 2686, 'annie': 2687, 'explanation': 2688, 'film': 2689, 'addict': 2690, 'intrigued': 2691, 'reacted': 2692, 'hornswoggle': 2693, 'comment': 2694, 'laundry': 2695, 'jet': 2696, 'church': 2697, 'hid': 2698, \"hadn't\": 2699, 'forgave': 2700, 'strings': 2701, \"time's\": 2702, 'owww': 2703, 'fried': 2704, 'popular': 2705, 'weirdest': 2706, 'bicep': 2707, 'messers': 2708, 'messies': 2709, 'casual': 2710, 'casually': 2711, 'obsessed': 2712, 'urgent': 2713, 'cop': 2714, 'strange': 2715, 'martin': 2716, 'dreamt': 2717, 'offended': 2718, 'freakishly': 2719, 'competitive': 2720, 'upstairs': 2721, 'proved': 2722, 'exciting': 2723, 'fixed': 2724, 'switched': 2725, 'pulled': 2726, 'caitlin': 2727, 'pizzas': 2728, 'flirted': 2729, 'behave': 2730, 'nighttime': 2731, 'tax': 2732, 'visitors': 2733, 'backfire': 2734, 'jumps': 2735, 'noises': 2736, 'respect': 2737, 'sandwiches': 2738, 'catching': 2739, 'staying': 2740, 'bear': 2741, 'identical': 2742, 'wallet': 2743, 'marriages': 2744, 'gumball': 2745, 'nerve': 2746, 'la': 2747, 'asteroids': 2748, 'discuss': 2749, 'non': 2750, 'easily': 2751, 'silliness': 2752, 'laughter': 2753, 'merge': 2754, 'curiosity': 2755, 'loan': 2756, 'iffy': 2757, 'coach': 2758, 'shocking': 2759, 'sand': 2760, 'lodged': 2761, 'kicking': 2762, '700': 2763, 'gesture': 2764, 'supermarket': 2765, 'unpacked': 2766, 'helping': 2767, 'recognize': 2768, 'perfectly': 2769, 'carpet': 2770, 'dish': 2771, 'forbid': 2772, 'sweetheart': 2773, 'climbed': 2774, 'hoot': 2775, 'printed': 2776, 'skinny': 2777, 'cable': 2778, 'apron': 2779, 'coffeehouse': 2780, 'impossible': 2781, 'pribe': 2782, 'libe': 2783, 'layers': 2784, 'struck': 2785, 'mix': 2786, 'rub': 2787, 'drapes': 2788, 'deer': 2789, 'macho': 2790, 'puppy': 2791, 'childhood': 2792, 'tin': 2793, 'chest': 2794, 'comic': 2795, 'vitamins': 2796, 'jeans': 2797, 'reggie': 2798, 'attacks': 2799, '31': 2800, 'moves': 2801, 'paleontology': 2802, 'selling': 2803, 'rain': 2804, 'keystone': 2805, 'favor': 2806, 'till': 2807, 'overdue': 2808, 'allergies': 2809, 'hates': 2810, 'color': 2811, 'freaking': 2812, 'heldi': 2813, 'brochures': 2814, 'guard': 2815, 'jail': 2816, 'slight': 2817, 'willing': 2818, 'proposing': 2819, 'partners': 2820, 'mattered': 2821, 'matters': 2822, 'failed': 2823, 'dignity': 2824, 'derrick': 2825, 'centerpieces': 2826, 'clear': 2827, 'suggesting': 2828, 'collar': 2829, 'garage': 2830, 'convince': 2831, 'disneyland': 2832, 'tacos': 2833, 'ude': 2834, 'exist': 2835, 'fa': 2836, 'aa': 2837, 'forty': 2838, 'thin': 2839, 'system': 2840, 'ceremony': 2841, 'whisper': 2842, 'delicious': 2843, 'allergic': 2844, \"ross'\": 2845, 'neighbors': 2846, 'worker': 2847, 'below': 2848, 'became': 2849, 'musicman': 2850, 'skull': 2851, 'assumed': 2852, 'slip': 2853, 'shape': 2854, 'belly': 2855, 'mmm': 2856, 'braverman': 2857, 'forgotten': 2858, 'headed': 2859, 'impact': 2860, 'bummed': 2861, 'obsolete': 2862, 'magazine': 2863, 'gang': 2864, 'daughter': 2865, 'olds': 2866, 'scottish': 2867, 'appropriate': 2868, 'legitimate': 2869, 'minister': 2870, 'perform': 2871, 'heading': 2872, 'bucket': 2873, 'bodes': 2874, 'impresses': 2875, 'effectively': 2876, 'vows': 2877, 'robin': 2878, 'fantastic': 2879, 'commercial': 2880, 'meat': 2881, 'dances': 2882, 'sweating': 2883, 'intently': 2884, '007': 2885, 'val': 2886, 'kilmer': 2887, 'invitation': 2888, 'premiere': 2889, 'louder': 2890, 'written': 2891, 'funnier': 2892, 'eloping': 2893, 'stands': 2894, 'cheering': 2895, 'girabaldi': 2896, 'audience': 2897, 'chain': 2898, 'newman': 2899, 'simple': 2900, 'disposable': 2901, 'troubles': 2902, 'mama': 2903, 'speedo': 2904, 'jenny': 2905, 'donut': 2906, 'semi': 2907, 'cannot': 2908, 'doubt': 2909, 'crotch': 2910, 'bachelorette': 2911, \"tomorrow's\": 2912, 'anderson': 2913, 'shake': 2914, 'effort': 2915, 'fifteen': 2916, 'chew': 2917, 'tan': 2918, 'cares': 2919, 'scores': 2920, 'erased': 2921, 'baths': 2922, 'salt': 2923, 'compliment': 2924, 'l': 2925, 'keeping': 2926, 'tools': 2927, \"'candy\": 2928, 'dilating': 2929, 'shots': 2930, 'poor': 2931, 'closes': 2932, 'mates': 2933, 'barbecue': 2934, 'smelly': 2935, 'leaves': 2936, 'interest': 2937, 'junior': 2938, 'treasure': 2939, 'sierra': 2940, 'madre': 2941, 'google': 2942, 'vice': 2943, 'reconfiguration': 2944, 'statistical': 2945, 'factoring': 2946, 'uncle': 2947, 'manage': 2948, 'spit': 2949, 'glamorous': 2950, 'specifics': 2951, 'war': 2952, 'accent': 2953, 'dim': 2954, 'labor': 2955, 'ear': 2956, 'hears': 2957, 'facing': 2958, 'adults': 2959, \"ain't\": 2960, 'heaven': 2961, \"'slim\": 2962, \"pickings'\": 2963, \"cheesy'\": 2964, 'boo': 2965, 'disturb': 2966, 'ny': 2967, 'sharks': 2968, 'lo': 2969, 'tricked': 2970, 'lied': 2971, 'waiter': 2972, 'maitre': 2973, 'definately': 2974, 'credits': 2975, 'phones': 2976, 'unpaid': 2977, 'loathing': 2978, 'canoodling': 2979, 'humiliating': 2980, 'mindset': 2981, 'reads': 2982, \"don'\": 2983, 'refrigerator': 2984, 'disagree': 2985, 'dinosaurs': 2986, 'community': 2987, 'memorial': 2988, 'tons': 2989, 'press': 2990, 'kori': 2991, \"charlie's\": 2992, 'nightstand': 2993, 'cracks': 2994, 'inn': 2995, 'refundable': 2996, 'maple': 2997, 'shaking': 2998, 'chapter': 2999, 'journey': 3000, 'specimen': 3001, 'motility': 3002, 'inhospitable': 3003, 'environment': 3004, 'donors': 3005, 'meddler': 3006, 'scalp': 3007, 'ears': 3008, 'corn': 3009, 'triplets': 3010, 'intuitive': 3011, 'maxim': 3012, 'aortic': 3013, 'recommendation': 3014, 'solutions': 3015, 'wholesome': 3016, 'halls': 3017, 'bert': 3018, 'host': 3019, 'slave': 3020, 'wiggle': 3021, 'file': 3022, 'permission': 3023, 'student': 3024, 'goldberg': 3025, 'adrienne': 3026, 'killer': 3027, 'shovely': 3028, 'hitlers': 3029, 'crapping': 3030, 'melrose': 3031, 'antacids': 3032, 'hairpiece': 3033, 'cafeteria': 3034, 'tuna': 3035, 'salad': 3036, \"'l'\": 3037, 'bracket': 3038, 'spoil': 3039, 'closeness': 3040, 'freezer': 3041, \"angela's\": 3042, 'screamer': 3043, 'andrea': 3044, 'invade': 3045, 'poland': 3046, 'input': 3047, 'gippetto': 3048, 'upbeat': 3049, 'retailers': 3050, 'serving': 3051, 'liza': 3052, 'minelli': 3053, 'floyd': 3054, \"concert's\": 3055, 'traffic': 3056, 'episode': 3057, \"three's\": 3058, 'misunderstanding': 3059, 'realised': 3060, 'cruel': 3061, 'parent': 3062, 'flatness': 3063, \"child's\": 3064, 'thighmaster': 3065, \"'doy'\": 3066, 'dinah': 3067, 'lasagne': 3068, 'presumably': 3069, 'preferred': 3070, 'enterprise': 3071, \"guy'\": 3072, \"'i'm\": 3073, 'alcoholics': 3074, \"you'\": 3075, 'cell': 3076, 'puff': 3077, 'missing': 3078, 'complete': 3079, \"satan's\": 3080, 'minions': 3081, 'reward': 3082, 'schhexy': 3083, 'hasselhoff': 3084, 'hassidic': 3085, 'jewellers': 3086, 'softball': 3087, 'gallon': 3088, 'alan': 3089, 'collect': 3090, 'unfair': 3091, 'flaw': 3092, 'constant': 3093, 'knuckle': 3094, 'cracking': 3095, 'snort': 3096, 'flaws': 3097, 'cancer': 3098, 'emphysema': 3099, 'disease': 3100, 'lambchop': 3101, 'halloween': 3102, 'costumes': 3103, 'poulet': 3104, 'leetch': 3105, 'brief': 3106, 'messier': 3107, \"women's\": 3108, 'peach': 3109, 'pittsburgh': 3110, 'fans': 3111, 'toothless': 3112, \"'scuse\": 3113, 'predicament': 3114, 'dora': 3115, 'glow': 3116, 'painkillers': 3117, 'considered': 3118, 'visa': 3119, 'sat': 3120, 'ur': 3121, 'handed': 3122, \"gangin'\": 3123, 'camper': 3124, 'yuh': 3125, 'rethink': 3126, 'underwearyou': 3127, 'fabric': 3128, 'softener': 3129, 'bullwinkle': 3130, 'brutal': 3131, 'plays': 3132, 'impending': 3133, 'bald': 3134, \"'excuse\": 3135, 'blarrglarrghh': 3136, \"y'think\": 3137, 'thankyou': 3138, 'pronounces': 3139, 'army': 3140, 'rode': 3141, \"'we'\": 3142, 'widowed': 3143, 'hopefully': 3144, 'sliding': 3145, 'pant': 3146, \"out'\": 3147, 'responsibility': 3148, 'greeting': 3149, 'magazines': 3150, 'beads': 3151, 'condensation': 3152, 'inching': 3153, 'surface': 3154, 'showbusiness': 3155, \"mom's\": 3156, 'coupla': 3157, 'resentment': 3158, 'nonononononnononono': 3159, 'following': 3160, 'andrew': 3161, 'fulfilled': 3162, \"'shut\": 3163, \"grinch's\": 3164, 'grows': 3165, 'sizes': 3166, 'measuring': 3167, 'runs': 3168, 'disturbing': 3169, \"victoria's\": 3170, 'model': 3171, 'trapped': 3172, 'atrium': 3173, 'scaring': 3174, 'entered': 3175, 'sugarless': 3176, 'mangled': 3177, 'carcass': 3178, \"perfection'\": 3179, 'loathe': 3180, \"bubble's\": 3181, 'boyish': 3182, 'charm': 3183, 'impish': 3184, 'imp': 3185, 'reach': 3186, 'chewing': 3187, '7143457': 3188, 'japanese': 3189, 'fluorescent': 3190, \"y'see\": 3191, \"'co\": 3192, \"dependent'\": 3193, \"'self\": 3194, \"destructive'\": 3195, 'fascinating': 3196, 'vague': 3197, \"services'\": 3198, \"'s'no\": 3199, 'payroll': 3200, \"d'know\": 3201, 'remarkably': 3202, 'brent': 3203, 'mussberger': 3204, 'dorothy': 3205, 'services': 3206, 'shelley': 3207, 'makeup': 3208, 'magnificent': 3209, 'mouthful': 3210, 'reverse': 3211, 'blossom': 3212, 'shooping': 3213, 'prefer': 3214, 'distance': 3215, 'merriment': 3216, 'laughed': 3217, 'underdog': 3218, \"macy's\": 3219, 'spotted': 3220, 'inflatable': 3221, 'loose': 3222, \"door's\": 3223, 'shall': 3224, 'carve': 3225, 'bladder': 3226, 'hemorrhoids': 3227, 'tony': 3228, 'awards': 3229, \"monkey's\": 3230, 'snowman': 3231, 'pressures': 3232, 'scramble': 3233, 'victim': 3234, 'clark': 3235, 'mock': 3236, \"y'killing\": 3237, 'blast': 3238, 'juggling': 3239, 'necessarily': 3240, 'misunderstood': 3241, 'peacock': 3242, 'scientist': 3243, 'upon': 3244, 'whiz': 3245, 'conscious': 3246, 'showtime': 3247, 'hbo': 3248, 'cinemax': 3249, 'groin': 3250, '79': 3251, \"'mistress\": 3252, 'beaming': 3253, 'kung': 3254, 'pow': 3255, 'shell': 3256, 'myyy': 3257, 'gentlemen': 3258, 'slam': 3259, 'kisser': 3260, 'freudian': 3261, 'complicated': 3262, 'complex': 3263, 'tonsil': 3264, 'effect': 3265, \"couldn'ta\": 3266, 'yogurt': 3267, 'mmaah': 3268, 'delvecchio': 3269, 'imagination': 3270, 'ooooohh': 3271, 'patio': 3272, 'insects': 3273, 'dining': 3274, 'catholic': 3275, 'distraught': 3276, 'relatively': 3277, 'nipular': 3278, 'telescope': 3279, 'sparky': 3280, 'uhhuh': 3281, \"'tat\": 3282, 'rog': 3283, 'embolism': 3284, 'nip': 3285, 'kerplunk': 3286, 'followed': 3287, 'kicky': 3288, 'pancakes': 3289, 'fitting': 3290, 'cave': 3291, 'waltons': 3292, 'alcoholic': 3293, 'blond': 3294, \"thing's\": 3295, 'lesbiani': 3296, 'suicide': 3297, \"makin'\": 3298, 'crappy': 3299, 'overpriced': 3300, 'rob': 3301, 'roy': 3302, 'dump': 3303, 'brush': 3304, 'loaded': 3305, 'hearts': 3306, 'tedlock': 3307, 'sleeve': 3308, 'prank': 3309, 'memos': 3310, 'inputting': 3311, 'supervisor': 3312, 'temp': 3313, 'promotion': 3314, 'admitting': 3315, 'usage': 3316, 'cheffing': 3317, 'pillman': 3318, 'counselor': 3319, 'added': 3320, 'formerly': 3321, 'owned': 3322, 'bears': 3323, 'metaphorically': 3324, 'aptitude': 3325, 'intelligence': 3326, 'ideally': 3327, 'multinational': 3328, 'corporation': 3329, 'pictured': 3330, 'ing': 3331, 'waited': 3332, 'innsbruck': 3333, \"'76\": 3334, 'bouche': 3335, 'rooting': 3336, 'kostelic': 3337, 'fifteenth': 3338, 'satisfying': 3339, 'pens': 3340, 'structure': 3341, 'hardball': 3342, 'negotiation': 3343, 'whooooaaaa': 3344, 'youd': 3345, 'doesnt': 3346, 'ursula': 3347, 'youve': 3348, 'whack': 3349, 'hows': 3350, 'ndash': 3351, 'im': 3352, 'capade': 3353, 'chrysler': 3354, 'didnt': 3355, 'memo': 3356, 'psychiatrist': 3357, 'nen': 3358, 'informed': 3359, 'frenzy': 3360, 'whooo': 3361, 'wewee': 3362, 'recollection': 3363, 'believable': 3364, 'assured': 3365, 'threat': 3366, 'psychology': 3367, 'bookbinders': 3368, 'stapler': 3369, 'responsible': 3370, 'north': 3371, 'america': 3372, \"starin'\": 3373, 'hissy': 3374, 'peehe': 3375, 'betty': 3376, 'scenario': 3377, 'connected': 3378, 'affected': 3379, 'simian': 3380, 'points': 3381, \"'idney'\": 3382, 'scrabble': 3383, 'tile': 3384, \"'monkey\": 3385, 'pudo': 3386, 'aver': 3387, 'sido': 3388, 'general': 3389, 'tso': 3390, 'linda': 3391, 'flintstones': 3392, \"happened'\": 3393, 'yarn': 3394, 'dee': 3395, \"notwe're\": 3396, 'dealer': 3397, 'jamestown': 3398, 'colony': 3399, 'virginia': 3400, 'yas': 3401, 'ikea': 3402, \"rachel'\": 3403, 'pizzeria': 3404, 'bart': 3405, 'fifth': 3406, 'caved': 3407, 'recommending': 3408, 'trident': 3409, 'airplane': 3410, \"'75\": 3411, \"'77\": 3412, \"'79\": 3413, 'toootal': 3414, 'flick': 3415, 'discussion': 3416, \"1890's\": 3417, 'touristy': 3418, 'russian': 3419, 'nononowaitwaitwaitnono': 3420, 'radiators': 3421, 'expertise': 3422, 'heating': 3423, 'cooling': 3424, 'mileu': 3425, 'alp': 3426, 'boarding': 3427, 'lifestyle': 3428, 'salty': 3429, 'violated': 3430, 'schoolchildren': 3431, 'francisco': 3432, 'interestingly': 3433, 'leaf': 3434, 'blower': 3435, 'spontaneous': 3436, 'becomes': 3437, \"y'don't\": 3438, 'choosing': 3439, 'snubbed': 3440, 'mindy': 3441, 'boogie': 3442, \"'s'why\": 3443, 'nngghhh': 3444, '69': 3445, 'mop': 3446, 'pepponi': 3447, 'switzerland': 3448, 'birdie': 3449, 'starring': 3450, 'fiddler': 3451, 'popes': 3452, 'volkswagen': 3453, 'zoo': 3454, 'vigilante': 3455, 'champ': 3456, 'babes': 3457, 'importantly': 3458, 'allways': 3459, 'inadequate': 3460, 'subconscious': 3461, 'pirates': 3462, 'redused': 3463, 'boob': 3464, 'portion': 3465, 'manchild': 3466, 'whoops': 3467, 'wears': 3468, 'noho': 3469, 'belive': 3470, 'particularly': 3471, 'tyrannosaurus': 3472, 'karaoke': 3473, 'tracy': 3474, \"wan't\": 3475, 'wa': 3476, 'gerston': 3477, 'santos': 3478, 'petrie': 3479, 'hating': 3480, 'arrangements': 3481, \"50's\": 3482, 'bumper': 3483, 'sticker': 3484, 'mmmm': 3485, 'mazel': 3486, 'tov': 3487, \"carol's\": 3488, 'pffft': 3489, 'pffffffft': 3490, 'inlcuding': 3491, '17': 3492, 'jillion': 3493, 'alvin': 3494, 'simon': 3495, 'theodore': 3496, 'ooooh': 3497, 'ahem': 3498, 'petite': 3499, 'mute': 3500, 'spender': 3501, 'route': 3502, \"'it's\": 3503, 'vidal': 3504, 'verbs': 3505, 'whatsoever': 3506, 'chalk': 3507, 'q': 3508, 'resistance': 3509, \"something's\": 3510, 'bothering': 3511, 'palpable': 3512, 'altered': 3513, 'paisan': 3514, 'spoons': 3515, 'ladle': 3516, 'breast': 3517, 'feeding': 3518, \"bloomingdale's\": 3519, 'worship': 3520, 'packaging': 3521, 'appeal': 3522, 'alike': 3523, 'slices': 3524, 'cheddar': 3525, \"where're\": 3526, 'baddest': 3527, 'hombre': 3528, 'lingerie': 3529, 'sneezed': 3530, 'bats': 3531, 'leaned': 3532, 'maureen': 3533, 'rosilla': 3534, 'isaac': 3535, 'newton': 3536, 'sullies': 3537, 'grievances': 3538, 'april': 3539, '18th': 3540, 'excessive': 3541, 'voted': 3542, \"modeler's\": 3543, 'vivian': 3544, 'madge': 3545, 'gums': 3546, 'trains': 3547, 'aloneville': 3548, 'hermit': 3549, 'junction': 3550, 'pronounced': 3551, 'supposably': 3552, 'comprehend': 3553, 'cared': 3554, 'neat': 3555, 'safety': 3556, 'yknow': 3557, 'snakes': 3558, 'shout': 3559, 'pleased': 3560, 'alison': 3561, 'unusually': 3562, \"jus'\": 3563, \"nothin'\": 3564, 'bump': 3565, 'opens': 3566, 'delivery': 3567, 'entrance': 3568, 'narnia': 3569, 'cultures': 3570, 'gravel': 3571, 'capades': 3572, 'paleontologist': 3573, 'typing': 3574, 'wiped': 3575, 'wrestling': 3576, \"people'll\": 3577, 'rodrigo': 3578, 'pinned': 3579, \"what've\": 3580, 'seek': 3581, 'wry': 3582, 'stranger': 3583, 'owes': 3584, '62': 3585, 'conventional': 3586, 'methods': 3587, 'confess': 3588, 'stood': 3589, 'jade': 3590, \"bob's\": 3591, 'cajun': 3592, 'catfish': 3593, 'verse': 3594, 'softly': 3595, 'prom': 3596, 'ebola': 3597, 'dorky': 3598, 'biting': 3599, 'lip': 3600, 'guilty': 3601, 'costs': 3602, 'crankypants': 3603, 'moody': 3604, 'anvil': 3605, 'immodest': 3606, 'practicing': 3607, 'cord': 3608, 'transit': 3609, 'authority': 3610, 'research': 3611, 'charact': 3612, 'ths': 3613, 'mole': 3614, 'assign': 3615, 'kiwi': 3616, 'repellant': 3617, 'unattractive': 3618, 'clenches': 3619, \"boyfriend's\": 3620, 'shoulder': 3621, 'difficulty': 3622, 'megabytes': 3623, 'ram': 3624, 'megabyte': 3625, 'spreadsheet': 3626, 'capabilities': 3627, 'modem': 3628, 'transmits': 3629, 'p': 3630, \"wallet's\": 3631, 'fifties': 3632, 'logical': 3633, 'cons': 3634, 'bold': 3635, 'fonts': 3636, 'colors': 3637, 'column': 3638, 'amish': 3639, 'background': 3640, 'trek': 3641, 'spock': 3642, 'hugs': 3643, 'gray': 3644, \"'oh\": 3645, 'ned': 3646, 'kingdom': 3647, 'karma': 3648, 'fifty': 3649, 'brownies': 3650, 'geese': 3651, 'frame': 3652, 'patent': 3653, 'sneakin': 3654, 'stumble': 3655, 'crash': 3656, 'claymation': 3657, \"dad's\": 3658, 'chat': 3659, 'swap': 3660, 'eeeshk': 3661, 'brake': 3662, 'gas': 3663, 'hedges': 3664, 'mugful': 3665, 'boned': 3666, 'natural': 3667, \"history'\": 3668, 'mug': 3669, 'bittersweet': 3670, 'amnesia': 3671, 'bahhhh': 3672, 'atomic': 3673, 'element': 3674, '101': 3675, 'ium': 3676, 'weenie': 3677, 'knights': 3678, 'sung': 3679, 'blues': 3680, 'begins': 3681, 'neighbor': 3682, 'bone': 3683, 'inspect': 3684, 'scarier': 3685, 'ducks': 3686, 'decaf': 3687, 'tendency': 3688, 'german': 3689, 'subtitles': 3690, 'dicing': 3691, 'schmenis': 3692, 'attitude': 3693, \"'till\": 3694, 'realizes': 3695, 'emotion': 3696, 'frying': 3697, \"pan's\": 3698, 'backup': 3699, 'radio': 3700, 'stalkers': 3701, 'cathy': 3702, 'bates': 3703, 'wack': 3704, 'remore': 3705, 'happiness': 3706, 'boff': 3707, 'maniac': 3708, 'informative': 3709, 'clydesdales': 3710, 'camoflauge': 3711, 'humor': 3712, 'stephen': 3713, 'hurs': 3714, 'stein': 3715, 'elbows': 3716, \"ernie's\": 3717, \"'do\": 3718, \"'flaign\": 3719, 'en': 3720, \"sten'\": 3721, 'tops': 3722, \"edna's\": 3723, 'swell': 3724, 'hangin': 3725, 'plaaaa': 3726, 'shrimp': 3727, 'alrighty': 3728, 'specials': 3729, 'clench': 3730, 'wearin': 3731, \"waitin'\": 3732, 'leon': 3733, 'pony': 3734, 'occasion': 3735, \"feelin'\": 3736, 'flashy': 3737, 'dave': 3738, 'thomas': 3739, 'founder': 3740, 'doin': 3741, 'wrist': 3742, 'knees': 3743, 'symbol': 3744, 'sorrow': 3745, 'biblical': 3746, 'haveth': 3747, '400': 3748, 'begin': 3749, 'rained': 3750, 'cows': 3751, 'wild': 3752, 'larges': 3753, 'buzzer': 3754, 'buzz': 3755, \"pizza's\": 3756, 'sodas': 3757, 'cheeto': 3758, '1982': 3759, 'flock': 3760, 'seagulls': 3761, 'tickling': 3762, 'chin': 3763, 'cereal': 3764, 'waaa': 3765, 'aaah': 3766, 'spoon': 3767, 'worms': 3768, 'tattoos': 3769, 'splotch': 3770, 'mouldings': 3771, 'silverware': 3772, 'wetter': 3773, 'claimed': 3774, 'slippers': 3775, 'terriffic': 3776, 'fest': 3777, 'promoted': 3778, 'lieutenant': 3779, 'blepe': 3780, 'palace': 3781, \"usin'\": 3782, 'mousse': 3783, 'equally': 3784, 'baywatch': 3785, 'meeee': 3786, 'spends': 3787, 'remedy': 3788, 'racer': 3789, 'cambodia': 3790, 'fishtank': 3791, 'tangellon': 3792, 'insoles': 3793, 'uhhhaahh': 3794, 'raisins': 3795, 'goldfish': 3796, 'cracker': 3797, 'nature': 3798, 'daahh': 3799, 'hannibal': 3800, 'lecter': 3801, 'gaaaahhh': 3802, 'pepperidge': 3803, \"roommate's\": 3804, 'kidney': 3805, 'daaahhhh': 3806, 'uuuh': 3807, 'dab': 3808, 'dong': 3809, \"psycho's\": 3810, 'moses': 3811, 'goodbuy': 3812, 'drying': 3813, 'psychopath': 3814, 'cantelope': 3815, 'housetrained': 3816, 'tiles': 3817, 'prower': 3818, \"'did\": 3819, 'spike': 3820, 'lee': 3821, 'buildings': 3822, 'jaguar': 3823, 'parking': 3824, 'nerves': 3825, 'steel': 3826, 'denied': 3827, \"1800's\": 3828, 'hoggin': 3829, 'persons': 3830, 'vernacular': 3831, 'raquetball': 3832, 'colorful': 3833, 'hhhiiii': 3834, 'stripped': 3835, 'parts': 3836, 'century': 3837, 'estate': 3838, 'jackets': 3839, 'cappucino': 3840, 'package': 3841, 'custer': 3842, 'virginities': 3843, \"mine's\": 3844, 'sharp': 3845, 'metal': 3846, 'strictly': 3847, 'takin': 3848, 'chrissy': 3849, 'absdolutely': 3850, 'staging': 3851, \"movin'\": 3852, \"let'\": 3853, 'movin': 3854, 'mexican': 3855, 'custard': 3856, 'committee': 3857, 'volleyball': 3858, \"holdin'\": 3859, 'tigers': 3860, 'champs': 3861, 'chiefs': 3862, 'governor': 3863, 'relied': 3864, 'regimented': 3865, 'denial': 3866, 'wetting': 3867, 'becasue': 3868, 'reminded': 3869, 'forefathers': 3870, 'greene': 3871, 'yup': 3872, 'gelatenous': 3873, 'entry': 3874, 'realizing': 3875, 'scott': 3876, 'alexander': 3877, 'tribbianni': 3878, 'fellow': 3879, \"fleischman's\": 3880, 'east': 3881, 'coast': 3882, 'operations': 3883, 'sentence': 3884, 'explained': 3885, 'onto': 3886, 'morale': 3887, 'rough': 3888, 'suspect': 3889, 'role': 3890, 'nosing': 3891, 'karen': 3892, 'chandy': 3893, 'seduces': 3894, \"worker's\": 3895, 'wives': 3896, 'sport': 3897, 'freakshow': 3898, 'fictional': 3899, 'shield': 3900, 'defended': 3901, 'quipy': 3902, \"'cut\": 3903, \"real'\": 3904, 'guggenheim': 3905, 'yanking': 3906, 'drives': 3907, \"'r'\": 3908, \"'t'\": 3909, 'rushmore': 3910, 'leia': 3911, 'bikini': 3912, 'images': 3913, 'elle': 3914, 'macpherson': 3915, 'pops': 3916, \"'mom\": 3917, 'quiz': 3918, 'spain': 3919, 'soooo': 3920, \"daughter's\": 3921, 'milne': 3922, 'dillhole': 3923, 'pillows': 3924, 'camping': 3925, 'aaaah': 3926, 'supporting': 3927, 'waist': 3928, 'oooo': 3929, 'socket': 3930, \"'hi\": 3931, 'baggage': 3932, 'cuddle': 3933, 'cuddlily': 3934, 'sleepers': 3935, \"pillow's\": 3936, 'malcom': 3937, 'jam': 3938, 'jars': 3939, 'penguin': 3940, \"rollin'\": 3941, 'cloth': 3942, 'motion': 3943, 'jar': 3944, 'mustard': 3945, 'restraining': 3946, \"flingin'\": 3947, \"flangin'\": 3948, 'guilt': 3949, 'piccata': 3950, 'alarm': 3951, \"'run\": 3952, 'tunnel': 3953, 'assure': 3954, 'barrel': 3955, 'dresser': 3956, 'girlfriends': 3957, 'feared': 3958, \"'let's\": 3959, 'hopeless': 3960, 'chased': 3961, 'clingy': 3962, 'terminal': 3963, \"how've\": 3964, 'barley': 3965, 'naming': 3966, 'dwarves': 3967, 'tick': 3968, 'snug': 3969, 'copperfield': 3970, 'freebie': 3971, 'celebrities': 3972, 'kim': 3973, 'basinger': 3974, 'cindy': 3975, 'crawford': 3976, 'halle': 3977, 'berry': 3978, 'jessica': 3979, 'wondered': 3980, 'peter': 3981, 'parker': 3982, 'drill': 3983, 'narrowed': 3984, 'forgiving': 3985, 'political': 3986, 'donated': 3987, 'cans': 3988, 'varnish': 3989, 'spackel': 3990, 'counted': 3991, \"'two'\": 3992, 'doors': 3993, 'smaller': 3994, 'ferrets': 3995, 'photographer': 3996, \"'chandler\": 3997, \"'whoa\": 3998, 'photography': 3999, 'models': 4000, 'ummm': 4001, 'jerry': 4002, 'stopping': 4003, 'betcha': 4004, 'referred': 4005, \"shootin'\": 4006, 'whatcha': 4007, 'cotton': 4008, 'lifeguards': 4009, 'dismantle': 4010, 'superhero': 4011, 'gig': 4012, 'sushi': 4013, 'ramp': 4014, 'racecar': 4015, 'boxer': 4016, 'varrrrrroom': 4017, 'varrrrrrrrrrom': 4018, 'varrrrrrrrroom': 4019, \"bed's\": 4020, 'dentists': 4021, \"hygienist's\": 4022, 'pearls': 4023, 'speacial': 4024, \"'dear\": 4025, 'hubba': 4026, 'bubba': 4027, \"birthday'\": 4028, 'kisses': 4029, 'serves': 4030, 'reciept': 4031, 'babbling': 4032, 'charms': 4033, 'bathrobe': 4034, 'clusters': 4035, 'proudly': 4036, 'curse': 4037, 'lifted': 4038, 'tineals': 4039, 'rhyme': 4040, 'seventy': 4041, 'shotgun': 4042, 'hike': 4043, 'haaaan': 4044, 'preparing': 4045, 'nailed': 4046, 'teams': 4047, 'netherlands': 4048, 'wave': 4049, 'pole': 4050, 'loses': 4051, 'holland': 4052, 'amsterdam': 4053, 'sundays': 4054, 'backhand': 4055, 'shrieking': 4056, 'marine': 4057, 'muppet': 4058, 'whacked': 4059, 'seasame': 4060, 'flavoured': 4061, 'deities': 4062, 'pursuing': 4063, 'sending': 4064, 'resumes': 4065, 'motivation': 4066, \"that'd\": 4067, 'squad': 4068, 'perked': 4069, \"'night\": 4070, 'kidder': 4071, 'rope': 4072, 'nouse': 4073, 'rockefeller': 4074, 'whipping': 4075, \"kid's\": 4076, 'pretzel': 4077, 'arrghh': 4078, 'errigh': 4079, 'dillillio': 4080, 'jell': 4081, 'sisters': 4082, 'dialer': 4083, 'dial': 4084, 'speedily': 4085, 'savor': 4086, 'precious': 4087, 'drank': 4088, 'storage': 4089, 'fooled': 4090, 'dwha': 4091, 'overly': 4092, 'friendly': 4093, 'witnesses': 4094, 'cuba': 4095, 'teramisu': 4096, 'receipt': 4097, 'squinting': 4098, 'jumped': 4099, \"brother's\": 4100, 'soberly': 4101, \"anybody's\": 4102, 'botanist': 4103, 'magician': 4104, 'cheeks': 4105, 'outloud': 4106, 'cliff': 4107, 'notes': 4108, 'abridgment': 4109, 'twila': 4110, 'tharp': 4111, 'ballet': 4112, 'provide': 4113, 'grapes': 4114, 'chandelier': 4115, 'confidant': 4116, 'complain': 4117, 'musical': 4118, 'visits': 4119, \"'maybe\": 4120, 'understands': 4121, 'paints': 4122, \"robert's\": 4123, 'wellll': 4124, 'eclipse': 4125, 'liking': 4126, \"laurie's\": 4127, 'pointer': 4128, 'concealed': 4129, 'hoped': 4130, 'stretchy': 4131, 'hmmm': 4132, 'cracked': 4133, 'beth': 4134, 'several': 4135, \"'wait\": 4136, 'freeze': 4137, 'bionic': 4138, 'greatness': 4139, 'regulars': 4140, 'qualifies': 4141, 'ectomy': 4142, 'copied': 4143, 'customer': 4144, 'colour': 4145, 'myth': 4146, 'dumb': 4147, \"nobody's\": 4148, \"timing's\": 4149, 'deathbeds': 4150, 'issac': 4151, \"issac's\": 4152, 'trail': 4153, 'treated': 4154, 'nicely': 4155, 'kidnap': 4156, 'cub': 4157, 'recorded': 4158, 'yeahhh': 4159, 'hymn': 4160, '253': 4161, 'sparrow': 4162, 'humour': 4163, 'defence': 4164, 'goggles': 4165, 'jesus': 4166, 'goooooooooo': 4167, 'brace': 4168, 'yourselves': 4169, \"lighter's\": 4170, \"tailpipe's\": 4171, 'compromise': 4172, 'littered': 4173, 'indian': 4174, 'nicest': 4175, 'lung': 4176, 'capacity': 4177, \"handle's\": 4178, 'shelly': 4179, 'winters': 4180, 'poseidon': 4181, 'patch': 4182, 'illegal': 4183, 'chap': 4184, 'becker': 4185, '865': 4186, 'uses': 4187, 'buys': 4188, 'lobster': 4189, 'millionaire': 4190, 'snooty': 4191, 'separately': 4192, 'imperial': 4193, 'storm': 4194, 'troopers': 4195, 'sharper': 4196, 'gloria': 4197, 'estefan': 4198, 'eventually': 4199, 'supportive': 4200, 'gel': 4201, 'cowlicky': 4202, 'stare': 4203, 'bullets': 4204, 'guns': 4205, 'slower': 4206, 'inventor': 4207, 'rests': 4208, 'grave': 4209, 'subletting': 4210, 'sliced': 4211, 'bread': 4212, 'yard': 4213, 'pigtails': 4214, 'pushing': 4215, 'spiderman': 4216, 'spider': 4217, 'goldman': 4218, 'actress': 4219, 'gaelic': 4220, \"'thy\": 4221, \"turkey's\": 4222, 'sneezes': 4223, 'dug': 4224, \"checkin'\": 4225, 'crisp': 4226, 'dud': 4227, 'compulsion': 4228, 'multiple': 4229, \"'in\": 4230, 'intimacy': 4231, 'priest': 4232, 'kate': 4233, 'suggestion': 4234, 'roller': 4235, 'fowl': 4236, 'lenny': 4237, 'chickeeeen': 4238, 'gallivanting': 4239, 'shelter': 4240, 'kinds': 4241, 'es': 4242, 'sewer': 4243, 'workers': 4244, 'cologne': 4245, 'worm': 4246, 'medicine': 4247, 'theatre': 4248, 'odd': 4249, 'banging': 4250, 'step': 4251, 'heeeiiiiii': 4252, 'iiiii': 4253, 'fancier': 4254, 'pimple': 4255, 'matches': 4256, 'lopped': 4257, 'plants': 4258, 'kea': 4259, 'rome': 4260, 'teacher': 4261, 'missouri': 4262, 'martini': 4263, 'stew': 4264, 'smacked': 4265, 'burger': 4266, 'conducting': 4267, 'hung': 4268, 'praise': 4269, 'verbal': 4270, 'swearing': 4271, 'occasionally': 4272, 'concentrate': 4273, 'buttock': 4274, 'sentiment': 4275, 'posterior': 4276, 'ahhhhh': 4277, 'graduation': 4278, '1965': 4279, 'spinster': 4280, 'established': 4281, 'theoretically': 4282, 'aboard': 4283, 'experiments': 4284, 'sea': 4285, 'turtles': 4286, \"g'night\": 4287, 'seashores': 4288, 'canned': 4289, 'goods': 4290, 'ammonia': 4291, 'wreck': 4292, 'miles': 4293, 'tetanus': 4294, 'craftsmanship': 4295, 'gepeto': 4296, 'qualified': 4297, 'pardon': 4298, 'robbed': 4299, 'paddling': 4300, 'rusty': 4301, 'judged': 4302, 'occurrence': 4303, 'algonquin': 4304, \"'s\": 4305, 'cuffs': 4306, 'scoot': 4307, 'subject': 4308, 'pantsuit': 4309, 'enter': 4310, 'sees': 4311, 'sophie': 4312, 'milton': 4313, 'berle': 4314, 'kims': 4315, \"'cool'\": 4316, '1200': 4317, 'phrases': 4318, 'peppiness': 4319, 'lycra': 4320, 'flabby': 4321, 'gut': 4322, 'saggy': 4323, 'spotter': 4324, 'doomed': 4325, 'accounts': 4326, 'genius': 4327, 'demonstrate': 4328, 'exceptionally': 4329, 'rehearse': 4330, 'fella': 4331, 'type': 4332, 'fantastically': 4333, 'slit': 4334, 'era': 4335, 'wrapping': 4336, 'phebes': 4337, 'destructive': 4338, 'bookstores': 4339, 'dealers': 4340, \"author's\": 4341, 'grandchildren': 4342, \"duck's\": 4343, 'seventh': 4344, 'delveccio': 4345, 'aahhuuhhh': 4346, 'torture': 4347, 'bummer': 4348, 'unfulfilling': 4349, 'fulfilling': 4350, 'granted': 4351, 'lane': 4352, \"bitchin'\": 4353, 'juicy': 4354, 'articles': 4355, 'bow': 4356, 'canceled': 4357, 'grooming': 4358, 'tail': 4359, 'poofy': 4360, \"'cha\": 4361, 'unhappy': 4362, 'urn': 4363, 'savings': 4364, 'backpack': 4365, 'patients': 4366, 'progress': 4367, 'slammed': 4368, 'exchanges': 4369, 'mumbles': 4370, 'robbery': 4371, 'meaning': 4372, 'fold': 4373, 'proves': 4374, 'gotcha': 4375, 'mooning': 4376, 'partying': 4377, 'woooo': 4378, 'fishing': 4379, 'nova': 4380, 'scotia': 4381, 'chicago': 4382, 'canadian': 4383, 'players': 4384, 'seals': 4385, 'strained': 4386, 'burring': 4387, 'poughkeepsie': 4388, 'albany': 4389, 'lighting': 4390, 'newspapers': 4391, 'lion': 4392, 'tamer': 4393, 'director': 4394, 'orson': 4395, 'ee': 4396, 'wherever': 4397, 'field': 4398, '401': 4399, \"k's\": 4400, 'patrick': 4401, 'swimmer': 4402, 'magnetic': 4403, 'fixing': 4404, 'foods': 4405, 'division': 4406, 'ummmmmmmm': 4407, 'prague': 4408, 'magma': 4409, 'ku': 4410, 'laude': 4411, 'hockey': 4412, 'canadians': 4413, 'sony': 4414, 'station': 4415, 'mulden': 4416, 'strongly': 4417, 'wo': 4418, 'vet': 4419, 'rooster': 4420, 'tic': 4421, 'tacks': 4422, 'eaten': 4423, 'cookies': 4424, 'item': 4425, 'piper': 4426, 'gimme': 4427, 'peeves': 4428, 'flail': 4429, 'independent': 4430, 'chinandolor': 4431, 'bong': 4432, 'majored': 4433, 'rounds': 4434, 'awwwww': 4435, 'awwwwwww': 4436, 'abs': 4437, 'charged': 4438, 'heavy': 4439, 'undermine': 4440, 'chester': 4441, 'cereals': 4442, 'muffins': 4443, 'jams': 4444, 'jellies': 4445, 'marmalades': 4446, 'fairly': 4447, 'cousins': 4448, 'ditto': 4449, 'denying': 4450, 'anytime': 4451, 'slut': 4452, 'confronted': 4453, 'deny': 4454, 'beefsteak': 4455, \"julie's\": 4456, 'onstage': 4457, 'oy': 4458, 'acted': 4459, \"nick's\": 4460, 'pecs': 4461, 'sweat': 4462, \"when's\": 4463, 'hairy': 4464, 'hottest': 4465, 'stripping': 4466, 'insanely': 4467, 'achieved': 4468, 'thousands': 4469, 'pre': 4470, 'emptive': 4471, 'frozen': 4472, 'river': 4473, 'transferring': 4474, 'overseas': 4475, 'transferred': 4476, 'handing': 4477, 'library': 4478, 'fuel': 4479, 'cravings': 4480, 'soy': 4481, 'burgers': 4482, 'flashdance': 4483, 'welder': 4484, \"treeger's\": 4485, 'snaking': 4486, 'drain': 4487, 'touches': 4488, 'theme': 4489, 'humping': 4490, 'dialogue': 4491, 'corny': 4492, 'cartoons': 4493, 'slays': 4494, 'fist': 4495, 'teller': 4496, 'vault': 4497, 'bedrooms': 4498, 'bellies': 4499, 'drum': 4500, 'iii': 4501, 'valdez': 4502, 'raymond': 4503, 'buttafucco': 4504, 'temporarily': 4505, 'courthouse': 4506, 'johnson': 4507, 'markson': 4508, \"claus's\": 4509, 'chino': 4510, 'algernon': 4511, 'convinced': 4512, 'snoring': 4513, 'snore': 4514, 'errands': 4515, 'whipped': 4516, 'pyjama': 4517, 'coincidence': 4518, 'unconscious': 4519, 'risking': 4520, 'yeeeeahhhh': 4521, 'buts': 4522, 'museums': 4523, 'fiction': 4524, 'writers': 4525, 'mellow': 4526, 'irreplaceable': 4527, 'phobo': 4528, 'phewbedo': 4529, 'phaybobo': 4530, 'ignoring': 4531, 'version': 4532, 'insist': 4533, 'england': 4534, 'lousy': 4535, 'intense': 4536, 'homesick': 4537, 'melba': 4538, 'inflated': 4539, 'montgomery': 4540, 'hammered': 4541, 'thanked': 4542, 'performance': 4543, 'degree': 4544, 'shine': 4545, 'joan': 4546, 'liquored': 4547, 'yelps': 4548, 'wheatsheaf': 4549, 'ly': 4550, 'bask': 4551, 'culture': 4552, 'financing': 4553, 'nurses': 4554, 'referring': 4555, \"goofin'\": 4556, 'momi': 4557, 'moo': 4558, 'kindergarten': 4559, 'wrinkle': 4560, 'fax': 4561, 'muppets': 4562, 'thumbs': 4563, \"might've\": 4564, 'stove': 4565, 'caterpillars': 4566, 'telethon': 4567, 'carried': 4568, 'interruptions': 4569, 'flipping': 4570, 'os': 4571, 'chase': 4572, 'chopper': 4573, 'feed': 4574, 'mugsy': 4575, 'regularly': 4576, 'scheduled': 4577, 'programming': 4578, 'luggage': 4579, 'ill': 4580, 'monnnnn': 4581, 'rollos': 4582, 'fought': 4583, 'colleagues': 4584, 'diarrhea': 4585, \"fun's\": 4586, 'filipino': 4587, 'bloody': 4588, 'cents': 4589, 'extreme': 4590, 'hence': 4591, 'minnelli': 4592, 'continuum': 4593, 'unreasonable': 4594, 'rights': 4595, \"tribe's\": 4596, 'gonad': 4597, 'tears': 4598, 'fort': 4599, 'puppet': 4600, 'listings': 4601, 'circled': 4602, 'barks': 4603, 'ohhhhh': 4604, 'abandoned': 4605, 'arghhhhhh': 4606, 'reliving': 4607, 'indians': 4608, 'pilgrims': 4609, \"id's\": 4610, 'clifford': 4611, 'alverez': 4612, 'rushed': 4613, 'righteous': 4614, 'limps': 4615, 'piggy': 4616, 'bay': 4617, 'surrounded': 4618, '0': 4619, 'spackle': 4620, 'lighter': 4621, 'puck': 4622, 'relaxes': 4623, 'churo': 4624, 'jogging': 4625, 'project': 4626, 'ranger': 4627, 'breathing': 4628, 'planeload': 4629, 'resolution': 4630, 'plummet': 4631, 'deaths': 4632, 'horn': 4633, 'swoggle': 4634, 'approach': 4635, 'guitar': 4636, 'instruction': 4637, 'amusing': 4638, 'types': 4639, 'spaceship': 4640, 'planet': 4641, 'jones': 4642, 'fraggile': 4643, 'management': 4644, 'liquor': 4645, 'repaired': 4646, 'martina': 4647, 'pro': 4648, 'oopsey': 4649, 'sugar': 4650, 'racist': 4651, 'gullible': 4652, 'attached': 4653, 'timer': 4654, 'muscles': 4655, 'torturing': 4656, 'disappear': 4657, 'votes': 4658, 'wallets': 4659, 'rice': 4660, 'telephone': 4661, 'squeeze': 4662, 'swedish': 4663, 'foxy': 4664, 'misunderstand': 4665, 'touched': 4666, 'flexed': 4667, 'pinchable': 4668, 'bulging': 4669, 'biceps': 4670, 'competitor': 4671, 'lamb': 4672, 'gravity': 4673, 'monicas': 4674, 'fever': 4675, 'cooker': 4676, 'fixable': 4677, 'wishing': 4678, 'crossword': 4679, 'connect': 4680, 'dots': 4681, 'maroon': 4682, 'serve': 4683, 'discover': 4684, 'badge': 4685, 'meadow': 4686, 'hunter': 4687, 'impersonating': 4688, 'arrested': 4689, 'luther': 4690, 'stud': 4691, 'pivot': 4692, 'broom': 4693, 'impress': 4694, 'tortilla': 4695, 'chips': 4696, 'irrational': 4697, 'fore': 4698, 'polo': 4699, 'unwilling': 4700, 'weirder': 4701, '800': 4702, 'gallons': 4703, 'rued': 4704, 'ja': 4705, '11': 4706, 'desert': 4707, 'uncanny': 4708, 'lima': 4709, 'bean': 4710, 'bubbling': 4711, 'hotter': 4712, 'capricorn': 4713, 'cleared': 4714, 'gellers': 4715, 'humanity': 4716, 'commencing': 4717, 'countdown': 4718, 'engines': 4719, 'luckiest': 4720, 'danger': 4721, 'sur': 4722, 'riding': 4723, 'backfired': 4724, 'rambling': 4725, 'newfound': 4726, 'dove': 4727, 'risk': 4728, 'risked': 4729, 'oi': 4730, 'troops': 4731, 'foxhole': 4732, 'lined': 4733, 'hiya': 4734, 'report': 4735, 'gar': 4736, 'minion': 4737, 'anti': 4738, 'christ': 4739, 'overreacted': 4740, \"gary's\": 4741, 'reputation': 4742, 'sweater': 4743, 'vests': 4744, 'paycheck': 4745, 'springing': 4746, 'sidewalk': 4747, 'teddy': 4748, 'basket': 4749, 'supported': 4750, 'aversary': 4751, 'grabbed': 4752, 'bite': 4753, 'policy': 4754, 'lunching': 4755, 'hunky': 4756, 'spending': 4757, 'build': 4758, 'upper': 4759, 'dramatic': 4760, 'scene': 4761, 'fours': 4762, 'drunken': 4763, 'gambler': 4764, 'matthew': 4765, 'perry': 4766, 'march': 4767, 'chapel': 4768, 'crushing': 4769, 'unlikely': 4770, \"key's\": 4771, 'craftsmen': 4772, 'sweets': 4773, 'strict': 4774, 'scariest': 4775, 'sha': 4776, \"thursday's\": 4777, 'arcade': 4778, 'invaders': 4779, 'oldest': 4780, 'mocking': 4781, 'female': 4782, 'smoker': 4783, 'property': 4784, 'sort': 4785, 'changes': 4786, 'chairs': 4787, 'ambiance': 4788, \"grandma's\": 4789, 'search': 4790, 'curtain': 4791, 'fond': 4792, 'soft': 4793, 'chuckles': 4794, 'university': 4795, \"actor's\": 4796, 'guild': 4797, 'benefits': 4798, 'lapsed': 4799, 'health': 4800, 'expired': 4801, 'cruller': 4802, 'laser': 4803, 'surgery': 4804, 'kiddo': 4805, 'successful': 4806, 'ruben': 4807, 'smoother': 4808, 'wiping': 4809, 'diapering': 4810, 'rookie': 4811, 'equity': 4812, 'investments': 4813, 'protective': 4814, 'pile': 4815, 'sonic': 4816, 'blaster': 4817, 'equipped': 4818, 'protected': 4819, 'tornado': 4820, 'sprung': 4821, 'vs': 4822, 'goal': 4823, 'blackjack': 4824, 'queens': 4825, 'beats': 4826, 'receive': 4827, 'doubling': 4828, 'saucer': 4829, 'donna': 4830, 'spotless': 4831, 'authorization': 4832, 'match': 4833, 'blahebdmsdlkhdyslkd': 4834, 'btyds': 4835, 'rooosss': 4836, 'irish': 4837, 'potato': 4838, 'famine': 4839, 'squared': 4840, 'brighter': 4841, 'cleaned': 4842, 'bumb': 4843, 'cheshhh': 4844, 'battling': 4845, 'apoplectic': 4846, 'galaxies': 4847, 'remaining': 4848, 'janine': 4849, 'th': 4850, 'spreading': 4851, 'soaking': 4852, 'defend': 4853, 'hillary': 4854, \"hillary's\": 4855, 'bind': 4856, 'tasty': 4857, 'sachets': 4858, 'hammer': 4859, 'drywall': 4860, 'josephine': 4861, 'arranging': 4862, 'sydney': 4863, 'portier': 4864, 'hehheh': 4865, 'playstation': 4866, 'coats': 4867, 'snowing': 4868, 'reflection': 4869, 'headliner': 4870, 'burlesque': 4871, 'colored': 4872, 'pot': 4873, 'blamed': 4874, 'whilst': 4875, 'consolation': 4876, 'nowadays': 4877, 'laughing': 4878, 'pharmacist': 4879, 'sheets': 4880, 'pottery': 4881, 'apothecary': 4882, 'yore': 4883, 'farmer': 4884, 'milking': 4885, 'phlegm': 4886, 'decibel': 4887, 'understandable': 4888, 'playboy': 4889, 'stealer': 4890, 'repeated': 4891, 'prescriptions': 4892, 'journal': 4893, 'document': 4894, 'cape': 4895, 'yellow': 4896, 'sway': 4897, \"steve's\": 4898, 'muppy': 4899, \"'doctor\": 4900, 'arguing': 4901, 'sufficient': 4902, 'perceived': 4903, 'merely': 4904, 'detail': 4905, 'generosity': 4906, 'spirit': 4907, 'passionate': 4908, 'maintaining': 4909, 'fluids': 4910, 'drippy': 4911, 'mwha': 4912, 'soup': 4913, 'ohhhh': 4914, 'blankets': 4915, 'bottles': 4916, 'rubbing': 4917, 'faker': 4918, 'vaporizing': 4919, 'vap': 4920, 'glare': 4921, 'streetlight': 4922, 'bambi': 4923, 'drawing': 4924, \"parent's\": 4925, 'janitor': 4926, 'reaching': 4927, 'tissues': 4928, 'vampire': 4929, 'layer': 4930, 'ankle': 4931, 'hollow': 4932, 'altar': 4933, 'privacy': 4934, \"jill's\": 4935, 'gate': 4936, 'kara': 4937, 'tay': 4938, 'shallow': 4939, 'yorker': 4940, \"job's\": 4941, 'schedule': 4942, 'kit': 4943, 'kats': 4944, \"nature's\": 4945, 'beeps': 4946, 'codes': 4947, 'freshly': 4948, 'squeezed': 4949, 'comics': 4950, 'jalopy': 4951, 'hires': 4952, 'assist': 4953, 'butler': 4954, 'milkshakes': 4955, 'lumps': 4956, 'facts': 4957, 'add': 4958, '1979': 4959, 'disappoint': 4960, 'beeped': 4961, 'ruptured': 4962, 'spleen': 4963, 'appealing': 4964, 'mached': 4965, 'unagi': 4966, 'eel': 4967, 'homemade': 4968, 'sends': 4969, 'wrapped': 4970, 'songs': 4971, 'bunnies': 4972, 'forgiven': 4973, 'oop': 4974, 'sweetest': 4975, 'hotties': 4976, 'calendar': 4977, \"girl's\": 4978, 'stake': 4979, 'movement': 4980, 'tuesday': 4981, 'fireman': 4982, \"friend's\": 4983, 'howie': 4984, 'refill': 4985, 'caplin': 4986, 'yarns': 4987, 'ni': 4988, 'homework': 4989, 'weirdo': 4990, 'massaged': 4991, 'providing': 4992, 'distract': 4993, 'barbie': 4994, 'sphinx': 4995, 'sebastian': 4996, \"cat's\": 4997, 'deemed': 4998, 'hotels': 4999, 'softest': 5000, 'cooperative': 5001, 'auditioning': 5002, 'europe': 5003, 'visit': 5004, 'soccer': 5005, 'copier': 5006, 'magically': 5007, 'errors': 5008, 'judgment': 5009, 'mauled': 5010, 'allergy': 5011, 'attacked': 5012, 'incredibly': 5013, 'psyched': 5014, 'robot': 5015, 'sidekick': 5016, 'judging': 5017, \"elizabeth's\": 5018, 'creeps': 5019, 'creep': 5020, 'robots': 5021, 'faithful': 5022, 'servants': 5023, \"seven's\": 5024, 'queen': 5025, 'starlight': 5026, 'available': 5027, 'tiffany': 5028, 'pl': 5029, 'nothin': 5030, 'millionth': 5031, 'selection': 5032, 'goose': 5033, 'bumps': 5034, 'fiancee': 5035, 'heyyyy': 5036, 'therefore': 5037, 'nation': 5038, 'indivisible': 5039, 'liberty': 5040, 'perrr': 5041, 'mustache': 5042, \"person's\": 5043, 'websites': 5044, 'unnecessary': 5045, 'government': 5046, 'tabs': 5047, 'unnatural': 5048, 'mate': 5049, 'ordinary': 5050, 'rate': 5051, '97': 5052, 'strategy': 5053, \"rules'\": 5054, 'mantrap': 5055, 'twist': 5056, 'offered': 5057, 'bolt': 5058, '1986': 5059, 'fascinated': 5060, 'dumbest': 5061, 'unable': 5062, 'incident': 5063, 'bouquet': 5064, 'moonlit': 5065, 'rue': 5066, 'de': 5067, 'sprinkle': 5068, 'pedals': 5069, 'base': 5070, 'ian': 5071, 'napping': 5072, 'roses': 5073, 'weddingy': 5074, 'lilies': 5075, 'saves': 5076, 'trips': 5077, 'dollywood': 5078, 'earmarked': 5079, \"where'd\": 5080, 'lecture': 5081, 'bonding': 5082, 'racquetball': 5083, 'steamy': 5084, 'swimsuits': 5085, 'whispering': 5086, 'trunk': 5087, 'visited': 5088, 'nicer': 5089, \"thompson's\": 5090, 'warmers': 5091, 'forth': 5092, 'pointers': 5093, \"lettin'\": 5094, 'lingers': 5095, 'napkins': 5096, 'antihistamine': 5097, 'shiny': 5098, 'grabs': 5099, 'photo': 5100, 'album': 5101, 'grath': 5102, 'summers': 5103, 'elephants': 5104, 'overweight': 5105, 'pounds': 5106, \"skidmark's\": 5107, 'dewey': 5108, 'decimal': 5109, 'gawd': 5110, \"check's\": 5111, 'quietly': 5112, 'microphone': 5113, 'careless': 5114, 'tinsy': 5115, 'curious': 5116, 'hotbed': 5117, 'electromagnetic': 5118, 'activity': 5119, 'immunized': 5120, 'sadly': 5121, 'cases': 5122, 'oregon': 5123, \"world's\": 5124, 'record': 5125, 'magellan': 5126, '46': 5127, 'maps': 5128, 'globe': 5129, 'pumpkins': 5130, 'sue': 5131, 'barking': 5132, 'extremely': 5133, 'anywhere': 5134, 'jumpy': 5135, 'scares': 5136, 'hero': 5137, 'including': 5138, 'fyi': 5139, 'weed': 5140, 'ease': 5141, 'nevada': 5142, 'straighten': 5143, 'helmet': 5144, \"gar'\": 5145, 'touchie': 5146, 'directly': 5147, 'buh': 5148, \"michelle's\": 5149, 'betroughed': 5150, 'betrothed': 5151, 'burritos': 5152, 'burrito': 5153, \"o'mally\": 5154, 'mustached': 5155, 'hahaha': 5156, 'coins': 5157, 'disrupts': 5158, 'subtle': 5159, 'wrecking': 5160, 'vile': 5161, 'pox': 5162, 'release': 5163, 'armadillo': 5164, 'implode': 5165, 'superman': 5166, 'jews': 5167, 'egypt': 5168, 'conglomerate': 5169, \"momma's\": 5170, 'bakery': 5171, \"frannie's\": 5172, 'undress': 5173, 'glenn': 5174, 'delivered': 5175, 'whistle': 5176, 'crust': 5177, 'measured': 5178, 'deep': 5179, 'armageddon': 5180, 'shhhhhhhhh': 5181, 'oprah': 5182, 'spill': 5183, 'grounds': 5184, \"beer's\": 5185, 'rosita': 5186, 'lounge': 5187, 'replaced': 5188, 'logic': 5189, 'thirtieth': 5190, 'cheaper': 5191, 'individual': 5192, 'thrown': 5193, 'formal': 5194, 'laid': 5195, 'necessary': 5196, 'winking': 5197, 'heritage': 5198, 'scotland': 5199, 'vikings': 5200, 'memories': 5201, 'bagpipes': 5202, 'veil': 5203, 'clergy': 5204, 'saliva': 5205, 'grrreat': 5206, 'gentleman': 5207, 'strawberries': 5208, 'originally': 5209, 'intend': 5210, 'runner': 5211, 'scone': 5212, 'kings': 5213, 'bands': 5214, 'gap': 5215, 'flush': 5216, 'banister': 5217, 'hideous': 5218, 'ugliest': 5219, 'mostly': 5220, 'dangerously': 5221, 'bossy': 5222, 'domineering': 5223, 'shrill': 5224, 'conversationalist': 5225, 'marilyn': 5226, 'pins': 5227, \"hookin'\": 5228, 'attend': 5229, 'award': 5230, 'tuxes': 5231, 'fabulous': 5232, 'pierce': 5233, 'brosnan': 5234, \"england's\": 5235, 'heartbreaker': 5236, \"majesty's\": 5237, 'license': 5238, 'freakish': 5239, 'hanger': 5240, 'tuxedo': 5241, 'bond': 5242, 'utility': 5243, 'batmobile': 5244, 'espn': 5245, 'martinis': 5246, 'vented': 5247, 'sight': 5248, 'tooty': 5249, 'fruity': 5250, 'superpower': 5251, 'slightly': 5252, 'heightened': 5253, 'fits': 5254, 'pat': 5255, 'vow': 5256, 'circles': 5257, 'meets': 5258, 'hollywood': 5259, 'starlet': 5260, 'speedoes': 5261, 'carmen': 5262, 'miranda': 5263, 'headdress': 5264, 'cradle': 5265, 'piano': 5266, 'misses': 5267, '128': 5268, 'warning': 5269, 'pearl': 5270, 'necklaces': 5271, 'include': 5272, 'panicking': 5273, 'yell': 5274, 'pawn': 5275, 'race': 5276, 'cars': 5277, 'popcorn': 5278, 'proceeds': 5279, 'afr': 5280, 'depends': 5281, 'greek': 5282, 'orthodox': 5283, 'aisle': 5284, 'surprises': 5285, 'barbara': 5286, \"streisand's\": 5287, 'brolin': 5288, 'slippery': 5289, 'pleasing': 5290, 'size': 5291, 'talented': 5292, 'clumsy': 5293, 'bridal': 5294, 'happiest': 5295, 'soaps': 5296, 'shampoos': 5297, 'ansel': 5298, 'adams': 5299, 'bermuda': 5300, 'bahama': 5301, 'bathing': 5302, '25j': 5303, 'memorized': 5304, '1a': 5305, 'accepted': 5306, 'wavy': 5307, 'lines': 5308, 'video': 5309, 'delight': 5310, 'insightful': 5311, 'sheer': 5312, 'volume': 5313, 'riddler': 5314, 'invitations': 5315, 'framed': 5316, 'network': 5317, 'access': 5318, 'caf': 5319, 'purple': 5320, 'display': 5321, \"donut's\": 5322, 'departments': 5323, 'muriel': 5324, 'basis': 5325, 'takes': 5326, 'toss': 5327, 'shedder': 5328, 'slutty': 5329, 'embarrass': 5330, 'maxed': 5331, 'flushed': 5332, 'stronger': 5333, 'wimp': 5334, 'spudnik': 5335, 'relinquish': 5336, 'adored': 5337, 'arranged': 5338, 'sponges': 5339, 'distinctly': 5340, 'pair': 5341, 'snooping': 5342, 'ingredient': 5343, 'stain': 5344, 'jury': 5345, 'leaning': 5346, 'lean': 5347, 'brenda': 5348, 'bee': 5349, 'flown': 5350, 'undo': 5351, 'buttons': 5352, 'lest': 5353, 'sting': 5354, 'pillars': 5355, 'openness': 5356, 'honesty': 5357, 'honest': 5358, 'path': 5359, 'creepy': 5360, 'murder': 5361, 'scissors': 5362, 'whore': 5363, \"grandmother's\": 5364, 'quilt': 5365, 'narrate': 5366, 'ego': 5367, 'deaf': 5368, 'screamed': 5369, 'detroit': 5370, 'hermaphrodite': 5371, 'cheerleader': 5372, 'island': 5373, 'oil': 5374, 'paintings': 5375, 'necklace': 5376, 'earn': 5377, 'thorough': 5378, 'cloud': 5379, 'supple': 5380, 'boot': 5381, 'pricing': 5382, 'skirts': 5383, 'cabs': 5384, 'oddly': 5385, 'saddlebags': 5386, 'bale': 5387, 'urine': 5388, 'sculpture': 5389, 'finals': 5390, 'botchy': 5391, 'tournament': 5392, 'choke': 5393, 'holder': 5394, 'sleazy': 5395, 'bars': 5396, 'goodness': 5397, 'sang': 5398, 'vending': 5399, 'loosen': 5400, 'challenge': 5401, 'unplug': 5402, 'primitive': 5403, 'rom': 5404, 'chip': 5405, 'claw': 5406, 'orgies': 5407, 'stewing': 5408, 'filth': 5409, 'stressed': 5410, 'leftover': 5411, 'meatloaf': 5412, 'butch': 5413, 'flower': 5414, 'bathtub': 5415, \"water's\": 5416, 'tepid': 5417, 'dissolve': 5418, 'scents': 5419, 'eucalyptus': 5420, 'chamomile': 5421, 'salts': 5422, 'effervesce': 5423, 'glue': 5424, 'holds': 5425, 'differently': 5426, 'essential': 5427, 'relaxing': 5428, 'enjoyable': 5429, 'lord': 5430, 'realms': 5431, 'stamps': 5432, 'alexandra': 5433, 'massaging': 5434, 'hiding': 5435, 'pin': 5436, 'harboring': 5437, 'consuming': 5438, 'shabby': 5439, 'messy': 5440, 'fred': 5441, 'sanford': 5442, \"cookie'\": 5443, 'st': 5444, 'valentine': 5445, 'bleeding': 5446, 'jaws': 5447, '90': 5448, 'haunts': 5449, 'tequila': 5450, 'houseboy': 5451, 'gladly': 5452, 'screensaver': 5453, 'yoga': 5454, 'ironic': 5455, 'footage': 5456, 'youngest': 5457, 'unknowable': 5458, 'luckily': 5459, 'settled': 5460, 'destined': 5461, 'handsome': 5462, 'strangers': 5463, 'browsing': 5464, 'personals': 5465, \"'tomatoes'\": 5466, 'mozzarella': 5467, 'jalepino': 5468, 'poppers': 5469, 'response': 5470, 'ann': 5471, \"taylor's\": 5472, 'cd': 5473, 'nearest': 5474, 'taylor': 5475, 'cds': 5476, 'alphabetically': 5477, 'copies': 5478, 'soundtrack': 5479, \"sun'll\": 5480, 'starch': 5481, 'bloomers': 5482, \"parents'\": 5483, 'sateen': 5484, 'raffia': 5485, 'gingham': 5486, 'testacles': 5487, 'flash': 5488, 'tranquilizer': 5489, 'butterfly': 5490, 'gal': 5491, 'bagel': 5492, 'physically': 5493, 'hoops': 5494, 'bamboozled': 5495, 'headhunter': 5496, 'soviet': 5497, 'nations': 5498, 'rasputin': 5499, 'bogota': 5500, 'wicked': 5501, 'wango': 5502, 'higher': 5503, 'triscadecaphobia': 5504, 'triscuts': 5505, 'contestants': 5506, 'ladder': 5507, 'golden': 5508, 'mud': 5509, 'companies': 5510, 'fatty': 5511, 'bada': 5512, 'micro': 5513, 'shy': 5514, 'delegating': 5515, 'create': 5516, 'atmosphere': 5517, 'hardest': 5518, \"company's\": 5519, 'transition': 5520, 'kl': 5521, 'gr': 5522, 'beg': 5523, 'sidestep': 5524, 'duty': 5525, 'poo': 5526, 'snoozing': 5527, 'teaching': 5528, 'kangaroo': 5529, 'epic': 5530, 'ambulance': 5531, 'infamous': 5532, 'booger': 5533, 'calculator': 5534, 'combat': 5535, 'dialect': 5536, 'southern': 5537, 'jamaican': 5538, 'utilities': 5539, 'beds': 5540, 'scented': 5541, 'candles': 5542, 'private': 5543, 'hers': 5544, 'unwitting': 5545, '47': 5546, 'ferdinad': 5547, 'baked': 5548, 'quarter': 5549, 'foreplay': 5550, 'ashamed': 5551, 'pockets': 5552, 'witnessed': 5553, \"conversation's\": 5554, 'brains': 5555, 'finds': 5556, 'gently': 5557, 'producing': 5558, 'divisional': 5559, 'gorilla': 5560, 'walter': 5561, 'french': 5562, 'seine': 5563, 'tasting': 5564, 'bordeaux': 5565, \"who've\": 5566, 'mckenna': 5567, 'above': 5568, 'surrey': 5569, 'fringe': 5570, 'ford': 5571, 'irony': 5572, 'elaine': 5573, 'strapping': 5574, 'jaw': 5575, 'shhhh': 5576, 'relocated': 5577, 'gagging': 5578, 'therapist': 5579, 'slim': 5580, 'pickings': 5581, \"'cook'\": 5582, 'stretch': 5583, 'mesquite': 5584, \"'whole\": 5585, \"hog'\": 5586, 'kosher': 5587, \"'you\": 5588, \"week'\": 5589, 'chattering': 5590, 'diagnostician': 5591, 'fixer': 5592, 'thermometer': 5593, 'touchy': 5594, 'blanket': 5595, 'awww': 5596, 'sweeping': 5597, 'texas': 5598, 'fashion': 5599, 'strength': 5600, 'understanding': 5601, \"quarter's\": 5602, 'figures': 5603, 'claudia': 5604, \"bosses'\": 5605, 'legal': 5606, 'commune': 5607, 'offices': 5608, 'fewer': 5609, \"t'do\": 5610, 'trivias': 5611, 'example': 5612, 'hawaii': 5613, 'leyhallalookoos': 5614, 'uch': 5615, 'oven': 5616, 'cleaner': 5617, 'unscented': 5618, 'soiled': 5619, 'turbulences': 5620, 'cartons': 5621, 'power': 5622, 'dongs': 5623, 'foil': 5624, 'luv': 5625, 'conceived': 5626, 'manipulative': 5627, 'shrew': 5628, 'lully': 5629, 'clever': 5630, 'ruse': 5631, 'mhum': 5632, 'kennedy': 5633, 'frankly': 5634, 'pan': 5635, 'waistband': 5636, 'wyoming': 5637, \"y'all\": 5638, 'poodle': 5639, 'noodle': 5640, 'trucks': 5641, 'livelihood': 5642, 'depend': 5643, 'manny': 5644, 'wetnurse': 5645, 'limericks': 5646, 'www': 5647, 'hahanotsomuch': 5648, 'com': 5649, 'knowledge': 5650, 'bankrupt': 5651, 'medical': 5652, 'malpractice': 5653, 'intimidated': 5654, 'pretentious': 5655, 'magnum': 5656, 'force': 5657, 'harry': 5658, 'luke': 5659, 'judge': 5660, 'customary': 5661, 'whoho': 5662, 'judgement': 5663, \"just'd\": 5664, 'anecdote': 5665, 'brandy': 5666, 'moustaches': 5667, \"y'\": 5668, 'cowgirl': 5669, 'canceling': 5670, 'muskogee': 5671, 'daytime': 5672, 'doubts': 5673, 'skills': 5674, 'lad': 5675, 'incomptent': 5676, 'managed': 5677, 'ray': 5678, 'poorly': 5679, 'exaclty': 5680, 'grounded': 5681, 'disciplining': 5682, 'amy': 5683, 'sits': 5684, 'ucch': 5685, 'uchh': 5686, 'arousing': 5687, 'shoves': 5688, 'pennies': 5689, 'nose': 5690, 'super': 5691, 'compentent': 5692, 'responsibile': 5693, 'trusty': 5694, 'diaper': 5695, 'looong': 5696, 'lynn': 5697, 'braid': 5698, \"other's\": 5699, 'horseback': 5700, 'cheerleaders': 5701, 'fr': 5702, \"husband's\": 5703, 'climb': 5704, 'filed': 5705, \"where've\": 5706, 'lay': 5707, 'questionable': 5708, 'bedspread': 5709, 'houses': 5710, 'wich': 5711, 'haha': 5712, 'motivational': 5713, 'speaker': 5714, 'wendy': 5715, 'colleague': 5716, 'regional': 5717, 'apart': 5718, 'entitled': 5719, 'adultery': 5720, 'timely': 5721, 'closing': 5722, 'actuary': 5723, 'sole': 5724, 'wage': 5725, 'earner': 5726, 'household': 5727, 'nowhere': 5728, 'overwhelming': 5729, 'hyper': 5730, 'waste': 5731, 'slogans': 5732, 'crackers': 5733, 'round': 5734, 'sounded': 5735, 'postpone': 5736, 'ties': 5737, 'suits': 5738, 'faked': 5739, 'decorations': 5740, 'apparantly': 5741, 'helium': 5742, 'rejecting': 5743, 'leering': 5744, 'wemma': 5745, 'demma': 5746, 'interference': 5747, 'sets': 5748, 'novels': 5749, 'occupied': 5750, 'petrified': 5751, 'huffy': 5752, 'everdid': 5753, 'yells': 5754, 'spits': 5755, 'eligible': 5756, 'illegitimate': 5757, 'writes': 5758, 'itself': 5759, 'impulsive': 5760, 'pyramid': 5761, 'drowning': 5762, 'ashley': 5763, 'judd': 5764, 'caterpillar': 5765, 'allowance': 5766, 'mowing': 5767, 'lawn': 5768, 'earned': 5769, 'mineby': 5770, 'plucking': 5771, 'eyebrows': 5772, 'victor': 5773, 'victoria': 5774, 'cubes': 5775, 'aloe': 5776, 'vera': 5777, 'gentle': 5778, 'uncovering': 5779, 'birthmark': 5780, 'aboutthere': 5781, 'jeremiah': 5782, 'bullfrog': 5783, 'himdrink': 5784, 'obituaries': 5785, 'embrace': 5786, 'womanhood': 5787, '2003': 5788, 'crib': 5789, 'horrifying': 5790, 'scarring': 5791, 'internship': 5792, 'training': 5793, 'stink': 5794, 'noble': 5795, 'intern': 5796, 'direction': 5797, 'uso': 5798, 'interns': 5799, 'compete': 5800, 'prototype': 5801, 'respecting': 5802, 'skids': 5803, 'slorps': 5804, 'wheels': 5805, 'exercise': 5806, 'obesity': 5807, 'sparked': 5808, 'youger': 5809, 'yah': 5810, 'suitable': 5811, 'flow': 5812, 'weather': 5813, 'inclined': 5814, 'enron': 5815, 'borrowing': 5816, 'proportioned': 5817, 'form': 5818, 'specifically': 5819, 'flights': 5820, 'manueveored': 5821, 'narrow': 5822, 'dodged': 5823, 'rabid': 5824, 'pitbul': 5825, 'tricky': 5826, 'aaaaand': 5827, 'cya': 5828, 'childless': 5829, 'interests': 5830, 'cloned': 5831, 'lab': 5832, 'society': 5833, 'aaand': 5834, 'respectfully': 5835, 'congratulate': 5836, 'americans': 5837, \"people's\": 5838, 'serviced': 5839, 'policeman': 5840, 'vocal': 5841, 'tragic': 5842, 'condolences': 5843, 'decent': 5844, 'outlet': 5845, 'grief': 5846, 'blimps': 5847, 'gordon': 5848, 'tommy': 5849, 'mourning': 5850, \"day's\": 5851, 'checks': 5852, 'web': 5853, 'site': 5854, 'weston': 5855, 'amelia': 5856, 'earhart': 5857, 'boohaki': 5858, 'blueberries': 5859, 'slots': 5860, 'tone': 5861, 'nate': 5862, 'headline': 5863, \"winners'\": 5864, 'principles': 5865, 'inventing': 5866, 'valuable': 5867, 'squished': 5868, 'messages': 5869, 'deserved': 5870, '130': 5871, 'rejected': 5872, 'assistant': 5873, 'farts': 5874, 'copywriter': 5875, 'payout': 5876, 'reschedule': 5877, 'exception': 5878, 'travel': 5879, 'wound': 5880, 'drove': 5881, 'cheapest': 5882, 'ripping': 5883, 'apple': 5884, 'usa': 5885, 'apples': 5886, 'pepper': 5887, 'shaker': 5888, \"hotel's\": 5889, 'bulbs': 5890, 'batteries': 5891, 'lamps': 5892, 'factor': 5893, 'delightful': 5894, 'blurry': 5895, 'shapes': 5896, 'trained': 5897, 'mingle': 5898, 'uplifted': 5899, \"hershey's\": 5900, 'factory': 5901, 'secretly': 5902, 'videotape': 5903, '900': 5904, 'knocked': 5905, 'results': 5906, \"'that'\": 5907, 'barcaloungers': 5908, 'uterus': 5909, 'prepared': 5910, 'fortunately': 5911, 'safely': 5912, 'surrogacy': 5913, 'surrogate': 5914, 'insemination': 5915, 'polite': 5916, \"zack's\": 5917, 'intelligent': 5918, 'athletic': 5919, 'spermtastic': 5920, 'genes': 5921, 'cheeckbones': 5922, 'follow': 5923, 'illness': 5924, 'pattern': 5925, 'baldness': 5926, 'ravioli': 5927, 'braces': 5928, 'clinical': 5929, 'depression': 5930, 'obese': 5931, 'boundary': 5932, \"jeanette's\": 5933, \"island's\": 5934, 'toppings': 5935, 'burning': 5936, 'sensation': 5937, 'photos': 5938, 'diana': 5939, 'cuz': 5940, 'nude': 5941, 'anna': 5942, 'kournikova': 5943, 'billy': 5944, 'jean': 5945, 'oooooooh': 5946, 'honoured': 5947, 'adjoining': 5948, 'corneas': 5949, 'sores': 5950, 'scar': 5951, 'dokay': 5952, 'invisibility': 5953, 'blistered': 5954, 'inexplicable': 5955, 'proven': 5956, 'shave': 5957, 'triceps': 5958, 'manning': 5959, 'buckwheat': 5960, 'congeniality': 5961, 'enunciate': 5962, 'salon': 5963, 'finishing': 5964, 'testament': 5965, 'aaaaaahhhh': 5966, \"d'ya\": 5967, 'barbados': 5968, 'switch': 5969, 'allen': 5970, 'iverson': 5971, 'dawn': 5972, 'valkyries': 5973, 'apocalypse': 5974, 'solution': 5975, 'frizzy': 5976, 'refresh': 5977, 'recall': 5978, 'tooth': 5979, 'untangle': 5980, 'frayed': 5981, 'untangled': 5982, 'fbi': 5983, 'posing': 5984, 'contestant': 5985, 'immediately': 5986, 'malfunctioning': 5987, 'wees': 5988, 'hoos': 5989, 'wash': 5990, 'den': 5991, 'compass': 5992, 'colleen': 5993, 'birth': 5994, 'crippled': 5995, 'routine': 5996, 'spray': 5997, 'amanda': 5998, 'pedicures': 5999, 'duet': 6000, 'protested': 6001, 'sneaking': 6002, 'expressions': 6003, 'continue': 6004, 'spread': 6005, 'tanning': 6006, 'woodford': 6007, '2020': 6008, 'unraveled': 6009, 'begging': 6010, 'impart': 6011, 'wisdom': 6012, \"'they\": 6013, 'humid': 6014, 'prepossessing': 6015, 'homo': 6016, 'sapiens': 6017, 'pumps': 6018, 'thesaurus': 6019, 'pump': 6020, 'draft': 6021, 'handwritten': 6022, 'guessed': 6023, 'based': 6024, 'drawings': 6025, 'indoor': 6026, 'projects': 6027, 'napkin': 6028, 'bidding': 6029, 'national': 6030, 'stuffy': 6031, 'software': 6032, 'facilitates': 6033, 'inter': 6034, 'networking': 6035, 'sake': 6036, 'ehm': 6037, 'sons': 6038, 'bitches': 6039, 'liar': 6040, 'insulted': 6041, 'chameleon': 6042, 'submit': 6043, 'pricey': 6044, 'insinuation': 6045, 'rat': 6046, 'roams': 6047, 'aaaaaaaaaaaaaaaaaaaaa': 6048, 'aaaaaa': 6049, 'doption': 6050, 'roaming': 6051, \"everythng's\": 6052, 'caretaker': 6053, 'ernie': 6054, 'bat': 6055, 'stress': 6056, 'burden': 6057, 'manipulated': 6058, 'decisions': 6059, 'taped': 6060, 'kansas': 6061, 'occurred': 6062, 'hemingway': 6063, 'author': 6064, 'profile': 6065, 'palmolive': 6066, 'potatoes': 6067, 'chanberries': 6068, 'distorted': 6069, 'torn': 6070, 'vein': 6071, 'stinky': 6072, 'brussels': 6073, 'sprouts': 6074, 'manheads': 6075, 'convincing': 6076, 'drooling': 6077, 'bulldozer': 6078, 'argh': 6079, 'ohio': 6080, 'incorrect': 6081, 'develop': 6082, 'condition': 6083, \"up'\": 6084, 'agreeing': 6085, 'ot': 6086, 'serial': 6087, 'contacted': 6088, 'papers': 6089, 'veal': 6090, 'chop': 6091, '34': 6092, 'deserves': 6093, 'operation': 6094, 'devoted': 6095, 'perfume': 6096, 'wharms': 6097, 'zip': 6098, 'zorps': 6099, 'fireplace': 6100, \"nancy's\": 6101, 'gooooood': 6102, 'greetings': 6103, 'downhill': 6104, 'realtor': 6105, 'truck': 6106, 'lapse': 6107, 'responded': 6108, 'penny': 6109, 'virtually': 6110, 'asian': 6111, 'union': 6112, 'mint': 6113, 'bro': 6114, 'cates': 6115, 'molly': 6116, 'ringwald': 6117, 'sheena': 6118, 'easton': 6119, 'foundation': 6120, 'unfortunate': 6121, 'pacts': 6122, 'turner': 6123, 'freshman': 6124, \"how're\": 6125, 'kay': 6126, 'betrayal': 6127, 'common': 6128, 'ong': 6129, 'mmmhm': 6130, 'applying': 6131, 'rarely': 6132, 'synchronized': 6133, 'balance': 6134, 'downer': 6135, 'groomsmen': 6136, 'groomsman': 6137, 'isle': 6138, 'comedy': 6139, 'insecure': 6140, 'baseball': 6141, 'rushing': 6142, 'yeeesss': 6143, 'chappy': 6144, 'exposed': 6145, 'ne': 6146, '2300': 6147, \"anyone's\": 6148, 'hooked': 6149, 'corralled': 6150, 'cattle': 6151, 'mooooo': 6152, \"baby'd\": 6153, 'pff': 6154, 'tattoo': 6155, 'wielding': 6156, 'hardly': 6157, 'portuguese': 6158, 'hannigan': 6159, 'vanilla': 6160, 'explaining': 6161, 'mailbox': 6162, 'commute': 6163, 'cubicle': 6164, 'wishes': 6165, 'beyonce': 6166, 'distasteful': 6167, 'crickets': 6168, 'litman': 6169, 'goralnik': 6170, 'neihosenstein': 6171, 'sid': 6172, 'tangle': 6173, 'sequence': 6174, 'jumping': 6175, 're': 6176, 'packs': 6177, 'kinky': 6178, 'scarves': 6179, 'cancelled': 6180, 'engage': 6181, 'bondage': 6182, 'scarf': 6183, 'guestroom': 6184, 'belongs': 6185, 'handcuff': 6186, 'waterpipes': 6187, 'sor': 6188, 'scammed': 6189, 'mechanic': 6190, 'humdinger': 6191, 'breathe': 6192, \"life's\": 6193, 'unanswerable': 6194, 'painful': 6195, 'disgusting': 6196, 'spongy': 6197, 'gosh': 6198, 'option': 6199, 'medallion': 6200, 'reunited': 6201, 'apartments': 6202, 'vagina': 6203, 'shame': 6204, 'woodsman': 6205, 'somehow': 6206, 'glued': 6207, 'aids': 6208, 'bust': 6209, 'impressive': 6210, 'poultry': 6211, 'handshake': 6212, \"friggin'\": 6213}\n"
          ]
        }
      ]
    },
    {
      "cell_type": "code",
      "source": [
        "print(tokenizer.texts_to_sequences([\"a hump and a hairpiece?\"]))\n"
      ],
      "metadata": {
        "id": "KT5MuDD7knco",
        "colab": {
          "base_uri": "https://localhost:8080/"
        },
        "outputId": "e821d33e-7fc8-4bd2-eb45-b97747e99674"
      },
      "execution_count": null,
      "outputs": [
        {
          "output_type": "stream",
          "name": "stdout",
          "text": [
            "[[14, 25, 90, 62, 4]]\n"
          ]
        }
      ]
    },
    {
      "cell_type": "code",
      "source": [
        "print(tokenizer.word_index.get(\"m\"))  # Ver si existe en el diccionario\n",
        "\n"
      ],
      "metadata": {
        "id": "T_-XsGi2k9Jp",
        "colab": {
          "base_uri": "https://localhost:8080/"
        },
        "outputId": "e4e54e3b-52d4-4827-ca30-b856308b0a44"
      },
      "execution_count": null,
      "outputs": [
        {
          "output_type": "stream",
          "name": "stdout",
          "text": [
            "1567\n"
          ]
        }
      ]
    },
    {
      "cell_type": "code",
      "source": [
        "import numpy as np\n",
        "import tensorflow as tf\n",
        "import keras_tuner as kt\n",
        "from tensorflow.keras.preprocessing.text import Tokenizer\n",
        "from tensorflow.keras.preprocessing.sequence import pad_sequences\n",
        "from tensorflow.keras.models import Model\n",
        "from tensorflow.keras.layers import Input, Embedding, LSTM, Dense\n",
        "from tensorflow.keras.optimizers import Adam\n",
        "from keras_tuner.tuners import Hyperband\n",
        "\n",
        "# 📌 1. Definir hiperparámetros globales\n",
        "vocab_size = 25000  # Número máximo de palabras en el vocabulario\n",
        "max_length = 10  # Longitud máxima de la secuencia\n",
        "\n",
        "\n",
        "\n",
        "# 📌 3. Tokenización y preprocesamiento\n",
        "tokenizer = Tokenizer(num_words=vocab_size, oov_token=\"<OOV>\")\n",
        "tokenizer.fit_on_texts(frases)\n",
        "\n",
        "sequences = tokenizer.texts_to_sequences(frases)\n",
        "padded_sequences = pad_sequences(sequences, maxlen=max_length-1, padding=\"post\")\n",
        "\n",
        "# 🔥 `X_train` son las primeras palabras, `y_train` es la última palabra de cada secuencia\n",
        "X_train, y_train = padded_sequences[:, :-1], padded_sequences[:, -1]\n",
        "y_train = np.array(y_train)  # Asegurar que sea un array de NumPy\n",
        "\n",
        "# 📌 4. Función para construir el modelo\n",
        "def build_model(hp):\n",
        "    input_layer = Input(shape=(max_length - 1,))\n",
        "\n",
        "    # Hiperparámetro: Dimensión del embedding\n",
        "    embedding_dim = hp.Choice(\"embedding_dim\", [10, 50, 100])\n",
        "    embedding_layer = Embedding(input_dim=vocab_size, output_dim=embedding_dim)(input_layer)\n",
        "\n",
        "    # Hiperparámetro: Número de unidades en LSTM\n",
        "    lstm_units = hp.Choice(\"lstm_units\", [64, 128, 256])\n",
        "    lstm_layer = LSTM(lstm_units, return_sequences=False)(embedding_layer)\n",
        "\n",
        "    hidden_layer = Dense(128, activation=\"tanh\")(lstm_layer)\n",
        "\n",
        "    output_layer = Dense(vocab_size, activation=\"softmax\")(hidden_layer)\n",
        "\n",
        "    # Hiperparámetro: Tasa de aprendizaje\n",
        "    learning_rate = hp.Choice(\"learning_rate\", [0.01, 0.001, 0.0001])\n",
        "    optimizer = Adam(learning_rate=learning_rate, clipvalue=1.0)\n",
        "\n",
        "    model = Model(inputs=input_layer, outputs=output_layer)\n",
        "    model.compile(optimizer=optimizer, loss=\"sparse_categorical_crossentropy\", metrics=[\"accuracy\"])\n",
        "\n",
        "    return model\n",
        "\n",
        "# 📌 5. Configurar el tuner\n",
        "tuner = Hyperband(\n",
        "    build_model,\n",
        "    objective=\"accuracy\",  # Maximizar la precisión\n",
        "    max_epochs=10,  # Máximo de épocas a entrenar\n",
        "    factor=3,  # Factor de reducción en Hyperband\n",
        "    directory=\"kerastuner_results\",  # Carpeta donde guarda resultados\n",
        "    project_name=\"lstm_tuning\"\n",
        ")\n",
        "\n",
        "# 📌 6. Ejecutar la búsqueda de hiperparámetros\n",
        "tuner.search(X_train, y_train, epochs=10, batch_size=64, validation_split=0.2)\n",
        "\n",
        "# 📌 7. Obtener los mejores hiperparámetros\n",
        "best_hps = tuner.get_best_hyperparameters(num_trials=1)[0]\n",
        "\n",
        "print(f\"Mejor configuración encontrada:\")\n",
        "print(f\"- embedding_dim: {best_hps.get('embedding_dim')}\")\n",
        "print(f\"- lstm_units: {best_hps.get('lstm_units')}\")\n",
        "print(f\"- learning_rate: {best_hps.get('learning_rate')}\")\n"
      ],
      "metadata": {
        "colab": {
          "base_uri": "https://localhost:8080/"
        },
        "id": "B8b0Lr-FtqSj",
        "outputId": "f9056fd6-d5b1-4b81-8792-5f6c358da9bc"
      },
      "execution_count": null,
      "outputs": [
        {
          "output_type": "stream",
          "name": "stdout",
          "text": [
            "Trial 30 Complete [00h 00m 27s]\n",
            "accuracy: 0.7789106965065002\n",
            "\n",
            "Best accuracy So Far: 0.8047058582305908\n",
            "Total elapsed time: 00h 06m 42s\n",
            "Mejor configuración encontrada:\n",
            "- embedding_dim: 50\n",
            "- lstm_units: 64\n",
            "- learning_rate: 0.01\n"
          ]
        }
      ]
    }
  ]
}